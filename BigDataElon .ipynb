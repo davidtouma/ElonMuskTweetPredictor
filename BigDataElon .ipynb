{
  "nbformat": 4,
  "nbformat_minor": 0,
  "metadata": {
    "colab": {
      "provenance": []
    },
    "kernelspec": {
      "name": "python3",
      "display_name": "Python 3"
    },
    "language_info": {
      "name": "python"
    }
  },
  "cells": [
    {
      "cell_type": "markdown",
      "source": [
        "NOTE! Du måste ladda up 2020.csv, 2021.csv, 2022.csv från länken du kan hitta där nere"
      ],
      "metadata": {
        "id": "aOyNT9kdEAaS"
      }
    },
    {
      "cell_type": "code",
      "execution_count": 264,
      "metadata": {
        "id": "zoBlk_8tLmRI"
      },
      "outputs": [],
      "source": [
        "import pandas as pd\n",
        "import numpy as np\n",
        "from datetime import datetime, timedelta\n"
      ]
    },
    {
      "cell_type": "code",
      "source": [
        "EM20 = pd.read_csv('2020.csv')\n",
        "EM21 = pd.read_csv('2021.csv')\n",
        "EM22 = pd.read_csv('2022.csv')\n",
        "\n",
        "print(EM20.shape[0])\n",
        "print(EM21.shape[0])\n",
        "print(EM22.shape[0])\n",
        "\n",
        "print(EM20.shape[0] + EM21.shape[0] + EM22.shape[0])"
      ],
      "metadata": {
        "colab": {
          "base_uri": "https://localhost:8080/"
        },
        "id": "n22ZJyBgyfhK",
        "outputId": "d017ae12-53b2-4a41-81f6-93cfd1458a9f"
      },
      "execution_count": 265,
      "outputs": [
        {
          "output_type": "stream",
          "name": "stdout",
          "text": [
            "11717\n",
            "3115\n",
            "1028\n",
            "15860\n"
          ]
        }
      ]
    },
    {
      "cell_type": "markdown",
      "source": [
        "# Elon Musk's Tweet data between 2010-2022\n",
        "\n"
      ],
      "metadata": {
        "id": "nWrXX6cSMRg2"
      }
    },
    {
      "cell_type": "markdown",
      "source": [
        "# Dataset\n",
        "\n",
        "The dataset we're working with comes from \n",
        "https://www.kaggle.com/datasets/ayhmrba/elon-musk-tweets-2010-2021?select=2020.csv .\n",
        "\n",
        "It contains multiple files, where the file 2020.csv contains data about Elon Musk's tweets from 2010-2020 (11718 rows)\n",
        "\n",
        "2021.csv contains data about Elon Musk's tweets from 2021 and it contains 3115 rows\n",
        "\n",
        "2022.csv contains data about Elon Musk's tweets from 2022 and it contains 1028 rows\n",
        "\n",
        "In total, this data will give us 15860 tweets.\n",
        "\n",
        "To see description about the different features, check the link."
      ],
      "metadata": {
        "id": "M8QjpyCSx_ob"
      }
    },
    {
      "cell_type": "markdown",
      "source": [
        "#Differences in datasets\n",
        "\n",
        "The 2020.csv file is a bit different from the other two files. We can see this in the example below, therefore, before we concatenate them we need to make sure that they are in the same format. "
      ],
      "metadata": {
        "id": "soWkmR6YzUA2"
      }
    },
    {
      "cell_type": "code",
      "source": [
        "print(EM20['created_at'])\n",
        "\n",
        "print(EM22['created_at'])"
      ],
      "metadata": {
        "colab": {
          "base_uri": "https://localhost:8080/"
        },
        "id": "s3z3jw6MzGsA",
        "outputId": "5712cf08-70db-4229-fe35-83726af8867e"
      },
      "execution_count": 71,
      "outputs": [
        {
          "output_type": "stream",
          "name": "stdout",
          "text": [
            "0        1.609185e+12\n",
            "1        1.609179e+12\n",
            "2        1.609176e+12\n",
            "3        1.609176e+12\n",
            "4        1.609134e+12\n",
            "             ...     \n",
            "11712    1.322901e+12\n",
            "11713    1.322900e+12\n",
            "11714    1.322735e+12\n",
            "11715    1.322733e+12\n",
            "11716    1.275676e+12\n",
            "Name: created_at, Length: 11717, dtype: float64\n",
            "0       2022-03-05 12:47:21 Arabian Standard Time\n",
            "1       2022-03-05 12:40:13 Arabian Standard Time\n",
            "2       2022-03-05 12:32:12 Arabian Standard Time\n",
            "3       2022-03-05 11:28:25 Arabian Standard Time\n",
            "4       2022-03-05 09:39:29 Arabian Standard Time\n",
            "                          ...                    \n",
            "1023    2022-01-03 02:56:00 Arabian Standard Time\n",
            "1024    2022-01-02 22:19:33 Arabian Standard Time\n",
            "1025    2022-01-02 21:56:50 Arabian Standard Time\n",
            "1026    2022-01-01 05:58:52 Arabian Standard Time\n",
            "1027    2022-01-01 04:53:13 Arabian Standard Time\n",
            "Name: created_at, Length: 1028, dtype: object\n"
          ]
        }
      ]
    },
    {
      "cell_type": "markdown",
      "source": [
        "Another example we can see is that date in 2020.csv and date column in 2021 and 2022 differs.\n",
        "\n",
        "In 2020.csv, the date column gives us both the date and time of when the tweet was uploaded. In the other two datasets it only shows us the date. "
      ],
      "metadata": {
        "id": "PoVxgcDrz0bC"
      }
    },
    {
      "cell_type": "code",
      "source": [
        "print(EM20['date'])\n",
        "print('-----------------------------')\n",
        "print(EM21['date'])\n",
        "print('-----------------------------')\n",
        "print(EM22['date'])"
      ],
      "metadata": {
        "colab": {
          "base_uri": "https://localhost:8080/"
        },
        "id": "JS_aVo9uz0BY",
        "outputId": "19adebbc-cf2e-4599-8ec1-56f92776f42c"
      },
      "execution_count": 5,
      "outputs": [
        {
          "output_type": "stream",
          "name": "stdout",
          "text": [
            "0        2020-12-28 19:46:18\n",
            "1        2020-12-28 18:07:33\n",
            "2        2020-12-28 17:23:51\n",
            "3        2020-12-28 17:23:31\n",
            "4        2020-12-28 05:39:42\n",
            "                ...         \n",
            "11712    2011-12-03 08:22:07\n",
            "11713    2011-12-03 08:20:28\n",
            "11714    2011-12-01 10:29:04\n",
            "11715    2011-12-01 09:55:11\n",
            "11716    2010-06-04 18:31:57\n",
            "Name: date, Length: 11717, dtype: object\n",
            "-----------------------------\n",
            "0       2021-12-31\n",
            "1       2021-12-31\n",
            "2       2021-12-31\n",
            "3       2021-12-30\n",
            "4       2021-12-30\n",
            "           ...    \n",
            "3110    2021-01-02\n",
            "3111    2021-01-02\n",
            "3112    2021-01-02\n",
            "3113    2021-01-02\n",
            "3114    2021-01-01\n",
            "Name: date, Length: 3115, dtype: object\n",
            "-----------------------------\n",
            "0       2022-03-05\n",
            "1       2022-03-05\n",
            "2       2022-03-05\n",
            "3       2022-03-05\n",
            "4       2022-03-05\n",
            "           ...    \n",
            "1023    2022-01-03\n",
            "1024    2022-01-02\n",
            "1025    2022-01-02\n",
            "1026    2022-01-01\n",
            "1027    2022-01-01\n",
            "Name: date, Length: 1028, dtype: object\n"
          ]
        }
      ]
    },
    {
      "cell_type": "markdown",
      "source": [
        "Another Interesting part before we continue, is that the timezone is harder to interpret. In 2020.csv file, the timezone column has the same value for all rows (+000), which we interpret as the timezone +0 which is Greenwich. In the other two files, when we look at timezone we see that it uses standard Arabian time"
      ],
      "metadata": {
        "id": "rrrr5J38zTL7"
      }
    },
    {
      "cell_type": "code",
      "source": [
        "print(EM20['timezone'])\n",
        "print('-----------------------------')\n",
        "print(EM21['timezone'])\n",
        "print('-----------------------------')\n",
        "print(EM22['timezone'])"
      ],
      "metadata": {
        "colab": {
          "base_uri": "https://localhost:8080/"
        },
        "id": "zdLFO4e80jJ8",
        "outputId": "eb4279e1-5b7a-4191-a224-9c182cd74297"
      },
      "execution_count": 6,
      "outputs": [
        {
          "output_type": "stream",
          "name": "stdout",
          "text": [
            "0        0\n",
            "1        0\n",
            "2        0\n",
            "3        0\n",
            "4        0\n",
            "        ..\n",
            "11712    0\n",
            "11713    0\n",
            "11714    0\n",
            "11715    0\n",
            "11716    0\n",
            "Name: timezone, Length: 11717, dtype: int64\n",
            "-----------------------------\n",
            "0       400\n",
            "1       400\n",
            "2       400\n",
            "3       400\n",
            "4       400\n",
            "       ... \n",
            "3110    400\n",
            "3111    400\n",
            "3112    400\n",
            "3113    400\n",
            "3114    400\n",
            "Name: timezone, Length: 3115, dtype: int64\n",
            "-----------------------------\n",
            "0       400\n",
            "1       400\n",
            "2       400\n",
            "3       400\n",
            "4       400\n",
            "       ... \n",
            "1023    400\n",
            "1024    400\n",
            "1025    400\n",
            "1026    400\n",
            "1027    400\n",
            "Name: timezone, Length: 1028, dtype: int64\n"
          ]
        }
      ]
    },
    {
      "cell_type": "code",
      "source": [
        "#Checking tweet\n",
        "print(EM21['tweet'][0])"
      ],
      "metadata": {
        "colab": {
          "base_uri": "https://localhost:8080/"
        },
        "id": "49r-p3F_1kQr",
        "outputId": "f7a88e83-afea-4fd2-bf74-f1d9f27878ec"
      },
      "execution_count": 7,
      "outputs": [
        {
          "output_type": "stream",
          "name": "stdout",
          "text": [
            "@roshanpateI 🤣 $7\n"
          ]
        }
      ]
    },
    {
      "cell_type": "markdown",
      "source": [
        "The standard arabian timezons is 4 hours ahead of the Greenwich mean time. To make sure that the hours are the same relative to eachother, we will need to readjust the times."
      ],
      "metadata": {
        "id": "Po5aIaVg0_r7"
      }
    },
    {
      "cell_type": "markdown",
      "source": [
        "----------------------------------------------"
      ],
      "metadata": {
        "id": "ghLrLvFpztje"
      }
    },
    {
      "cell_type": "markdown",
      "source": [
        "# Things to fix\n",
        "\n",
        "*  Make sure the files follow same timezone\n",
        "*  Drop unnecessary columns\n",
        "*  Rename the columns so that they follow the same format\n",
        "*  Remove tweets that are replies/retweets\n",
        "\n",
        "When all of these steps are done, we concatenate the dataframes and push the data to hopsworks\n"
      ],
      "metadata": {
        "id": "kMuaoBGCfvWL"
      }
    },
    {
      "cell_type": "markdown",
      "source": [
        "# This is cleaning for the 2020.csv file"
      ],
      "metadata": {
        "id": "loJQ2SwpEalW"
      }
    },
    {
      "cell_type": "markdown",
      "source": [
        "Important Features needed for this task\n",
        "\n",
        "\n",
        "\n",
        "*   Tweets\n",
        "*   Amount of likes, retweets, and number of replies\n",
        "*   Date and Time\n",
        "*   Hashtags, cashtags, etc\n",
        "*   Any media (photos, videos)\n",
        "\n",
        "\n",
        "(Punkter som jag fick svar från ChatGPT)\n",
        "\n"
      ],
      "metadata": {
        "id": "1239tJXAXMJ8"
      }
    },
    {
      "cell_type": "markdown",
      "source": [
        "Dropping unnecessary columns\n",
        "\n",
        "We will need two different functions since the dataframes have minor differences that needs to be considered"
      ],
      "metadata": {
        "id": "-garlSBD3_QZ"
      }
    },
    {
      "cell_type": "code",
      "source": [
        "print(EM20.columns)"
      ],
      "metadata": {
        "colab": {
          "base_uri": "https://localhost:8080/"
        },
        "id": "Y3iaAmxB4h-Z",
        "outputId": "ec14d832-ab88-4c85-cf8a-1e5959876fd6"
      },
      "execution_count": 266,
      "outputs": [
        {
          "output_type": "stream",
          "name": "stdout",
          "text": [
            "Index(['Unnamed: 0', 'id', 'conversation_id', 'created_at', 'date', 'timezone',\n",
            "       'place', 'tweet', 'language', 'hashtags', 'cashtags', 'user_id',\n",
            "       'user_id_str', 'username', 'name', 'day', 'hour', 'link', 'urls',\n",
            "       'photos', 'video', 'thumbnail', 'retweet', 'nlikes', 'nreplies',\n",
            "       'nretweets', 'quote_url', 'search', 'near', 'geo', 'source',\n",
            "       'user_rt_id', 'user_rt', 'retweet_id', 'reply_to', 'retweet_date',\n",
            "       'translate', 'trans_src', 'trans_dest'],\n",
            "      dtype='object')\n"
          ]
        }
      ]
    },
    {
      "cell_type": "code",
      "source": [
        "#This drops and returns the dataframe column for 2020.csv file\n",
        "def drop_cols20(df):\n",
        "  #drops unnecessary columns\n",
        "  drop_cols_10_20 = ['Unnamed: 0', 'id', 'conversation_id', 'place', 'hashtags', 'cashtags', 'user_id','user_id_str', \n",
        "             'link', 'quote_url', 'search', 'geo', 'near', 'source', 'translate', 'trans_src', 'trans_dest', 'retweet_date','thumbnail', 'created_at', 'user_rt_id', 'user_rt',\n",
        "             'retweet_id', 'reply_to', 'hour', 'username', 'name', 'language']\n",
        "  new_df = df.drop(columns=drop_cols_10_20)\n",
        "  return new_df\n"
      ],
      "metadata": {
        "id": "Msclek2OsNXb"
      },
      "execution_count": 267,
      "outputs": []
    },
    {
      "cell_type": "code",
      "source": [
        "newEM20 = drop_cols20(EM20)\n"
      ],
      "metadata": {
        "id": "px2ZGPFK4mWB"
      },
      "execution_count": 268,
      "outputs": []
    },
    {
      "cell_type": "code",
      "source": [
        "newEM20 = newEM20.rename(columns={'date': 'datetime'})"
      ],
      "metadata": {
        "id": "KlV9ZwlFBrN5"
      },
      "execution_count": 269,
      "outputs": []
    },
    {
      "cell_type": "code",
      "source": [
        "print(newEM20.columns)"
      ],
      "metadata": {
        "colab": {
          "base_uri": "https://localhost:8080/"
        },
        "id": "xkPhz5FT4uXO",
        "outputId": "623e0095-5f6c-4704-d0f9-59be7c1d35de"
      },
      "execution_count": 270,
      "outputs": [
        {
          "output_type": "stream",
          "name": "stdout",
          "text": [
            "Index(['datetime', 'timezone', 'tweet', 'day', 'urls', 'photos', 'video',\n",
            "       'retweet', 'nlikes', 'nreplies', 'nretweets'],\n",
            "      dtype='object')\n"
          ]
        }
      ]
    },
    {
      "cell_type": "code",
      "source": [
        "print(newEM20['datetime'][0])\n",
        "print('-------------------------')\n",
        "print(newEM20['timezone'])\n",
        "print('-----------------------')\n",
        "counter = 0\n",
        "for i in newEM20['timezone']:\n",
        "  if i == 0:\n",
        "    i += 1\n",
        "if counter > 0:\n",
        "  print(\"There are multiple timezone\")\n",
        "else:\n",
        "  print(\"There are only one timezone for all the times\")\n",
        "print('-----------------------')\n",
        "\n"
      ],
      "metadata": {
        "colab": {
          "base_uri": "https://localhost:8080/"
        },
        "id": "3WpqwuIt9NAy",
        "outputId": "32255f0b-23ff-4dd5-dc6d-fc4cb825175c"
      },
      "execution_count": 273,
      "outputs": [
        {
          "output_type": "stream",
          "name": "stdout",
          "text": [
            "2020-12-28 19:46:18\n",
            "-------------------------\n",
            "0        0\n",
            "1        0\n",
            "2        0\n",
            "3        0\n",
            "4        0\n",
            "        ..\n",
            "11712    0\n",
            "11713    0\n",
            "11714    0\n",
            "11715    0\n",
            "11716    0\n",
            "Name: timezone, Length: 11717, dtype: int64\n",
            "-----------------------\n",
            "There are only one timezone for all the times\n",
            "-----------------------\n"
          ]
        }
      ]
    },
    {
      "cell_type": "code",
      "source": [
        "print(newEM20['photos'])\n",
        "#either empty list or a list of an URL\n",
        "print(newEM20['video'])\n",
        "#Binary number if there is a video (1) or not (0)\n",
        "newEM20['urls']\n",
        "#same format as photos\n"
      ],
      "metadata": {
        "colab": {
          "base_uri": "https://localhost:8080/"
        },
        "id": "uYF2MpKC5Ona",
        "outputId": "d55eb2ba-9d8c-478d-ef77-475c6b4c7446"
      },
      "execution_count": 274,
      "outputs": [
        {
          "output_type": "stream",
          "name": "stdout",
          "text": [
            "0                                                       []\n",
            "1                                                       []\n",
            "2                                                       []\n",
            "3                                                       []\n",
            "4                                                       []\n",
            "                               ...                        \n",
            "11712                                                   []\n",
            "11713                                                   []\n",
            "11714                                                   []\n",
            "11715    ['https://pbs.twimg.com/media/Afkf5DMCAAEJGFr....\n",
            "11716                                                   []\n",
            "Name: photos, Length: 11717, dtype: object\n",
            "0        0\n",
            "1        0\n",
            "2        0\n",
            "3        0\n",
            "4        0\n",
            "        ..\n",
            "11712    0\n",
            "11713    0\n",
            "11714    0\n",
            "11715    1\n",
            "11716    0\n",
            "Name: video, Length: 11717, dtype: int64\n"
          ]
        },
        {
          "output_type": "execute_result",
          "data": {
            "text/plain": [
              "0                             []\n",
              "1                             []\n",
              "2                             []\n",
              "3                             []\n",
              "4                             []\n",
              "                  ...           \n",
              "11712                         []\n",
              "11713                         []\n",
              "11714    ['http://ow.ly/i/mtD7']\n",
              "11715                         []\n",
              "11716                         []\n",
              "Name: urls, Length: 11717, dtype: object"
            ]
          },
          "metadata": {},
          "execution_count": 274
        }
      ]
    },
    {
      "cell_type": "code",
      "source": [
        "#Just checking if we have any retweets, if we do we remove that tweet. but this DF does not seem to contain any retweets\n",
        "\n",
        "counter = 0\n",
        "for i in newEM20['retweet']:\n",
        "  if i == True:\n",
        "    i += 1\n",
        "if counter > 0:\n",
        "  print(\"There are\",counter, \"number of retweets\")\n",
        "else:\n",
        "  print(\"There are\",counter, \"number of retweets\")\n",
        "  "
      ],
      "metadata": {
        "colab": {
          "base_uri": "https://localhost:8080/"
        },
        "id": "OIB7wXtc5zhR",
        "outputId": "8a04e3b4-cdf0-40f2-d696-f2bfef1986cb"
      },
      "execution_count": 275,
      "outputs": [
        {
          "output_type": "stream",
          "name": "stdout",
          "text": [
            "There are 0 number of retweets\n"
          ]
        }
      ]
    },
    {
      "cell_type": "code",
      "source": [
        "#since there are no retweets, we can drop that column\n",
        "newEM20 = newEM20.drop(columns=['retweet'])\n"
      ],
      "metadata": {
        "id": "LWAFZKqPCA0S"
      },
      "execution_count": 276,
      "outputs": []
    },
    {
      "cell_type": "code",
      "source": [
        "newEM20['day'].value_counts()\n",
        "#An integer representing the days 1 = Monday, 2 = Tuesday, etc"
      ],
      "metadata": {
        "colab": {
          "base_uri": "https://localhost:8080/"
        },
        "id": "z4QXlyS16wkD",
        "outputId": "95d1688a-4fa2-494e-c5cd-79e342c5c220"
      },
      "execution_count": 277,
      "outputs": [
        {
          "output_type": "execute_result",
          "data": {
            "text/plain": [
              "5    1943\n",
              "6    1747\n",
              "4    1737\n",
              "7    1701\n",
              "2    1532\n",
              "3    1529\n",
              "1    1528\n",
              "Name: day, dtype: int64"
            ]
          },
          "metadata": {},
          "execution_count": 277
        }
      ]
    },
    {
      "cell_type": "markdown",
      "source": [
        "Converting Time and Date\n",
        "\n",
        "As previously mentioned, we need to adjust the times and dates to make sure the dataframes follow the same format.\n",
        "\n",
        "We will the create two new columns, one for the time and one for the date instead of having it as a single string in one column"
      ],
      "metadata": {
        "id": "rylcaD0IxL40"
      }
    },
    {
      "cell_type": "code",
      "source": [
        "#The value in this column will be in the same type as EM22\n",
        "#print(EM22[\"created_at\"][0])\n",
        "# YYYY-MM-DD HH:MM:SS Timezone\n",
        "\n",
        "#EM10 is in timezone 0 (greenwich) 1 hour after Swedish time\n",
        "print(EM21['created_at'][0])\n",
        "print('---------------------')\n",
        "print(EM20['date'][0])"
      ],
      "metadata": {
        "colab": {
          "base_uri": "https://localhost:8080/"
        },
        "id": "1rIW9D2sgW3t",
        "outputId": "d4c10732-e8d0-489d-d620-891f4e605a68"
      },
      "execution_count": 278,
      "outputs": [
        {
          "output_type": "stream",
          "name": "stdout",
          "text": [
            "2021-12-31 01:11:23 Arabian Standard Time\n",
            "---------------------\n",
            "2020-12-28 19:46:18\n"
          ]
        }
      ]
    },
    {
      "cell_type": "code",
      "source": [
        "#Function that convert the time Swedish Time\n",
        "def date_time_convert(date_time, timezone):\n",
        "  from datetime import datetime, timedelta\n",
        "  date_time_items = date_time.split()\n",
        "  time = datetime.strptime(date_time_items[1], \"%H:%M:%S\")\n",
        "\n",
        "  if timezone == 0: #Greenwich timezone\n",
        "    new_time = time + timedelta(hours=1)\n",
        "    new_time_string = new_time.strftime(\"%H:%M:%S\")\n",
        "    date_time_items[1] = new_time_string\n",
        "  elif timezone == 400: #Standard arabian timezone\n",
        "    new_time = time + timedelta(hours=3)\n",
        "    new_time_string = new_time.strftime(\"%H:%M:%S\")\n",
        "    date_time_items[1] = new_time_string\n",
        "  \n",
        "  new_date_time = \" \".join(date_time_items)\n",
        "  return new_date_time\n",
        "\n",
        "#Function to call to convert all the rows in date time column\n",
        "def convert_all_dates(dataframe):\n",
        "  for i, v in enumerate(dataframe['date']):\n",
        "    new_date_time = date_time_convert(v, dataframe['timezone'][i])\n",
        "    dataframe['date'].loc[i] = new_date_time\n",
        "  return dataframe"
      ],
      "metadata": {
        "id": "KAyAfuzRjmR9"
      },
      "execution_count": 279,
      "outputs": []
    },
    {
      "cell_type": "code",
      "source": [
        "copy_df = newEM20.copy()"
      ],
      "metadata": {
        "id": "IAB3P67x-3Tf"
      },
      "execution_count": 280,
      "outputs": []
    },
    {
      "cell_type": "code",
      "source": [
        "copy_df.head()"
      ],
      "metadata": {
        "colab": {
          "base_uri": "https://localhost:8080/",
          "height": 206
        },
        "id": "78idCUXoA3D2",
        "outputId": "0de6b19b-4bcf-44e4-93ec-18f93b755bde"
      },
      "execution_count": 281,
      "outputs": [
        {
          "output_type": "execute_result",
          "data": {
            "text/plain": [
              "              datetime  timezone  \\\n",
              "0  2020-12-28 19:46:18         0   \n",
              "1  2020-12-28 18:07:33         0   \n",
              "2  2020-12-28 17:23:51         0   \n",
              "3  2020-12-28 17:23:31         0   \n",
              "4  2020-12-28 05:39:42         0   \n",
              "\n",
              "                                               tweet  day urls photos  video  \\\n",
              "0  Entertainment will be critical when cars drive...    1   []     []      0   \n",
              "1  @kimpaquette Just meeting with Larry Ellison t...    1   []     []      0   \n",
              "2                        @richierichhhhh_ Absolutely    1   []     []      0   \n",
              "3  What should Tesla do with in-car gaming in an ...    1   []     []      0   \n",
              "4                          @PPathole @WSJ Absolutely    1   []     []      0   \n",
              "\n",
              "   nlikes  nreplies  nretweets  \n",
              "0   55085      2922       2611  \n",
              "1    8631       601        314  \n",
              "2   72434       495        907  \n",
              "3   33830      6932        884  \n",
              "4    2394       131         92  "
            ],
            "text/html": [
              "\n",
              "  <div id=\"df-7ee3cf1e-03a0-4481-930b-540cb9bf0b58\">\n",
              "    <div class=\"colab-df-container\">\n",
              "      <div>\n",
              "<style scoped>\n",
              "    .dataframe tbody tr th:only-of-type {\n",
              "        vertical-align: middle;\n",
              "    }\n",
              "\n",
              "    .dataframe tbody tr th {\n",
              "        vertical-align: top;\n",
              "    }\n",
              "\n",
              "    .dataframe thead th {\n",
              "        text-align: right;\n",
              "    }\n",
              "</style>\n",
              "<table border=\"1\" class=\"dataframe\">\n",
              "  <thead>\n",
              "    <tr style=\"text-align: right;\">\n",
              "      <th></th>\n",
              "      <th>datetime</th>\n",
              "      <th>timezone</th>\n",
              "      <th>tweet</th>\n",
              "      <th>day</th>\n",
              "      <th>urls</th>\n",
              "      <th>photos</th>\n",
              "      <th>video</th>\n",
              "      <th>nlikes</th>\n",
              "      <th>nreplies</th>\n",
              "      <th>nretweets</th>\n",
              "    </tr>\n",
              "  </thead>\n",
              "  <tbody>\n",
              "    <tr>\n",
              "      <th>0</th>\n",
              "      <td>2020-12-28 19:46:18</td>\n",
              "      <td>0</td>\n",
              "      <td>Entertainment will be critical when cars drive...</td>\n",
              "      <td>1</td>\n",
              "      <td>[]</td>\n",
              "      <td>[]</td>\n",
              "      <td>0</td>\n",
              "      <td>55085</td>\n",
              "      <td>2922</td>\n",
              "      <td>2611</td>\n",
              "    </tr>\n",
              "    <tr>\n",
              "      <th>1</th>\n",
              "      <td>2020-12-28 18:07:33</td>\n",
              "      <td>0</td>\n",
              "      <td>@kimpaquette Just meeting with Larry Ellison t...</td>\n",
              "      <td>1</td>\n",
              "      <td>[]</td>\n",
              "      <td>[]</td>\n",
              "      <td>0</td>\n",
              "      <td>8631</td>\n",
              "      <td>601</td>\n",
              "      <td>314</td>\n",
              "    </tr>\n",
              "    <tr>\n",
              "      <th>2</th>\n",
              "      <td>2020-12-28 17:23:51</td>\n",
              "      <td>0</td>\n",
              "      <td>@richierichhhhh_ Absolutely</td>\n",
              "      <td>1</td>\n",
              "      <td>[]</td>\n",
              "      <td>[]</td>\n",
              "      <td>0</td>\n",
              "      <td>72434</td>\n",
              "      <td>495</td>\n",
              "      <td>907</td>\n",
              "    </tr>\n",
              "    <tr>\n",
              "      <th>3</th>\n",
              "      <td>2020-12-28 17:23:31</td>\n",
              "      <td>0</td>\n",
              "      <td>What should Tesla do with in-car gaming in an ...</td>\n",
              "      <td>1</td>\n",
              "      <td>[]</td>\n",
              "      <td>[]</td>\n",
              "      <td>0</td>\n",
              "      <td>33830</td>\n",
              "      <td>6932</td>\n",
              "      <td>884</td>\n",
              "    </tr>\n",
              "    <tr>\n",
              "      <th>4</th>\n",
              "      <td>2020-12-28 05:39:42</td>\n",
              "      <td>0</td>\n",
              "      <td>@PPathole @WSJ Absolutely</td>\n",
              "      <td>1</td>\n",
              "      <td>[]</td>\n",
              "      <td>[]</td>\n",
              "      <td>0</td>\n",
              "      <td>2394</td>\n",
              "      <td>131</td>\n",
              "      <td>92</td>\n",
              "    </tr>\n",
              "  </tbody>\n",
              "</table>\n",
              "</div>\n",
              "      <button class=\"colab-df-convert\" onclick=\"convertToInteractive('df-7ee3cf1e-03a0-4481-930b-540cb9bf0b58')\"\n",
              "              title=\"Convert this dataframe to an interactive table.\"\n",
              "              style=\"display:none;\">\n",
              "        \n",
              "  <svg xmlns=\"http://www.w3.org/2000/svg\" height=\"24px\"viewBox=\"0 0 24 24\"\n",
              "       width=\"24px\">\n",
              "    <path d=\"M0 0h24v24H0V0z\" fill=\"none\"/>\n",
              "    <path d=\"M18.56 5.44l.94 2.06.94-2.06 2.06-.94-2.06-.94-.94-2.06-.94 2.06-2.06.94zm-11 1L8.5 8.5l.94-2.06 2.06-.94-2.06-.94L8.5 2.5l-.94 2.06-2.06.94zm10 10l.94 2.06.94-2.06 2.06-.94-2.06-.94-.94-2.06-.94 2.06-2.06.94z\"/><path d=\"M17.41 7.96l-1.37-1.37c-.4-.4-.92-.59-1.43-.59-.52 0-1.04.2-1.43.59L10.3 9.45l-7.72 7.72c-.78.78-.78 2.05 0 2.83L4 21.41c.39.39.9.59 1.41.59.51 0 1.02-.2 1.41-.59l7.78-7.78 2.81-2.81c.8-.78.8-2.07 0-2.86zM5.41 20L4 18.59l7.72-7.72 1.47 1.35L5.41 20z\"/>\n",
              "  </svg>\n",
              "      </button>\n",
              "      \n",
              "  <style>\n",
              "    .colab-df-container {\n",
              "      display:flex;\n",
              "      flex-wrap:wrap;\n",
              "      gap: 12px;\n",
              "    }\n",
              "\n",
              "    .colab-df-convert {\n",
              "      background-color: #E8F0FE;\n",
              "      border: none;\n",
              "      border-radius: 50%;\n",
              "      cursor: pointer;\n",
              "      display: none;\n",
              "      fill: #1967D2;\n",
              "      height: 32px;\n",
              "      padding: 0 0 0 0;\n",
              "      width: 32px;\n",
              "    }\n",
              "\n",
              "    .colab-df-convert:hover {\n",
              "      background-color: #E2EBFA;\n",
              "      box-shadow: 0px 1px 2px rgba(60, 64, 67, 0.3), 0px 1px 3px 1px rgba(60, 64, 67, 0.15);\n",
              "      fill: #174EA6;\n",
              "    }\n",
              "\n",
              "    [theme=dark] .colab-df-convert {\n",
              "      background-color: #3B4455;\n",
              "      fill: #D2E3FC;\n",
              "    }\n",
              "\n",
              "    [theme=dark] .colab-df-convert:hover {\n",
              "      background-color: #434B5C;\n",
              "      box-shadow: 0px 1px 3px 1px rgba(0, 0, 0, 0.15);\n",
              "      filter: drop-shadow(0px 1px 2px rgba(0, 0, 0, 0.3));\n",
              "      fill: #FFFFFF;\n",
              "    }\n",
              "  </style>\n",
              "\n",
              "      <script>\n",
              "        const buttonEl =\n",
              "          document.querySelector('#df-7ee3cf1e-03a0-4481-930b-540cb9bf0b58 button.colab-df-convert');\n",
              "        buttonEl.style.display =\n",
              "          google.colab.kernel.accessAllowed ? 'block' : 'none';\n",
              "\n",
              "        async function convertToInteractive(key) {\n",
              "          const element = document.querySelector('#df-7ee3cf1e-03a0-4481-930b-540cb9bf0b58');\n",
              "          const dataTable =\n",
              "            await google.colab.kernel.invokeFunction('convertToInteractive',\n",
              "                                                     [key], {});\n",
              "          if (!dataTable) return;\n",
              "\n",
              "          const docLinkHtml = 'Like what you see? Visit the ' +\n",
              "            '<a target=\"_blank\" href=https://colab.research.google.com/notebooks/data_table.ipynb>data table notebook</a>'\n",
              "            + ' to learn more about interactive tables.';\n",
              "          element.innerHTML = '';\n",
              "          dataTable['output_type'] = 'display_data';\n",
              "          await google.colab.output.renderOutput(dataTable, element);\n",
              "          const docLink = document.createElement('div');\n",
              "          docLink.innerHTML = docLinkHtml;\n",
              "          element.appendChild(docLink);\n",
              "        }\n",
              "      </script>\n",
              "    </div>\n",
              "  </div>\n",
              "  "
            ]
          },
          "metadata": {},
          "execution_count": 281
        }
      ]
    },
    {
      "cell_type": "code",
      "source": [
        "copy_df = copy_df.rename(columns={'date': 'datetime'})"
      ],
      "metadata": {
        "id": "blcv4sEIBlFw"
      },
      "execution_count": 282,
      "outputs": []
    },
    {
      "cell_type": "code",
      "source": [
        "copy_df['datetime'] = pd.to_datetime(copy_df['datetime'])\n",
        "copy_df['date'] = copy_df['datetime'].dt.date\n",
        "copy_df['time'] = copy_df['datetime'].dt.time"
      ],
      "metadata": {
        "id": "6AWAVPHeBanS"
      },
      "execution_count": 283,
      "outputs": []
    },
    {
      "cell_type": "code",
      "source": [
        "copy_df.head()"
      ],
      "metadata": {
        "colab": {
          "base_uri": "https://localhost:8080/",
          "height": 337
        },
        "id": "YtX8EXEUCbj9",
        "outputId": "d6ef940a-1abe-4a44-f9d5-c6f38aaadf3f"
      },
      "execution_count": 284,
      "outputs": [
        {
          "output_type": "execute_result",
          "data": {
            "text/plain": [
              "             datetime  timezone  \\\n",
              "0 2020-12-28 19:46:18         0   \n",
              "1 2020-12-28 18:07:33         0   \n",
              "2 2020-12-28 17:23:51         0   \n",
              "3 2020-12-28 17:23:31         0   \n",
              "4 2020-12-28 05:39:42         0   \n",
              "\n",
              "                                               tweet  day urls photos  video  \\\n",
              "0  Entertainment will be critical when cars drive...    1   []     []      0   \n",
              "1  @kimpaquette Just meeting with Larry Ellison t...    1   []     []      0   \n",
              "2                        @richierichhhhh_ Absolutely    1   []     []      0   \n",
              "3  What should Tesla do with in-car gaming in an ...    1   []     []      0   \n",
              "4                          @PPathole @WSJ Absolutely    1   []     []      0   \n",
              "\n",
              "   nlikes  nreplies  nretweets        date      time  \n",
              "0   55085      2922       2611  2020-12-28  19:46:18  \n",
              "1    8631       601        314  2020-12-28  18:07:33  \n",
              "2   72434       495        907  2020-12-28  17:23:51  \n",
              "3   33830      6932        884  2020-12-28  17:23:31  \n",
              "4    2394       131         92  2020-12-28  05:39:42  "
            ],
            "text/html": [
              "\n",
              "  <div id=\"df-f9d33f67-927e-489a-82ea-c9654b0e144a\">\n",
              "    <div class=\"colab-df-container\">\n",
              "      <div>\n",
              "<style scoped>\n",
              "    .dataframe tbody tr th:only-of-type {\n",
              "        vertical-align: middle;\n",
              "    }\n",
              "\n",
              "    .dataframe tbody tr th {\n",
              "        vertical-align: top;\n",
              "    }\n",
              "\n",
              "    .dataframe thead th {\n",
              "        text-align: right;\n",
              "    }\n",
              "</style>\n",
              "<table border=\"1\" class=\"dataframe\">\n",
              "  <thead>\n",
              "    <tr style=\"text-align: right;\">\n",
              "      <th></th>\n",
              "      <th>datetime</th>\n",
              "      <th>timezone</th>\n",
              "      <th>tweet</th>\n",
              "      <th>day</th>\n",
              "      <th>urls</th>\n",
              "      <th>photos</th>\n",
              "      <th>video</th>\n",
              "      <th>nlikes</th>\n",
              "      <th>nreplies</th>\n",
              "      <th>nretweets</th>\n",
              "      <th>date</th>\n",
              "      <th>time</th>\n",
              "    </tr>\n",
              "  </thead>\n",
              "  <tbody>\n",
              "    <tr>\n",
              "      <th>0</th>\n",
              "      <td>2020-12-28 19:46:18</td>\n",
              "      <td>0</td>\n",
              "      <td>Entertainment will be critical when cars drive...</td>\n",
              "      <td>1</td>\n",
              "      <td>[]</td>\n",
              "      <td>[]</td>\n",
              "      <td>0</td>\n",
              "      <td>55085</td>\n",
              "      <td>2922</td>\n",
              "      <td>2611</td>\n",
              "      <td>2020-12-28</td>\n",
              "      <td>19:46:18</td>\n",
              "    </tr>\n",
              "    <tr>\n",
              "      <th>1</th>\n",
              "      <td>2020-12-28 18:07:33</td>\n",
              "      <td>0</td>\n",
              "      <td>@kimpaquette Just meeting with Larry Ellison t...</td>\n",
              "      <td>1</td>\n",
              "      <td>[]</td>\n",
              "      <td>[]</td>\n",
              "      <td>0</td>\n",
              "      <td>8631</td>\n",
              "      <td>601</td>\n",
              "      <td>314</td>\n",
              "      <td>2020-12-28</td>\n",
              "      <td>18:07:33</td>\n",
              "    </tr>\n",
              "    <tr>\n",
              "      <th>2</th>\n",
              "      <td>2020-12-28 17:23:51</td>\n",
              "      <td>0</td>\n",
              "      <td>@richierichhhhh_ Absolutely</td>\n",
              "      <td>1</td>\n",
              "      <td>[]</td>\n",
              "      <td>[]</td>\n",
              "      <td>0</td>\n",
              "      <td>72434</td>\n",
              "      <td>495</td>\n",
              "      <td>907</td>\n",
              "      <td>2020-12-28</td>\n",
              "      <td>17:23:51</td>\n",
              "    </tr>\n",
              "    <tr>\n",
              "      <th>3</th>\n",
              "      <td>2020-12-28 17:23:31</td>\n",
              "      <td>0</td>\n",
              "      <td>What should Tesla do with in-car gaming in an ...</td>\n",
              "      <td>1</td>\n",
              "      <td>[]</td>\n",
              "      <td>[]</td>\n",
              "      <td>0</td>\n",
              "      <td>33830</td>\n",
              "      <td>6932</td>\n",
              "      <td>884</td>\n",
              "      <td>2020-12-28</td>\n",
              "      <td>17:23:31</td>\n",
              "    </tr>\n",
              "    <tr>\n",
              "      <th>4</th>\n",
              "      <td>2020-12-28 05:39:42</td>\n",
              "      <td>0</td>\n",
              "      <td>@PPathole @WSJ Absolutely</td>\n",
              "      <td>1</td>\n",
              "      <td>[]</td>\n",
              "      <td>[]</td>\n",
              "      <td>0</td>\n",
              "      <td>2394</td>\n",
              "      <td>131</td>\n",
              "      <td>92</td>\n",
              "      <td>2020-12-28</td>\n",
              "      <td>05:39:42</td>\n",
              "    </tr>\n",
              "  </tbody>\n",
              "</table>\n",
              "</div>\n",
              "      <button class=\"colab-df-convert\" onclick=\"convertToInteractive('df-f9d33f67-927e-489a-82ea-c9654b0e144a')\"\n",
              "              title=\"Convert this dataframe to an interactive table.\"\n",
              "              style=\"display:none;\">\n",
              "        \n",
              "  <svg xmlns=\"http://www.w3.org/2000/svg\" height=\"24px\"viewBox=\"0 0 24 24\"\n",
              "       width=\"24px\">\n",
              "    <path d=\"M0 0h24v24H0V0z\" fill=\"none\"/>\n",
              "    <path d=\"M18.56 5.44l.94 2.06.94-2.06 2.06-.94-2.06-.94-.94-2.06-.94 2.06-2.06.94zm-11 1L8.5 8.5l.94-2.06 2.06-.94-2.06-.94L8.5 2.5l-.94 2.06-2.06.94zm10 10l.94 2.06.94-2.06 2.06-.94-2.06-.94-.94-2.06-.94 2.06-2.06.94z\"/><path d=\"M17.41 7.96l-1.37-1.37c-.4-.4-.92-.59-1.43-.59-.52 0-1.04.2-1.43.59L10.3 9.45l-7.72 7.72c-.78.78-.78 2.05 0 2.83L4 21.41c.39.39.9.59 1.41.59.51 0 1.02-.2 1.41-.59l7.78-7.78 2.81-2.81c.8-.78.8-2.07 0-2.86zM5.41 20L4 18.59l7.72-7.72 1.47 1.35L5.41 20z\"/>\n",
              "  </svg>\n",
              "      </button>\n",
              "      \n",
              "  <style>\n",
              "    .colab-df-container {\n",
              "      display:flex;\n",
              "      flex-wrap:wrap;\n",
              "      gap: 12px;\n",
              "    }\n",
              "\n",
              "    .colab-df-convert {\n",
              "      background-color: #E8F0FE;\n",
              "      border: none;\n",
              "      border-radius: 50%;\n",
              "      cursor: pointer;\n",
              "      display: none;\n",
              "      fill: #1967D2;\n",
              "      height: 32px;\n",
              "      padding: 0 0 0 0;\n",
              "      width: 32px;\n",
              "    }\n",
              "\n",
              "    .colab-df-convert:hover {\n",
              "      background-color: #E2EBFA;\n",
              "      box-shadow: 0px 1px 2px rgba(60, 64, 67, 0.3), 0px 1px 3px 1px rgba(60, 64, 67, 0.15);\n",
              "      fill: #174EA6;\n",
              "    }\n",
              "\n",
              "    [theme=dark] .colab-df-convert {\n",
              "      background-color: #3B4455;\n",
              "      fill: #D2E3FC;\n",
              "    }\n",
              "\n",
              "    [theme=dark] .colab-df-convert:hover {\n",
              "      background-color: #434B5C;\n",
              "      box-shadow: 0px 1px 3px 1px rgba(0, 0, 0, 0.15);\n",
              "      filter: drop-shadow(0px 1px 2px rgba(0, 0, 0, 0.3));\n",
              "      fill: #FFFFFF;\n",
              "    }\n",
              "  </style>\n",
              "\n",
              "      <script>\n",
              "        const buttonEl =\n",
              "          document.querySelector('#df-f9d33f67-927e-489a-82ea-c9654b0e144a button.colab-df-convert');\n",
              "        buttonEl.style.display =\n",
              "          google.colab.kernel.accessAllowed ? 'block' : 'none';\n",
              "\n",
              "        async function convertToInteractive(key) {\n",
              "          const element = document.querySelector('#df-f9d33f67-927e-489a-82ea-c9654b0e144a');\n",
              "          const dataTable =\n",
              "            await google.colab.kernel.invokeFunction('convertToInteractive',\n",
              "                                                     [key], {});\n",
              "          if (!dataTable) return;\n",
              "\n",
              "          const docLinkHtml = 'Like what you see? Visit the ' +\n",
              "            '<a target=\"_blank\" href=https://colab.research.google.com/notebooks/data_table.ipynb>data table notebook</a>'\n",
              "            + ' to learn more about interactive tables.';\n",
              "          element.innerHTML = '';\n",
              "          dataTable['output_type'] = 'display_data';\n",
              "          await google.colab.output.renderOutput(dataTable, element);\n",
              "          const docLink = document.createElement('div');\n",
              "          docLink.innerHTML = docLinkHtml;\n",
              "          element.appendChild(docLink);\n",
              "        }\n",
              "      </script>\n",
              "    </div>\n",
              "  </div>\n",
              "  "
            ]
          },
          "metadata": {},
          "execution_count": 284
        }
      ]
    },
    {
      "cell_type": "markdown",
      "source": [
        "Now we have, for each tweet, converted the time to Swedish time, aswell as created two seperate columns for time and date, we could therefore remove the datetime column"
      ],
      "metadata": {
        "id": "FacvlriECfl0"
      }
    },
    {
      "cell_type": "code",
      "source": [
        "copy_df = copy_df.drop(columns=['datetime', 'timezone'])"
      ],
      "metadata": {
        "id": "sui-ANAJCo1X"
      },
      "execution_count": 285,
      "outputs": []
    },
    {
      "cell_type": "code",
      "source": [
        "copy_df.head()"
      ],
      "metadata": {
        "colab": {
          "base_uri": "https://localhost:8080/",
          "height": 206
        },
        "id": "GiWq5dR8Cvta",
        "outputId": "db2cd0a9-571e-41ab-9851-f679a599662f"
      },
      "execution_count": 286,
      "outputs": [
        {
          "output_type": "execute_result",
          "data": {
            "text/plain": [
              "                                               tweet  day urls photos  video  \\\n",
              "0  Entertainment will be critical when cars drive...    1   []     []      0   \n",
              "1  @kimpaquette Just meeting with Larry Ellison t...    1   []     []      0   \n",
              "2                        @richierichhhhh_ Absolutely    1   []     []      0   \n",
              "3  What should Tesla do with in-car gaming in an ...    1   []     []      0   \n",
              "4                          @PPathole @WSJ Absolutely    1   []     []      0   \n",
              "\n",
              "   nlikes  nreplies  nretweets        date      time  \n",
              "0   55085      2922       2611  2020-12-28  19:46:18  \n",
              "1    8631       601        314  2020-12-28  18:07:33  \n",
              "2   72434       495        907  2020-12-28  17:23:51  \n",
              "3   33830      6932        884  2020-12-28  17:23:31  \n",
              "4    2394       131         92  2020-12-28  05:39:42  "
            ],
            "text/html": [
              "\n",
              "  <div id=\"df-c8f10fed-7f84-4ae2-9908-eed00ebc6d7f\">\n",
              "    <div class=\"colab-df-container\">\n",
              "      <div>\n",
              "<style scoped>\n",
              "    .dataframe tbody tr th:only-of-type {\n",
              "        vertical-align: middle;\n",
              "    }\n",
              "\n",
              "    .dataframe tbody tr th {\n",
              "        vertical-align: top;\n",
              "    }\n",
              "\n",
              "    .dataframe thead th {\n",
              "        text-align: right;\n",
              "    }\n",
              "</style>\n",
              "<table border=\"1\" class=\"dataframe\">\n",
              "  <thead>\n",
              "    <tr style=\"text-align: right;\">\n",
              "      <th></th>\n",
              "      <th>tweet</th>\n",
              "      <th>day</th>\n",
              "      <th>urls</th>\n",
              "      <th>photos</th>\n",
              "      <th>video</th>\n",
              "      <th>nlikes</th>\n",
              "      <th>nreplies</th>\n",
              "      <th>nretweets</th>\n",
              "      <th>date</th>\n",
              "      <th>time</th>\n",
              "    </tr>\n",
              "  </thead>\n",
              "  <tbody>\n",
              "    <tr>\n",
              "      <th>0</th>\n",
              "      <td>Entertainment will be critical when cars drive...</td>\n",
              "      <td>1</td>\n",
              "      <td>[]</td>\n",
              "      <td>[]</td>\n",
              "      <td>0</td>\n",
              "      <td>55085</td>\n",
              "      <td>2922</td>\n",
              "      <td>2611</td>\n",
              "      <td>2020-12-28</td>\n",
              "      <td>19:46:18</td>\n",
              "    </tr>\n",
              "    <tr>\n",
              "      <th>1</th>\n",
              "      <td>@kimpaquette Just meeting with Larry Ellison t...</td>\n",
              "      <td>1</td>\n",
              "      <td>[]</td>\n",
              "      <td>[]</td>\n",
              "      <td>0</td>\n",
              "      <td>8631</td>\n",
              "      <td>601</td>\n",
              "      <td>314</td>\n",
              "      <td>2020-12-28</td>\n",
              "      <td>18:07:33</td>\n",
              "    </tr>\n",
              "    <tr>\n",
              "      <th>2</th>\n",
              "      <td>@richierichhhhh_ Absolutely</td>\n",
              "      <td>1</td>\n",
              "      <td>[]</td>\n",
              "      <td>[]</td>\n",
              "      <td>0</td>\n",
              "      <td>72434</td>\n",
              "      <td>495</td>\n",
              "      <td>907</td>\n",
              "      <td>2020-12-28</td>\n",
              "      <td>17:23:51</td>\n",
              "    </tr>\n",
              "    <tr>\n",
              "      <th>3</th>\n",
              "      <td>What should Tesla do with in-car gaming in an ...</td>\n",
              "      <td>1</td>\n",
              "      <td>[]</td>\n",
              "      <td>[]</td>\n",
              "      <td>0</td>\n",
              "      <td>33830</td>\n",
              "      <td>6932</td>\n",
              "      <td>884</td>\n",
              "      <td>2020-12-28</td>\n",
              "      <td>17:23:31</td>\n",
              "    </tr>\n",
              "    <tr>\n",
              "      <th>4</th>\n",
              "      <td>@PPathole @WSJ Absolutely</td>\n",
              "      <td>1</td>\n",
              "      <td>[]</td>\n",
              "      <td>[]</td>\n",
              "      <td>0</td>\n",
              "      <td>2394</td>\n",
              "      <td>131</td>\n",
              "      <td>92</td>\n",
              "      <td>2020-12-28</td>\n",
              "      <td>05:39:42</td>\n",
              "    </tr>\n",
              "  </tbody>\n",
              "</table>\n",
              "</div>\n",
              "      <button class=\"colab-df-convert\" onclick=\"convertToInteractive('df-c8f10fed-7f84-4ae2-9908-eed00ebc6d7f')\"\n",
              "              title=\"Convert this dataframe to an interactive table.\"\n",
              "              style=\"display:none;\">\n",
              "        \n",
              "  <svg xmlns=\"http://www.w3.org/2000/svg\" height=\"24px\"viewBox=\"0 0 24 24\"\n",
              "       width=\"24px\">\n",
              "    <path d=\"M0 0h24v24H0V0z\" fill=\"none\"/>\n",
              "    <path d=\"M18.56 5.44l.94 2.06.94-2.06 2.06-.94-2.06-.94-.94-2.06-.94 2.06-2.06.94zm-11 1L8.5 8.5l.94-2.06 2.06-.94-2.06-.94L8.5 2.5l-.94 2.06-2.06.94zm10 10l.94 2.06.94-2.06 2.06-.94-2.06-.94-.94-2.06-.94 2.06-2.06.94z\"/><path d=\"M17.41 7.96l-1.37-1.37c-.4-.4-.92-.59-1.43-.59-.52 0-1.04.2-1.43.59L10.3 9.45l-7.72 7.72c-.78.78-.78 2.05 0 2.83L4 21.41c.39.39.9.59 1.41.59.51 0 1.02-.2 1.41-.59l7.78-7.78 2.81-2.81c.8-.78.8-2.07 0-2.86zM5.41 20L4 18.59l7.72-7.72 1.47 1.35L5.41 20z\"/>\n",
              "  </svg>\n",
              "      </button>\n",
              "      \n",
              "  <style>\n",
              "    .colab-df-container {\n",
              "      display:flex;\n",
              "      flex-wrap:wrap;\n",
              "      gap: 12px;\n",
              "    }\n",
              "\n",
              "    .colab-df-convert {\n",
              "      background-color: #E8F0FE;\n",
              "      border: none;\n",
              "      border-radius: 50%;\n",
              "      cursor: pointer;\n",
              "      display: none;\n",
              "      fill: #1967D2;\n",
              "      height: 32px;\n",
              "      padding: 0 0 0 0;\n",
              "      width: 32px;\n",
              "    }\n",
              "\n",
              "    .colab-df-convert:hover {\n",
              "      background-color: #E2EBFA;\n",
              "      box-shadow: 0px 1px 2px rgba(60, 64, 67, 0.3), 0px 1px 3px 1px rgba(60, 64, 67, 0.15);\n",
              "      fill: #174EA6;\n",
              "    }\n",
              "\n",
              "    [theme=dark] .colab-df-convert {\n",
              "      background-color: #3B4455;\n",
              "      fill: #D2E3FC;\n",
              "    }\n",
              "\n",
              "    [theme=dark] .colab-df-convert:hover {\n",
              "      background-color: #434B5C;\n",
              "      box-shadow: 0px 1px 3px 1px rgba(0, 0, 0, 0.15);\n",
              "      filter: drop-shadow(0px 1px 2px rgba(0, 0, 0, 0.3));\n",
              "      fill: #FFFFFF;\n",
              "    }\n",
              "  </style>\n",
              "\n",
              "      <script>\n",
              "        const buttonEl =\n",
              "          document.querySelector('#df-c8f10fed-7f84-4ae2-9908-eed00ebc6d7f button.colab-df-convert');\n",
              "        buttonEl.style.display =\n",
              "          google.colab.kernel.accessAllowed ? 'block' : 'none';\n",
              "\n",
              "        async function convertToInteractive(key) {\n",
              "          const element = document.querySelector('#df-c8f10fed-7f84-4ae2-9908-eed00ebc6d7f');\n",
              "          const dataTable =\n",
              "            await google.colab.kernel.invokeFunction('convertToInteractive',\n",
              "                                                     [key], {});\n",
              "          if (!dataTable) return;\n",
              "\n",
              "          const docLinkHtml = 'Like what you see? Visit the ' +\n",
              "            '<a target=\"_blank\" href=https://colab.research.google.com/notebooks/data_table.ipynb>data table notebook</a>'\n",
              "            + ' to learn more about interactive tables.';\n",
              "          element.innerHTML = '';\n",
              "          dataTable['output_type'] = 'display_data';\n",
              "          await google.colab.output.renderOutput(dataTable, element);\n",
              "          const docLink = document.createElement('div');\n",
              "          docLink.innerHTML = docLinkHtml;\n",
              "          element.appendChild(docLink);\n",
              "        }\n",
              "      </script>\n",
              "    </div>\n",
              "  </div>\n",
              "  "
            ]
          },
          "metadata": {},
          "execution_count": 286
        }
      ]
    },
    {
      "cell_type": "code",
      "source": [
        "copy_df.shape"
      ],
      "metadata": {
        "colab": {
          "base_uri": "https://localhost:8080/"
        },
        "id": "9l5p2WfmCz8Z",
        "outputId": "767b635c-3a38-4f19-ef40-c9dcbbcbd917"
      },
      "execution_count": 287,
      "outputs": [
        {
          "output_type": "execute_result",
          "data": {
            "text/plain": [
              "(11717, 10)"
            ]
          },
          "metadata": {},
          "execution_count": 287
        }
      ]
    },
    {
      "cell_type": "code",
      "source": [
        "#the 2020.csv file is now cleaned and we save it as another dataframe\n",
        "\n",
        "cleaned_2020_df = copy_df.copy()"
      ],
      "metadata": {
        "id": "TOLEe3H302iJ"
      },
      "execution_count": 288,
      "outputs": []
    },
    {
      "cell_type": "markdown",
      "source": [
        "# Cleaning for datasets 2021.csv and 2022.csv\n"
      ],
      "metadata": {
        "id": "gfCqoImQiPQY"
      }
    },
    {
      "cell_type": "code",
      "source": [
        "EM21.columns"
      ],
      "metadata": {
        "colab": {
          "base_uri": "https://localhost:8080/"
        },
        "id": "pwJh05YRiTLO",
        "outputId": "8cdc1ed6-ddaf-4f3a-c1a1-bc8de6a03e53"
      },
      "execution_count": 289,
      "outputs": [
        {
          "output_type": "execute_result",
          "data": {
            "text/plain": [
              "Index(['id', 'conversation_id', 'created_at', 'date', 'time', 'timezone',\n",
              "       'user_id', 'username', 'name', 'place', 'tweet', 'language', 'mentions',\n",
              "       'urls', 'photos', 'replies_count', 'retweets_count', 'likes_count',\n",
              "       'hashtags', 'cashtags', 'link', 'retweet', 'quote_url', 'video',\n",
              "       'thumbnail', 'near', 'geo', 'source', 'user_rt_id', 'user_rt',\n",
              "       'retweet_id', 'reply_to', 'retweet_date', 'translate', 'trans_src',\n",
              "       'trans_dest'],\n",
              "      dtype='object')"
            ]
          },
          "metadata": {},
          "execution_count": 289
        }
      ]
    },
    {
      "cell_type": "code",
      "source": [
        "EM22.columns"
      ],
      "metadata": {
        "colab": {
          "base_uri": "https://localhost:8080/"
        },
        "id": "RX8mM5ATiZvE",
        "outputId": "e4258d63-3c7b-41c8-b83b-f42a70c03dec"
      },
      "execution_count": 290,
      "outputs": [
        {
          "output_type": "execute_result",
          "data": {
            "text/plain": [
              "Index(['id', 'conversation_id', 'created_at', 'date', 'time', 'timezone',\n",
              "       'user_id', 'username', 'name', 'place', 'tweet', 'language', 'mentions',\n",
              "       'urls', 'photos', 'replies_count', 'retweets_count', 'likes_count',\n",
              "       'hashtags', 'cashtags', 'link', 'retweet', 'quote_url', 'video',\n",
              "       'thumbnail', 'near', 'geo', 'source', 'user_rt_id', 'user_rt',\n",
              "       'retweet_id', 'reply_to', 'retweet_date', 'translate', 'trans_src',\n",
              "       'trans_dest'],\n",
              "      dtype='object')"
            ]
          },
          "metadata": {},
          "execution_count": 290
        }
      ]
    },
    {
      "cell_type": "code",
      "source": [
        "counter = 0\n",
        "for i in EM22['retweet']: \n",
        "  if i == True:\n",
        "    i += 1\n",
        "if counter > 0:\n",
        "  print(\"There are\",counter, \"number of retweets\")\n",
        "else:\n",
        "  print(\"There are\",counter, \"number of retweets\")\n",
        "\n",
        "#no retweets in EM21 and EM22, meaning we can be sure that there are no retweets in this dataset"
      ],
      "metadata": {
        "colab": {
          "base_uri": "https://localhost:8080/"
        },
        "id": "DqrZgMEpjPNx",
        "outputId": "73596a64-6a35-4e69-a874-04a1272d8856"
      },
      "execution_count": 291,
      "outputs": [
        {
          "output_type": "stream",
          "name": "stdout",
          "text": [
            "There are 0 number of retweets\n"
          ]
        }
      ]
    },
    {
      "cell_type": "code",
      "source": [
        "EM21['username']\n",
        "counter = 0\n",
        "for i in EM21['username']:\n",
        "  if i != \"elonmusk\":\n",
        "    counter += 1\n",
        "\n",
        "print(counter)\n",
        "#Username is only elonmusk\n"
      ],
      "metadata": {
        "colab": {
          "base_uri": "https://localhost:8080/"
        },
        "id": "wlHxj6smidnM",
        "outputId": "02e1e67a-c44c-49fa-ea05-f154d7b167e7"
      },
      "execution_count": 292,
      "outputs": [
        {
          "output_type": "stream",
          "name": "stdout",
          "text": [
            "0\n"
          ]
        }
      ]
    },
    {
      "cell_type": "code",
      "source": [
        "EM22['username']\n",
        "counter = 0\n",
        "for i in EM22['username']:\n",
        "  if i != \"elonmusk\":\n",
        "    counter += 1\n",
        "\n",
        "print(counter)\n",
        "#Username is only elonmusk\n",
        "\n",
        "#Username for both datasets is unnecessary"
      ],
      "metadata": {
        "colab": {
          "base_uri": "https://localhost:8080/"
        },
        "id": "v1lk2mkwig0D",
        "outputId": "8638139e-8a43-4cb4-b268-05fad61b8df1"
      },
      "execution_count": 293,
      "outputs": [
        {
          "output_type": "stream",
          "name": "stdout",
          "text": [
            "0\n"
          ]
        }
      ]
    },
    {
      "cell_type": "code",
      "source": [
        "def drop_cols21_22(df):\n",
        "  #drops unnecessary columns\n",
        "  drop_cols_21_22 = ['id', 'conversation_id', 'place', 'hashtags', 'cashtags', 'user_id', \n",
        "             'link', 'quote_url', 'geo', 'near', 'source', 'translate', 'trans_src', 'trans_dest', 'retweet_date','thumbnail', 'created_at', 'user_rt_id', 'user_rt',\n",
        "             'retweet_id', 'reply_to', 'retweet', 'retweet_date', 'username', 'name', 'language', 'mentions']\n",
        "  new_df = df.drop(columns=drop_cols_21_22)\n",
        "  return new_df"
      ],
      "metadata": {
        "id": "hy6MGouNi_64"
      },
      "execution_count": 294,
      "outputs": []
    },
    {
      "cell_type": "code",
      "source": [
        "newEM21 = drop_cols21_22(EM21)"
      ],
      "metadata": {
        "id": "5t2pfIXejyro"
      },
      "execution_count": 295,
      "outputs": []
    },
    {
      "cell_type": "code",
      "source": [
        "newEM21.columns"
      ],
      "metadata": {
        "colab": {
          "base_uri": "https://localhost:8080/"
        },
        "id": "eFpvhiHYkD04",
        "outputId": "dd56b3df-acf5-4f0c-f5f2-56ff0416ec13"
      },
      "execution_count": 296,
      "outputs": [
        {
          "output_type": "execute_result",
          "data": {
            "text/plain": [
              "Index(['date', 'time', 'timezone', 'tweet', 'urls', 'photos', 'replies_count',\n",
              "       'retweets_count', 'likes_count', 'video'],\n",
              "      dtype='object')"
            ]
          },
          "metadata": {},
          "execution_count": 296
        }
      ]
    },
    {
      "cell_type": "code",
      "source": [
        "newEM21.head()"
      ],
      "metadata": {
        "colab": {
          "base_uri": "https://localhost:8080/",
          "height": 496
        },
        "id": "7pxPyBsRnrp4",
        "outputId": "b0110e28-945c-4dd2-f768-d62564eac56e"
      },
      "execution_count": 297,
      "outputs": [
        {
          "output_type": "execute_result",
          "data": {
            "text/plain": [
              "         date      time  timezone  \\\n",
              "0  2021-12-31  01:11:23       400   \n",
              "1  2021-12-31  00:47:53       400   \n",
              "2  2021-12-31  00:28:51       400   \n",
              "3  2021-12-30  22:23:14       400   \n",
              "4  2021-12-30  22:15:45       400   \n",
              "\n",
              "                                               tweet urls photos  \\\n",
              "0                                  @roshanpateI 🤣 $7   []     []   \n",
              "1             @tesla_raj Many UI improvements coming   []     []   \n",
              "2  @CSmithson80 @heydave7 @BLKMDL3 @mims This cha...   []     []   \n",
              "3  @BLKMDL3 @mims Predicting macroeconomics is ch...   []     []   \n",
              "4  @mims If history is any guide, not many will m...   []     []   \n",
              "\n",
              "   replies_count  retweets_count  likes_count  video  \n",
              "0            793             364        13468      0  \n",
              "1           1008             435        12209      0  \n",
              "2            240             143         2529      0  \n",
              "3            709            1235         5756      0  \n",
              "4            370             549         5247      0  "
            ],
            "text/html": [
              "\n",
              "  <div id=\"df-dcdd1b3d-f7e1-4189-ab53-b845eca74dbd\">\n",
              "    <div class=\"colab-df-container\">\n",
              "      <div>\n",
              "<style scoped>\n",
              "    .dataframe tbody tr th:only-of-type {\n",
              "        vertical-align: middle;\n",
              "    }\n",
              "\n",
              "    .dataframe tbody tr th {\n",
              "        vertical-align: top;\n",
              "    }\n",
              "\n",
              "    .dataframe thead th {\n",
              "        text-align: right;\n",
              "    }\n",
              "</style>\n",
              "<table border=\"1\" class=\"dataframe\">\n",
              "  <thead>\n",
              "    <tr style=\"text-align: right;\">\n",
              "      <th></th>\n",
              "      <th>date</th>\n",
              "      <th>time</th>\n",
              "      <th>timezone</th>\n",
              "      <th>tweet</th>\n",
              "      <th>urls</th>\n",
              "      <th>photos</th>\n",
              "      <th>replies_count</th>\n",
              "      <th>retweets_count</th>\n",
              "      <th>likes_count</th>\n",
              "      <th>video</th>\n",
              "    </tr>\n",
              "  </thead>\n",
              "  <tbody>\n",
              "    <tr>\n",
              "      <th>0</th>\n",
              "      <td>2021-12-31</td>\n",
              "      <td>01:11:23</td>\n",
              "      <td>400</td>\n",
              "      <td>@roshanpateI 🤣 $7</td>\n",
              "      <td>[]</td>\n",
              "      <td>[]</td>\n",
              "      <td>793</td>\n",
              "      <td>364</td>\n",
              "      <td>13468</td>\n",
              "      <td>0</td>\n",
              "    </tr>\n",
              "    <tr>\n",
              "      <th>1</th>\n",
              "      <td>2021-12-31</td>\n",
              "      <td>00:47:53</td>\n",
              "      <td>400</td>\n",
              "      <td>@tesla_raj Many UI improvements coming</td>\n",
              "      <td>[]</td>\n",
              "      <td>[]</td>\n",
              "      <td>1008</td>\n",
              "      <td>435</td>\n",
              "      <td>12209</td>\n",
              "      <td>0</td>\n",
              "    </tr>\n",
              "    <tr>\n",
              "      <th>2</th>\n",
              "      <td>2021-12-31</td>\n",
              "      <td>00:28:51</td>\n",
              "      <td>400</td>\n",
              "      <td>@CSmithson80 @heydave7 @BLKMDL3 @mims This cha...</td>\n",
              "      <td>[]</td>\n",
              "      <td>[]</td>\n",
              "      <td>240</td>\n",
              "      <td>143</td>\n",
              "      <td>2529</td>\n",
              "      <td>0</td>\n",
              "    </tr>\n",
              "    <tr>\n",
              "      <th>3</th>\n",
              "      <td>2021-12-30</td>\n",
              "      <td>22:23:14</td>\n",
              "      <td>400</td>\n",
              "      <td>@BLKMDL3 @mims Predicting macroeconomics is ch...</td>\n",
              "      <td>[]</td>\n",
              "      <td>[]</td>\n",
              "      <td>709</td>\n",
              "      <td>1235</td>\n",
              "      <td>5756</td>\n",
              "      <td>0</td>\n",
              "    </tr>\n",
              "    <tr>\n",
              "      <th>4</th>\n",
              "      <td>2021-12-30</td>\n",
              "      <td>22:15:45</td>\n",
              "      <td>400</td>\n",
              "      <td>@mims If history is any guide, not many will m...</td>\n",
              "      <td>[]</td>\n",
              "      <td>[]</td>\n",
              "      <td>370</td>\n",
              "      <td>549</td>\n",
              "      <td>5247</td>\n",
              "      <td>0</td>\n",
              "    </tr>\n",
              "  </tbody>\n",
              "</table>\n",
              "</div>\n",
              "      <button class=\"colab-df-convert\" onclick=\"convertToInteractive('df-dcdd1b3d-f7e1-4189-ab53-b845eca74dbd')\"\n",
              "              title=\"Convert this dataframe to an interactive table.\"\n",
              "              style=\"display:none;\">\n",
              "        \n",
              "  <svg xmlns=\"http://www.w3.org/2000/svg\" height=\"24px\"viewBox=\"0 0 24 24\"\n",
              "       width=\"24px\">\n",
              "    <path d=\"M0 0h24v24H0V0z\" fill=\"none\"/>\n",
              "    <path d=\"M18.56 5.44l.94 2.06.94-2.06 2.06-.94-2.06-.94-.94-2.06-.94 2.06-2.06.94zm-11 1L8.5 8.5l.94-2.06 2.06-.94-2.06-.94L8.5 2.5l-.94 2.06-2.06.94zm10 10l.94 2.06.94-2.06 2.06-.94-2.06-.94-.94-2.06-.94 2.06-2.06.94z\"/><path d=\"M17.41 7.96l-1.37-1.37c-.4-.4-.92-.59-1.43-.59-.52 0-1.04.2-1.43.59L10.3 9.45l-7.72 7.72c-.78.78-.78 2.05 0 2.83L4 21.41c.39.39.9.59 1.41.59.51 0 1.02-.2 1.41-.59l7.78-7.78 2.81-2.81c.8-.78.8-2.07 0-2.86zM5.41 20L4 18.59l7.72-7.72 1.47 1.35L5.41 20z\"/>\n",
              "  </svg>\n",
              "      </button>\n",
              "      \n",
              "  <style>\n",
              "    .colab-df-container {\n",
              "      display:flex;\n",
              "      flex-wrap:wrap;\n",
              "      gap: 12px;\n",
              "    }\n",
              "\n",
              "    .colab-df-convert {\n",
              "      background-color: #E8F0FE;\n",
              "      border: none;\n",
              "      border-radius: 50%;\n",
              "      cursor: pointer;\n",
              "      display: none;\n",
              "      fill: #1967D2;\n",
              "      height: 32px;\n",
              "      padding: 0 0 0 0;\n",
              "      width: 32px;\n",
              "    }\n",
              "\n",
              "    .colab-df-convert:hover {\n",
              "      background-color: #E2EBFA;\n",
              "      box-shadow: 0px 1px 2px rgba(60, 64, 67, 0.3), 0px 1px 3px 1px rgba(60, 64, 67, 0.15);\n",
              "      fill: #174EA6;\n",
              "    }\n",
              "\n",
              "    [theme=dark] .colab-df-convert {\n",
              "      background-color: #3B4455;\n",
              "      fill: #D2E3FC;\n",
              "    }\n",
              "\n",
              "    [theme=dark] .colab-df-convert:hover {\n",
              "      background-color: #434B5C;\n",
              "      box-shadow: 0px 1px 3px 1px rgba(0, 0, 0, 0.15);\n",
              "      filter: drop-shadow(0px 1px 2px rgba(0, 0, 0, 0.3));\n",
              "      fill: #FFFFFF;\n",
              "    }\n",
              "  </style>\n",
              "\n",
              "      <script>\n",
              "        const buttonEl =\n",
              "          document.querySelector('#df-dcdd1b3d-f7e1-4189-ab53-b845eca74dbd button.colab-df-convert');\n",
              "        buttonEl.style.display =\n",
              "          google.colab.kernel.accessAllowed ? 'block' : 'none';\n",
              "\n",
              "        async function convertToInteractive(key) {\n",
              "          const element = document.querySelector('#df-dcdd1b3d-f7e1-4189-ab53-b845eca74dbd');\n",
              "          const dataTable =\n",
              "            await google.colab.kernel.invokeFunction('convertToInteractive',\n",
              "                                                     [key], {});\n",
              "          if (!dataTable) return;\n",
              "\n",
              "          const docLinkHtml = 'Like what you see? Visit the ' +\n",
              "            '<a target=\"_blank\" href=https://colab.research.google.com/notebooks/data_table.ipynb>data table notebook</a>'\n",
              "            + ' to learn more about interactive tables.';\n",
              "          element.innerHTML = '';\n",
              "          dataTable['output_type'] = 'display_data';\n",
              "          await google.colab.output.renderOutput(dataTable, element);\n",
              "          const docLink = document.createElement('div');\n",
              "          docLink.innerHTML = docLinkHtml;\n",
              "          element.appendChild(docLink);\n",
              "        }\n",
              "      </script>\n",
              "    </div>\n",
              "  </div>\n",
              "  "
            ]
          },
          "metadata": {},
          "execution_count": 297
        }
      ]
    },
    {
      "cell_type": "markdown",
      "source": [
        "Our \"time\" column is actually a timestamp column. So we rename it accordingly before taking only the time part of the timestamp and add them to a new column called time"
      ],
      "metadata": {
        "id": "U8dm8oKkqNXt"
      }
    },
    {
      "cell_type": "code",
      "source": [
        "newEM21 = newEM21.rename(columns={'time': 'timestamp'})"
      ],
      "metadata": {
        "id": "L_0BaNjQpjYJ"
      },
      "execution_count": 298,
      "outputs": []
    },
    {
      "cell_type": "code",
      "source": [
        "newEM21['timestamp'] = pd.to_datetime(newEM21['timestamp'], format='%H:%M:%S')\n",
        "# Extract the time from each timestamp\n",
        "newEM21['time'] = newEM21['timestamp'].dt.time\n",
        "newEM21['time'] = newEM21['time'].astype(str)\n",
        "newEM21 = newEM21.drop(columns=['timestamp'])"
      ],
      "metadata": {
        "id": "LkKIBqceo91h"
      },
      "execution_count": 299,
      "outputs": []
    },
    {
      "cell_type": "markdown",
      "source": [
        "Then since the time is in arabian standard time (3 hours ahead of swedish time)\n",
        "we need to subtract 3 hours"
      ],
      "metadata": {
        "id": "y14DV1jjqX4V"
      }
    },
    {
      "cell_type": "code",
      "source": [
        "# Convert the 'date' and 'time' columns to datetime objects\n",
        "newEM21['datetime'] = pd.to_datetime(newEM21['date'] + ' ' + newEM21['time'], format='%Y-%m-%d %H:%M:%S')\n",
        "\n",
        "# Subtract 3 hours from each timestamp\n",
        "newEM21['datetime'] = newEM21['datetime'] - timedelta(hours=3)\n",
        "\n",
        "# Format the 'earlier_timestamp' column as a string\n",
        "newEM21['datetime'] = newEM21['datetime'].dt.strftime('%Y-%m-%d %H:%M:%S')\n"
      ],
      "metadata": {
        "id": "Rop0fHUwqhE0"
      },
      "execution_count": 300,
      "outputs": []
    },
    {
      "cell_type": "code",
      "source": [
        "newEM21.head()"
      ],
      "metadata": {
        "colab": {
          "base_uri": "https://localhost:8080/",
          "height": 513
        },
        "id": "GOGJhywVnwhk",
        "outputId": "fd272eee-d1a8-43ae-98b3-aa849aaeb9ab"
      },
      "execution_count": 301,
      "outputs": [
        {
          "output_type": "execute_result",
          "data": {
            "text/plain": [
              "         date  timezone                                              tweet  \\\n",
              "0  2021-12-31       400                                  @roshanpateI 🤣 $7   \n",
              "1  2021-12-31       400             @tesla_raj Many UI improvements coming   \n",
              "2  2021-12-31       400  @CSmithson80 @heydave7 @BLKMDL3 @mims This cha...   \n",
              "3  2021-12-30       400  @BLKMDL3 @mims Predicting macroeconomics is ch...   \n",
              "4  2021-12-30       400  @mims If history is any guide, not many will m...   \n",
              "\n",
              "  urls photos  replies_count  retweets_count  likes_count  video      time  \\\n",
              "0   []     []            793             364        13468      0  01:11:23   \n",
              "1   []     []           1008             435        12209      0  00:47:53   \n",
              "2   []     []            240             143         2529      0  00:28:51   \n",
              "3   []     []            709            1235         5756      0  22:23:14   \n",
              "4   []     []            370             549         5247      0  22:15:45   \n",
              "\n",
              "              datetime  \n",
              "0  2021-12-30 22:11:23  \n",
              "1  2021-12-30 21:47:53  \n",
              "2  2021-12-30 21:28:51  \n",
              "3  2021-12-30 19:23:14  \n",
              "4  2021-12-30 19:15:45  "
            ],
            "text/html": [
              "\n",
              "  <div id=\"df-90d97edf-65cd-485c-a8d0-d5ba0f61027c\">\n",
              "    <div class=\"colab-df-container\">\n",
              "      <div>\n",
              "<style scoped>\n",
              "    .dataframe tbody tr th:only-of-type {\n",
              "        vertical-align: middle;\n",
              "    }\n",
              "\n",
              "    .dataframe tbody tr th {\n",
              "        vertical-align: top;\n",
              "    }\n",
              "\n",
              "    .dataframe thead th {\n",
              "        text-align: right;\n",
              "    }\n",
              "</style>\n",
              "<table border=\"1\" class=\"dataframe\">\n",
              "  <thead>\n",
              "    <tr style=\"text-align: right;\">\n",
              "      <th></th>\n",
              "      <th>date</th>\n",
              "      <th>timezone</th>\n",
              "      <th>tweet</th>\n",
              "      <th>urls</th>\n",
              "      <th>photos</th>\n",
              "      <th>replies_count</th>\n",
              "      <th>retweets_count</th>\n",
              "      <th>likes_count</th>\n",
              "      <th>video</th>\n",
              "      <th>time</th>\n",
              "      <th>datetime</th>\n",
              "    </tr>\n",
              "  </thead>\n",
              "  <tbody>\n",
              "    <tr>\n",
              "      <th>0</th>\n",
              "      <td>2021-12-31</td>\n",
              "      <td>400</td>\n",
              "      <td>@roshanpateI 🤣 $7</td>\n",
              "      <td>[]</td>\n",
              "      <td>[]</td>\n",
              "      <td>793</td>\n",
              "      <td>364</td>\n",
              "      <td>13468</td>\n",
              "      <td>0</td>\n",
              "      <td>01:11:23</td>\n",
              "      <td>2021-12-30 22:11:23</td>\n",
              "    </tr>\n",
              "    <tr>\n",
              "      <th>1</th>\n",
              "      <td>2021-12-31</td>\n",
              "      <td>400</td>\n",
              "      <td>@tesla_raj Many UI improvements coming</td>\n",
              "      <td>[]</td>\n",
              "      <td>[]</td>\n",
              "      <td>1008</td>\n",
              "      <td>435</td>\n",
              "      <td>12209</td>\n",
              "      <td>0</td>\n",
              "      <td>00:47:53</td>\n",
              "      <td>2021-12-30 21:47:53</td>\n",
              "    </tr>\n",
              "    <tr>\n",
              "      <th>2</th>\n",
              "      <td>2021-12-31</td>\n",
              "      <td>400</td>\n",
              "      <td>@CSmithson80 @heydave7 @BLKMDL3 @mims This cha...</td>\n",
              "      <td>[]</td>\n",
              "      <td>[]</td>\n",
              "      <td>240</td>\n",
              "      <td>143</td>\n",
              "      <td>2529</td>\n",
              "      <td>0</td>\n",
              "      <td>00:28:51</td>\n",
              "      <td>2021-12-30 21:28:51</td>\n",
              "    </tr>\n",
              "    <tr>\n",
              "      <th>3</th>\n",
              "      <td>2021-12-30</td>\n",
              "      <td>400</td>\n",
              "      <td>@BLKMDL3 @mims Predicting macroeconomics is ch...</td>\n",
              "      <td>[]</td>\n",
              "      <td>[]</td>\n",
              "      <td>709</td>\n",
              "      <td>1235</td>\n",
              "      <td>5756</td>\n",
              "      <td>0</td>\n",
              "      <td>22:23:14</td>\n",
              "      <td>2021-12-30 19:23:14</td>\n",
              "    </tr>\n",
              "    <tr>\n",
              "      <th>4</th>\n",
              "      <td>2021-12-30</td>\n",
              "      <td>400</td>\n",
              "      <td>@mims If history is any guide, not many will m...</td>\n",
              "      <td>[]</td>\n",
              "      <td>[]</td>\n",
              "      <td>370</td>\n",
              "      <td>549</td>\n",
              "      <td>5247</td>\n",
              "      <td>0</td>\n",
              "      <td>22:15:45</td>\n",
              "      <td>2021-12-30 19:15:45</td>\n",
              "    </tr>\n",
              "  </tbody>\n",
              "</table>\n",
              "</div>\n",
              "      <button class=\"colab-df-convert\" onclick=\"convertToInteractive('df-90d97edf-65cd-485c-a8d0-d5ba0f61027c')\"\n",
              "              title=\"Convert this dataframe to an interactive table.\"\n",
              "              style=\"display:none;\">\n",
              "        \n",
              "  <svg xmlns=\"http://www.w3.org/2000/svg\" height=\"24px\"viewBox=\"0 0 24 24\"\n",
              "       width=\"24px\">\n",
              "    <path d=\"M0 0h24v24H0V0z\" fill=\"none\"/>\n",
              "    <path d=\"M18.56 5.44l.94 2.06.94-2.06 2.06-.94-2.06-.94-.94-2.06-.94 2.06-2.06.94zm-11 1L8.5 8.5l.94-2.06 2.06-.94-2.06-.94L8.5 2.5l-.94 2.06-2.06.94zm10 10l.94 2.06.94-2.06 2.06-.94-2.06-.94-.94-2.06-.94 2.06-2.06.94z\"/><path d=\"M17.41 7.96l-1.37-1.37c-.4-.4-.92-.59-1.43-.59-.52 0-1.04.2-1.43.59L10.3 9.45l-7.72 7.72c-.78.78-.78 2.05 0 2.83L4 21.41c.39.39.9.59 1.41.59.51 0 1.02-.2 1.41-.59l7.78-7.78 2.81-2.81c.8-.78.8-2.07 0-2.86zM5.41 20L4 18.59l7.72-7.72 1.47 1.35L5.41 20z\"/>\n",
              "  </svg>\n",
              "      </button>\n",
              "      \n",
              "  <style>\n",
              "    .colab-df-container {\n",
              "      display:flex;\n",
              "      flex-wrap:wrap;\n",
              "      gap: 12px;\n",
              "    }\n",
              "\n",
              "    .colab-df-convert {\n",
              "      background-color: #E8F0FE;\n",
              "      border: none;\n",
              "      border-radius: 50%;\n",
              "      cursor: pointer;\n",
              "      display: none;\n",
              "      fill: #1967D2;\n",
              "      height: 32px;\n",
              "      padding: 0 0 0 0;\n",
              "      width: 32px;\n",
              "    }\n",
              "\n",
              "    .colab-df-convert:hover {\n",
              "      background-color: #E2EBFA;\n",
              "      box-shadow: 0px 1px 2px rgba(60, 64, 67, 0.3), 0px 1px 3px 1px rgba(60, 64, 67, 0.15);\n",
              "      fill: #174EA6;\n",
              "    }\n",
              "\n",
              "    [theme=dark] .colab-df-convert {\n",
              "      background-color: #3B4455;\n",
              "      fill: #D2E3FC;\n",
              "    }\n",
              "\n",
              "    [theme=dark] .colab-df-convert:hover {\n",
              "      background-color: #434B5C;\n",
              "      box-shadow: 0px 1px 3px 1px rgba(0, 0, 0, 0.15);\n",
              "      filter: drop-shadow(0px 1px 2px rgba(0, 0, 0, 0.3));\n",
              "      fill: #FFFFFF;\n",
              "    }\n",
              "  </style>\n",
              "\n",
              "      <script>\n",
              "        const buttonEl =\n",
              "          document.querySelector('#df-90d97edf-65cd-485c-a8d0-d5ba0f61027c button.colab-df-convert');\n",
              "        buttonEl.style.display =\n",
              "          google.colab.kernel.accessAllowed ? 'block' : 'none';\n",
              "\n",
              "        async function convertToInteractive(key) {\n",
              "          const element = document.querySelector('#df-90d97edf-65cd-485c-a8d0-d5ba0f61027c');\n",
              "          const dataTable =\n",
              "            await google.colab.kernel.invokeFunction('convertToInteractive',\n",
              "                                                     [key], {});\n",
              "          if (!dataTable) return;\n",
              "\n",
              "          const docLinkHtml = 'Like what you see? Visit the ' +\n",
              "            '<a target=\"_blank\" href=https://colab.research.google.com/notebooks/data_table.ipynb>data table notebook</a>'\n",
              "            + ' to learn more about interactive tables.';\n",
              "          element.innerHTML = '';\n",
              "          dataTable['output_type'] = 'display_data';\n",
              "          await google.colab.output.renderOutput(dataTable, element);\n",
              "          const docLink = document.createElement('div');\n",
              "          docLink.innerHTML = docLinkHtml;\n",
              "          element.appendChild(docLink);\n",
              "        }\n",
              "      </script>\n",
              "    </div>\n",
              "  </div>\n",
              "  "
            ]
          },
          "metadata": {},
          "execution_count": 301
        }
      ]
    },
    {
      "cell_type": "code",
      "source": [
        "#Drop old times \n",
        "\n",
        "newEM21 = newEM21.drop(columns=['time', 'date'])\n",
        "\n",
        "\n",
        "#Take the new datetime and create new time and date columns with updated time\n",
        "newEM21['datetime'] = pd.to_datetime(newEM21['datetime'])\n",
        "newEM21['date'] = newEM21['datetime'].dt.date\n",
        "newEM21['time'] = newEM21['datetime'].dt.time\n",
        "\n",
        "\n",
        "#Then we can finally drop the datetime column and timezone column as they are not needed anymore\n",
        "newEM21 = newEM21.drop(columns=['datetime', 'timezone'])\n"
      ],
      "metadata": {
        "id": "sHBsjsERtm9Z"
      },
      "execution_count": 302,
      "outputs": []
    },
    {
      "cell_type": "markdown",
      "source": [
        "Last thing we need to add to this dataset, is which day it is\n",
        "(monday, tuesday, etc)"
      ],
      "metadata": {
        "id": "GHs--YpRvgn1"
      }
    },
    {
      "cell_type": "code",
      "source": [
        "newEM21['date'] = pd.to_datetime(newEM21['date'], format='%Y-%m-%d')\n",
        "newEM21['day']  = newEM21['date'].dt.weekday\n"
      ],
      "metadata": {
        "id": "DacPtAE_vgGJ"
      },
      "execution_count": 303,
      "outputs": []
    },
    {
      "cell_type": "code",
      "source": [
        "newEM21.head()"
      ],
      "metadata": {
        "colab": {
          "base_uri": "https://localhost:8080/",
          "height": 496
        },
        "id": "Pdfo9h53xJlY",
        "outputId": "c09d9fc9-b35c-481a-bc2a-be3b6baca237"
      },
      "execution_count": 305,
      "outputs": [
        {
          "output_type": "execute_result",
          "data": {
            "text/plain": [
              "                                               tweet urls photos  \\\n",
              "0                                  @roshanpateI 🤣 $7   []     []   \n",
              "1             @tesla_raj Many UI improvements coming   []     []   \n",
              "2  @CSmithson80 @heydave7 @BLKMDL3 @mims This cha...   []     []   \n",
              "3  @BLKMDL3 @mims Predicting macroeconomics is ch...   []     []   \n",
              "4  @mims If history is any guide, not many will m...   []     []   \n",
              "\n",
              "   replies_count  retweets_count  likes_count  video       date      time  day  \n",
              "0            793             364        13468      0 2021-12-30  22:11:23    3  \n",
              "1           1008             435        12209      0 2021-12-30  21:47:53    3  \n",
              "2            240             143         2529      0 2021-12-30  21:28:51    3  \n",
              "3            709            1235         5756      0 2021-12-30  19:23:14    3  \n",
              "4            370             549         5247      0 2021-12-30  19:15:45    3  "
            ],
            "text/html": [
              "\n",
              "  <div id=\"df-9ef7cddd-8fac-4620-949c-fbea92d99cd8\">\n",
              "    <div class=\"colab-df-container\">\n",
              "      <div>\n",
              "<style scoped>\n",
              "    .dataframe tbody tr th:only-of-type {\n",
              "        vertical-align: middle;\n",
              "    }\n",
              "\n",
              "    .dataframe tbody tr th {\n",
              "        vertical-align: top;\n",
              "    }\n",
              "\n",
              "    .dataframe thead th {\n",
              "        text-align: right;\n",
              "    }\n",
              "</style>\n",
              "<table border=\"1\" class=\"dataframe\">\n",
              "  <thead>\n",
              "    <tr style=\"text-align: right;\">\n",
              "      <th></th>\n",
              "      <th>tweet</th>\n",
              "      <th>urls</th>\n",
              "      <th>photos</th>\n",
              "      <th>replies_count</th>\n",
              "      <th>retweets_count</th>\n",
              "      <th>likes_count</th>\n",
              "      <th>video</th>\n",
              "      <th>date</th>\n",
              "      <th>time</th>\n",
              "      <th>day</th>\n",
              "    </tr>\n",
              "  </thead>\n",
              "  <tbody>\n",
              "    <tr>\n",
              "      <th>0</th>\n",
              "      <td>@roshanpateI 🤣 $7</td>\n",
              "      <td>[]</td>\n",
              "      <td>[]</td>\n",
              "      <td>793</td>\n",
              "      <td>364</td>\n",
              "      <td>13468</td>\n",
              "      <td>0</td>\n",
              "      <td>2021-12-30</td>\n",
              "      <td>22:11:23</td>\n",
              "      <td>3</td>\n",
              "    </tr>\n",
              "    <tr>\n",
              "      <th>1</th>\n",
              "      <td>@tesla_raj Many UI improvements coming</td>\n",
              "      <td>[]</td>\n",
              "      <td>[]</td>\n",
              "      <td>1008</td>\n",
              "      <td>435</td>\n",
              "      <td>12209</td>\n",
              "      <td>0</td>\n",
              "      <td>2021-12-30</td>\n",
              "      <td>21:47:53</td>\n",
              "      <td>3</td>\n",
              "    </tr>\n",
              "    <tr>\n",
              "      <th>2</th>\n",
              "      <td>@CSmithson80 @heydave7 @BLKMDL3 @mims This cha...</td>\n",
              "      <td>[]</td>\n",
              "      <td>[]</td>\n",
              "      <td>240</td>\n",
              "      <td>143</td>\n",
              "      <td>2529</td>\n",
              "      <td>0</td>\n",
              "      <td>2021-12-30</td>\n",
              "      <td>21:28:51</td>\n",
              "      <td>3</td>\n",
              "    </tr>\n",
              "    <tr>\n",
              "      <th>3</th>\n",
              "      <td>@BLKMDL3 @mims Predicting macroeconomics is ch...</td>\n",
              "      <td>[]</td>\n",
              "      <td>[]</td>\n",
              "      <td>709</td>\n",
              "      <td>1235</td>\n",
              "      <td>5756</td>\n",
              "      <td>0</td>\n",
              "      <td>2021-12-30</td>\n",
              "      <td>19:23:14</td>\n",
              "      <td>3</td>\n",
              "    </tr>\n",
              "    <tr>\n",
              "      <th>4</th>\n",
              "      <td>@mims If history is any guide, not many will m...</td>\n",
              "      <td>[]</td>\n",
              "      <td>[]</td>\n",
              "      <td>370</td>\n",
              "      <td>549</td>\n",
              "      <td>5247</td>\n",
              "      <td>0</td>\n",
              "      <td>2021-12-30</td>\n",
              "      <td>19:15:45</td>\n",
              "      <td>3</td>\n",
              "    </tr>\n",
              "  </tbody>\n",
              "</table>\n",
              "</div>\n",
              "      <button class=\"colab-df-convert\" onclick=\"convertToInteractive('df-9ef7cddd-8fac-4620-949c-fbea92d99cd8')\"\n",
              "              title=\"Convert this dataframe to an interactive table.\"\n",
              "              style=\"display:none;\">\n",
              "        \n",
              "  <svg xmlns=\"http://www.w3.org/2000/svg\" height=\"24px\"viewBox=\"0 0 24 24\"\n",
              "       width=\"24px\">\n",
              "    <path d=\"M0 0h24v24H0V0z\" fill=\"none\"/>\n",
              "    <path d=\"M18.56 5.44l.94 2.06.94-2.06 2.06-.94-2.06-.94-.94-2.06-.94 2.06-2.06.94zm-11 1L8.5 8.5l.94-2.06 2.06-.94-2.06-.94L8.5 2.5l-.94 2.06-2.06.94zm10 10l.94 2.06.94-2.06 2.06-.94-2.06-.94-.94-2.06-.94 2.06-2.06.94z\"/><path d=\"M17.41 7.96l-1.37-1.37c-.4-.4-.92-.59-1.43-.59-.52 0-1.04.2-1.43.59L10.3 9.45l-7.72 7.72c-.78.78-.78 2.05 0 2.83L4 21.41c.39.39.9.59 1.41.59.51 0 1.02-.2 1.41-.59l7.78-7.78 2.81-2.81c.8-.78.8-2.07 0-2.86zM5.41 20L4 18.59l7.72-7.72 1.47 1.35L5.41 20z\"/>\n",
              "  </svg>\n",
              "      </button>\n",
              "      \n",
              "  <style>\n",
              "    .colab-df-container {\n",
              "      display:flex;\n",
              "      flex-wrap:wrap;\n",
              "      gap: 12px;\n",
              "    }\n",
              "\n",
              "    .colab-df-convert {\n",
              "      background-color: #E8F0FE;\n",
              "      border: none;\n",
              "      border-radius: 50%;\n",
              "      cursor: pointer;\n",
              "      display: none;\n",
              "      fill: #1967D2;\n",
              "      height: 32px;\n",
              "      padding: 0 0 0 0;\n",
              "      width: 32px;\n",
              "    }\n",
              "\n",
              "    .colab-df-convert:hover {\n",
              "      background-color: #E2EBFA;\n",
              "      box-shadow: 0px 1px 2px rgba(60, 64, 67, 0.3), 0px 1px 3px 1px rgba(60, 64, 67, 0.15);\n",
              "      fill: #174EA6;\n",
              "    }\n",
              "\n",
              "    [theme=dark] .colab-df-convert {\n",
              "      background-color: #3B4455;\n",
              "      fill: #D2E3FC;\n",
              "    }\n",
              "\n",
              "    [theme=dark] .colab-df-convert:hover {\n",
              "      background-color: #434B5C;\n",
              "      box-shadow: 0px 1px 3px 1px rgba(0, 0, 0, 0.15);\n",
              "      filter: drop-shadow(0px 1px 2px rgba(0, 0, 0, 0.3));\n",
              "      fill: #FFFFFF;\n",
              "    }\n",
              "  </style>\n",
              "\n",
              "      <script>\n",
              "        const buttonEl =\n",
              "          document.querySelector('#df-9ef7cddd-8fac-4620-949c-fbea92d99cd8 button.colab-df-convert');\n",
              "        buttonEl.style.display =\n",
              "          google.colab.kernel.accessAllowed ? 'block' : 'none';\n",
              "\n",
              "        async function convertToInteractive(key) {\n",
              "          const element = document.querySelector('#df-9ef7cddd-8fac-4620-949c-fbea92d99cd8');\n",
              "          const dataTable =\n",
              "            await google.colab.kernel.invokeFunction('convertToInteractive',\n",
              "                                                     [key], {});\n",
              "          if (!dataTable) return;\n",
              "\n",
              "          const docLinkHtml = 'Like what you see? Visit the ' +\n",
              "            '<a target=\"_blank\" href=https://colab.research.google.com/notebooks/data_table.ipynb>data table notebook</a>'\n",
              "            + ' to learn more about interactive tables.';\n",
              "          element.innerHTML = '';\n",
              "          dataTable['output_type'] = 'display_data';\n",
              "          await google.colab.output.renderOutput(dataTable, element);\n",
              "          const docLink = document.createElement('div');\n",
              "          docLink.innerHTML = docLinkHtml;\n",
              "          element.appendChild(docLink);\n",
              "        }\n",
              "      </script>\n",
              "    </div>\n",
              "  </div>\n",
              "  "
            ]
          },
          "metadata": {},
          "execution_count": 305
        }
      ]
    },
    {
      "cell_type": "code",
      "source": [
        "#Finally, we rename the retweets_count, likes_count, replies_count to the same name as the ones we had in 2020 fil\n",
        "newEM21 = newEM21.rename(columns={'retweets_count':'nretweets', 'replies_count': 'nreplies', 'likes_count':'nlikes'})\n"
      ],
      "metadata": {
        "id": "BsqgSdXjuJC9"
      },
      "execution_count": 306,
      "outputs": []
    },
    {
      "cell_type": "code",
      "source": [
        "cleaned_21_df = newEM21.copy()"
      ],
      "metadata": {
        "id": "ym7_P5c11PB0"
      },
      "execution_count": 307,
      "outputs": []
    },
    {
      "cell_type": "markdown",
      "source": [
        "We do the same thing for 2022.csv and then we can concatenate the files and save the whole dataset."
      ],
      "metadata": {
        "id": "oRWEIGTUyibv"
      }
    },
    {
      "cell_type": "code",
      "source": [
        "newEM22 = drop_cols21_22(EM22)"
      ],
      "metadata": {
        "id": "xsD1mPf1yohK"
      },
      "execution_count": 308,
      "outputs": []
    },
    {
      "cell_type": "code",
      "source": [
        "newEM22.head()"
      ],
      "metadata": {
        "colab": {
          "base_uri": "https://localhost:8080/",
          "height": 444
        },
        "id": "8Ti5-6rJyz2Z",
        "outputId": "c26e6185-8bc2-4dd0-ee8b-9b0c0fb9c249"
      },
      "execution_count": 309,
      "outputs": [
        {
          "output_type": "execute_result",
          "data": {
            "text/plain": [
              "         date      time  timezone  \\\n",
              "0  2022-03-05  12:47:21       400   \n",
              "1  2022-03-05  12:40:13       400   \n",
              "2  2022-03-05  12:32:12       400   \n",
              "3  2022-03-05  11:28:25       400   \n",
              "4  2022-03-05  09:39:29       400   \n",
              "\n",
              "                                               tweet urls photos  \\\n",
              "0     @SpacePadreIsle In a way, this is free QA haha   []     []   \n",
              "1           @teslaownersSV A beautiful home for life   []     []   \n",
              "2  @SpacePadreIsle Some Starlink terminals near c...   []     []   \n",
              "3                 @RationalEtienne @RogerYar Exactly   []     []   \n",
              "4  @RogerYar All news sources are partially propa...   []     []   \n",
              "\n",
              "   replies_count  retweets_count  likes_count  video  \n",
              "0            250             205         4490      0  \n",
              "1           1521             736        15121      0  \n",
              "2            279            1022         8774      0  \n",
              "3            126              96         2773      0  \n",
              "4           1415            6191        43964      0  "
            ],
            "text/html": [
              "\n",
              "  <div id=\"df-781956bc-2b8f-464d-85b3-145ef44c863a\">\n",
              "    <div class=\"colab-df-container\">\n",
              "      <div>\n",
              "<style scoped>\n",
              "    .dataframe tbody tr th:only-of-type {\n",
              "        vertical-align: middle;\n",
              "    }\n",
              "\n",
              "    .dataframe tbody tr th {\n",
              "        vertical-align: top;\n",
              "    }\n",
              "\n",
              "    .dataframe thead th {\n",
              "        text-align: right;\n",
              "    }\n",
              "</style>\n",
              "<table border=\"1\" class=\"dataframe\">\n",
              "  <thead>\n",
              "    <tr style=\"text-align: right;\">\n",
              "      <th></th>\n",
              "      <th>date</th>\n",
              "      <th>time</th>\n",
              "      <th>timezone</th>\n",
              "      <th>tweet</th>\n",
              "      <th>urls</th>\n",
              "      <th>photos</th>\n",
              "      <th>replies_count</th>\n",
              "      <th>retweets_count</th>\n",
              "      <th>likes_count</th>\n",
              "      <th>video</th>\n",
              "    </tr>\n",
              "  </thead>\n",
              "  <tbody>\n",
              "    <tr>\n",
              "      <th>0</th>\n",
              "      <td>2022-03-05</td>\n",
              "      <td>12:47:21</td>\n",
              "      <td>400</td>\n",
              "      <td>@SpacePadreIsle In a way, this is free QA haha</td>\n",
              "      <td>[]</td>\n",
              "      <td>[]</td>\n",
              "      <td>250</td>\n",
              "      <td>205</td>\n",
              "      <td>4490</td>\n",
              "      <td>0</td>\n",
              "    </tr>\n",
              "    <tr>\n",
              "      <th>1</th>\n",
              "      <td>2022-03-05</td>\n",
              "      <td>12:40:13</td>\n",
              "      <td>400</td>\n",
              "      <td>@teslaownersSV A beautiful home for life</td>\n",
              "      <td>[]</td>\n",
              "      <td>[]</td>\n",
              "      <td>1521</td>\n",
              "      <td>736</td>\n",
              "      <td>15121</td>\n",
              "      <td>0</td>\n",
              "    </tr>\n",
              "    <tr>\n",
              "      <th>2</th>\n",
              "      <td>2022-03-05</td>\n",
              "      <td>12:32:12</td>\n",
              "      <td>400</td>\n",
              "      <td>@SpacePadreIsle Some Starlink terminals near c...</td>\n",
              "      <td>[]</td>\n",
              "      <td>[]</td>\n",
              "      <td>279</td>\n",
              "      <td>1022</td>\n",
              "      <td>8774</td>\n",
              "      <td>0</td>\n",
              "    </tr>\n",
              "    <tr>\n",
              "      <th>3</th>\n",
              "      <td>2022-03-05</td>\n",
              "      <td>11:28:25</td>\n",
              "      <td>400</td>\n",
              "      <td>@RationalEtienne @RogerYar Exactly</td>\n",
              "      <td>[]</td>\n",
              "      <td>[]</td>\n",
              "      <td>126</td>\n",
              "      <td>96</td>\n",
              "      <td>2773</td>\n",
              "      <td>0</td>\n",
              "    </tr>\n",
              "    <tr>\n",
              "      <th>4</th>\n",
              "      <td>2022-03-05</td>\n",
              "      <td>09:39:29</td>\n",
              "      <td>400</td>\n",
              "      <td>@RogerYar All news sources are partially propa...</td>\n",
              "      <td>[]</td>\n",
              "      <td>[]</td>\n",
              "      <td>1415</td>\n",
              "      <td>6191</td>\n",
              "      <td>43964</td>\n",
              "      <td>0</td>\n",
              "    </tr>\n",
              "  </tbody>\n",
              "</table>\n",
              "</div>\n",
              "      <button class=\"colab-df-convert\" onclick=\"convertToInteractive('df-781956bc-2b8f-464d-85b3-145ef44c863a')\"\n",
              "              title=\"Convert this dataframe to an interactive table.\"\n",
              "              style=\"display:none;\">\n",
              "        \n",
              "  <svg xmlns=\"http://www.w3.org/2000/svg\" height=\"24px\"viewBox=\"0 0 24 24\"\n",
              "       width=\"24px\">\n",
              "    <path d=\"M0 0h24v24H0V0z\" fill=\"none\"/>\n",
              "    <path d=\"M18.56 5.44l.94 2.06.94-2.06 2.06-.94-2.06-.94-.94-2.06-.94 2.06-2.06.94zm-11 1L8.5 8.5l.94-2.06 2.06-.94-2.06-.94L8.5 2.5l-.94 2.06-2.06.94zm10 10l.94 2.06.94-2.06 2.06-.94-2.06-.94-.94-2.06-.94 2.06-2.06.94z\"/><path d=\"M17.41 7.96l-1.37-1.37c-.4-.4-.92-.59-1.43-.59-.52 0-1.04.2-1.43.59L10.3 9.45l-7.72 7.72c-.78.78-.78 2.05 0 2.83L4 21.41c.39.39.9.59 1.41.59.51 0 1.02-.2 1.41-.59l7.78-7.78 2.81-2.81c.8-.78.8-2.07 0-2.86zM5.41 20L4 18.59l7.72-7.72 1.47 1.35L5.41 20z\"/>\n",
              "  </svg>\n",
              "      </button>\n",
              "      \n",
              "  <style>\n",
              "    .colab-df-container {\n",
              "      display:flex;\n",
              "      flex-wrap:wrap;\n",
              "      gap: 12px;\n",
              "    }\n",
              "\n",
              "    .colab-df-convert {\n",
              "      background-color: #E8F0FE;\n",
              "      border: none;\n",
              "      border-radius: 50%;\n",
              "      cursor: pointer;\n",
              "      display: none;\n",
              "      fill: #1967D2;\n",
              "      height: 32px;\n",
              "      padding: 0 0 0 0;\n",
              "      width: 32px;\n",
              "    }\n",
              "\n",
              "    .colab-df-convert:hover {\n",
              "      background-color: #E2EBFA;\n",
              "      box-shadow: 0px 1px 2px rgba(60, 64, 67, 0.3), 0px 1px 3px 1px rgba(60, 64, 67, 0.15);\n",
              "      fill: #174EA6;\n",
              "    }\n",
              "\n",
              "    [theme=dark] .colab-df-convert {\n",
              "      background-color: #3B4455;\n",
              "      fill: #D2E3FC;\n",
              "    }\n",
              "\n",
              "    [theme=dark] .colab-df-convert:hover {\n",
              "      background-color: #434B5C;\n",
              "      box-shadow: 0px 1px 3px 1px rgba(0, 0, 0, 0.15);\n",
              "      filter: drop-shadow(0px 1px 2px rgba(0, 0, 0, 0.3));\n",
              "      fill: #FFFFFF;\n",
              "    }\n",
              "  </style>\n",
              "\n",
              "      <script>\n",
              "        const buttonEl =\n",
              "          document.querySelector('#df-781956bc-2b8f-464d-85b3-145ef44c863a button.colab-df-convert');\n",
              "        buttonEl.style.display =\n",
              "          google.colab.kernel.accessAllowed ? 'block' : 'none';\n",
              "\n",
              "        async function convertToInteractive(key) {\n",
              "          const element = document.querySelector('#df-781956bc-2b8f-464d-85b3-145ef44c863a');\n",
              "          const dataTable =\n",
              "            await google.colab.kernel.invokeFunction('convertToInteractive',\n",
              "                                                     [key], {});\n",
              "          if (!dataTable) return;\n",
              "\n",
              "          const docLinkHtml = 'Like what you see? Visit the ' +\n",
              "            '<a target=\"_blank\" href=https://colab.research.google.com/notebooks/data_table.ipynb>data table notebook</a>'\n",
              "            + ' to learn more about interactive tables.';\n",
              "          element.innerHTML = '';\n",
              "          dataTable['output_type'] = 'display_data';\n",
              "          await google.colab.output.renderOutput(dataTable, element);\n",
              "          const docLink = document.createElement('div');\n",
              "          docLink.innerHTML = docLinkHtml;\n",
              "          element.appendChild(docLink);\n",
              "        }\n",
              "      </script>\n",
              "    </div>\n",
              "  </div>\n",
              "  "
            ]
          },
          "metadata": {},
          "execution_count": 309
        }
      ]
    },
    {
      "cell_type": "code",
      "source": [
        "newEM22 = newEM22.rename(columns={'time': 'timestamp'})"
      ],
      "metadata": {
        "id": "FXq-8OFAzAoJ"
      },
      "execution_count": 310,
      "outputs": []
    },
    {
      "cell_type": "code",
      "source": [
        "newEM22['timestamp'] = pd.to_datetime(newEM22['timestamp'], format='%H:%M:%S')\n",
        "# Extract the time from each timestamp\n",
        "newEM22['time'] = newEM22['timestamp'].dt.time\n",
        "newEM22['time'] = newEM22['time'].astype(str)\n",
        "newEM22 = newEM22.drop(columns=['timestamp'])"
      ],
      "metadata": {
        "id": "hXdhXoZQzlyH"
      },
      "execution_count": 311,
      "outputs": []
    },
    {
      "cell_type": "code",
      "source": [
        "# Convert the 'date' and 'time' columns to datetime objects\n",
        "newEM22['datetime'] = pd.to_datetime(newEM22['date'] + ' ' + newEM22['time'], format='%Y-%m-%d %H:%M:%S')\n",
        "\n",
        "# Subtract 3 hours from each timestamp\n",
        "newEM22['datetime'] = newEM22['datetime'] - timedelta(hours=3)\n",
        "\n",
        "# Format the 'earlier_timestamp' column as a string\n",
        "newEM22['datetime'] = newEM22['datetime'].dt.strftime('%Y-%m-%d %H:%M:%S')"
      ],
      "metadata": {
        "id": "30Yvov3tztrt"
      },
      "execution_count": 312,
      "outputs": []
    },
    {
      "cell_type": "code",
      "source": [
        "#Drop old times \n",
        "\n",
        "newEM22 = newEM22.drop(columns=['time', 'date'])\n",
        "\n",
        "\n",
        "#Take the new datetime and create new time and date columns with updated time\n",
        "newEM22['datetime'] = pd.to_datetime(newEM22['datetime'])\n",
        "newEM22['date'] = newEM22['datetime'].dt.date\n",
        "newEM22['time'] = newEM22['datetime'].dt.time\n",
        "\n",
        "\n",
        "#Then we can finally drop the datetime column and timezone column as they are not needed anymore\n",
        "newEM22 = newEM22.drop(columns=['datetime', 'timezone'])"
      ],
      "metadata": {
        "id": "nPOuDBVSz0eO"
      },
      "execution_count": 313,
      "outputs": []
    },
    {
      "cell_type": "code",
      "source": [
        "newEM22['date'] = pd.to_datetime(newEM22['date'], format='%Y-%m-%d')\n",
        "newEM22['day']  = newEM22['date'].dt.weekday"
      ],
      "metadata": {
        "id": "EPoyNBf-z9VD"
      },
      "execution_count": 314,
      "outputs": []
    },
    {
      "cell_type": "code",
      "source": [
        "newEM22.head()"
      ],
      "metadata": {
        "colab": {
          "base_uri": "https://localhost:8080/",
          "height": 444
        },
        "id": "qbbql89U0CYA",
        "outputId": "d48da988-672d-4e17-f544-eef7eefc494e"
      },
      "execution_count": 317,
      "outputs": [
        {
          "output_type": "execute_result",
          "data": {
            "text/plain": [
              "                                               tweet urls photos  nreplies  \\\n",
              "0     @SpacePadreIsle In a way, this is free QA haha   []     []       250   \n",
              "1           @teslaownersSV A beautiful home for life   []     []      1521   \n",
              "2  @SpacePadreIsle Some Starlink terminals near c...   []     []       279   \n",
              "3                 @RationalEtienne @RogerYar Exactly   []     []       126   \n",
              "4  @RogerYar All news sources are partially propa...   []     []      1415   \n",
              "\n",
              "   nretweets  nlikes  video       date      time  day  \n",
              "0        205    4490      0 2022-03-05  09:47:21    5  \n",
              "1        736   15121      0 2022-03-05  09:40:13    5  \n",
              "2       1022    8774      0 2022-03-05  09:32:12    5  \n",
              "3         96    2773      0 2022-03-05  08:28:25    5  \n",
              "4       6191   43964      0 2022-03-05  06:39:29    5  "
            ],
            "text/html": [
              "\n",
              "  <div id=\"df-5895c57f-8444-49ba-80c7-68a532a76155\">\n",
              "    <div class=\"colab-df-container\">\n",
              "      <div>\n",
              "<style scoped>\n",
              "    .dataframe tbody tr th:only-of-type {\n",
              "        vertical-align: middle;\n",
              "    }\n",
              "\n",
              "    .dataframe tbody tr th {\n",
              "        vertical-align: top;\n",
              "    }\n",
              "\n",
              "    .dataframe thead th {\n",
              "        text-align: right;\n",
              "    }\n",
              "</style>\n",
              "<table border=\"1\" class=\"dataframe\">\n",
              "  <thead>\n",
              "    <tr style=\"text-align: right;\">\n",
              "      <th></th>\n",
              "      <th>tweet</th>\n",
              "      <th>urls</th>\n",
              "      <th>photos</th>\n",
              "      <th>nreplies</th>\n",
              "      <th>nretweets</th>\n",
              "      <th>nlikes</th>\n",
              "      <th>video</th>\n",
              "      <th>date</th>\n",
              "      <th>time</th>\n",
              "      <th>day</th>\n",
              "    </tr>\n",
              "  </thead>\n",
              "  <tbody>\n",
              "    <tr>\n",
              "      <th>0</th>\n",
              "      <td>@SpacePadreIsle In a way, this is free QA haha</td>\n",
              "      <td>[]</td>\n",
              "      <td>[]</td>\n",
              "      <td>250</td>\n",
              "      <td>205</td>\n",
              "      <td>4490</td>\n",
              "      <td>0</td>\n",
              "      <td>2022-03-05</td>\n",
              "      <td>09:47:21</td>\n",
              "      <td>5</td>\n",
              "    </tr>\n",
              "    <tr>\n",
              "      <th>1</th>\n",
              "      <td>@teslaownersSV A beautiful home for life</td>\n",
              "      <td>[]</td>\n",
              "      <td>[]</td>\n",
              "      <td>1521</td>\n",
              "      <td>736</td>\n",
              "      <td>15121</td>\n",
              "      <td>0</td>\n",
              "      <td>2022-03-05</td>\n",
              "      <td>09:40:13</td>\n",
              "      <td>5</td>\n",
              "    </tr>\n",
              "    <tr>\n",
              "      <th>2</th>\n",
              "      <td>@SpacePadreIsle Some Starlink terminals near c...</td>\n",
              "      <td>[]</td>\n",
              "      <td>[]</td>\n",
              "      <td>279</td>\n",
              "      <td>1022</td>\n",
              "      <td>8774</td>\n",
              "      <td>0</td>\n",
              "      <td>2022-03-05</td>\n",
              "      <td>09:32:12</td>\n",
              "      <td>5</td>\n",
              "    </tr>\n",
              "    <tr>\n",
              "      <th>3</th>\n",
              "      <td>@RationalEtienne @RogerYar Exactly</td>\n",
              "      <td>[]</td>\n",
              "      <td>[]</td>\n",
              "      <td>126</td>\n",
              "      <td>96</td>\n",
              "      <td>2773</td>\n",
              "      <td>0</td>\n",
              "      <td>2022-03-05</td>\n",
              "      <td>08:28:25</td>\n",
              "      <td>5</td>\n",
              "    </tr>\n",
              "    <tr>\n",
              "      <th>4</th>\n",
              "      <td>@RogerYar All news sources are partially propa...</td>\n",
              "      <td>[]</td>\n",
              "      <td>[]</td>\n",
              "      <td>1415</td>\n",
              "      <td>6191</td>\n",
              "      <td>43964</td>\n",
              "      <td>0</td>\n",
              "      <td>2022-03-05</td>\n",
              "      <td>06:39:29</td>\n",
              "      <td>5</td>\n",
              "    </tr>\n",
              "  </tbody>\n",
              "</table>\n",
              "</div>\n",
              "      <button class=\"colab-df-convert\" onclick=\"convertToInteractive('df-5895c57f-8444-49ba-80c7-68a532a76155')\"\n",
              "              title=\"Convert this dataframe to an interactive table.\"\n",
              "              style=\"display:none;\">\n",
              "        \n",
              "  <svg xmlns=\"http://www.w3.org/2000/svg\" height=\"24px\"viewBox=\"0 0 24 24\"\n",
              "       width=\"24px\">\n",
              "    <path d=\"M0 0h24v24H0V0z\" fill=\"none\"/>\n",
              "    <path d=\"M18.56 5.44l.94 2.06.94-2.06 2.06-.94-2.06-.94-.94-2.06-.94 2.06-2.06.94zm-11 1L8.5 8.5l.94-2.06 2.06-.94-2.06-.94L8.5 2.5l-.94 2.06-2.06.94zm10 10l.94 2.06.94-2.06 2.06-.94-2.06-.94-.94-2.06-.94 2.06-2.06.94z\"/><path d=\"M17.41 7.96l-1.37-1.37c-.4-.4-.92-.59-1.43-.59-.52 0-1.04.2-1.43.59L10.3 9.45l-7.72 7.72c-.78.78-.78 2.05 0 2.83L4 21.41c.39.39.9.59 1.41.59.51 0 1.02-.2 1.41-.59l7.78-7.78 2.81-2.81c.8-.78.8-2.07 0-2.86zM5.41 20L4 18.59l7.72-7.72 1.47 1.35L5.41 20z\"/>\n",
              "  </svg>\n",
              "      </button>\n",
              "      \n",
              "  <style>\n",
              "    .colab-df-container {\n",
              "      display:flex;\n",
              "      flex-wrap:wrap;\n",
              "      gap: 12px;\n",
              "    }\n",
              "\n",
              "    .colab-df-convert {\n",
              "      background-color: #E8F0FE;\n",
              "      border: none;\n",
              "      border-radius: 50%;\n",
              "      cursor: pointer;\n",
              "      display: none;\n",
              "      fill: #1967D2;\n",
              "      height: 32px;\n",
              "      padding: 0 0 0 0;\n",
              "      width: 32px;\n",
              "    }\n",
              "\n",
              "    .colab-df-convert:hover {\n",
              "      background-color: #E2EBFA;\n",
              "      box-shadow: 0px 1px 2px rgba(60, 64, 67, 0.3), 0px 1px 3px 1px rgba(60, 64, 67, 0.15);\n",
              "      fill: #174EA6;\n",
              "    }\n",
              "\n",
              "    [theme=dark] .colab-df-convert {\n",
              "      background-color: #3B4455;\n",
              "      fill: #D2E3FC;\n",
              "    }\n",
              "\n",
              "    [theme=dark] .colab-df-convert:hover {\n",
              "      background-color: #434B5C;\n",
              "      box-shadow: 0px 1px 3px 1px rgba(0, 0, 0, 0.15);\n",
              "      filter: drop-shadow(0px 1px 2px rgba(0, 0, 0, 0.3));\n",
              "      fill: #FFFFFF;\n",
              "    }\n",
              "  </style>\n",
              "\n",
              "      <script>\n",
              "        const buttonEl =\n",
              "          document.querySelector('#df-5895c57f-8444-49ba-80c7-68a532a76155 button.colab-df-convert');\n",
              "        buttonEl.style.display =\n",
              "          google.colab.kernel.accessAllowed ? 'block' : 'none';\n",
              "\n",
              "        async function convertToInteractive(key) {\n",
              "          const element = document.querySelector('#df-5895c57f-8444-49ba-80c7-68a532a76155');\n",
              "          const dataTable =\n",
              "            await google.colab.kernel.invokeFunction('convertToInteractive',\n",
              "                                                     [key], {});\n",
              "          if (!dataTable) return;\n",
              "\n",
              "          const docLinkHtml = 'Like what you see? Visit the ' +\n",
              "            '<a target=\"_blank\" href=https://colab.research.google.com/notebooks/data_table.ipynb>data table notebook</a>'\n",
              "            + ' to learn more about interactive tables.';\n",
              "          element.innerHTML = '';\n",
              "          dataTable['output_type'] = 'display_data';\n",
              "          await google.colab.output.renderOutput(dataTable, element);\n",
              "          const docLink = document.createElement('div');\n",
              "          docLink.innerHTML = docLinkHtml;\n",
              "          element.appendChild(docLink);\n",
              "        }\n",
              "      </script>\n",
              "    </div>\n",
              "  </div>\n",
              "  "
            ]
          },
          "metadata": {},
          "execution_count": 317
        }
      ]
    },
    {
      "cell_type": "code",
      "source": [
        "#Finally, we rename the retweets_count, likes_count, replies_count to the same name as the ones we had in 2020 fil\n",
        "newEM22 = newEM22.rename(columns={'retweets_count':'nretweets', 'replies_count': 'nreplies', 'likes_count':'nlikes'})"
      ],
      "metadata": {
        "id": "369ifkMh0Lsf"
      },
      "execution_count": 316,
      "outputs": []
    },
    {
      "cell_type": "code",
      "source": [
        "cleaned_22_df = newEM22.copy()"
      ],
      "metadata": {
        "id": "kGAJYa_F1fLh"
      },
      "execution_count": 319,
      "outputs": []
    },
    {
      "cell_type": "code",
      "source": [
        "frames = [cleaned_2020_df, cleaned_21_df, cleaned_22_df]\n",
        "concat_df = pd.concat(frames)"
      ],
      "metadata": {
        "id": "KHaeD3QXx1Py"
      },
      "execution_count": 320,
      "outputs": []
    },
    {
      "cell_type": "code",
      "source": [
        "concat_df.head()\n"
      ],
      "metadata": {
        "colab": {
          "base_uri": "https://localhost:8080/",
          "height": 461
        },
        "id": "vVHVTmt-1ouy",
        "outputId": "54855e29-c433-4968-bae0-d1ed652cf383"
      },
      "execution_count": 323,
      "outputs": [
        {
          "output_type": "execute_result",
          "data": {
            "text/plain": [
              "                                               tweet  day urls photos  video  \\\n",
              "0  Entertainment will be critical when cars drive...    1   []     []      0   \n",
              "1  @kimpaquette Just meeting with Larry Ellison t...    1   []     []      0   \n",
              "2                        @richierichhhhh_ Absolutely    1   []     []      0   \n",
              "3  What should Tesla do with in-car gaming in an ...    1   []     []      0   \n",
              "4                          @PPathole @WSJ Absolutely    1   []     []      0   \n",
              "\n",
              "   nlikes  nreplies  nretweets        date      time  \n",
              "0   55085      2922       2611  2020-12-28  19:46:18  \n",
              "1    8631       601        314  2020-12-28  18:07:33  \n",
              "2   72434       495        907  2020-12-28  17:23:51  \n",
              "3   33830      6932        884  2020-12-28  17:23:31  \n",
              "4    2394       131         92  2020-12-28  05:39:42  "
            ],
            "text/html": [
              "\n",
              "  <div id=\"df-e697ec92-eeea-4668-a7ee-4798da8200e3\">\n",
              "    <div class=\"colab-df-container\">\n",
              "      <div>\n",
              "<style scoped>\n",
              "    .dataframe tbody tr th:only-of-type {\n",
              "        vertical-align: middle;\n",
              "    }\n",
              "\n",
              "    .dataframe tbody tr th {\n",
              "        vertical-align: top;\n",
              "    }\n",
              "\n",
              "    .dataframe thead th {\n",
              "        text-align: right;\n",
              "    }\n",
              "</style>\n",
              "<table border=\"1\" class=\"dataframe\">\n",
              "  <thead>\n",
              "    <tr style=\"text-align: right;\">\n",
              "      <th></th>\n",
              "      <th>tweet</th>\n",
              "      <th>day</th>\n",
              "      <th>urls</th>\n",
              "      <th>photos</th>\n",
              "      <th>video</th>\n",
              "      <th>nlikes</th>\n",
              "      <th>nreplies</th>\n",
              "      <th>nretweets</th>\n",
              "      <th>date</th>\n",
              "      <th>time</th>\n",
              "    </tr>\n",
              "  </thead>\n",
              "  <tbody>\n",
              "    <tr>\n",
              "      <th>0</th>\n",
              "      <td>Entertainment will be critical when cars drive...</td>\n",
              "      <td>1</td>\n",
              "      <td>[]</td>\n",
              "      <td>[]</td>\n",
              "      <td>0</td>\n",
              "      <td>55085</td>\n",
              "      <td>2922</td>\n",
              "      <td>2611</td>\n",
              "      <td>2020-12-28</td>\n",
              "      <td>19:46:18</td>\n",
              "    </tr>\n",
              "    <tr>\n",
              "      <th>1</th>\n",
              "      <td>@kimpaquette Just meeting with Larry Ellison t...</td>\n",
              "      <td>1</td>\n",
              "      <td>[]</td>\n",
              "      <td>[]</td>\n",
              "      <td>0</td>\n",
              "      <td>8631</td>\n",
              "      <td>601</td>\n",
              "      <td>314</td>\n",
              "      <td>2020-12-28</td>\n",
              "      <td>18:07:33</td>\n",
              "    </tr>\n",
              "    <tr>\n",
              "      <th>2</th>\n",
              "      <td>@richierichhhhh_ Absolutely</td>\n",
              "      <td>1</td>\n",
              "      <td>[]</td>\n",
              "      <td>[]</td>\n",
              "      <td>0</td>\n",
              "      <td>72434</td>\n",
              "      <td>495</td>\n",
              "      <td>907</td>\n",
              "      <td>2020-12-28</td>\n",
              "      <td>17:23:51</td>\n",
              "    </tr>\n",
              "    <tr>\n",
              "      <th>3</th>\n",
              "      <td>What should Tesla do with in-car gaming in an ...</td>\n",
              "      <td>1</td>\n",
              "      <td>[]</td>\n",
              "      <td>[]</td>\n",
              "      <td>0</td>\n",
              "      <td>33830</td>\n",
              "      <td>6932</td>\n",
              "      <td>884</td>\n",
              "      <td>2020-12-28</td>\n",
              "      <td>17:23:31</td>\n",
              "    </tr>\n",
              "    <tr>\n",
              "      <th>4</th>\n",
              "      <td>@PPathole @WSJ Absolutely</td>\n",
              "      <td>1</td>\n",
              "      <td>[]</td>\n",
              "      <td>[]</td>\n",
              "      <td>0</td>\n",
              "      <td>2394</td>\n",
              "      <td>131</td>\n",
              "      <td>92</td>\n",
              "      <td>2020-12-28</td>\n",
              "      <td>05:39:42</td>\n",
              "    </tr>\n",
              "  </tbody>\n",
              "</table>\n",
              "</div>\n",
              "      <button class=\"colab-df-convert\" onclick=\"convertToInteractive('df-e697ec92-eeea-4668-a7ee-4798da8200e3')\"\n",
              "              title=\"Convert this dataframe to an interactive table.\"\n",
              "              style=\"display:none;\">\n",
              "        \n",
              "  <svg xmlns=\"http://www.w3.org/2000/svg\" height=\"24px\"viewBox=\"0 0 24 24\"\n",
              "       width=\"24px\">\n",
              "    <path d=\"M0 0h24v24H0V0z\" fill=\"none\"/>\n",
              "    <path d=\"M18.56 5.44l.94 2.06.94-2.06 2.06-.94-2.06-.94-.94-2.06-.94 2.06-2.06.94zm-11 1L8.5 8.5l.94-2.06 2.06-.94-2.06-.94L8.5 2.5l-.94 2.06-2.06.94zm10 10l.94 2.06.94-2.06 2.06-.94-2.06-.94-.94-2.06-.94 2.06-2.06.94z\"/><path d=\"M17.41 7.96l-1.37-1.37c-.4-.4-.92-.59-1.43-.59-.52 0-1.04.2-1.43.59L10.3 9.45l-7.72 7.72c-.78.78-.78 2.05 0 2.83L4 21.41c.39.39.9.59 1.41.59.51 0 1.02-.2 1.41-.59l7.78-7.78 2.81-2.81c.8-.78.8-2.07 0-2.86zM5.41 20L4 18.59l7.72-7.72 1.47 1.35L5.41 20z\"/>\n",
              "  </svg>\n",
              "      </button>\n",
              "      \n",
              "  <style>\n",
              "    .colab-df-container {\n",
              "      display:flex;\n",
              "      flex-wrap:wrap;\n",
              "      gap: 12px;\n",
              "    }\n",
              "\n",
              "    .colab-df-convert {\n",
              "      background-color: #E8F0FE;\n",
              "      border: none;\n",
              "      border-radius: 50%;\n",
              "      cursor: pointer;\n",
              "      display: none;\n",
              "      fill: #1967D2;\n",
              "      height: 32px;\n",
              "      padding: 0 0 0 0;\n",
              "      width: 32px;\n",
              "    }\n",
              "\n",
              "    .colab-df-convert:hover {\n",
              "      background-color: #E2EBFA;\n",
              "      box-shadow: 0px 1px 2px rgba(60, 64, 67, 0.3), 0px 1px 3px 1px rgba(60, 64, 67, 0.15);\n",
              "      fill: #174EA6;\n",
              "    }\n",
              "\n",
              "    [theme=dark] .colab-df-convert {\n",
              "      background-color: #3B4455;\n",
              "      fill: #D2E3FC;\n",
              "    }\n",
              "\n",
              "    [theme=dark] .colab-df-convert:hover {\n",
              "      background-color: #434B5C;\n",
              "      box-shadow: 0px 1px 3px 1px rgba(0, 0, 0, 0.15);\n",
              "      filter: drop-shadow(0px 1px 2px rgba(0, 0, 0, 0.3));\n",
              "      fill: #FFFFFF;\n",
              "    }\n",
              "  </style>\n",
              "\n",
              "      <script>\n",
              "        const buttonEl =\n",
              "          document.querySelector('#df-e697ec92-eeea-4668-a7ee-4798da8200e3 button.colab-df-convert');\n",
              "        buttonEl.style.display =\n",
              "          google.colab.kernel.accessAllowed ? 'block' : 'none';\n",
              "\n",
              "        async function convertToInteractive(key) {\n",
              "          const element = document.querySelector('#df-e697ec92-eeea-4668-a7ee-4798da8200e3');\n",
              "          const dataTable =\n",
              "            await google.colab.kernel.invokeFunction('convertToInteractive',\n",
              "                                                     [key], {});\n",
              "          if (!dataTable) return;\n",
              "\n",
              "          const docLinkHtml = 'Like what you see? Visit the ' +\n",
              "            '<a target=\"_blank\" href=https://colab.research.google.com/notebooks/data_table.ipynb>data table notebook</a>'\n",
              "            + ' to learn more about interactive tables.';\n",
              "          element.innerHTML = '';\n",
              "          dataTable['output_type'] = 'display_data';\n",
              "          await google.colab.output.renderOutput(dataTable, element);\n",
              "          const docLink = document.createElement('div');\n",
              "          docLink.innerHTML = docLinkHtml;\n",
              "          element.appendChild(docLink);\n",
              "        }\n",
              "      </script>\n",
              "    </div>\n",
              "  </div>\n",
              "  "
            ]
          },
          "metadata": {},
          "execution_count": 323
        }
      ]
    },
    {
      "cell_type": "code",
      "source": [
        "print(concat_df.shape)"
      ],
      "metadata": {
        "colab": {
          "base_uri": "https://localhost:8080/"
        },
        "id": "EB_s3N021w4y",
        "outputId": "601748f0-7ac2-4ea7-d8d2-28237d869a69"
      },
      "execution_count": 327,
      "outputs": [
        {
          "output_type": "stream",
          "name": "stdout",
          "text": [
            "(15860, 10)\n"
          ]
        }
      ]
    },
    {
      "cell_type": "markdown",
      "source": [
        "We can see that our total amount of rows is the same number as mentioned at the start of this notebook."
      ],
      "metadata": {
        "id": "0fzmmDkw1y-t"
      }
    },
    {
      "cell_type": "code",
      "source": [
        "from google.colab import files\n",
        "\n",
        "concat_df.to_csv('cleanedTweetData.csv')\n",
        "files.download('cleanedTweetData.csv')"
      ],
      "metadata": {
        "colab": {
          "base_uri": "https://localhost:8080/",
          "height": 17
        },
        "id": "5fMNu-ys0ZZ8",
        "outputId": "a55ba532-f063-42ce-bdc3-64e72d74197c"
      },
      "execution_count": 328,
      "outputs": [
        {
          "output_type": "display_data",
          "data": {
            "text/plain": [
              "<IPython.core.display.Javascript object>"
            ],
            "application/javascript": [
              "\n",
              "    async function download(id, filename, size) {\n",
              "      if (!google.colab.kernel.accessAllowed) {\n",
              "        return;\n",
              "      }\n",
              "      const div = document.createElement('div');\n",
              "      const label = document.createElement('label');\n",
              "      label.textContent = `Downloading \"${filename}\": `;\n",
              "      div.appendChild(label);\n",
              "      const progress = document.createElement('progress');\n",
              "      progress.max = size;\n",
              "      div.appendChild(progress);\n",
              "      document.body.appendChild(div);\n",
              "\n",
              "      const buffers = [];\n",
              "      let downloaded = 0;\n",
              "\n",
              "      const channel = await google.colab.kernel.comms.open(id);\n",
              "      // Send a message to notify the kernel that we're ready.\n",
              "      channel.send({})\n",
              "\n",
              "      for await (const message of channel.messages) {\n",
              "        // Send a message to notify the kernel that we're ready.\n",
              "        channel.send({})\n",
              "        if (message.buffers) {\n",
              "          for (const buffer of message.buffers) {\n",
              "            buffers.push(buffer);\n",
              "            downloaded += buffer.byteLength;\n",
              "            progress.value = downloaded;\n",
              "          }\n",
              "        }\n",
              "      }\n",
              "      const blob = new Blob(buffers, {type: 'application/binary'});\n",
              "      const a = document.createElement('a');\n",
              "      a.href = window.URL.createObjectURL(blob);\n",
              "      a.download = filename;\n",
              "      div.appendChild(a);\n",
              "      a.click();\n",
              "      div.remove();\n",
              "    }\n",
              "  "
            ]
          },
          "metadata": {}
        },
        {
          "output_type": "display_data",
          "data": {
            "text/plain": [
              "<IPython.core.display.Javascript object>"
            ],
            "application/javascript": [
              "download(\"download_001b1444-d078-4ab7-8b83-49fb91d4a60e\", \"cleanedTweetData.csv\", 2357568)"
            ]
          },
          "metadata": {}
        }
      ]
    },
    {
      "cell_type": "markdown",
      "source": [],
      "metadata": {
        "id": "SeoPjUMPynTs"
      }
    }
  ]
}
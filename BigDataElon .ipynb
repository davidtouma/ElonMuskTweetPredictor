{
  "nbformat": 4,
  "nbformat_minor": 0,
  "metadata": {
    "colab": {
      "provenance": [],
      "collapsed_sections": [
        "soWkmR6YzUA2",
        "loJQ2SwpEalW"
      ]
    },
    "kernelspec": {
      "name": "python3",
      "display_name": "Python 3"
    },
    "language_info": {
      "name": "python"
    }
  },
  "cells": [
    {
      "cell_type": "markdown",
      "source": [
        "NOTE! Du måste ladda up 2020.csv, 2021.csv, 2022.csv från länken du kan hitta där nere"
      ],
      "metadata": {
        "id": "aOyNT9kdEAaS"
      }
    },
    {
      "cell_type": "code",
      "execution_count": 1,
      "metadata": {
        "id": "zoBlk_8tLmRI"
      },
      "outputs": [],
      "source": [
        "import pandas as pd\n",
        "import numpy as np\n",
        "from datetime import datetime, timedelta\n"
      ]
    },
    {
      "cell_type": "code",
      "source": [
        "EM20 = pd.read_csv('2020.csv')\n",
        "EM21 = pd.read_csv('2021.csv')\n",
        "EM22 = pd.read_csv('2022.csv')\n",
        "\n",
        "print(EM20.shape[0])\n",
        "print(EM21.shape[0])\n",
        "print(EM22.shape[0])\n",
        "\n",
        "print(EM20.shape[0] + EM21.shape[0] + EM22.shape[0])"
      ],
      "metadata": {
        "colab": {
          "base_uri": "https://localhost:8080/"
        },
        "id": "n22ZJyBgyfhK",
        "outputId": "38b9a14c-2dd7-40b3-b11a-3279210756e5"
      },
      "execution_count": 3,
      "outputs": [
        {
          "output_type": "stream",
          "name": "stdout",
          "text": [
            "11717\n",
            "3115\n",
            "1028\n",
            "15860\n"
          ]
        }
      ]
    },
    {
      "cell_type": "markdown",
      "source": [
        "# Elon Musk's Tweet data between 2010-2022\n",
        "\n"
      ],
      "metadata": {
        "id": "nWrXX6cSMRg2"
      }
    },
    {
      "cell_type": "markdown",
      "source": [
        "# Dataset\n",
        "\n",
        "The dataset we're working with comes from \n",
        "https://www.kaggle.com/datasets/ayhmrba/elon-musk-tweets-2010-2021?select=2020.csv .\n",
        "\n",
        "It contains multiple files, where the file 2020.csv contains data about Elon Musk's tweets from 2010-2020 (11718 rows)\n",
        "\n",
        "2021.csv contains data about Elon Musk's tweets from 2021 and it contains 3115 rows\n",
        "\n",
        "2022.csv contains data about Elon Musk's tweets from 2022 and it contains 1028 rows\n",
        "\n",
        "In total, this data will give us 15860 tweets.\n",
        "\n",
        "To see description about the different features, check the link."
      ],
      "metadata": {
        "id": "M8QjpyCSx_ob"
      }
    },
    {
      "cell_type": "markdown",
      "source": [
        "#Differences in datasets\n",
        "\n",
        "The 2020.csv file is a bit different from the other two files. We can see this in the example below, therefore, before we concatenate them we need to make sure that they are in the same format. "
      ],
      "metadata": {
        "id": "soWkmR6YzUA2"
      }
    },
    {
      "cell_type": "code",
      "source": [
        "print(EM20['created_at'])\n",
        "\n",
        "print(EM22['created_at'])"
      ],
      "metadata": {
        "colab": {
          "base_uri": "https://localhost:8080/"
        },
        "id": "s3z3jw6MzGsA",
        "outputId": "10ad6ab2-27df-4f6a-9165-51663d6f807d"
      },
      "execution_count": 4,
      "outputs": [
        {
          "output_type": "stream",
          "name": "stdout",
          "text": [
            "0        1.609185e+12\n",
            "1        1.609179e+12\n",
            "2        1.609176e+12\n",
            "3        1.609176e+12\n",
            "4        1.609134e+12\n",
            "             ...     \n",
            "11712    1.322901e+12\n",
            "11713    1.322900e+12\n",
            "11714    1.322735e+12\n",
            "11715    1.322733e+12\n",
            "11716    1.275676e+12\n",
            "Name: created_at, Length: 11717, dtype: float64\n",
            "0       2022-03-05 12:47:21 Arabian Standard Time\n",
            "1       2022-03-05 12:40:13 Arabian Standard Time\n",
            "2       2022-03-05 12:32:12 Arabian Standard Time\n",
            "3       2022-03-05 11:28:25 Arabian Standard Time\n",
            "4       2022-03-05 09:39:29 Arabian Standard Time\n",
            "                          ...                    \n",
            "1023    2022-01-03 02:56:00 Arabian Standard Time\n",
            "1024    2022-01-02 22:19:33 Arabian Standard Time\n",
            "1025    2022-01-02 21:56:50 Arabian Standard Time\n",
            "1026    2022-01-01 05:58:52 Arabian Standard Time\n",
            "1027    2022-01-01 04:53:13 Arabian Standard Time\n",
            "Name: created_at, Length: 1028, dtype: object\n"
          ]
        }
      ]
    },
    {
      "cell_type": "markdown",
      "source": [
        "Another example we can see is that date in 2020.csv and date column in 2021 and 2022 differs.\n",
        "\n",
        "In 2020.csv, the date column gives us both the date and time of when the tweet was uploaded. In the other two datasets it only shows us the date. "
      ],
      "metadata": {
        "id": "PoVxgcDrz0bC"
      }
    },
    {
      "cell_type": "code",
      "source": [
        "print(EM20['date'])\n",
        "print('-----------------------------')\n",
        "print(EM21['date'])\n",
        "print('-----------------------------')\n",
        "print(EM22['date'])"
      ],
      "metadata": {
        "colab": {
          "base_uri": "https://localhost:8080/"
        },
        "id": "JS_aVo9uz0BY",
        "outputId": "9ce2ccee-552a-4985-87ed-e145da3a374f"
      },
      "execution_count": 5,
      "outputs": [
        {
          "output_type": "stream",
          "name": "stdout",
          "text": [
            "0        2020-12-28 19:46:18\n",
            "1        2020-12-28 18:07:33\n",
            "2        2020-12-28 17:23:51\n",
            "3        2020-12-28 17:23:31\n",
            "4        2020-12-28 05:39:42\n",
            "                ...         \n",
            "11712    2011-12-03 08:22:07\n",
            "11713    2011-12-03 08:20:28\n",
            "11714    2011-12-01 10:29:04\n",
            "11715    2011-12-01 09:55:11\n",
            "11716    2010-06-04 18:31:57\n",
            "Name: date, Length: 11717, dtype: object\n",
            "-----------------------------\n",
            "0       2021-12-31\n",
            "1       2021-12-31\n",
            "2       2021-12-31\n",
            "3       2021-12-30\n",
            "4       2021-12-30\n",
            "           ...    \n",
            "3110    2021-01-02\n",
            "3111    2021-01-02\n",
            "3112    2021-01-02\n",
            "3113    2021-01-02\n",
            "3114    2021-01-01\n",
            "Name: date, Length: 3115, dtype: object\n",
            "-----------------------------\n",
            "0       2022-03-05\n",
            "1       2022-03-05\n",
            "2       2022-03-05\n",
            "3       2022-03-05\n",
            "4       2022-03-05\n",
            "           ...    \n",
            "1023    2022-01-03\n",
            "1024    2022-01-02\n",
            "1025    2022-01-02\n",
            "1026    2022-01-01\n",
            "1027    2022-01-01\n",
            "Name: date, Length: 1028, dtype: object\n"
          ]
        }
      ]
    },
    {
      "cell_type": "markdown",
      "source": [
        "Another Interesting part before we continue, is that the timezone is harder to interpret. In 2020.csv file, the timezone column has the same value for all rows (+000), which we interpret as the timezone +0 which is Greenwich. In the other two files, when we look at timezone we see that it uses standard Arabian time"
      ],
      "metadata": {
        "id": "rrrr5J38zTL7"
      }
    },
    {
      "cell_type": "code",
      "source": [
        "print(EM20['timezone'])\n",
        "print('-----------------------------')\n",
        "print(EM21['timezone'])\n",
        "print('-----------------------------')\n",
        "print(EM22['timezone'])"
      ],
      "metadata": {
        "colab": {
          "base_uri": "https://localhost:8080/"
        },
        "id": "zdLFO4e80jJ8",
        "outputId": "38a4a189-dbdc-41f8-e6dc-818bfd7e1959"
      },
      "execution_count": 6,
      "outputs": [
        {
          "output_type": "stream",
          "name": "stdout",
          "text": [
            "0        0\n",
            "1        0\n",
            "2        0\n",
            "3        0\n",
            "4        0\n",
            "        ..\n",
            "11712    0\n",
            "11713    0\n",
            "11714    0\n",
            "11715    0\n",
            "11716    0\n",
            "Name: timezone, Length: 11717, dtype: int64\n",
            "-----------------------------\n",
            "0       400\n",
            "1       400\n",
            "2       400\n",
            "3       400\n",
            "4       400\n",
            "       ... \n",
            "3110    400\n",
            "3111    400\n",
            "3112    400\n",
            "3113    400\n",
            "3114    400\n",
            "Name: timezone, Length: 3115, dtype: int64\n",
            "-----------------------------\n",
            "0       400\n",
            "1       400\n",
            "2       400\n",
            "3       400\n",
            "4       400\n",
            "       ... \n",
            "1023    400\n",
            "1024    400\n",
            "1025    400\n",
            "1026    400\n",
            "1027    400\n",
            "Name: timezone, Length: 1028, dtype: int64\n"
          ]
        }
      ]
    },
    {
      "cell_type": "code",
      "source": [
        "#Checking tweet\n",
        "print(EM21['tweet'][0])"
      ],
      "metadata": {
        "colab": {
          "base_uri": "https://localhost:8080/"
        },
        "id": "49r-p3F_1kQr",
        "outputId": "3043d1ef-5307-470e-8ce1-a1c7cc7eee08"
      },
      "execution_count": 7,
      "outputs": [
        {
          "output_type": "stream",
          "name": "stdout",
          "text": [
            "@roshanpateI 🤣 $7\n"
          ]
        }
      ]
    },
    {
      "cell_type": "markdown",
      "source": [
        "The standard arabian timezons is 4 hours ahead of the Greenwich mean time. To make sure that the hours are the same relative to eachother, we will need to readjust the times."
      ],
      "metadata": {
        "id": "Po5aIaVg0_r7"
      }
    },
    {
      "cell_type": "markdown",
      "source": [
        "----------------------------------------------"
      ],
      "metadata": {
        "id": "ghLrLvFpztje"
      }
    },
    {
      "cell_type": "markdown",
      "source": [
        "# Things to fix\n",
        "\n",
        "*  Make sure the files follow same timezone\n",
        "*  Drop unnecessary columns\n",
        "*  Rename the columns so that they follow the same format\n",
        "*  Remove tweets that are replies/retweets\n",
        "\n",
        "When all of these steps are done, we concatenate the dataframes and push the data to hopsworks\n"
      ],
      "metadata": {
        "id": "kMuaoBGCfvWL"
      }
    },
    {
      "cell_type": "markdown",
      "source": [
        "# This is cleaning for the 2020.csv file"
      ],
      "metadata": {
        "id": "loJQ2SwpEalW"
      }
    },
    {
      "cell_type": "markdown",
      "source": [
        "Important Features needed for this task\n",
        "\n",
        "\n",
        "\n",
        "*   Tweets\n",
        "*   Amount of likes, retweets, and number of replies\n",
        "*   Date and Time\n",
        "*   Hashtags, cashtags, etc\n",
        "*   Any media (photos, videos)\n",
        "\n",
        "\n",
        "(Punkter som jag fick svar från ChatGPT)\n",
        "\n"
      ],
      "metadata": {
        "id": "1239tJXAXMJ8"
      }
    },
    {
      "cell_type": "markdown",
      "source": [
        "Dropping unnecessary columns\n",
        "\n",
        "We will need two different functions since the dataframes have minor differences that needs to be considered"
      ],
      "metadata": {
        "id": "-garlSBD3_QZ"
      }
    },
    {
      "cell_type": "code",
      "source": [
        "print(EM20.columns)"
      ],
      "metadata": {
        "colab": {
          "base_uri": "https://localhost:8080/"
        },
        "id": "Y3iaAmxB4h-Z",
        "outputId": "9a168ab2-8c38-493c-c51e-15fe678da732"
      },
      "execution_count": 8,
      "outputs": [
        {
          "output_type": "stream",
          "name": "stdout",
          "text": [
            "Index(['Unnamed: 0', 'id', 'conversation_id', 'created_at', 'date', 'timezone',\n",
            "       'place', 'tweet', 'language', 'hashtags', 'cashtags', 'user_id',\n",
            "       'user_id_str', 'username', 'name', 'day', 'hour', 'link', 'urls',\n",
            "       'photos', 'video', 'thumbnail', 'retweet', 'nlikes', 'nreplies',\n",
            "       'nretweets', 'quote_url', 'search', 'near', 'geo', 'source',\n",
            "       'user_rt_id', 'user_rt', 'retweet_id', 'reply_to', 'retweet_date',\n",
            "       'translate', 'trans_src', 'trans_dest'],\n",
            "      dtype='object')\n"
          ]
        }
      ]
    },
    {
      "cell_type": "code",
      "source": [
        "#This drops and returns the dataframe column for 2020.csv file\n",
        "def drop_cols20(df):\n",
        "  #drops unnecessary columns\n",
        "  drop_cols_10_20 = ['Unnamed: 0', 'id', 'conversation_id', 'place', 'hashtags', 'cashtags', 'user_id','user_id_str', \n",
        "             'link', 'quote_url', 'search', 'geo', 'near', 'source', 'translate', 'trans_src', 'trans_dest', 'retweet_date','thumbnail', 'created_at', 'user_rt_id', 'user_rt',\n",
        "             'retweet_id', 'reply_to', 'hour', 'username', 'name', 'language', 'nretweets', 'nreplies', 'urls', 'photos', 'video']\n",
        "  new_df = df.drop(columns=drop_cols_10_20)\n",
        "  return new_df\n"
      ],
      "metadata": {
        "id": "Msclek2OsNXb"
      },
      "execution_count": 9,
      "outputs": []
    },
    {
      "cell_type": "code",
      "source": [
        "newEM20 = drop_cols20(EM20)\n"
      ],
      "metadata": {
        "id": "px2ZGPFK4mWB"
      },
      "execution_count": 10,
      "outputs": []
    },
    {
      "cell_type": "code",
      "source": [
        "newEM20 = newEM20.rename(columns={'date': 'datetime'})"
      ],
      "metadata": {
        "id": "KlV9ZwlFBrN5"
      },
      "execution_count": 11,
      "outputs": []
    },
    {
      "cell_type": "code",
      "source": [
        "print(newEM20.columns)"
      ],
      "metadata": {
        "colab": {
          "base_uri": "https://localhost:8080/"
        },
        "id": "xkPhz5FT4uXO",
        "outputId": "85f69a4d-c908-4a9b-d8e4-ccd458e78687"
      },
      "execution_count": 12,
      "outputs": [
        {
          "output_type": "stream",
          "name": "stdout",
          "text": [
            "Index(['datetime', 'timezone', 'tweet', 'day', 'retweet', 'nlikes'], dtype='object')\n"
          ]
        }
      ]
    },
    {
      "cell_type": "code",
      "source": [
        "print(newEM20['datetime'][0])\n",
        "print('-------------------------')\n",
        "print(newEM20['timezone'])\n",
        "print('-----------------------')\n",
        "counter = 0\n",
        "for i in newEM20['timezone']:\n",
        "  if i == 0:\n",
        "    i += 1\n",
        "if counter > 0:\n",
        "  print(\"There are multiple timezone\")\n",
        "else:\n",
        "  print(\"There are only one timezone for all the times\")\n",
        "print('-----------------------')\n",
        "\n"
      ],
      "metadata": {
        "colab": {
          "base_uri": "https://localhost:8080/"
        },
        "id": "3WpqwuIt9NAy",
        "outputId": "0caf1471-2832-41a7-d309-89293b6a083e"
      },
      "execution_count": 13,
      "outputs": [
        {
          "output_type": "stream",
          "name": "stdout",
          "text": [
            "2020-12-28 19:46:18\n",
            "-------------------------\n",
            "0        0\n",
            "1        0\n",
            "2        0\n",
            "3        0\n",
            "4        0\n",
            "        ..\n",
            "11712    0\n",
            "11713    0\n",
            "11714    0\n",
            "11715    0\n",
            "11716    0\n",
            "Name: timezone, Length: 11717, dtype: int64\n",
            "-----------------------\n",
            "There are only one timezone for all the times\n",
            "-----------------------\n"
          ]
        }
      ]
    },
    {
      "cell_type": "code",
      "source": [
        "#Just checking if we have any retweets, if we do we remove that tweet. but this DF does not seem to contain any retweets\n",
        "\n",
        "counter = 0\n",
        "for i in newEM20['retweet']:\n",
        "  if i == True:\n",
        "    i += 1\n",
        "if counter > 0:\n",
        "  print(\"There are\",counter, \"number of retweets\")\n",
        "else:\n",
        "  print(\"There are\",counter, \"number of retweets\")\n",
        "  "
      ],
      "metadata": {
        "colab": {
          "base_uri": "https://localhost:8080/"
        },
        "id": "OIB7wXtc5zhR",
        "outputId": "afdc108c-7ab3-473d-8415-6d2f35200680"
      },
      "execution_count": 15,
      "outputs": [
        {
          "output_type": "stream",
          "name": "stdout",
          "text": [
            "There are 0 number of retweets\n"
          ]
        }
      ]
    },
    {
      "cell_type": "code",
      "source": [
        "#since there are no retweets, we can drop that column\n",
        "newEM20 = newEM20.drop(columns=['retweet'])\n"
      ],
      "metadata": {
        "id": "LWAFZKqPCA0S"
      },
      "execution_count": 16,
      "outputs": []
    },
    {
      "cell_type": "code",
      "source": [
        "newEM20['day'].value_counts()\n",
        "#An integer representing the days 1 = Monday, 2 = Tuesday, etc"
      ],
      "metadata": {
        "colab": {
          "base_uri": "https://localhost:8080/"
        },
        "id": "z4QXlyS16wkD",
        "outputId": "599dabaa-bec9-4a5f-db84-4628ec0cd8f1"
      },
      "execution_count": 17,
      "outputs": [
        {
          "output_type": "execute_result",
          "data": {
            "text/plain": [
              "5    1943\n",
              "6    1747\n",
              "4    1737\n",
              "7    1701\n",
              "2    1532\n",
              "3    1529\n",
              "1    1528\n",
              "Name: day, dtype: int64"
            ]
          },
          "metadata": {},
          "execution_count": 17
        }
      ]
    },
    {
      "cell_type": "markdown",
      "source": [
        "Converting Time and Date\n",
        "\n",
        "As previously mentioned, we need to adjust the times and dates to make sure the dataframes follow the same format.\n",
        "\n",
        "We will the create two new columns, one for the time and one for the date instead of having it as a single string in one column"
      ],
      "metadata": {
        "id": "rylcaD0IxL40"
      }
    },
    {
      "cell_type": "code",
      "source": [
        "#The value in this column will be in the same type as EM22\n",
        "#print(EM22[\"created_at\"][0])\n",
        "# YYYY-MM-DD HH:MM:SS Timezone\n",
        "\n",
        "#EM10 is in timezone 0 (greenwich) 1 hour after Swedish time\n",
        "print(EM21['created_at'][0])\n",
        "print('---------------------')\n",
        "print(EM20['date'][0])"
      ],
      "metadata": {
        "colab": {
          "base_uri": "https://localhost:8080/"
        },
        "id": "1rIW9D2sgW3t",
        "outputId": "6a2bcdff-7920-4bd5-cca6-441d1aacf8c5"
      },
      "execution_count": 18,
      "outputs": [
        {
          "output_type": "stream",
          "name": "stdout",
          "text": [
            "2021-12-31 01:11:23 Arabian Standard Time\n",
            "---------------------\n",
            "2020-12-28 19:46:18\n"
          ]
        }
      ]
    },
    {
      "cell_type": "code",
      "source": [
        "#Function that convert the time Swedish Time\n",
        "def date_time_convert(date_time, timezone):\n",
        "  from datetime import datetime, timedelta\n",
        "  date_time_items = date_time.split()\n",
        "  time = datetime.strptime(date_time_items[1], \"%H:%M:%S\")\n",
        "\n",
        "  if timezone == 0: #Greenwich timezone\n",
        "    new_time = time + timedelta(hours=1)\n",
        "    new_time_string = new_time.strftime(\"%H:%M:%S\")\n",
        "    date_time_items[1] = new_time_string\n",
        "  elif timezone == 400: #Standard arabian timezone\n",
        "    new_time = time + timedelta(hours=3)\n",
        "    new_time_string = new_time.strftime(\"%H:%M:%S\")\n",
        "    date_time_items[1] = new_time_string\n",
        "  \n",
        "  new_date_time = \" \".join(date_time_items)\n",
        "  return new_date_time\n",
        "\n",
        "#Function to call to convert all the rows in date time column\n",
        "def convert_all_dates(dataframe):\n",
        "  for i, v in enumerate(dataframe['date']):\n",
        "    new_date_time = date_time_convert(v, dataframe['timezone'][i])\n",
        "    dataframe['date'].loc[i] = new_date_time\n",
        "  return dataframe"
      ],
      "metadata": {
        "id": "KAyAfuzRjmR9"
      },
      "execution_count": 19,
      "outputs": []
    },
    {
      "cell_type": "code",
      "source": [
        "copy_df = newEM20.copy()"
      ],
      "metadata": {
        "id": "IAB3P67x-3Tf"
      },
      "execution_count": 20,
      "outputs": []
    },
    {
      "cell_type": "code",
      "source": [
        "copy_df.head()"
      ],
      "metadata": {
        "colab": {
          "base_uri": "https://localhost:8080/",
          "height": 206
        },
        "id": "78idCUXoA3D2",
        "outputId": "fe78c0e1-7ab7-4acf-c978-b43ff24af423"
      },
      "execution_count": 21,
      "outputs": [
        {
          "output_type": "execute_result",
          "data": {
            "text/plain": [
              "              datetime  timezone  \\\n",
              "0  2020-12-28 19:46:18         0   \n",
              "1  2020-12-28 18:07:33         0   \n",
              "2  2020-12-28 17:23:51         0   \n",
              "3  2020-12-28 17:23:31         0   \n",
              "4  2020-12-28 05:39:42         0   \n",
              "\n",
              "                                               tweet  day  nlikes  \n",
              "0  Entertainment will be critical when cars drive...    1   55085  \n",
              "1  @kimpaquette Just meeting with Larry Ellison t...    1    8631  \n",
              "2                        @richierichhhhh_ Absolutely    1   72434  \n",
              "3  What should Tesla do with in-car gaming in an ...    1   33830  \n",
              "4                          @PPathole @WSJ Absolutely    1    2394  "
            ],
            "text/html": [
              "\n",
              "  <div id=\"df-e882f6fc-f1fd-450d-8a99-ef0d61ed0889\">\n",
              "    <div class=\"colab-df-container\">\n",
              "      <div>\n",
              "<style scoped>\n",
              "    .dataframe tbody tr th:only-of-type {\n",
              "        vertical-align: middle;\n",
              "    }\n",
              "\n",
              "    .dataframe tbody tr th {\n",
              "        vertical-align: top;\n",
              "    }\n",
              "\n",
              "    .dataframe thead th {\n",
              "        text-align: right;\n",
              "    }\n",
              "</style>\n",
              "<table border=\"1\" class=\"dataframe\">\n",
              "  <thead>\n",
              "    <tr style=\"text-align: right;\">\n",
              "      <th></th>\n",
              "      <th>datetime</th>\n",
              "      <th>timezone</th>\n",
              "      <th>tweet</th>\n",
              "      <th>day</th>\n",
              "      <th>nlikes</th>\n",
              "    </tr>\n",
              "  </thead>\n",
              "  <tbody>\n",
              "    <tr>\n",
              "      <th>0</th>\n",
              "      <td>2020-12-28 19:46:18</td>\n",
              "      <td>0</td>\n",
              "      <td>Entertainment will be critical when cars drive...</td>\n",
              "      <td>1</td>\n",
              "      <td>55085</td>\n",
              "    </tr>\n",
              "    <tr>\n",
              "      <th>1</th>\n",
              "      <td>2020-12-28 18:07:33</td>\n",
              "      <td>0</td>\n",
              "      <td>@kimpaquette Just meeting with Larry Ellison t...</td>\n",
              "      <td>1</td>\n",
              "      <td>8631</td>\n",
              "    </tr>\n",
              "    <tr>\n",
              "      <th>2</th>\n",
              "      <td>2020-12-28 17:23:51</td>\n",
              "      <td>0</td>\n",
              "      <td>@richierichhhhh_ Absolutely</td>\n",
              "      <td>1</td>\n",
              "      <td>72434</td>\n",
              "    </tr>\n",
              "    <tr>\n",
              "      <th>3</th>\n",
              "      <td>2020-12-28 17:23:31</td>\n",
              "      <td>0</td>\n",
              "      <td>What should Tesla do with in-car gaming in an ...</td>\n",
              "      <td>1</td>\n",
              "      <td>33830</td>\n",
              "    </tr>\n",
              "    <tr>\n",
              "      <th>4</th>\n",
              "      <td>2020-12-28 05:39:42</td>\n",
              "      <td>0</td>\n",
              "      <td>@PPathole @WSJ Absolutely</td>\n",
              "      <td>1</td>\n",
              "      <td>2394</td>\n",
              "    </tr>\n",
              "  </tbody>\n",
              "</table>\n",
              "</div>\n",
              "      <button class=\"colab-df-convert\" onclick=\"convertToInteractive('df-e882f6fc-f1fd-450d-8a99-ef0d61ed0889')\"\n",
              "              title=\"Convert this dataframe to an interactive table.\"\n",
              "              style=\"display:none;\">\n",
              "        \n",
              "  <svg xmlns=\"http://www.w3.org/2000/svg\" height=\"24px\"viewBox=\"0 0 24 24\"\n",
              "       width=\"24px\">\n",
              "    <path d=\"M0 0h24v24H0V0z\" fill=\"none\"/>\n",
              "    <path d=\"M18.56 5.44l.94 2.06.94-2.06 2.06-.94-2.06-.94-.94-2.06-.94 2.06-2.06.94zm-11 1L8.5 8.5l.94-2.06 2.06-.94-2.06-.94L8.5 2.5l-.94 2.06-2.06.94zm10 10l.94 2.06.94-2.06 2.06-.94-2.06-.94-.94-2.06-.94 2.06-2.06.94z\"/><path d=\"M17.41 7.96l-1.37-1.37c-.4-.4-.92-.59-1.43-.59-.52 0-1.04.2-1.43.59L10.3 9.45l-7.72 7.72c-.78.78-.78 2.05 0 2.83L4 21.41c.39.39.9.59 1.41.59.51 0 1.02-.2 1.41-.59l7.78-7.78 2.81-2.81c.8-.78.8-2.07 0-2.86zM5.41 20L4 18.59l7.72-7.72 1.47 1.35L5.41 20z\"/>\n",
              "  </svg>\n",
              "      </button>\n",
              "      \n",
              "  <style>\n",
              "    .colab-df-container {\n",
              "      display:flex;\n",
              "      flex-wrap:wrap;\n",
              "      gap: 12px;\n",
              "    }\n",
              "\n",
              "    .colab-df-convert {\n",
              "      background-color: #E8F0FE;\n",
              "      border: none;\n",
              "      border-radius: 50%;\n",
              "      cursor: pointer;\n",
              "      display: none;\n",
              "      fill: #1967D2;\n",
              "      height: 32px;\n",
              "      padding: 0 0 0 0;\n",
              "      width: 32px;\n",
              "    }\n",
              "\n",
              "    .colab-df-convert:hover {\n",
              "      background-color: #E2EBFA;\n",
              "      box-shadow: 0px 1px 2px rgba(60, 64, 67, 0.3), 0px 1px 3px 1px rgba(60, 64, 67, 0.15);\n",
              "      fill: #174EA6;\n",
              "    }\n",
              "\n",
              "    [theme=dark] .colab-df-convert {\n",
              "      background-color: #3B4455;\n",
              "      fill: #D2E3FC;\n",
              "    }\n",
              "\n",
              "    [theme=dark] .colab-df-convert:hover {\n",
              "      background-color: #434B5C;\n",
              "      box-shadow: 0px 1px 3px 1px rgba(0, 0, 0, 0.15);\n",
              "      filter: drop-shadow(0px 1px 2px rgba(0, 0, 0, 0.3));\n",
              "      fill: #FFFFFF;\n",
              "    }\n",
              "  </style>\n",
              "\n",
              "      <script>\n",
              "        const buttonEl =\n",
              "          document.querySelector('#df-e882f6fc-f1fd-450d-8a99-ef0d61ed0889 button.colab-df-convert');\n",
              "        buttonEl.style.display =\n",
              "          google.colab.kernel.accessAllowed ? 'block' : 'none';\n",
              "\n",
              "        async function convertToInteractive(key) {\n",
              "          const element = document.querySelector('#df-e882f6fc-f1fd-450d-8a99-ef0d61ed0889');\n",
              "          const dataTable =\n",
              "            await google.colab.kernel.invokeFunction('convertToInteractive',\n",
              "                                                     [key], {});\n",
              "          if (!dataTable) return;\n",
              "\n",
              "          const docLinkHtml = 'Like what you see? Visit the ' +\n",
              "            '<a target=\"_blank\" href=https://colab.research.google.com/notebooks/data_table.ipynb>data table notebook</a>'\n",
              "            + ' to learn more about interactive tables.';\n",
              "          element.innerHTML = '';\n",
              "          dataTable['output_type'] = 'display_data';\n",
              "          await google.colab.output.renderOutput(dataTable, element);\n",
              "          const docLink = document.createElement('div');\n",
              "          docLink.innerHTML = docLinkHtml;\n",
              "          element.appendChild(docLink);\n",
              "        }\n",
              "      </script>\n",
              "    </div>\n",
              "  </div>\n",
              "  "
            ]
          },
          "metadata": {},
          "execution_count": 21
        }
      ]
    },
    {
      "cell_type": "code",
      "source": [
        "copy_df = copy_df.rename(columns={'date': 'datetime'})"
      ],
      "metadata": {
        "id": "blcv4sEIBlFw"
      },
      "execution_count": 22,
      "outputs": []
    },
    {
      "cell_type": "code",
      "source": [
        "copy_df['datetime'] = pd.to_datetime(copy_df['datetime'])\n",
        "copy_df['date'] = copy_df['datetime'].dt.date\n",
        "copy_df['time'] = copy_df['datetime'].dt.time"
      ],
      "metadata": {
        "id": "6AWAVPHeBanS"
      },
      "execution_count": 23,
      "outputs": []
    },
    {
      "cell_type": "code",
      "source": [
        "copy_df.head()"
      ],
      "metadata": {
        "colab": {
          "base_uri": "https://localhost:8080/",
          "height": 206
        },
        "id": "YtX8EXEUCbj9",
        "outputId": "3b2da9d5-59a8-4ca5-bc37-83de6721ab3c"
      },
      "execution_count": 24,
      "outputs": [
        {
          "output_type": "execute_result",
          "data": {
            "text/plain": [
              "             datetime  timezone  \\\n",
              "0 2020-12-28 19:46:18         0   \n",
              "1 2020-12-28 18:07:33         0   \n",
              "2 2020-12-28 17:23:51         0   \n",
              "3 2020-12-28 17:23:31         0   \n",
              "4 2020-12-28 05:39:42         0   \n",
              "\n",
              "                                               tweet  day  nlikes        date  \\\n",
              "0  Entertainment will be critical when cars drive...    1   55085  2020-12-28   \n",
              "1  @kimpaquette Just meeting with Larry Ellison t...    1    8631  2020-12-28   \n",
              "2                        @richierichhhhh_ Absolutely    1   72434  2020-12-28   \n",
              "3  What should Tesla do with in-car gaming in an ...    1   33830  2020-12-28   \n",
              "4                          @PPathole @WSJ Absolutely    1    2394  2020-12-28   \n",
              "\n",
              "       time  \n",
              "0  19:46:18  \n",
              "1  18:07:33  \n",
              "2  17:23:51  \n",
              "3  17:23:31  \n",
              "4  05:39:42  "
            ],
            "text/html": [
              "\n",
              "  <div id=\"df-282b58c4-6e02-4822-aa3e-6ab167141dcb\">\n",
              "    <div class=\"colab-df-container\">\n",
              "      <div>\n",
              "<style scoped>\n",
              "    .dataframe tbody tr th:only-of-type {\n",
              "        vertical-align: middle;\n",
              "    }\n",
              "\n",
              "    .dataframe tbody tr th {\n",
              "        vertical-align: top;\n",
              "    }\n",
              "\n",
              "    .dataframe thead th {\n",
              "        text-align: right;\n",
              "    }\n",
              "</style>\n",
              "<table border=\"1\" class=\"dataframe\">\n",
              "  <thead>\n",
              "    <tr style=\"text-align: right;\">\n",
              "      <th></th>\n",
              "      <th>datetime</th>\n",
              "      <th>timezone</th>\n",
              "      <th>tweet</th>\n",
              "      <th>day</th>\n",
              "      <th>nlikes</th>\n",
              "      <th>date</th>\n",
              "      <th>time</th>\n",
              "    </tr>\n",
              "  </thead>\n",
              "  <tbody>\n",
              "    <tr>\n",
              "      <th>0</th>\n",
              "      <td>2020-12-28 19:46:18</td>\n",
              "      <td>0</td>\n",
              "      <td>Entertainment will be critical when cars drive...</td>\n",
              "      <td>1</td>\n",
              "      <td>55085</td>\n",
              "      <td>2020-12-28</td>\n",
              "      <td>19:46:18</td>\n",
              "    </tr>\n",
              "    <tr>\n",
              "      <th>1</th>\n",
              "      <td>2020-12-28 18:07:33</td>\n",
              "      <td>0</td>\n",
              "      <td>@kimpaquette Just meeting with Larry Ellison t...</td>\n",
              "      <td>1</td>\n",
              "      <td>8631</td>\n",
              "      <td>2020-12-28</td>\n",
              "      <td>18:07:33</td>\n",
              "    </tr>\n",
              "    <tr>\n",
              "      <th>2</th>\n",
              "      <td>2020-12-28 17:23:51</td>\n",
              "      <td>0</td>\n",
              "      <td>@richierichhhhh_ Absolutely</td>\n",
              "      <td>1</td>\n",
              "      <td>72434</td>\n",
              "      <td>2020-12-28</td>\n",
              "      <td>17:23:51</td>\n",
              "    </tr>\n",
              "    <tr>\n",
              "      <th>3</th>\n",
              "      <td>2020-12-28 17:23:31</td>\n",
              "      <td>0</td>\n",
              "      <td>What should Tesla do with in-car gaming in an ...</td>\n",
              "      <td>1</td>\n",
              "      <td>33830</td>\n",
              "      <td>2020-12-28</td>\n",
              "      <td>17:23:31</td>\n",
              "    </tr>\n",
              "    <tr>\n",
              "      <th>4</th>\n",
              "      <td>2020-12-28 05:39:42</td>\n",
              "      <td>0</td>\n",
              "      <td>@PPathole @WSJ Absolutely</td>\n",
              "      <td>1</td>\n",
              "      <td>2394</td>\n",
              "      <td>2020-12-28</td>\n",
              "      <td>05:39:42</td>\n",
              "    </tr>\n",
              "  </tbody>\n",
              "</table>\n",
              "</div>\n",
              "      <button class=\"colab-df-convert\" onclick=\"convertToInteractive('df-282b58c4-6e02-4822-aa3e-6ab167141dcb')\"\n",
              "              title=\"Convert this dataframe to an interactive table.\"\n",
              "              style=\"display:none;\">\n",
              "        \n",
              "  <svg xmlns=\"http://www.w3.org/2000/svg\" height=\"24px\"viewBox=\"0 0 24 24\"\n",
              "       width=\"24px\">\n",
              "    <path d=\"M0 0h24v24H0V0z\" fill=\"none\"/>\n",
              "    <path d=\"M18.56 5.44l.94 2.06.94-2.06 2.06-.94-2.06-.94-.94-2.06-.94 2.06-2.06.94zm-11 1L8.5 8.5l.94-2.06 2.06-.94-2.06-.94L8.5 2.5l-.94 2.06-2.06.94zm10 10l.94 2.06.94-2.06 2.06-.94-2.06-.94-.94-2.06-.94 2.06-2.06.94z\"/><path d=\"M17.41 7.96l-1.37-1.37c-.4-.4-.92-.59-1.43-.59-.52 0-1.04.2-1.43.59L10.3 9.45l-7.72 7.72c-.78.78-.78 2.05 0 2.83L4 21.41c.39.39.9.59 1.41.59.51 0 1.02-.2 1.41-.59l7.78-7.78 2.81-2.81c.8-.78.8-2.07 0-2.86zM5.41 20L4 18.59l7.72-7.72 1.47 1.35L5.41 20z\"/>\n",
              "  </svg>\n",
              "      </button>\n",
              "      \n",
              "  <style>\n",
              "    .colab-df-container {\n",
              "      display:flex;\n",
              "      flex-wrap:wrap;\n",
              "      gap: 12px;\n",
              "    }\n",
              "\n",
              "    .colab-df-convert {\n",
              "      background-color: #E8F0FE;\n",
              "      border: none;\n",
              "      border-radius: 50%;\n",
              "      cursor: pointer;\n",
              "      display: none;\n",
              "      fill: #1967D2;\n",
              "      height: 32px;\n",
              "      padding: 0 0 0 0;\n",
              "      width: 32px;\n",
              "    }\n",
              "\n",
              "    .colab-df-convert:hover {\n",
              "      background-color: #E2EBFA;\n",
              "      box-shadow: 0px 1px 2px rgba(60, 64, 67, 0.3), 0px 1px 3px 1px rgba(60, 64, 67, 0.15);\n",
              "      fill: #174EA6;\n",
              "    }\n",
              "\n",
              "    [theme=dark] .colab-df-convert {\n",
              "      background-color: #3B4455;\n",
              "      fill: #D2E3FC;\n",
              "    }\n",
              "\n",
              "    [theme=dark] .colab-df-convert:hover {\n",
              "      background-color: #434B5C;\n",
              "      box-shadow: 0px 1px 3px 1px rgba(0, 0, 0, 0.15);\n",
              "      filter: drop-shadow(0px 1px 2px rgba(0, 0, 0, 0.3));\n",
              "      fill: #FFFFFF;\n",
              "    }\n",
              "  </style>\n",
              "\n",
              "      <script>\n",
              "        const buttonEl =\n",
              "          document.querySelector('#df-282b58c4-6e02-4822-aa3e-6ab167141dcb button.colab-df-convert');\n",
              "        buttonEl.style.display =\n",
              "          google.colab.kernel.accessAllowed ? 'block' : 'none';\n",
              "\n",
              "        async function convertToInteractive(key) {\n",
              "          const element = document.querySelector('#df-282b58c4-6e02-4822-aa3e-6ab167141dcb');\n",
              "          const dataTable =\n",
              "            await google.colab.kernel.invokeFunction('convertToInteractive',\n",
              "                                                     [key], {});\n",
              "          if (!dataTable) return;\n",
              "\n",
              "          const docLinkHtml = 'Like what you see? Visit the ' +\n",
              "            '<a target=\"_blank\" href=https://colab.research.google.com/notebooks/data_table.ipynb>data table notebook</a>'\n",
              "            + ' to learn more about interactive tables.';\n",
              "          element.innerHTML = '';\n",
              "          dataTable['output_type'] = 'display_data';\n",
              "          await google.colab.output.renderOutput(dataTable, element);\n",
              "          const docLink = document.createElement('div');\n",
              "          docLink.innerHTML = docLinkHtml;\n",
              "          element.appendChild(docLink);\n",
              "        }\n",
              "      </script>\n",
              "    </div>\n",
              "  </div>\n",
              "  "
            ]
          },
          "metadata": {},
          "execution_count": 24
        }
      ]
    },
    {
      "cell_type": "markdown",
      "source": [
        "Now we have, for each tweet, converted the time to Swedish time, aswell as created two seperate columns for time and date, we could therefore remove the datetime column"
      ],
      "metadata": {
        "id": "FacvlriECfl0"
      }
    },
    {
      "cell_type": "code",
      "source": [
        "copy_df = copy_df.drop(columns=['datetime', 'timezone'])"
      ],
      "metadata": {
        "id": "sui-ANAJCo1X"
      },
      "execution_count": 25,
      "outputs": []
    },
    {
      "cell_type": "code",
      "source": [
        "copy_df.head()"
      ],
      "metadata": {
        "colab": {
          "base_uri": "https://localhost:8080/",
          "height": 206
        },
        "id": "GiWq5dR8Cvta",
        "outputId": "4275ca69-90e5-4372-bfba-c4cb1b84bbfa"
      },
      "execution_count": 26,
      "outputs": [
        {
          "output_type": "execute_result",
          "data": {
            "text/plain": [
              "                                               tweet  day  nlikes        date  \\\n",
              "0  Entertainment will be critical when cars drive...    1   55085  2020-12-28   \n",
              "1  @kimpaquette Just meeting with Larry Ellison t...    1    8631  2020-12-28   \n",
              "2                        @richierichhhhh_ Absolutely    1   72434  2020-12-28   \n",
              "3  What should Tesla do with in-car gaming in an ...    1   33830  2020-12-28   \n",
              "4                          @PPathole @WSJ Absolutely    1    2394  2020-12-28   \n",
              "\n",
              "       time  \n",
              "0  19:46:18  \n",
              "1  18:07:33  \n",
              "2  17:23:51  \n",
              "3  17:23:31  \n",
              "4  05:39:42  "
            ],
            "text/html": [
              "\n",
              "  <div id=\"df-3d044b65-2de2-40ac-aaca-7122385cfedf\">\n",
              "    <div class=\"colab-df-container\">\n",
              "      <div>\n",
              "<style scoped>\n",
              "    .dataframe tbody tr th:only-of-type {\n",
              "        vertical-align: middle;\n",
              "    }\n",
              "\n",
              "    .dataframe tbody tr th {\n",
              "        vertical-align: top;\n",
              "    }\n",
              "\n",
              "    .dataframe thead th {\n",
              "        text-align: right;\n",
              "    }\n",
              "</style>\n",
              "<table border=\"1\" class=\"dataframe\">\n",
              "  <thead>\n",
              "    <tr style=\"text-align: right;\">\n",
              "      <th></th>\n",
              "      <th>tweet</th>\n",
              "      <th>day</th>\n",
              "      <th>nlikes</th>\n",
              "      <th>date</th>\n",
              "      <th>time</th>\n",
              "    </tr>\n",
              "  </thead>\n",
              "  <tbody>\n",
              "    <tr>\n",
              "      <th>0</th>\n",
              "      <td>Entertainment will be critical when cars drive...</td>\n",
              "      <td>1</td>\n",
              "      <td>55085</td>\n",
              "      <td>2020-12-28</td>\n",
              "      <td>19:46:18</td>\n",
              "    </tr>\n",
              "    <tr>\n",
              "      <th>1</th>\n",
              "      <td>@kimpaquette Just meeting with Larry Ellison t...</td>\n",
              "      <td>1</td>\n",
              "      <td>8631</td>\n",
              "      <td>2020-12-28</td>\n",
              "      <td>18:07:33</td>\n",
              "    </tr>\n",
              "    <tr>\n",
              "      <th>2</th>\n",
              "      <td>@richierichhhhh_ Absolutely</td>\n",
              "      <td>1</td>\n",
              "      <td>72434</td>\n",
              "      <td>2020-12-28</td>\n",
              "      <td>17:23:51</td>\n",
              "    </tr>\n",
              "    <tr>\n",
              "      <th>3</th>\n",
              "      <td>What should Tesla do with in-car gaming in an ...</td>\n",
              "      <td>1</td>\n",
              "      <td>33830</td>\n",
              "      <td>2020-12-28</td>\n",
              "      <td>17:23:31</td>\n",
              "    </tr>\n",
              "    <tr>\n",
              "      <th>4</th>\n",
              "      <td>@PPathole @WSJ Absolutely</td>\n",
              "      <td>1</td>\n",
              "      <td>2394</td>\n",
              "      <td>2020-12-28</td>\n",
              "      <td>05:39:42</td>\n",
              "    </tr>\n",
              "  </tbody>\n",
              "</table>\n",
              "</div>\n",
              "      <button class=\"colab-df-convert\" onclick=\"convertToInteractive('df-3d044b65-2de2-40ac-aaca-7122385cfedf')\"\n",
              "              title=\"Convert this dataframe to an interactive table.\"\n",
              "              style=\"display:none;\">\n",
              "        \n",
              "  <svg xmlns=\"http://www.w3.org/2000/svg\" height=\"24px\"viewBox=\"0 0 24 24\"\n",
              "       width=\"24px\">\n",
              "    <path d=\"M0 0h24v24H0V0z\" fill=\"none\"/>\n",
              "    <path d=\"M18.56 5.44l.94 2.06.94-2.06 2.06-.94-2.06-.94-.94-2.06-.94 2.06-2.06.94zm-11 1L8.5 8.5l.94-2.06 2.06-.94-2.06-.94L8.5 2.5l-.94 2.06-2.06.94zm10 10l.94 2.06.94-2.06 2.06-.94-2.06-.94-.94-2.06-.94 2.06-2.06.94z\"/><path d=\"M17.41 7.96l-1.37-1.37c-.4-.4-.92-.59-1.43-.59-.52 0-1.04.2-1.43.59L10.3 9.45l-7.72 7.72c-.78.78-.78 2.05 0 2.83L4 21.41c.39.39.9.59 1.41.59.51 0 1.02-.2 1.41-.59l7.78-7.78 2.81-2.81c.8-.78.8-2.07 0-2.86zM5.41 20L4 18.59l7.72-7.72 1.47 1.35L5.41 20z\"/>\n",
              "  </svg>\n",
              "      </button>\n",
              "      \n",
              "  <style>\n",
              "    .colab-df-container {\n",
              "      display:flex;\n",
              "      flex-wrap:wrap;\n",
              "      gap: 12px;\n",
              "    }\n",
              "\n",
              "    .colab-df-convert {\n",
              "      background-color: #E8F0FE;\n",
              "      border: none;\n",
              "      border-radius: 50%;\n",
              "      cursor: pointer;\n",
              "      display: none;\n",
              "      fill: #1967D2;\n",
              "      height: 32px;\n",
              "      padding: 0 0 0 0;\n",
              "      width: 32px;\n",
              "    }\n",
              "\n",
              "    .colab-df-convert:hover {\n",
              "      background-color: #E2EBFA;\n",
              "      box-shadow: 0px 1px 2px rgba(60, 64, 67, 0.3), 0px 1px 3px 1px rgba(60, 64, 67, 0.15);\n",
              "      fill: #174EA6;\n",
              "    }\n",
              "\n",
              "    [theme=dark] .colab-df-convert {\n",
              "      background-color: #3B4455;\n",
              "      fill: #D2E3FC;\n",
              "    }\n",
              "\n",
              "    [theme=dark] .colab-df-convert:hover {\n",
              "      background-color: #434B5C;\n",
              "      box-shadow: 0px 1px 3px 1px rgba(0, 0, 0, 0.15);\n",
              "      filter: drop-shadow(0px 1px 2px rgba(0, 0, 0, 0.3));\n",
              "      fill: #FFFFFF;\n",
              "    }\n",
              "  </style>\n",
              "\n",
              "      <script>\n",
              "        const buttonEl =\n",
              "          document.querySelector('#df-3d044b65-2de2-40ac-aaca-7122385cfedf button.colab-df-convert');\n",
              "        buttonEl.style.display =\n",
              "          google.colab.kernel.accessAllowed ? 'block' : 'none';\n",
              "\n",
              "        async function convertToInteractive(key) {\n",
              "          const element = document.querySelector('#df-3d044b65-2de2-40ac-aaca-7122385cfedf');\n",
              "          const dataTable =\n",
              "            await google.colab.kernel.invokeFunction('convertToInteractive',\n",
              "                                                     [key], {});\n",
              "          if (!dataTable) return;\n",
              "\n",
              "          const docLinkHtml = 'Like what you see? Visit the ' +\n",
              "            '<a target=\"_blank\" href=https://colab.research.google.com/notebooks/data_table.ipynb>data table notebook</a>'\n",
              "            + ' to learn more about interactive tables.';\n",
              "          element.innerHTML = '';\n",
              "          dataTable['output_type'] = 'display_data';\n",
              "          await google.colab.output.renderOutput(dataTable, element);\n",
              "          const docLink = document.createElement('div');\n",
              "          docLink.innerHTML = docLinkHtml;\n",
              "          element.appendChild(docLink);\n",
              "        }\n",
              "      </script>\n",
              "    </div>\n",
              "  </div>\n",
              "  "
            ]
          },
          "metadata": {},
          "execution_count": 26
        }
      ]
    },
    {
      "cell_type": "code",
      "source": [
        "copy_df.shape"
      ],
      "metadata": {
        "colab": {
          "base_uri": "https://localhost:8080/"
        },
        "id": "9l5p2WfmCz8Z",
        "outputId": "6518ecb7-60c5-4a3b-aa23-75953e683915"
      },
      "execution_count": 27,
      "outputs": [
        {
          "output_type": "execute_result",
          "data": {
            "text/plain": [
              "(11717, 5)"
            ]
          },
          "metadata": {},
          "execution_count": 27
        }
      ]
    },
    {
      "cell_type": "code",
      "source": [
        "#the 2020.csv file is now cleaned and we save it as another dataframe\n",
        "\n",
        "cleaned_2020_df = copy_df.copy()"
      ],
      "metadata": {
        "id": "TOLEe3H302iJ"
      },
      "execution_count": 28,
      "outputs": []
    },
    {
      "cell_type": "markdown",
      "source": [
        "# Cleaning for datasets 2021.csv and 2022.csv\n"
      ],
      "metadata": {
        "id": "gfCqoImQiPQY"
      }
    },
    {
      "cell_type": "code",
      "source": [
        "EM21.columns"
      ],
      "metadata": {
        "colab": {
          "base_uri": "https://localhost:8080/"
        },
        "id": "pwJh05YRiTLO",
        "outputId": "4646da5e-04d4-4b9f-ee7a-b60d80da94d8"
      },
      "execution_count": 29,
      "outputs": [
        {
          "output_type": "execute_result",
          "data": {
            "text/plain": [
              "Index(['id', 'conversation_id', 'created_at', 'date', 'time', 'timezone',\n",
              "       'user_id', 'username', 'name', 'place', 'tweet', 'language', 'mentions',\n",
              "       'urls', 'photos', 'replies_count', 'retweets_count', 'likes_count',\n",
              "       'hashtags', 'cashtags', 'link', 'retweet', 'quote_url', 'video',\n",
              "       'thumbnail', 'near', 'geo', 'source', 'user_rt_id', 'user_rt',\n",
              "       'retweet_id', 'reply_to', 'retweet_date', 'translate', 'trans_src',\n",
              "       'trans_dest'],\n",
              "      dtype='object')"
            ]
          },
          "metadata": {},
          "execution_count": 29
        }
      ]
    },
    {
      "cell_type": "code",
      "source": [
        "EM22.columns"
      ],
      "metadata": {
        "colab": {
          "base_uri": "https://localhost:8080/"
        },
        "id": "RX8mM5ATiZvE",
        "outputId": "baa20fd0-c0e9-42be-f61b-ec8b75e74291"
      },
      "execution_count": 30,
      "outputs": [
        {
          "output_type": "execute_result",
          "data": {
            "text/plain": [
              "Index(['id', 'conversation_id', 'created_at', 'date', 'time', 'timezone',\n",
              "       'user_id', 'username', 'name', 'place', 'tweet', 'language', 'mentions',\n",
              "       'urls', 'photos', 'replies_count', 'retweets_count', 'likes_count',\n",
              "       'hashtags', 'cashtags', 'link', 'retweet', 'quote_url', 'video',\n",
              "       'thumbnail', 'near', 'geo', 'source', 'user_rt_id', 'user_rt',\n",
              "       'retweet_id', 'reply_to', 'retweet_date', 'translate', 'trans_src',\n",
              "       'trans_dest'],\n",
              "      dtype='object')"
            ]
          },
          "metadata": {},
          "execution_count": 30
        }
      ]
    },
    {
      "cell_type": "code",
      "source": [
        "counter = 0\n",
        "for i in EM22['retweet']: \n",
        "  if i == True:\n",
        "    i += 1\n",
        "if counter > 0:\n",
        "  print(\"There are\",counter, \"number of retweets\")\n",
        "else:\n",
        "  print(\"There are\",counter, \"number of retweets\")\n",
        "\n",
        "#no retweets in EM21 and EM22, meaning we can be sure that there are no retweets in this dataset"
      ],
      "metadata": {
        "colab": {
          "base_uri": "https://localhost:8080/"
        },
        "id": "DqrZgMEpjPNx",
        "outputId": "f6bcd217-bec5-40bc-a447-3d94dba52476"
      },
      "execution_count": 31,
      "outputs": [
        {
          "output_type": "stream",
          "name": "stdout",
          "text": [
            "There are 0 number of retweets\n"
          ]
        }
      ]
    },
    {
      "cell_type": "code",
      "source": [
        "EM21['username']\n",
        "counter = 0\n",
        "for i in EM21['username']:\n",
        "  if i != \"elonmusk\":\n",
        "    counter += 1\n",
        "\n",
        "print(counter)\n",
        "#Username is only elonmusk\n"
      ],
      "metadata": {
        "colab": {
          "base_uri": "https://localhost:8080/"
        },
        "id": "wlHxj6smidnM",
        "outputId": "9901ad9b-d9eb-49b6-9abd-10edb6bbb724"
      },
      "execution_count": 32,
      "outputs": [
        {
          "output_type": "stream",
          "name": "stdout",
          "text": [
            "0\n"
          ]
        }
      ]
    },
    {
      "cell_type": "code",
      "source": [
        "EM22['username']\n",
        "counter = 0\n",
        "for i in EM22['username']:\n",
        "  if i != \"elonmusk\":\n",
        "    counter += 1\n",
        "\n",
        "print(counter)\n",
        "#Username is only elonmusk\n",
        "\n",
        "#Username for both datasets is unnecessary"
      ],
      "metadata": {
        "colab": {
          "base_uri": "https://localhost:8080/"
        },
        "id": "v1lk2mkwig0D",
        "outputId": "572cebce-fa18-4cf0-9c69-11a587b6732b"
      },
      "execution_count": 33,
      "outputs": [
        {
          "output_type": "stream",
          "name": "stdout",
          "text": [
            "0\n"
          ]
        }
      ]
    },
    {
      "cell_type": "code",
      "source": [
        "def drop_cols21_22(df):\n",
        "  #drops unnecessary columns\n",
        "  drop_cols_21_22 = ['id', 'conversation_id', 'place', 'hashtags', 'cashtags', 'user_id', \n",
        "             'link', 'quote_url', 'geo', 'near', 'source', 'translate', 'trans_src', 'trans_dest', 'retweet_date','thumbnail', 'created_at', 'user_rt_id', 'user_rt',\n",
        "             'retweet_id', 'reply_to', 'retweet', 'retweet_date', 'username', 'name', 'language', 'mentions', 'urls', 'photos', 'video', 'retweets_count', \"replies_count\"]\n",
        "  new_df = df.drop(columns=drop_cols_21_22)\n",
        "  return new_df"
      ],
      "metadata": {
        "id": "hy6MGouNi_64"
      },
      "execution_count": 37,
      "outputs": []
    },
    {
      "cell_type": "code",
      "source": [
        "newEM21 = drop_cols21_22(EM21)"
      ],
      "metadata": {
        "id": "5t2pfIXejyro"
      },
      "execution_count": 38,
      "outputs": []
    },
    {
      "cell_type": "code",
      "source": [
        "newEM21.columns"
      ],
      "metadata": {
        "colab": {
          "base_uri": "https://localhost:8080/"
        },
        "id": "eFpvhiHYkD04",
        "outputId": "65edfaad-a53f-4001-d60e-0153b0e8e308"
      },
      "execution_count": 39,
      "outputs": [
        {
          "output_type": "execute_result",
          "data": {
            "text/plain": [
              "Index(['date', 'time', 'timezone', 'tweet', 'likes_count'], dtype='object')"
            ]
          },
          "metadata": {},
          "execution_count": 39
        }
      ]
    },
    {
      "cell_type": "code",
      "source": [
        "newEM21.head()"
      ],
      "metadata": {
        "colab": {
          "base_uri": "https://localhost:8080/",
          "height": 206
        },
        "id": "7pxPyBsRnrp4",
        "outputId": "85ba55f0-c726-4d22-a51c-4f8f41c763f4"
      },
      "execution_count": 40,
      "outputs": [
        {
          "output_type": "execute_result",
          "data": {
            "text/plain": [
              "         date      time  timezone  \\\n",
              "0  2021-12-31  01:11:23       400   \n",
              "1  2021-12-31  00:47:53       400   \n",
              "2  2021-12-31  00:28:51       400   \n",
              "3  2021-12-30  22:23:14       400   \n",
              "4  2021-12-30  22:15:45       400   \n",
              "\n",
              "                                               tweet  likes_count  \n",
              "0                                  @roshanpateI 🤣 $7        13468  \n",
              "1             @tesla_raj Many UI improvements coming        12209  \n",
              "2  @CSmithson80 @heydave7 @BLKMDL3 @mims This cha...         2529  \n",
              "3  @BLKMDL3 @mims Predicting macroeconomics is ch...         5756  \n",
              "4  @mims If history is any guide, not many will m...         5247  "
            ],
            "text/html": [
              "\n",
              "  <div id=\"df-c1521c97-8557-4e1f-a246-561726906b6d\">\n",
              "    <div class=\"colab-df-container\">\n",
              "      <div>\n",
              "<style scoped>\n",
              "    .dataframe tbody tr th:only-of-type {\n",
              "        vertical-align: middle;\n",
              "    }\n",
              "\n",
              "    .dataframe tbody tr th {\n",
              "        vertical-align: top;\n",
              "    }\n",
              "\n",
              "    .dataframe thead th {\n",
              "        text-align: right;\n",
              "    }\n",
              "</style>\n",
              "<table border=\"1\" class=\"dataframe\">\n",
              "  <thead>\n",
              "    <tr style=\"text-align: right;\">\n",
              "      <th></th>\n",
              "      <th>date</th>\n",
              "      <th>time</th>\n",
              "      <th>timezone</th>\n",
              "      <th>tweet</th>\n",
              "      <th>likes_count</th>\n",
              "    </tr>\n",
              "  </thead>\n",
              "  <tbody>\n",
              "    <tr>\n",
              "      <th>0</th>\n",
              "      <td>2021-12-31</td>\n",
              "      <td>01:11:23</td>\n",
              "      <td>400</td>\n",
              "      <td>@roshanpateI 🤣 $7</td>\n",
              "      <td>13468</td>\n",
              "    </tr>\n",
              "    <tr>\n",
              "      <th>1</th>\n",
              "      <td>2021-12-31</td>\n",
              "      <td>00:47:53</td>\n",
              "      <td>400</td>\n",
              "      <td>@tesla_raj Many UI improvements coming</td>\n",
              "      <td>12209</td>\n",
              "    </tr>\n",
              "    <tr>\n",
              "      <th>2</th>\n",
              "      <td>2021-12-31</td>\n",
              "      <td>00:28:51</td>\n",
              "      <td>400</td>\n",
              "      <td>@CSmithson80 @heydave7 @BLKMDL3 @mims This cha...</td>\n",
              "      <td>2529</td>\n",
              "    </tr>\n",
              "    <tr>\n",
              "      <th>3</th>\n",
              "      <td>2021-12-30</td>\n",
              "      <td>22:23:14</td>\n",
              "      <td>400</td>\n",
              "      <td>@BLKMDL3 @mims Predicting macroeconomics is ch...</td>\n",
              "      <td>5756</td>\n",
              "    </tr>\n",
              "    <tr>\n",
              "      <th>4</th>\n",
              "      <td>2021-12-30</td>\n",
              "      <td>22:15:45</td>\n",
              "      <td>400</td>\n",
              "      <td>@mims If history is any guide, not many will m...</td>\n",
              "      <td>5247</td>\n",
              "    </tr>\n",
              "  </tbody>\n",
              "</table>\n",
              "</div>\n",
              "      <button class=\"colab-df-convert\" onclick=\"convertToInteractive('df-c1521c97-8557-4e1f-a246-561726906b6d')\"\n",
              "              title=\"Convert this dataframe to an interactive table.\"\n",
              "              style=\"display:none;\">\n",
              "        \n",
              "  <svg xmlns=\"http://www.w3.org/2000/svg\" height=\"24px\"viewBox=\"0 0 24 24\"\n",
              "       width=\"24px\">\n",
              "    <path d=\"M0 0h24v24H0V0z\" fill=\"none\"/>\n",
              "    <path d=\"M18.56 5.44l.94 2.06.94-2.06 2.06-.94-2.06-.94-.94-2.06-.94 2.06-2.06.94zm-11 1L8.5 8.5l.94-2.06 2.06-.94-2.06-.94L8.5 2.5l-.94 2.06-2.06.94zm10 10l.94 2.06.94-2.06 2.06-.94-2.06-.94-.94-2.06-.94 2.06-2.06.94z\"/><path d=\"M17.41 7.96l-1.37-1.37c-.4-.4-.92-.59-1.43-.59-.52 0-1.04.2-1.43.59L10.3 9.45l-7.72 7.72c-.78.78-.78 2.05 0 2.83L4 21.41c.39.39.9.59 1.41.59.51 0 1.02-.2 1.41-.59l7.78-7.78 2.81-2.81c.8-.78.8-2.07 0-2.86zM5.41 20L4 18.59l7.72-7.72 1.47 1.35L5.41 20z\"/>\n",
              "  </svg>\n",
              "      </button>\n",
              "      \n",
              "  <style>\n",
              "    .colab-df-container {\n",
              "      display:flex;\n",
              "      flex-wrap:wrap;\n",
              "      gap: 12px;\n",
              "    }\n",
              "\n",
              "    .colab-df-convert {\n",
              "      background-color: #E8F0FE;\n",
              "      border: none;\n",
              "      border-radius: 50%;\n",
              "      cursor: pointer;\n",
              "      display: none;\n",
              "      fill: #1967D2;\n",
              "      height: 32px;\n",
              "      padding: 0 0 0 0;\n",
              "      width: 32px;\n",
              "    }\n",
              "\n",
              "    .colab-df-convert:hover {\n",
              "      background-color: #E2EBFA;\n",
              "      box-shadow: 0px 1px 2px rgba(60, 64, 67, 0.3), 0px 1px 3px 1px rgba(60, 64, 67, 0.15);\n",
              "      fill: #174EA6;\n",
              "    }\n",
              "\n",
              "    [theme=dark] .colab-df-convert {\n",
              "      background-color: #3B4455;\n",
              "      fill: #D2E3FC;\n",
              "    }\n",
              "\n",
              "    [theme=dark] .colab-df-convert:hover {\n",
              "      background-color: #434B5C;\n",
              "      box-shadow: 0px 1px 3px 1px rgba(0, 0, 0, 0.15);\n",
              "      filter: drop-shadow(0px 1px 2px rgba(0, 0, 0, 0.3));\n",
              "      fill: #FFFFFF;\n",
              "    }\n",
              "  </style>\n",
              "\n",
              "      <script>\n",
              "        const buttonEl =\n",
              "          document.querySelector('#df-c1521c97-8557-4e1f-a246-561726906b6d button.colab-df-convert');\n",
              "        buttonEl.style.display =\n",
              "          google.colab.kernel.accessAllowed ? 'block' : 'none';\n",
              "\n",
              "        async function convertToInteractive(key) {\n",
              "          const element = document.querySelector('#df-c1521c97-8557-4e1f-a246-561726906b6d');\n",
              "          const dataTable =\n",
              "            await google.colab.kernel.invokeFunction('convertToInteractive',\n",
              "                                                     [key], {});\n",
              "          if (!dataTable) return;\n",
              "\n",
              "          const docLinkHtml = 'Like what you see? Visit the ' +\n",
              "            '<a target=\"_blank\" href=https://colab.research.google.com/notebooks/data_table.ipynb>data table notebook</a>'\n",
              "            + ' to learn more about interactive tables.';\n",
              "          element.innerHTML = '';\n",
              "          dataTable['output_type'] = 'display_data';\n",
              "          await google.colab.output.renderOutput(dataTable, element);\n",
              "          const docLink = document.createElement('div');\n",
              "          docLink.innerHTML = docLinkHtml;\n",
              "          element.appendChild(docLink);\n",
              "        }\n",
              "      </script>\n",
              "    </div>\n",
              "  </div>\n",
              "  "
            ]
          },
          "metadata": {},
          "execution_count": 40
        }
      ]
    },
    {
      "cell_type": "markdown",
      "source": [
        "Our \"time\" column is actually a timestamp column. So we rename it accordingly before taking only the time part of the timestamp and add them to a new column called time"
      ],
      "metadata": {
        "id": "U8dm8oKkqNXt"
      }
    },
    {
      "cell_type": "code",
      "source": [
        "newEM21 = newEM21.rename(columns={'time': 'timestamp'})"
      ],
      "metadata": {
        "id": "L_0BaNjQpjYJ"
      },
      "execution_count": 41,
      "outputs": []
    },
    {
      "cell_type": "code",
      "source": [
        "newEM21['timestamp'] = pd.to_datetime(newEM21['timestamp'], format='%H:%M:%S')\n",
        "# Extract the time from each timestamp\n",
        "newEM21['time'] = newEM21['timestamp'].dt.time\n",
        "newEM21['time'] = newEM21['time'].astype(str)\n",
        "newEM21 = newEM21.drop(columns=['timestamp'])"
      ],
      "metadata": {
        "id": "LkKIBqceo91h"
      },
      "execution_count": 42,
      "outputs": []
    },
    {
      "cell_type": "markdown",
      "source": [
        "Then since the time is in arabian standard time (3 hours ahead of swedish time)\n",
        "we need to subtract 3 hours"
      ],
      "metadata": {
        "id": "y14DV1jjqX4V"
      }
    },
    {
      "cell_type": "code",
      "source": [
        "# Convert the 'date' and 'time' columns to datetime objects\n",
        "newEM21['datetime'] = pd.to_datetime(newEM21['date'] + ' ' + newEM21['time'], format='%Y-%m-%d %H:%M:%S')\n",
        "\n",
        "# Subtract 3 hours from each timestamp\n",
        "newEM21['datetime'] = newEM21['datetime'] - timedelta(hours=3)\n",
        "\n",
        "# Format the 'earlier_timestamp' column as a string\n",
        "newEM21['datetime'] = newEM21['datetime'].dt.strftime('%Y-%m-%d %H:%M:%S')\n"
      ],
      "metadata": {
        "id": "Rop0fHUwqhE0"
      },
      "execution_count": 43,
      "outputs": []
    },
    {
      "cell_type": "code",
      "source": [
        "newEM21.head()"
      ],
      "metadata": {
        "colab": {
          "base_uri": "https://localhost:8080/",
          "height": 206
        },
        "id": "GOGJhywVnwhk",
        "outputId": "bbf1c936-e654-43a3-f230-4c9911608588"
      },
      "execution_count": 44,
      "outputs": [
        {
          "output_type": "execute_result",
          "data": {
            "text/plain": [
              "         date  timezone                                              tweet  \\\n",
              "0  2021-12-31       400                                  @roshanpateI 🤣 $7   \n",
              "1  2021-12-31       400             @tesla_raj Many UI improvements coming   \n",
              "2  2021-12-31       400  @CSmithson80 @heydave7 @BLKMDL3 @mims This cha...   \n",
              "3  2021-12-30       400  @BLKMDL3 @mims Predicting macroeconomics is ch...   \n",
              "4  2021-12-30       400  @mims If history is any guide, not many will m...   \n",
              "\n",
              "   likes_count      time             datetime  \n",
              "0        13468  01:11:23  2021-12-30 22:11:23  \n",
              "1        12209  00:47:53  2021-12-30 21:47:53  \n",
              "2         2529  00:28:51  2021-12-30 21:28:51  \n",
              "3         5756  22:23:14  2021-12-30 19:23:14  \n",
              "4         5247  22:15:45  2021-12-30 19:15:45  "
            ],
            "text/html": [
              "\n",
              "  <div id=\"df-64359905-94e2-4de2-99d6-c5786c35dbce\">\n",
              "    <div class=\"colab-df-container\">\n",
              "      <div>\n",
              "<style scoped>\n",
              "    .dataframe tbody tr th:only-of-type {\n",
              "        vertical-align: middle;\n",
              "    }\n",
              "\n",
              "    .dataframe tbody tr th {\n",
              "        vertical-align: top;\n",
              "    }\n",
              "\n",
              "    .dataframe thead th {\n",
              "        text-align: right;\n",
              "    }\n",
              "</style>\n",
              "<table border=\"1\" class=\"dataframe\">\n",
              "  <thead>\n",
              "    <tr style=\"text-align: right;\">\n",
              "      <th></th>\n",
              "      <th>date</th>\n",
              "      <th>timezone</th>\n",
              "      <th>tweet</th>\n",
              "      <th>likes_count</th>\n",
              "      <th>time</th>\n",
              "      <th>datetime</th>\n",
              "    </tr>\n",
              "  </thead>\n",
              "  <tbody>\n",
              "    <tr>\n",
              "      <th>0</th>\n",
              "      <td>2021-12-31</td>\n",
              "      <td>400</td>\n",
              "      <td>@roshanpateI 🤣 $7</td>\n",
              "      <td>13468</td>\n",
              "      <td>01:11:23</td>\n",
              "      <td>2021-12-30 22:11:23</td>\n",
              "    </tr>\n",
              "    <tr>\n",
              "      <th>1</th>\n",
              "      <td>2021-12-31</td>\n",
              "      <td>400</td>\n",
              "      <td>@tesla_raj Many UI improvements coming</td>\n",
              "      <td>12209</td>\n",
              "      <td>00:47:53</td>\n",
              "      <td>2021-12-30 21:47:53</td>\n",
              "    </tr>\n",
              "    <tr>\n",
              "      <th>2</th>\n",
              "      <td>2021-12-31</td>\n",
              "      <td>400</td>\n",
              "      <td>@CSmithson80 @heydave7 @BLKMDL3 @mims This cha...</td>\n",
              "      <td>2529</td>\n",
              "      <td>00:28:51</td>\n",
              "      <td>2021-12-30 21:28:51</td>\n",
              "    </tr>\n",
              "    <tr>\n",
              "      <th>3</th>\n",
              "      <td>2021-12-30</td>\n",
              "      <td>400</td>\n",
              "      <td>@BLKMDL3 @mims Predicting macroeconomics is ch...</td>\n",
              "      <td>5756</td>\n",
              "      <td>22:23:14</td>\n",
              "      <td>2021-12-30 19:23:14</td>\n",
              "    </tr>\n",
              "    <tr>\n",
              "      <th>4</th>\n",
              "      <td>2021-12-30</td>\n",
              "      <td>400</td>\n",
              "      <td>@mims If history is any guide, not many will m...</td>\n",
              "      <td>5247</td>\n",
              "      <td>22:15:45</td>\n",
              "      <td>2021-12-30 19:15:45</td>\n",
              "    </tr>\n",
              "  </tbody>\n",
              "</table>\n",
              "</div>\n",
              "      <button class=\"colab-df-convert\" onclick=\"convertToInteractive('df-64359905-94e2-4de2-99d6-c5786c35dbce')\"\n",
              "              title=\"Convert this dataframe to an interactive table.\"\n",
              "              style=\"display:none;\">\n",
              "        \n",
              "  <svg xmlns=\"http://www.w3.org/2000/svg\" height=\"24px\"viewBox=\"0 0 24 24\"\n",
              "       width=\"24px\">\n",
              "    <path d=\"M0 0h24v24H0V0z\" fill=\"none\"/>\n",
              "    <path d=\"M18.56 5.44l.94 2.06.94-2.06 2.06-.94-2.06-.94-.94-2.06-.94 2.06-2.06.94zm-11 1L8.5 8.5l.94-2.06 2.06-.94-2.06-.94L8.5 2.5l-.94 2.06-2.06.94zm10 10l.94 2.06.94-2.06 2.06-.94-2.06-.94-.94-2.06-.94 2.06-2.06.94z\"/><path d=\"M17.41 7.96l-1.37-1.37c-.4-.4-.92-.59-1.43-.59-.52 0-1.04.2-1.43.59L10.3 9.45l-7.72 7.72c-.78.78-.78 2.05 0 2.83L4 21.41c.39.39.9.59 1.41.59.51 0 1.02-.2 1.41-.59l7.78-7.78 2.81-2.81c.8-.78.8-2.07 0-2.86zM5.41 20L4 18.59l7.72-7.72 1.47 1.35L5.41 20z\"/>\n",
              "  </svg>\n",
              "      </button>\n",
              "      \n",
              "  <style>\n",
              "    .colab-df-container {\n",
              "      display:flex;\n",
              "      flex-wrap:wrap;\n",
              "      gap: 12px;\n",
              "    }\n",
              "\n",
              "    .colab-df-convert {\n",
              "      background-color: #E8F0FE;\n",
              "      border: none;\n",
              "      border-radius: 50%;\n",
              "      cursor: pointer;\n",
              "      display: none;\n",
              "      fill: #1967D2;\n",
              "      height: 32px;\n",
              "      padding: 0 0 0 0;\n",
              "      width: 32px;\n",
              "    }\n",
              "\n",
              "    .colab-df-convert:hover {\n",
              "      background-color: #E2EBFA;\n",
              "      box-shadow: 0px 1px 2px rgba(60, 64, 67, 0.3), 0px 1px 3px 1px rgba(60, 64, 67, 0.15);\n",
              "      fill: #174EA6;\n",
              "    }\n",
              "\n",
              "    [theme=dark] .colab-df-convert {\n",
              "      background-color: #3B4455;\n",
              "      fill: #D2E3FC;\n",
              "    }\n",
              "\n",
              "    [theme=dark] .colab-df-convert:hover {\n",
              "      background-color: #434B5C;\n",
              "      box-shadow: 0px 1px 3px 1px rgba(0, 0, 0, 0.15);\n",
              "      filter: drop-shadow(0px 1px 2px rgba(0, 0, 0, 0.3));\n",
              "      fill: #FFFFFF;\n",
              "    }\n",
              "  </style>\n",
              "\n",
              "      <script>\n",
              "        const buttonEl =\n",
              "          document.querySelector('#df-64359905-94e2-4de2-99d6-c5786c35dbce button.colab-df-convert');\n",
              "        buttonEl.style.display =\n",
              "          google.colab.kernel.accessAllowed ? 'block' : 'none';\n",
              "\n",
              "        async function convertToInteractive(key) {\n",
              "          const element = document.querySelector('#df-64359905-94e2-4de2-99d6-c5786c35dbce');\n",
              "          const dataTable =\n",
              "            await google.colab.kernel.invokeFunction('convertToInteractive',\n",
              "                                                     [key], {});\n",
              "          if (!dataTable) return;\n",
              "\n",
              "          const docLinkHtml = 'Like what you see? Visit the ' +\n",
              "            '<a target=\"_blank\" href=https://colab.research.google.com/notebooks/data_table.ipynb>data table notebook</a>'\n",
              "            + ' to learn more about interactive tables.';\n",
              "          element.innerHTML = '';\n",
              "          dataTable['output_type'] = 'display_data';\n",
              "          await google.colab.output.renderOutput(dataTable, element);\n",
              "          const docLink = document.createElement('div');\n",
              "          docLink.innerHTML = docLinkHtml;\n",
              "          element.appendChild(docLink);\n",
              "        }\n",
              "      </script>\n",
              "    </div>\n",
              "  </div>\n",
              "  "
            ]
          },
          "metadata": {},
          "execution_count": 44
        }
      ]
    },
    {
      "cell_type": "code",
      "source": [
        "#Drop old times \n",
        "\n",
        "newEM21 = newEM21.drop(columns=['time', 'date'])\n",
        "\n",
        "\n",
        "#Take the new datetime and create new time and date columns with updated time\n",
        "newEM21['datetime'] = pd.to_datetime(newEM21['datetime'])\n",
        "newEM21['date'] = newEM21['datetime'].dt.date\n",
        "newEM21['time'] = newEM21['datetime'].dt.time\n",
        "\n",
        "\n",
        "#Then we can finally drop the datetime column and timezone column as they are not needed anymore\n",
        "newEM21 = newEM21.drop(columns=['datetime', 'timezone'])\n"
      ],
      "metadata": {
        "id": "sHBsjsERtm9Z"
      },
      "execution_count": 45,
      "outputs": []
    },
    {
      "cell_type": "markdown",
      "source": [
        "Last thing we need to add to this dataset, is which day it is\n",
        "(monday, tuesday, etc)"
      ],
      "metadata": {
        "id": "GHs--YpRvgn1"
      }
    },
    {
      "cell_type": "code",
      "source": [
        "newEM21['date'] = pd.to_datetime(newEM21['date'], format='%Y-%m-%d')\n",
        "newEM21['day']  = newEM21['date'].dt.weekday\n"
      ],
      "metadata": {
        "id": "DacPtAE_vgGJ"
      },
      "execution_count": 46,
      "outputs": []
    },
    {
      "cell_type": "code",
      "source": [
        "newEM21.head()"
      ],
      "metadata": {
        "colab": {
          "base_uri": "https://localhost:8080/",
          "height": 206
        },
        "id": "Pdfo9h53xJlY",
        "outputId": "9daa65f7-9c8e-4d9f-e119-878dce11e844"
      },
      "execution_count": 47,
      "outputs": [
        {
          "output_type": "execute_result",
          "data": {
            "text/plain": [
              "                                               tweet  likes_count       date  \\\n",
              "0                                  @roshanpateI 🤣 $7        13468 2021-12-30   \n",
              "1             @tesla_raj Many UI improvements coming        12209 2021-12-30   \n",
              "2  @CSmithson80 @heydave7 @BLKMDL3 @mims This cha...         2529 2021-12-30   \n",
              "3  @BLKMDL3 @mims Predicting macroeconomics is ch...         5756 2021-12-30   \n",
              "4  @mims If history is any guide, not many will m...         5247 2021-12-30   \n",
              "\n",
              "       time  day  \n",
              "0  22:11:23    3  \n",
              "1  21:47:53    3  \n",
              "2  21:28:51    3  \n",
              "3  19:23:14    3  \n",
              "4  19:15:45    3  "
            ],
            "text/html": [
              "\n",
              "  <div id=\"df-212c7126-c368-4130-9876-1167956190ef\">\n",
              "    <div class=\"colab-df-container\">\n",
              "      <div>\n",
              "<style scoped>\n",
              "    .dataframe tbody tr th:only-of-type {\n",
              "        vertical-align: middle;\n",
              "    }\n",
              "\n",
              "    .dataframe tbody tr th {\n",
              "        vertical-align: top;\n",
              "    }\n",
              "\n",
              "    .dataframe thead th {\n",
              "        text-align: right;\n",
              "    }\n",
              "</style>\n",
              "<table border=\"1\" class=\"dataframe\">\n",
              "  <thead>\n",
              "    <tr style=\"text-align: right;\">\n",
              "      <th></th>\n",
              "      <th>tweet</th>\n",
              "      <th>likes_count</th>\n",
              "      <th>date</th>\n",
              "      <th>time</th>\n",
              "      <th>day</th>\n",
              "    </tr>\n",
              "  </thead>\n",
              "  <tbody>\n",
              "    <tr>\n",
              "      <th>0</th>\n",
              "      <td>@roshanpateI 🤣 $7</td>\n",
              "      <td>13468</td>\n",
              "      <td>2021-12-30</td>\n",
              "      <td>22:11:23</td>\n",
              "      <td>3</td>\n",
              "    </tr>\n",
              "    <tr>\n",
              "      <th>1</th>\n",
              "      <td>@tesla_raj Many UI improvements coming</td>\n",
              "      <td>12209</td>\n",
              "      <td>2021-12-30</td>\n",
              "      <td>21:47:53</td>\n",
              "      <td>3</td>\n",
              "    </tr>\n",
              "    <tr>\n",
              "      <th>2</th>\n",
              "      <td>@CSmithson80 @heydave7 @BLKMDL3 @mims This cha...</td>\n",
              "      <td>2529</td>\n",
              "      <td>2021-12-30</td>\n",
              "      <td>21:28:51</td>\n",
              "      <td>3</td>\n",
              "    </tr>\n",
              "    <tr>\n",
              "      <th>3</th>\n",
              "      <td>@BLKMDL3 @mims Predicting macroeconomics is ch...</td>\n",
              "      <td>5756</td>\n",
              "      <td>2021-12-30</td>\n",
              "      <td>19:23:14</td>\n",
              "      <td>3</td>\n",
              "    </tr>\n",
              "    <tr>\n",
              "      <th>4</th>\n",
              "      <td>@mims If history is any guide, not many will m...</td>\n",
              "      <td>5247</td>\n",
              "      <td>2021-12-30</td>\n",
              "      <td>19:15:45</td>\n",
              "      <td>3</td>\n",
              "    </tr>\n",
              "  </tbody>\n",
              "</table>\n",
              "</div>\n",
              "      <button class=\"colab-df-convert\" onclick=\"convertToInteractive('df-212c7126-c368-4130-9876-1167956190ef')\"\n",
              "              title=\"Convert this dataframe to an interactive table.\"\n",
              "              style=\"display:none;\">\n",
              "        \n",
              "  <svg xmlns=\"http://www.w3.org/2000/svg\" height=\"24px\"viewBox=\"0 0 24 24\"\n",
              "       width=\"24px\">\n",
              "    <path d=\"M0 0h24v24H0V0z\" fill=\"none\"/>\n",
              "    <path d=\"M18.56 5.44l.94 2.06.94-2.06 2.06-.94-2.06-.94-.94-2.06-.94 2.06-2.06.94zm-11 1L8.5 8.5l.94-2.06 2.06-.94-2.06-.94L8.5 2.5l-.94 2.06-2.06.94zm10 10l.94 2.06.94-2.06 2.06-.94-2.06-.94-.94-2.06-.94 2.06-2.06.94z\"/><path d=\"M17.41 7.96l-1.37-1.37c-.4-.4-.92-.59-1.43-.59-.52 0-1.04.2-1.43.59L10.3 9.45l-7.72 7.72c-.78.78-.78 2.05 0 2.83L4 21.41c.39.39.9.59 1.41.59.51 0 1.02-.2 1.41-.59l7.78-7.78 2.81-2.81c.8-.78.8-2.07 0-2.86zM5.41 20L4 18.59l7.72-7.72 1.47 1.35L5.41 20z\"/>\n",
              "  </svg>\n",
              "      </button>\n",
              "      \n",
              "  <style>\n",
              "    .colab-df-container {\n",
              "      display:flex;\n",
              "      flex-wrap:wrap;\n",
              "      gap: 12px;\n",
              "    }\n",
              "\n",
              "    .colab-df-convert {\n",
              "      background-color: #E8F0FE;\n",
              "      border: none;\n",
              "      border-radius: 50%;\n",
              "      cursor: pointer;\n",
              "      display: none;\n",
              "      fill: #1967D2;\n",
              "      height: 32px;\n",
              "      padding: 0 0 0 0;\n",
              "      width: 32px;\n",
              "    }\n",
              "\n",
              "    .colab-df-convert:hover {\n",
              "      background-color: #E2EBFA;\n",
              "      box-shadow: 0px 1px 2px rgba(60, 64, 67, 0.3), 0px 1px 3px 1px rgba(60, 64, 67, 0.15);\n",
              "      fill: #174EA6;\n",
              "    }\n",
              "\n",
              "    [theme=dark] .colab-df-convert {\n",
              "      background-color: #3B4455;\n",
              "      fill: #D2E3FC;\n",
              "    }\n",
              "\n",
              "    [theme=dark] .colab-df-convert:hover {\n",
              "      background-color: #434B5C;\n",
              "      box-shadow: 0px 1px 3px 1px rgba(0, 0, 0, 0.15);\n",
              "      filter: drop-shadow(0px 1px 2px rgba(0, 0, 0, 0.3));\n",
              "      fill: #FFFFFF;\n",
              "    }\n",
              "  </style>\n",
              "\n",
              "      <script>\n",
              "        const buttonEl =\n",
              "          document.querySelector('#df-212c7126-c368-4130-9876-1167956190ef button.colab-df-convert');\n",
              "        buttonEl.style.display =\n",
              "          google.colab.kernel.accessAllowed ? 'block' : 'none';\n",
              "\n",
              "        async function convertToInteractive(key) {\n",
              "          const element = document.querySelector('#df-212c7126-c368-4130-9876-1167956190ef');\n",
              "          const dataTable =\n",
              "            await google.colab.kernel.invokeFunction('convertToInteractive',\n",
              "                                                     [key], {});\n",
              "          if (!dataTable) return;\n",
              "\n",
              "          const docLinkHtml = 'Like what you see? Visit the ' +\n",
              "            '<a target=\"_blank\" href=https://colab.research.google.com/notebooks/data_table.ipynb>data table notebook</a>'\n",
              "            + ' to learn more about interactive tables.';\n",
              "          element.innerHTML = '';\n",
              "          dataTable['output_type'] = 'display_data';\n",
              "          await google.colab.output.renderOutput(dataTable, element);\n",
              "          const docLink = document.createElement('div');\n",
              "          docLink.innerHTML = docLinkHtml;\n",
              "          element.appendChild(docLink);\n",
              "        }\n",
              "      </script>\n",
              "    </div>\n",
              "  </div>\n",
              "  "
            ]
          },
          "metadata": {},
          "execution_count": 47
        }
      ]
    },
    {
      "cell_type": "code",
      "source": [
        "#Finally, we rename the retweets_count, likes_count, replies_count to the same name as the ones we had in 2020 fil\n",
        "newEM21 = newEM21.rename(columns={'likes_count':'nlikes'})\n"
      ],
      "metadata": {
        "id": "BsqgSdXjuJC9"
      },
      "execution_count": 48,
      "outputs": []
    },
    {
      "cell_type": "code",
      "source": [
        "newEM21.head()"
      ],
      "metadata": {
        "colab": {
          "base_uri": "https://localhost:8080/",
          "height": 206
        },
        "id": "gPHWzvEHjbNN",
        "outputId": "d6630844-20a0-49d4-d0bf-328d0ee65326"
      },
      "execution_count": 50,
      "outputs": [
        {
          "output_type": "execute_result",
          "data": {
            "text/plain": [
              "                                               tweet  nlikes       date  \\\n",
              "0                                  @roshanpateI 🤣 $7   13468 2021-12-30   \n",
              "1             @tesla_raj Many UI improvements coming   12209 2021-12-30   \n",
              "2  @CSmithson80 @heydave7 @BLKMDL3 @mims This cha...    2529 2021-12-30   \n",
              "3  @BLKMDL3 @mims Predicting macroeconomics is ch...    5756 2021-12-30   \n",
              "4  @mims If history is any guide, not many will m...    5247 2021-12-30   \n",
              "\n",
              "       time  day  \n",
              "0  22:11:23    3  \n",
              "1  21:47:53    3  \n",
              "2  21:28:51    3  \n",
              "3  19:23:14    3  \n",
              "4  19:15:45    3  "
            ],
            "text/html": [
              "\n",
              "  <div id=\"df-f4e113b1-9cce-48ae-80ba-60540b7a2432\">\n",
              "    <div class=\"colab-df-container\">\n",
              "      <div>\n",
              "<style scoped>\n",
              "    .dataframe tbody tr th:only-of-type {\n",
              "        vertical-align: middle;\n",
              "    }\n",
              "\n",
              "    .dataframe tbody tr th {\n",
              "        vertical-align: top;\n",
              "    }\n",
              "\n",
              "    .dataframe thead th {\n",
              "        text-align: right;\n",
              "    }\n",
              "</style>\n",
              "<table border=\"1\" class=\"dataframe\">\n",
              "  <thead>\n",
              "    <tr style=\"text-align: right;\">\n",
              "      <th></th>\n",
              "      <th>tweet</th>\n",
              "      <th>nlikes</th>\n",
              "      <th>date</th>\n",
              "      <th>time</th>\n",
              "      <th>day</th>\n",
              "    </tr>\n",
              "  </thead>\n",
              "  <tbody>\n",
              "    <tr>\n",
              "      <th>0</th>\n",
              "      <td>@roshanpateI 🤣 $7</td>\n",
              "      <td>13468</td>\n",
              "      <td>2021-12-30</td>\n",
              "      <td>22:11:23</td>\n",
              "      <td>3</td>\n",
              "    </tr>\n",
              "    <tr>\n",
              "      <th>1</th>\n",
              "      <td>@tesla_raj Many UI improvements coming</td>\n",
              "      <td>12209</td>\n",
              "      <td>2021-12-30</td>\n",
              "      <td>21:47:53</td>\n",
              "      <td>3</td>\n",
              "    </tr>\n",
              "    <tr>\n",
              "      <th>2</th>\n",
              "      <td>@CSmithson80 @heydave7 @BLKMDL3 @mims This cha...</td>\n",
              "      <td>2529</td>\n",
              "      <td>2021-12-30</td>\n",
              "      <td>21:28:51</td>\n",
              "      <td>3</td>\n",
              "    </tr>\n",
              "    <tr>\n",
              "      <th>3</th>\n",
              "      <td>@BLKMDL3 @mims Predicting macroeconomics is ch...</td>\n",
              "      <td>5756</td>\n",
              "      <td>2021-12-30</td>\n",
              "      <td>19:23:14</td>\n",
              "      <td>3</td>\n",
              "    </tr>\n",
              "    <tr>\n",
              "      <th>4</th>\n",
              "      <td>@mims If history is any guide, not many will m...</td>\n",
              "      <td>5247</td>\n",
              "      <td>2021-12-30</td>\n",
              "      <td>19:15:45</td>\n",
              "      <td>3</td>\n",
              "    </tr>\n",
              "  </tbody>\n",
              "</table>\n",
              "</div>\n",
              "      <button class=\"colab-df-convert\" onclick=\"convertToInteractive('df-f4e113b1-9cce-48ae-80ba-60540b7a2432')\"\n",
              "              title=\"Convert this dataframe to an interactive table.\"\n",
              "              style=\"display:none;\">\n",
              "        \n",
              "  <svg xmlns=\"http://www.w3.org/2000/svg\" height=\"24px\"viewBox=\"0 0 24 24\"\n",
              "       width=\"24px\">\n",
              "    <path d=\"M0 0h24v24H0V0z\" fill=\"none\"/>\n",
              "    <path d=\"M18.56 5.44l.94 2.06.94-2.06 2.06-.94-2.06-.94-.94-2.06-.94 2.06-2.06.94zm-11 1L8.5 8.5l.94-2.06 2.06-.94-2.06-.94L8.5 2.5l-.94 2.06-2.06.94zm10 10l.94 2.06.94-2.06 2.06-.94-2.06-.94-.94-2.06-.94 2.06-2.06.94z\"/><path d=\"M17.41 7.96l-1.37-1.37c-.4-.4-.92-.59-1.43-.59-.52 0-1.04.2-1.43.59L10.3 9.45l-7.72 7.72c-.78.78-.78 2.05 0 2.83L4 21.41c.39.39.9.59 1.41.59.51 0 1.02-.2 1.41-.59l7.78-7.78 2.81-2.81c.8-.78.8-2.07 0-2.86zM5.41 20L4 18.59l7.72-7.72 1.47 1.35L5.41 20z\"/>\n",
              "  </svg>\n",
              "      </button>\n",
              "      \n",
              "  <style>\n",
              "    .colab-df-container {\n",
              "      display:flex;\n",
              "      flex-wrap:wrap;\n",
              "      gap: 12px;\n",
              "    }\n",
              "\n",
              "    .colab-df-convert {\n",
              "      background-color: #E8F0FE;\n",
              "      border: none;\n",
              "      border-radius: 50%;\n",
              "      cursor: pointer;\n",
              "      display: none;\n",
              "      fill: #1967D2;\n",
              "      height: 32px;\n",
              "      padding: 0 0 0 0;\n",
              "      width: 32px;\n",
              "    }\n",
              "\n",
              "    .colab-df-convert:hover {\n",
              "      background-color: #E2EBFA;\n",
              "      box-shadow: 0px 1px 2px rgba(60, 64, 67, 0.3), 0px 1px 3px 1px rgba(60, 64, 67, 0.15);\n",
              "      fill: #174EA6;\n",
              "    }\n",
              "\n",
              "    [theme=dark] .colab-df-convert {\n",
              "      background-color: #3B4455;\n",
              "      fill: #D2E3FC;\n",
              "    }\n",
              "\n",
              "    [theme=dark] .colab-df-convert:hover {\n",
              "      background-color: #434B5C;\n",
              "      box-shadow: 0px 1px 3px 1px rgba(0, 0, 0, 0.15);\n",
              "      filter: drop-shadow(0px 1px 2px rgba(0, 0, 0, 0.3));\n",
              "      fill: #FFFFFF;\n",
              "    }\n",
              "  </style>\n",
              "\n",
              "      <script>\n",
              "        const buttonEl =\n",
              "          document.querySelector('#df-f4e113b1-9cce-48ae-80ba-60540b7a2432 button.colab-df-convert');\n",
              "        buttonEl.style.display =\n",
              "          google.colab.kernel.accessAllowed ? 'block' : 'none';\n",
              "\n",
              "        async function convertToInteractive(key) {\n",
              "          const element = document.querySelector('#df-f4e113b1-9cce-48ae-80ba-60540b7a2432');\n",
              "          const dataTable =\n",
              "            await google.colab.kernel.invokeFunction('convertToInteractive',\n",
              "                                                     [key], {});\n",
              "          if (!dataTable) return;\n",
              "\n",
              "          const docLinkHtml = 'Like what you see? Visit the ' +\n",
              "            '<a target=\"_blank\" href=https://colab.research.google.com/notebooks/data_table.ipynb>data table notebook</a>'\n",
              "            + ' to learn more about interactive tables.';\n",
              "          element.innerHTML = '';\n",
              "          dataTable['output_type'] = 'display_data';\n",
              "          await google.colab.output.renderOutput(dataTable, element);\n",
              "          const docLink = document.createElement('div');\n",
              "          docLink.innerHTML = docLinkHtml;\n",
              "          element.appendChild(docLink);\n",
              "        }\n",
              "      </script>\n",
              "    </div>\n",
              "  </div>\n",
              "  "
            ]
          },
          "metadata": {},
          "execution_count": 50
        }
      ]
    },
    {
      "cell_type": "code",
      "source": [
        "cleaned_21_df = newEM21.copy()"
      ],
      "metadata": {
        "id": "ym7_P5c11PB0"
      },
      "execution_count": 51,
      "outputs": []
    },
    {
      "cell_type": "markdown",
      "source": [
        "We do the same thing for 2022.csv and then we can concatenate the files and save the whole dataset."
      ],
      "metadata": {
        "id": "oRWEIGTUyibv"
      }
    },
    {
      "cell_type": "code",
      "source": [
        "newEM22 = drop_cols21_22(EM22)"
      ],
      "metadata": {
        "id": "xsD1mPf1yohK"
      },
      "execution_count": 52,
      "outputs": []
    },
    {
      "cell_type": "code",
      "source": [
        "newEM22.head()"
      ],
      "metadata": {
        "colab": {
          "base_uri": "https://localhost:8080/",
          "height": 206
        },
        "id": "8Ti5-6rJyz2Z",
        "outputId": "158818f9-72e8-4e6c-f9c6-a29f78d844fc"
      },
      "execution_count": 53,
      "outputs": [
        {
          "output_type": "execute_result",
          "data": {
            "text/plain": [
              "         date      time  timezone  \\\n",
              "0  2022-03-05  12:47:21       400   \n",
              "1  2022-03-05  12:40:13       400   \n",
              "2  2022-03-05  12:32:12       400   \n",
              "3  2022-03-05  11:28:25       400   \n",
              "4  2022-03-05  09:39:29       400   \n",
              "\n",
              "                                               tweet  likes_count  \n",
              "0     @SpacePadreIsle In a way, this is free QA haha         4490  \n",
              "1           @teslaownersSV A beautiful home for life        15121  \n",
              "2  @SpacePadreIsle Some Starlink terminals near c...         8774  \n",
              "3                 @RationalEtienne @RogerYar Exactly         2773  \n",
              "4  @RogerYar All news sources are partially propa...        43964  "
            ],
            "text/html": [
              "\n",
              "  <div id=\"df-88b208e3-2fe8-485b-9dce-52a3aaf28d93\">\n",
              "    <div class=\"colab-df-container\">\n",
              "      <div>\n",
              "<style scoped>\n",
              "    .dataframe tbody tr th:only-of-type {\n",
              "        vertical-align: middle;\n",
              "    }\n",
              "\n",
              "    .dataframe tbody tr th {\n",
              "        vertical-align: top;\n",
              "    }\n",
              "\n",
              "    .dataframe thead th {\n",
              "        text-align: right;\n",
              "    }\n",
              "</style>\n",
              "<table border=\"1\" class=\"dataframe\">\n",
              "  <thead>\n",
              "    <tr style=\"text-align: right;\">\n",
              "      <th></th>\n",
              "      <th>date</th>\n",
              "      <th>time</th>\n",
              "      <th>timezone</th>\n",
              "      <th>tweet</th>\n",
              "      <th>likes_count</th>\n",
              "    </tr>\n",
              "  </thead>\n",
              "  <tbody>\n",
              "    <tr>\n",
              "      <th>0</th>\n",
              "      <td>2022-03-05</td>\n",
              "      <td>12:47:21</td>\n",
              "      <td>400</td>\n",
              "      <td>@SpacePadreIsle In a way, this is free QA haha</td>\n",
              "      <td>4490</td>\n",
              "    </tr>\n",
              "    <tr>\n",
              "      <th>1</th>\n",
              "      <td>2022-03-05</td>\n",
              "      <td>12:40:13</td>\n",
              "      <td>400</td>\n",
              "      <td>@teslaownersSV A beautiful home for life</td>\n",
              "      <td>15121</td>\n",
              "    </tr>\n",
              "    <tr>\n",
              "      <th>2</th>\n",
              "      <td>2022-03-05</td>\n",
              "      <td>12:32:12</td>\n",
              "      <td>400</td>\n",
              "      <td>@SpacePadreIsle Some Starlink terminals near c...</td>\n",
              "      <td>8774</td>\n",
              "    </tr>\n",
              "    <tr>\n",
              "      <th>3</th>\n",
              "      <td>2022-03-05</td>\n",
              "      <td>11:28:25</td>\n",
              "      <td>400</td>\n",
              "      <td>@RationalEtienne @RogerYar Exactly</td>\n",
              "      <td>2773</td>\n",
              "    </tr>\n",
              "    <tr>\n",
              "      <th>4</th>\n",
              "      <td>2022-03-05</td>\n",
              "      <td>09:39:29</td>\n",
              "      <td>400</td>\n",
              "      <td>@RogerYar All news sources are partially propa...</td>\n",
              "      <td>43964</td>\n",
              "    </tr>\n",
              "  </tbody>\n",
              "</table>\n",
              "</div>\n",
              "      <button class=\"colab-df-convert\" onclick=\"convertToInteractive('df-88b208e3-2fe8-485b-9dce-52a3aaf28d93')\"\n",
              "              title=\"Convert this dataframe to an interactive table.\"\n",
              "              style=\"display:none;\">\n",
              "        \n",
              "  <svg xmlns=\"http://www.w3.org/2000/svg\" height=\"24px\"viewBox=\"0 0 24 24\"\n",
              "       width=\"24px\">\n",
              "    <path d=\"M0 0h24v24H0V0z\" fill=\"none\"/>\n",
              "    <path d=\"M18.56 5.44l.94 2.06.94-2.06 2.06-.94-2.06-.94-.94-2.06-.94 2.06-2.06.94zm-11 1L8.5 8.5l.94-2.06 2.06-.94-2.06-.94L8.5 2.5l-.94 2.06-2.06.94zm10 10l.94 2.06.94-2.06 2.06-.94-2.06-.94-.94-2.06-.94 2.06-2.06.94z\"/><path d=\"M17.41 7.96l-1.37-1.37c-.4-.4-.92-.59-1.43-.59-.52 0-1.04.2-1.43.59L10.3 9.45l-7.72 7.72c-.78.78-.78 2.05 0 2.83L4 21.41c.39.39.9.59 1.41.59.51 0 1.02-.2 1.41-.59l7.78-7.78 2.81-2.81c.8-.78.8-2.07 0-2.86zM5.41 20L4 18.59l7.72-7.72 1.47 1.35L5.41 20z\"/>\n",
              "  </svg>\n",
              "      </button>\n",
              "      \n",
              "  <style>\n",
              "    .colab-df-container {\n",
              "      display:flex;\n",
              "      flex-wrap:wrap;\n",
              "      gap: 12px;\n",
              "    }\n",
              "\n",
              "    .colab-df-convert {\n",
              "      background-color: #E8F0FE;\n",
              "      border: none;\n",
              "      border-radius: 50%;\n",
              "      cursor: pointer;\n",
              "      display: none;\n",
              "      fill: #1967D2;\n",
              "      height: 32px;\n",
              "      padding: 0 0 0 0;\n",
              "      width: 32px;\n",
              "    }\n",
              "\n",
              "    .colab-df-convert:hover {\n",
              "      background-color: #E2EBFA;\n",
              "      box-shadow: 0px 1px 2px rgba(60, 64, 67, 0.3), 0px 1px 3px 1px rgba(60, 64, 67, 0.15);\n",
              "      fill: #174EA6;\n",
              "    }\n",
              "\n",
              "    [theme=dark] .colab-df-convert {\n",
              "      background-color: #3B4455;\n",
              "      fill: #D2E3FC;\n",
              "    }\n",
              "\n",
              "    [theme=dark] .colab-df-convert:hover {\n",
              "      background-color: #434B5C;\n",
              "      box-shadow: 0px 1px 3px 1px rgba(0, 0, 0, 0.15);\n",
              "      filter: drop-shadow(0px 1px 2px rgba(0, 0, 0, 0.3));\n",
              "      fill: #FFFFFF;\n",
              "    }\n",
              "  </style>\n",
              "\n",
              "      <script>\n",
              "        const buttonEl =\n",
              "          document.querySelector('#df-88b208e3-2fe8-485b-9dce-52a3aaf28d93 button.colab-df-convert');\n",
              "        buttonEl.style.display =\n",
              "          google.colab.kernel.accessAllowed ? 'block' : 'none';\n",
              "\n",
              "        async function convertToInteractive(key) {\n",
              "          const element = document.querySelector('#df-88b208e3-2fe8-485b-9dce-52a3aaf28d93');\n",
              "          const dataTable =\n",
              "            await google.colab.kernel.invokeFunction('convertToInteractive',\n",
              "                                                     [key], {});\n",
              "          if (!dataTable) return;\n",
              "\n",
              "          const docLinkHtml = 'Like what you see? Visit the ' +\n",
              "            '<a target=\"_blank\" href=https://colab.research.google.com/notebooks/data_table.ipynb>data table notebook</a>'\n",
              "            + ' to learn more about interactive tables.';\n",
              "          element.innerHTML = '';\n",
              "          dataTable['output_type'] = 'display_data';\n",
              "          await google.colab.output.renderOutput(dataTable, element);\n",
              "          const docLink = document.createElement('div');\n",
              "          docLink.innerHTML = docLinkHtml;\n",
              "          element.appendChild(docLink);\n",
              "        }\n",
              "      </script>\n",
              "    </div>\n",
              "  </div>\n",
              "  "
            ]
          },
          "metadata": {},
          "execution_count": 53
        }
      ]
    },
    {
      "cell_type": "code",
      "source": [
        "newEM22 = newEM22.rename(columns={'time': 'timestamp'})"
      ],
      "metadata": {
        "id": "FXq-8OFAzAoJ"
      },
      "execution_count": 54,
      "outputs": []
    },
    {
      "cell_type": "code",
      "source": [
        "newEM22['timestamp'] = pd.to_datetime(newEM22['timestamp'], format='%H:%M:%S')\n",
        "# Extract the time from each timestamp\n",
        "newEM22['time'] = newEM22['timestamp'].dt.time\n",
        "newEM22['time'] = newEM22['time'].astype(str)\n",
        "newEM22 = newEM22.drop(columns=['timestamp'])"
      ],
      "metadata": {
        "id": "hXdhXoZQzlyH"
      },
      "execution_count": 55,
      "outputs": []
    },
    {
      "cell_type": "code",
      "source": [
        "# Convert the 'date' and 'time' columns to datetime objects\n",
        "newEM22['datetime'] = pd.to_datetime(newEM22['date'] + ' ' + newEM22['time'], format='%Y-%m-%d %H:%M:%S')\n",
        "\n",
        "# Subtract 3 hours from each timestamp\n",
        "newEM22['datetime'] = newEM22['datetime'] - timedelta(hours=3)\n",
        "\n",
        "# Format the 'earlier_timestamp' column as a string\n",
        "newEM22['datetime'] = newEM22['datetime'].dt.strftime('%Y-%m-%d %H:%M:%S')"
      ],
      "metadata": {
        "id": "30Yvov3tztrt"
      },
      "execution_count": 56,
      "outputs": []
    },
    {
      "cell_type": "code",
      "source": [
        "#Drop old times \n",
        "\n",
        "newEM22 = newEM22.drop(columns=['time', 'date'])\n",
        "\n",
        "\n",
        "#Take the new datetime and create new time and date columns with updated time\n",
        "newEM22['datetime'] = pd.to_datetime(newEM22['datetime'])\n",
        "newEM22['date'] = newEM22['datetime'].dt.date\n",
        "newEM22['time'] = newEM22['datetime'].dt.time\n",
        "\n",
        "\n",
        "#Then we can finally drop the datetime column and timezone column as they are not needed anymore\n",
        "newEM22 = newEM22.drop(columns=['datetime', 'timezone'])"
      ],
      "metadata": {
        "id": "nPOuDBVSz0eO"
      },
      "execution_count": 57,
      "outputs": []
    },
    {
      "cell_type": "code",
      "source": [
        "newEM22['date'] = pd.to_datetime(newEM22['date'], format='%Y-%m-%d')\n",
        "newEM22['day']  = newEM22['date'].dt.weekday"
      ],
      "metadata": {
        "id": "EPoyNBf-z9VD"
      },
      "execution_count": 58,
      "outputs": []
    },
    {
      "cell_type": "code",
      "source": [
        "newEM22.head()"
      ],
      "metadata": {
        "colab": {
          "base_uri": "https://localhost:8080/",
          "height": 206
        },
        "id": "qbbql89U0CYA",
        "outputId": "128dedc5-1c3a-4445-a35f-9427504ec3d9"
      },
      "execution_count": 59,
      "outputs": [
        {
          "output_type": "execute_result",
          "data": {
            "text/plain": [
              "                                               tweet  likes_count       date  \\\n",
              "0     @SpacePadreIsle In a way, this is free QA haha         4490 2022-03-05   \n",
              "1           @teslaownersSV A beautiful home for life        15121 2022-03-05   \n",
              "2  @SpacePadreIsle Some Starlink terminals near c...         8774 2022-03-05   \n",
              "3                 @RationalEtienne @RogerYar Exactly         2773 2022-03-05   \n",
              "4  @RogerYar All news sources are partially propa...        43964 2022-03-05   \n",
              "\n",
              "       time  day  \n",
              "0  09:47:21    5  \n",
              "1  09:40:13    5  \n",
              "2  09:32:12    5  \n",
              "3  08:28:25    5  \n",
              "4  06:39:29    5  "
            ],
            "text/html": [
              "\n",
              "  <div id=\"df-12a552f0-e2c9-4a8d-a471-b8aea3f3f656\">\n",
              "    <div class=\"colab-df-container\">\n",
              "      <div>\n",
              "<style scoped>\n",
              "    .dataframe tbody tr th:only-of-type {\n",
              "        vertical-align: middle;\n",
              "    }\n",
              "\n",
              "    .dataframe tbody tr th {\n",
              "        vertical-align: top;\n",
              "    }\n",
              "\n",
              "    .dataframe thead th {\n",
              "        text-align: right;\n",
              "    }\n",
              "</style>\n",
              "<table border=\"1\" class=\"dataframe\">\n",
              "  <thead>\n",
              "    <tr style=\"text-align: right;\">\n",
              "      <th></th>\n",
              "      <th>tweet</th>\n",
              "      <th>likes_count</th>\n",
              "      <th>date</th>\n",
              "      <th>time</th>\n",
              "      <th>day</th>\n",
              "    </tr>\n",
              "  </thead>\n",
              "  <tbody>\n",
              "    <tr>\n",
              "      <th>0</th>\n",
              "      <td>@SpacePadreIsle In a way, this is free QA haha</td>\n",
              "      <td>4490</td>\n",
              "      <td>2022-03-05</td>\n",
              "      <td>09:47:21</td>\n",
              "      <td>5</td>\n",
              "    </tr>\n",
              "    <tr>\n",
              "      <th>1</th>\n",
              "      <td>@teslaownersSV A beautiful home for life</td>\n",
              "      <td>15121</td>\n",
              "      <td>2022-03-05</td>\n",
              "      <td>09:40:13</td>\n",
              "      <td>5</td>\n",
              "    </tr>\n",
              "    <tr>\n",
              "      <th>2</th>\n",
              "      <td>@SpacePadreIsle Some Starlink terminals near c...</td>\n",
              "      <td>8774</td>\n",
              "      <td>2022-03-05</td>\n",
              "      <td>09:32:12</td>\n",
              "      <td>5</td>\n",
              "    </tr>\n",
              "    <tr>\n",
              "      <th>3</th>\n",
              "      <td>@RationalEtienne @RogerYar Exactly</td>\n",
              "      <td>2773</td>\n",
              "      <td>2022-03-05</td>\n",
              "      <td>08:28:25</td>\n",
              "      <td>5</td>\n",
              "    </tr>\n",
              "    <tr>\n",
              "      <th>4</th>\n",
              "      <td>@RogerYar All news sources are partially propa...</td>\n",
              "      <td>43964</td>\n",
              "      <td>2022-03-05</td>\n",
              "      <td>06:39:29</td>\n",
              "      <td>5</td>\n",
              "    </tr>\n",
              "  </tbody>\n",
              "</table>\n",
              "</div>\n",
              "      <button class=\"colab-df-convert\" onclick=\"convertToInteractive('df-12a552f0-e2c9-4a8d-a471-b8aea3f3f656')\"\n",
              "              title=\"Convert this dataframe to an interactive table.\"\n",
              "              style=\"display:none;\">\n",
              "        \n",
              "  <svg xmlns=\"http://www.w3.org/2000/svg\" height=\"24px\"viewBox=\"0 0 24 24\"\n",
              "       width=\"24px\">\n",
              "    <path d=\"M0 0h24v24H0V0z\" fill=\"none\"/>\n",
              "    <path d=\"M18.56 5.44l.94 2.06.94-2.06 2.06-.94-2.06-.94-.94-2.06-.94 2.06-2.06.94zm-11 1L8.5 8.5l.94-2.06 2.06-.94-2.06-.94L8.5 2.5l-.94 2.06-2.06.94zm10 10l.94 2.06.94-2.06 2.06-.94-2.06-.94-.94-2.06-.94 2.06-2.06.94z\"/><path d=\"M17.41 7.96l-1.37-1.37c-.4-.4-.92-.59-1.43-.59-.52 0-1.04.2-1.43.59L10.3 9.45l-7.72 7.72c-.78.78-.78 2.05 0 2.83L4 21.41c.39.39.9.59 1.41.59.51 0 1.02-.2 1.41-.59l7.78-7.78 2.81-2.81c.8-.78.8-2.07 0-2.86zM5.41 20L4 18.59l7.72-7.72 1.47 1.35L5.41 20z\"/>\n",
              "  </svg>\n",
              "      </button>\n",
              "      \n",
              "  <style>\n",
              "    .colab-df-container {\n",
              "      display:flex;\n",
              "      flex-wrap:wrap;\n",
              "      gap: 12px;\n",
              "    }\n",
              "\n",
              "    .colab-df-convert {\n",
              "      background-color: #E8F0FE;\n",
              "      border: none;\n",
              "      border-radius: 50%;\n",
              "      cursor: pointer;\n",
              "      display: none;\n",
              "      fill: #1967D2;\n",
              "      height: 32px;\n",
              "      padding: 0 0 0 0;\n",
              "      width: 32px;\n",
              "    }\n",
              "\n",
              "    .colab-df-convert:hover {\n",
              "      background-color: #E2EBFA;\n",
              "      box-shadow: 0px 1px 2px rgba(60, 64, 67, 0.3), 0px 1px 3px 1px rgba(60, 64, 67, 0.15);\n",
              "      fill: #174EA6;\n",
              "    }\n",
              "\n",
              "    [theme=dark] .colab-df-convert {\n",
              "      background-color: #3B4455;\n",
              "      fill: #D2E3FC;\n",
              "    }\n",
              "\n",
              "    [theme=dark] .colab-df-convert:hover {\n",
              "      background-color: #434B5C;\n",
              "      box-shadow: 0px 1px 3px 1px rgba(0, 0, 0, 0.15);\n",
              "      filter: drop-shadow(0px 1px 2px rgba(0, 0, 0, 0.3));\n",
              "      fill: #FFFFFF;\n",
              "    }\n",
              "  </style>\n",
              "\n",
              "      <script>\n",
              "        const buttonEl =\n",
              "          document.querySelector('#df-12a552f0-e2c9-4a8d-a471-b8aea3f3f656 button.colab-df-convert');\n",
              "        buttonEl.style.display =\n",
              "          google.colab.kernel.accessAllowed ? 'block' : 'none';\n",
              "\n",
              "        async function convertToInteractive(key) {\n",
              "          const element = document.querySelector('#df-12a552f0-e2c9-4a8d-a471-b8aea3f3f656');\n",
              "          const dataTable =\n",
              "            await google.colab.kernel.invokeFunction('convertToInteractive',\n",
              "                                                     [key], {});\n",
              "          if (!dataTable) return;\n",
              "\n",
              "          const docLinkHtml = 'Like what you see? Visit the ' +\n",
              "            '<a target=\"_blank\" href=https://colab.research.google.com/notebooks/data_table.ipynb>data table notebook</a>'\n",
              "            + ' to learn more about interactive tables.';\n",
              "          element.innerHTML = '';\n",
              "          dataTable['output_type'] = 'display_data';\n",
              "          await google.colab.output.renderOutput(dataTable, element);\n",
              "          const docLink = document.createElement('div');\n",
              "          docLink.innerHTML = docLinkHtml;\n",
              "          element.appendChild(docLink);\n",
              "        }\n",
              "      </script>\n",
              "    </div>\n",
              "  </div>\n",
              "  "
            ]
          },
          "metadata": {},
          "execution_count": 59
        }
      ]
    },
    {
      "cell_type": "code",
      "source": [
        "#Finally, we rename the retweets_count, likes_count, replies_count to the same name as the ones we had in 2020 fil\n",
        "newEM22 = newEM22.rename(columns={'likes_count':'nlikes'})"
      ],
      "metadata": {
        "id": "369ifkMh0Lsf"
      },
      "execution_count": 60,
      "outputs": []
    },
    {
      "cell_type": "code",
      "source": [
        "cleaned_22_df = newEM22.copy()"
      ],
      "metadata": {
        "id": "kGAJYa_F1fLh"
      },
      "execution_count": 61,
      "outputs": []
    },
    {
      "cell_type": "code",
      "source": [
        "cleaned_22_df.head()"
      ],
      "metadata": {
        "colab": {
          "base_uri": "https://localhost:8080/",
          "height": 206
        },
        "id": "T6A_H6W-jkYb",
        "outputId": "f7ca9094-1799-4adf-f1f8-f4769c854a57"
      },
      "execution_count": 62,
      "outputs": [
        {
          "output_type": "execute_result",
          "data": {
            "text/plain": [
              "                                               tweet  nlikes       date  \\\n",
              "0     @SpacePadreIsle In a way, this is free QA haha    4490 2022-03-05   \n",
              "1           @teslaownersSV A beautiful home for life   15121 2022-03-05   \n",
              "2  @SpacePadreIsle Some Starlink terminals near c...    8774 2022-03-05   \n",
              "3                 @RationalEtienne @RogerYar Exactly    2773 2022-03-05   \n",
              "4  @RogerYar All news sources are partially propa...   43964 2022-03-05   \n",
              "\n",
              "       time  day  \n",
              "0  09:47:21    5  \n",
              "1  09:40:13    5  \n",
              "2  09:32:12    5  \n",
              "3  08:28:25    5  \n",
              "4  06:39:29    5  "
            ],
            "text/html": [
              "\n",
              "  <div id=\"df-0dbacd2b-420a-4120-af97-6a08e0601ce5\">\n",
              "    <div class=\"colab-df-container\">\n",
              "      <div>\n",
              "<style scoped>\n",
              "    .dataframe tbody tr th:only-of-type {\n",
              "        vertical-align: middle;\n",
              "    }\n",
              "\n",
              "    .dataframe tbody tr th {\n",
              "        vertical-align: top;\n",
              "    }\n",
              "\n",
              "    .dataframe thead th {\n",
              "        text-align: right;\n",
              "    }\n",
              "</style>\n",
              "<table border=\"1\" class=\"dataframe\">\n",
              "  <thead>\n",
              "    <tr style=\"text-align: right;\">\n",
              "      <th></th>\n",
              "      <th>tweet</th>\n",
              "      <th>nlikes</th>\n",
              "      <th>date</th>\n",
              "      <th>time</th>\n",
              "      <th>day</th>\n",
              "    </tr>\n",
              "  </thead>\n",
              "  <tbody>\n",
              "    <tr>\n",
              "      <th>0</th>\n",
              "      <td>@SpacePadreIsle In a way, this is free QA haha</td>\n",
              "      <td>4490</td>\n",
              "      <td>2022-03-05</td>\n",
              "      <td>09:47:21</td>\n",
              "      <td>5</td>\n",
              "    </tr>\n",
              "    <tr>\n",
              "      <th>1</th>\n",
              "      <td>@teslaownersSV A beautiful home for life</td>\n",
              "      <td>15121</td>\n",
              "      <td>2022-03-05</td>\n",
              "      <td>09:40:13</td>\n",
              "      <td>5</td>\n",
              "    </tr>\n",
              "    <tr>\n",
              "      <th>2</th>\n",
              "      <td>@SpacePadreIsle Some Starlink terminals near c...</td>\n",
              "      <td>8774</td>\n",
              "      <td>2022-03-05</td>\n",
              "      <td>09:32:12</td>\n",
              "      <td>5</td>\n",
              "    </tr>\n",
              "    <tr>\n",
              "      <th>3</th>\n",
              "      <td>@RationalEtienne @RogerYar Exactly</td>\n",
              "      <td>2773</td>\n",
              "      <td>2022-03-05</td>\n",
              "      <td>08:28:25</td>\n",
              "      <td>5</td>\n",
              "    </tr>\n",
              "    <tr>\n",
              "      <th>4</th>\n",
              "      <td>@RogerYar All news sources are partially propa...</td>\n",
              "      <td>43964</td>\n",
              "      <td>2022-03-05</td>\n",
              "      <td>06:39:29</td>\n",
              "      <td>5</td>\n",
              "    </tr>\n",
              "  </tbody>\n",
              "</table>\n",
              "</div>\n",
              "      <button class=\"colab-df-convert\" onclick=\"convertToInteractive('df-0dbacd2b-420a-4120-af97-6a08e0601ce5')\"\n",
              "              title=\"Convert this dataframe to an interactive table.\"\n",
              "              style=\"display:none;\">\n",
              "        \n",
              "  <svg xmlns=\"http://www.w3.org/2000/svg\" height=\"24px\"viewBox=\"0 0 24 24\"\n",
              "       width=\"24px\">\n",
              "    <path d=\"M0 0h24v24H0V0z\" fill=\"none\"/>\n",
              "    <path d=\"M18.56 5.44l.94 2.06.94-2.06 2.06-.94-2.06-.94-.94-2.06-.94 2.06-2.06.94zm-11 1L8.5 8.5l.94-2.06 2.06-.94-2.06-.94L8.5 2.5l-.94 2.06-2.06.94zm10 10l.94 2.06.94-2.06 2.06-.94-2.06-.94-.94-2.06-.94 2.06-2.06.94z\"/><path d=\"M17.41 7.96l-1.37-1.37c-.4-.4-.92-.59-1.43-.59-.52 0-1.04.2-1.43.59L10.3 9.45l-7.72 7.72c-.78.78-.78 2.05 0 2.83L4 21.41c.39.39.9.59 1.41.59.51 0 1.02-.2 1.41-.59l7.78-7.78 2.81-2.81c.8-.78.8-2.07 0-2.86zM5.41 20L4 18.59l7.72-7.72 1.47 1.35L5.41 20z\"/>\n",
              "  </svg>\n",
              "      </button>\n",
              "      \n",
              "  <style>\n",
              "    .colab-df-container {\n",
              "      display:flex;\n",
              "      flex-wrap:wrap;\n",
              "      gap: 12px;\n",
              "    }\n",
              "\n",
              "    .colab-df-convert {\n",
              "      background-color: #E8F0FE;\n",
              "      border: none;\n",
              "      border-radius: 50%;\n",
              "      cursor: pointer;\n",
              "      display: none;\n",
              "      fill: #1967D2;\n",
              "      height: 32px;\n",
              "      padding: 0 0 0 0;\n",
              "      width: 32px;\n",
              "    }\n",
              "\n",
              "    .colab-df-convert:hover {\n",
              "      background-color: #E2EBFA;\n",
              "      box-shadow: 0px 1px 2px rgba(60, 64, 67, 0.3), 0px 1px 3px 1px rgba(60, 64, 67, 0.15);\n",
              "      fill: #174EA6;\n",
              "    }\n",
              "\n",
              "    [theme=dark] .colab-df-convert {\n",
              "      background-color: #3B4455;\n",
              "      fill: #D2E3FC;\n",
              "    }\n",
              "\n",
              "    [theme=dark] .colab-df-convert:hover {\n",
              "      background-color: #434B5C;\n",
              "      box-shadow: 0px 1px 3px 1px rgba(0, 0, 0, 0.15);\n",
              "      filter: drop-shadow(0px 1px 2px rgba(0, 0, 0, 0.3));\n",
              "      fill: #FFFFFF;\n",
              "    }\n",
              "  </style>\n",
              "\n",
              "      <script>\n",
              "        const buttonEl =\n",
              "          document.querySelector('#df-0dbacd2b-420a-4120-af97-6a08e0601ce5 button.colab-df-convert');\n",
              "        buttonEl.style.display =\n",
              "          google.colab.kernel.accessAllowed ? 'block' : 'none';\n",
              "\n",
              "        async function convertToInteractive(key) {\n",
              "          const element = document.querySelector('#df-0dbacd2b-420a-4120-af97-6a08e0601ce5');\n",
              "          const dataTable =\n",
              "            await google.colab.kernel.invokeFunction('convertToInteractive',\n",
              "                                                     [key], {});\n",
              "          if (!dataTable) return;\n",
              "\n",
              "          const docLinkHtml = 'Like what you see? Visit the ' +\n",
              "            '<a target=\"_blank\" href=https://colab.research.google.com/notebooks/data_table.ipynb>data table notebook</a>'\n",
              "            + ' to learn more about interactive tables.';\n",
              "          element.innerHTML = '';\n",
              "          dataTable['output_type'] = 'display_data';\n",
              "          await google.colab.output.renderOutput(dataTable, element);\n",
              "          const docLink = document.createElement('div');\n",
              "          docLink.innerHTML = docLinkHtml;\n",
              "          element.appendChild(docLink);\n",
              "        }\n",
              "      </script>\n",
              "    </div>\n",
              "  </div>\n",
              "  "
            ]
          },
          "metadata": {},
          "execution_count": 62
        }
      ]
    },
    {
      "cell_type": "code",
      "source": [
        "frames = [cleaned_2020_df, cleaned_21_df, cleaned_22_df]\n",
        "concat_df = pd.concat(frames)"
      ],
      "metadata": {
        "id": "KHaeD3QXx1Py"
      },
      "execution_count": 63,
      "outputs": []
    },
    {
      "cell_type": "code",
      "source": [
        "concat_df.head()\n"
      ],
      "metadata": {
        "colab": {
          "base_uri": "https://localhost:8080/",
          "height": 206
        },
        "id": "vVHVTmt-1ouy",
        "outputId": "3023ea4d-fe7b-4d98-d3fb-800f5872c3fc"
      },
      "execution_count": 64,
      "outputs": [
        {
          "output_type": "execute_result",
          "data": {
            "text/plain": [
              "                                               tweet  day  nlikes        date  \\\n",
              "0  Entertainment will be critical when cars drive...    1   55085  2020-12-28   \n",
              "1  @kimpaquette Just meeting with Larry Ellison t...    1    8631  2020-12-28   \n",
              "2                        @richierichhhhh_ Absolutely    1   72434  2020-12-28   \n",
              "3  What should Tesla do with in-car gaming in an ...    1   33830  2020-12-28   \n",
              "4                          @PPathole @WSJ Absolutely    1    2394  2020-12-28   \n",
              "\n",
              "       time  \n",
              "0  19:46:18  \n",
              "1  18:07:33  \n",
              "2  17:23:51  \n",
              "3  17:23:31  \n",
              "4  05:39:42  "
            ],
            "text/html": [
              "\n",
              "  <div id=\"df-0aba0d81-ede6-4775-9352-c477f7ac100b\">\n",
              "    <div class=\"colab-df-container\">\n",
              "      <div>\n",
              "<style scoped>\n",
              "    .dataframe tbody tr th:only-of-type {\n",
              "        vertical-align: middle;\n",
              "    }\n",
              "\n",
              "    .dataframe tbody tr th {\n",
              "        vertical-align: top;\n",
              "    }\n",
              "\n",
              "    .dataframe thead th {\n",
              "        text-align: right;\n",
              "    }\n",
              "</style>\n",
              "<table border=\"1\" class=\"dataframe\">\n",
              "  <thead>\n",
              "    <tr style=\"text-align: right;\">\n",
              "      <th></th>\n",
              "      <th>tweet</th>\n",
              "      <th>day</th>\n",
              "      <th>nlikes</th>\n",
              "      <th>date</th>\n",
              "      <th>time</th>\n",
              "    </tr>\n",
              "  </thead>\n",
              "  <tbody>\n",
              "    <tr>\n",
              "      <th>0</th>\n",
              "      <td>Entertainment will be critical when cars drive...</td>\n",
              "      <td>1</td>\n",
              "      <td>55085</td>\n",
              "      <td>2020-12-28</td>\n",
              "      <td>19:46:18</td>\n",
              "    </tr>\n",
              "    <tr>\n",
              "      <th>1</th>\n",
              "      <td>@kimpaquette Just meeting with Larry Ellison t...</td>\n",
              "      <td>1</td>\n",
              "      <td>8631</td>\n",
              "      <td>2020-12-28</td>\n",
              "      <td>18:07:33</td>\n",
              "    </tr>\n",
              "    <tr>\n",
              "      <th>2</th>\n",
              "      <td>@richierichhhhh_ Absolutely</td>\n",
              "      <td>1</td>\n",
              "      <td>72434</td>\n",
              "      <td>2020-12-28</td>\n",
              "      <td>17:23:51</td>\n",
              "    </tr>\n",
              "    <tr>\n",
              "      <th>3</th>\n",
              "      <td>What should Tesla do with in-car gaming in an ...</td>\n",
              "      <td>1</td>\n",
              "      <td>33830</td>\n",
              "      <td>2020-12-28</td>\n",
              "      <td>17:23:31</td>\n",
              "    </tr>\n",
              "    <tr>\n",
              "      <th>4</th>\n",
              "      <td>@PPathole @WSJ Absolutely</td>\n",
              "      <td>1</td>\n",
              "      <td>2394</td>\n",
              "      <td>2020-12-28</td>\n",
              "      <td>05:39:42</td>\n",
              "    </tr>\n",
              "  </tbody>\n",
              "</table>\n",
              "</div>\n",
              "      <button class=\"colab-df-convert\" onclick=\"convertToInteractive('df-0aba0d81-ede6-4775-9352-c477f7ac100b')\"\n",
              "              title=\"Convert this dataframe to an interactive table.\"\n",
              "              style=\"display:none;\">\n",
              "        \n",
              "  <svg xmlns=\"http://www.w3.org/2000/svg\" height=\"24px\"viewBox=\"0 0 24 24\"\n",
              "       width=\"24px\">\n",
              "    <path d=\"M0 0h24v24H0V0z\" fill=\"none\"/>\n",
              "    <path d=\"M18.56 5.44l.94 2.06.94-2.06 2.06-.94-2.06-.94-.94-2.06-.94 2.06-2.06.94zm-11 1L8.5 8.5l.94-2.06 2.06-.94-2.06-.94L8.5 2.5l-.94 2.06-2.06.94zm10 10l.94 2.06.94-2.06 2.06-.94-2.06-.94-.94-2.06-.94 2.06-2.06.94z\"/><path d=\"M17.41 7.96l-1.37-1.37c-.4-.4-.92-.59-1.43-.59-.52 0-1.04.2-1.43.59L10.3 9.45l-7.72 7.72c-.78.78-.78 2.05 0 2.83L4 21.41c.39.39.9.59 1.41.59.51 0 1.02-.2 1.41-.59l7.78-7.78 2.81-2.81c.8-.78.8-2.07 0-2.86zM5.41 20L4 18.59l7.72-7.72 1.47 1.35L5.41 20z\"/>\n",
              "  </svg>\n",
              "      </button>\n",
              "      \n",
              "  <style>\n",
              "    .colab-df-container {\n",
              "      display:flex;\n",
              "      flex-wrap:wrap;\n",
              "      gap: 12px;\n",
              "    }\n",
              "\n",
              "    .colab-df-convert {\n",
              "      background-color: #E8F0FE;\n",
              "      border: none;\n",
              "      border-radius: 50%;\n",
              "      cursor: pointer;\n",
              "      display: none;\n",
              "      fill: #1967D2;\n",
              "      height: 32px;\n",
              "      padding: 0 0 0 0;\n",
              "      width: 32px;\n",
              "    }\n",
              "\n",
              "    .colab-df-convert:hover {\n",
              "      background-color: #E2EBFA;\n",
              "      box-shadow: 0px 1px 2px rgba(60, 64, 67, 0.3), 0px 1px 3px 1px rgba(60, 64, 67, 0.15);\n",
              "      fill: #174EA6;\n",
              "    }\n",
              "\n",
              "    [theme=dark] .colab-df-convert {\n",
              "      background-color: #3B4455;\n",
              "      fill: #D2E3FC;\n",
              "    }\n",
              "\n",
              "    [theme=dark] .colab-df-convert:hover {\n",
              "      background-color: #434B5C;\n",
              "      box-shadow: 0px 1px 3px 1px rgba(0, 0, 0, 0.15);\n",
              "      filter: drop-shadow(0px 1px 2px rgba(0, 0, 0, 0.3));\n",
              "      fill: #FFFFFF;\n",
              "    }\n",
              "  </style>\n",
              "\n",
              "      <script>\n",
              "        const buttonEl =\n",
              "          document.querySelector('#df-0aba0d81-ede6-4775-9352-c477f7ac100b button.colab-df-convert');\n",
              "        buttonEl.style.display =\n",
              "          google.colab.kernel.accessAllowed ? 'block' : 'none';\n",
              "\n",
              "        async function convertToInteractive(key) {\n",
              "          const element = document.querySelector('#df-0aba0d81-ede6-4775-9352-c477f7ac100b');\n",
              "          const dataTable =\n",
              "            await google.colab.kernel.invokeFunction('convertToInteractive',\n",
              "                                                     [key], {});\n",
              "          if (!dataTable) return;\n",
              "\n",
              "          const docLinkHtml = 'Like what you see? Visit the ' +\n",
              "            '<a target=\"_blank\" href=https://colab.research.google.com/notebooks/data_table.ipynb>data table notebook</a>'\n",
              "            + ' to learn more about interactive tables.';\n",
              "          element.innerHTML = '';\n",
              "          dataTable['output_type'] = 'display_data';\n",
              "          await google.colab.output.renderOutput(dataTable, element);\n",
              "          const docLink = document.createElement('div');\n",
              "          docLink.innerHTML = docLinkHtml;\n",
              "          element.appendChild(docLink);\n",
              "        }\n",
              "      </script>\n",
              "    </div>\n",
              "  </div>\n",
              "  "
            ]
          },
          "metadata": {},
          "execution_count": 64
        }
      ]
    },
    {
      "cell_type": "code",
      "source": [
        "print(concat_df.shape)"
      ],
      "metadata": {
        "colab": {
          "base_uri": "https://localhost:8080/"
        },
        "id": "EB_s3N021w4y",
        "outputId": "277c7885-3415-4f6f-f4a0-1a8ef7f5f50c"
      },
      "execution_count": 65,
      "outputs": [
        {
          "output_type": "stream",
          "name": "stdout",
          "text": [
            "(15860, 5)\n"
          ]
        }
      ]
    },
    {
      "cell_type": "markdown",
      "source": [
        "We can see that our total amount of rows is the same number as mentioned at the start of this notebook."
      ],
      "metadata": {
        "id": "0fzmmDkw1y-t"
      }
    },
    {
      "cell_type": "code",
      "source": [
        "from google.colab import files\n",
        "\n",
        "concat_df.to_csv('cleanedTweetData.csv')\n",
        "files.download('cleanedTweetData.csv')"
      ],
      "metadata": {
        "colab": {
          "base_uri": "https://localhost:8080/",
          "height": 17
        },
        "id": "5fMNu-ys0ZZ8",
        "outputId": "12c60b7d-b260-4e89-8dfa-bce4ba1864ee"
      },
      "execution_count": 66,
      "outputs": [
        {
          "output_type": "display_data",
          "data": {
            "text/plain": [
              "<IPython.core.display.Javascript object>"
            ],
            "application/javascript": [
              "\n",
              "    async function download(id, filename, size) {\n",
              "      if (!google.colab.kernel.accessAllowed) {\n",
              "        return;\n",
              "      }\n",
              "      const div = document.createElement('div');\n",
              "      const label = document.createElement('label');\n",
              "      label.textContent = `Downloading \"${filename}\": `;\n",
              "      div.appendChild(label);\n",
              "      const progress = document.createElement('progress');\n",
              "      progress.max = size;\n",
              "      div.appendChild(progress);\n",
              "      document.body.appendChild(div);\n",
              "\n",
              "      const buffers = [];\n",
              "      let downloaded = 0;\n",
              "\n",
              "      const channel = await google.colab.kernel.comms.open(id);\n",
              "      // Send a message to notify the kernel that we're ready.\n",
              "      channel.send({})\n",
              "\n",
              "      for await (const message of channel.messages) {\n",
              "        // Send a message to notify the kernel that we're ready.\n",
              "        channel.send({})\n",
              "        if (message.buffers) {\n",
              "          for (const buffer of message.buffers) {\n",
              "            buffers.push(buffer);\n",
              "            downloaded += buffer.byteLength;\n",
              "            progress.value = downloaded;\n",
              "          }\n",
              "        }\n",
              "      }\n",
              "      const blob = new Blob(buffers, {type: 'application/binary'});\n",
              "      const a = document.createElement('a');\n",
              "      a.href = window.URL.createObjectURL(blob);\n",
              "      a.download = filename;\n",
              "      div.appendChild(a);\n",
              "      a.click();\n",
              "      div.remove();\n",
              "    }\n",
              "  "
            ]
          },
          "metadata": {}
        },
        {
          "output_type": "display_data",
          "data": {
            "text/plain": [
              "<IPython.core.display.Javascript object>"
            ],
            "application/javascript": [
              "download(\"download_1b722e3a-b377-49f7-88b4-4985d1639ab2\", \"cleanedTweetData.csv\", 1974424)"
            ]
          },
          "metadata": {}
        }
      ]
    },
    {
      "cell_type": "markdown",
      "source": [],
      "metadata": {
        "id": "SeoPjUMPynTs"
      }
    }
  ]
}
{
  "nbformat": 4,
  "nbformat_minor": 0,
  "metadata": {
    "colab": {
      "provenance": [],
      "collapsed_sections": [
        "soWkmR6YzUA2",
        "loJQ2SwpEalW",
        "gfCqoImQiPQY",
        "XZKRYgzgeTF2"
      ]
    },
    "kernelspec": {
      "name": "python3",
      "display_name": "Python 3"
    },
    "language_info": {
      "name": "python"
    }
  },
  "cells": [
    {
      "cell_type": "markdown",
      "source": [
        "NOTE! Du måste ladda up 2020.csv, 2021.csv, 2022.csv från länken du kan hitta där nere"
      ],
      "metadata": {
        "id": "aOyNT9kdEAaS"
      }
    },
    {
      "cell_type": "code",
      "execution_count": null,
      "metadata": {
        "id": "zoBlk_8tLmRI"
      },
      "outputs": [],
      "source": [
        "import pandas as pd\n",
        "import numpy as np\n",
        "from datetime import datetime, timedelta\n"
      ]
    },
    {
      "cell_type": "code",
      "source": [
        "EM20 = pd.read_csv('2020.csv')\n",
        "EM21 = pd.read_csv('2021.csv')\n",
        "EM22 = pd.read_csv('2022.csv')\n",
        "\n",
        "print(EM20.shape[0])\n",
        "print(EM21.shape[0])\n",
        "print(EM22.shape[0])\n",
        "\n",
        "print(EM20.shape[0] + EM21.shape[0] + EM22.shape[0])"
      ],
      "metadata": {
        "colab": {
          "base_uri": "https://localhost:8080/"
        },
        "id": "n22ZJyBgyfhK",
        "outputId": "6332ac8c-ecb3-4b91-9e9d-bb5a6ddfe133"
      },
      "execution_count": null,
      "outputs": [
        {
          "output_type": "stream",
          "name": "stdout",
          "text": [
            "4412\n",
            "3115\n",
            "1028\n",
            "8555\n"
          ]
        }
      ]
    },
    {
      "cell_type": "markdown",
      "source": [
        "# Elon Musk's Tweet data between 2010-2022\n",
        "\n"
      ],
      "metadata": {
        "id": "nWrXX6cSMRg2"
      }
    },
    {
      "cell_type": "markdown",
      "source": [
        "# Dataset\n",
        "\n",
        "The dataset we're working with comes from \n",
        "https://www.kaggle.com/datasets/ayhmrba/elon-musk-tweets-2010-2021?select=2020.csv .\n",
        "\n",
        "It contains multiple files, where the file 2020.csv contains data about Elon Musk's tweets from 2010-2020 (11718 rows)\n",
        "\n",
        "2021.csv contains data about Elon Musk's tweets from 2021 and it contains 3115 rows\n",
        "\n",
        "2022.csv contains data about Elon Musk's tweets from 2022 and it contains 1028 rows\n",
        "\n",
        "In total, this data will give us 15860 tweets.\n",
        "\n",
        "To see description about the different features, check the link."
      ],
      "metadata": {
        "id": "M8QjpyCSx_ob"
      }
    },
    {
      "cell_type": "markdown",
      "source": [
        "#Differences in datasets\n",
        "\n",
        "The 2020.csv file is a bit different from the other two files. We can see this in the example below, therefore, before we concatenate them we need to make sure that they are in the same format. "
      ],
      "metadata": {
        "id": "soWkmR6YzUA2"
      }
    },
    {
      "cell_type": "code",
      "source": [
        "print(EM20['created_at'])\n",
        "\n",
        "print(EM22['created_at'])"
      ],
      "metadata": {
        "colab": {
          "base_uri": "https://localhost:8080/"
        },
        "id": "s3z3jw6MzGsA",
        "outputId": "7f753e37-0799-4f3d-d8d5-6e83bba05b30"
      },
      "execution_count": null,
      "outputs": [
        {
          "output_type": "stream",
          "name": "stdout",
          "text": [
            "0        1.609185e+12\n",
            "1        1.609179e+12\n",
            "2        1.609176e+12\n",
            "3        1.609176e+12\n",
            "4        1.609134e+12\n",
            "             ...     \n",
            "11712    1.322901e+12\n",
            "11713    1.322900e+12\n",
            "11714    1.322735e+12\n",
            "11715    1.322733e+12\n",
            "11716    1.275676e+12\n",
            "Name: created_at, Length: 11717, dtype: float64\n",
            "0       2022-03-05 12:47:21 Arabian Standard Time\n",
            "1       2022-03-05 12:40:13 Arabian Standard Time\n",
            "2       2022-03-05 12:32:12 Arabian Standard Time\n",
            "3       2022-03-05 11:28:25 Arabian Standard Time\n",
            "4       2022-03-05 09:39:29 Arabian Standard Time\n",
            "                          ...                    \n",
            "1023    2022-01-03 02:56:00 Arabian Standard Time\n",
            "1024    2022-01-02 22:19:33 Arabian Standard Time\n",
            "1025    2022-01-02 21:56:50 Arabian Standard Time\n",
            "1026    2022-01-01 05:58:52 Arabian Standard Time\n",
            "1027    2022-01-01 04:53:13 Arabian Standard Time\n",
            "Name: created_at, Length: 1028, dtype: object\n"
          ]
        }
      ]
    },
    {
      "cell_type": "markdown",
      "source": [
        "Another example we can see is that date in 2020.csv and date column in 2021 and 2022 differs.\n",
        "\n",
        "In 2020.csv, the date column gives us both the date and time of when the tweet was uploaded. In the other two datasets it only shows us the date. "
      ],
      "metadata": {
        "id": "PoVxgcDrz0bC"
      }
    },
    {
      "cell_type": "code",
      "source": [
        "print(EM20['date'])\n",
        "print('-----------------------------')\n",
        "print(EM21['date'])\n",
        "print('-----------------------------')\n",
        "print(EM22['date'])"
      ],
      "metadata": {
        "colab": {
          "base_uri": "https://localhost:8080/"
        },
        "id": "JS_aVo9uz0BY",
        "outputId": "0d93ed6b-2f97-47d0-b177-7a9fab4244e3"
      },
      "execution_count": null,
      "outputs": [
        {
          "output_type": "stream",
          "name": "stdout",
          "text": [
            "0        2020-12-28 19:46:18\n",
            "1        2020-12-28 18:07:33\n",
            "2        2020-12-28 17:23:51\n",
            "3        2020-12-28 17:23:31\n",
            "4        2020-12-28 05:39:42\n",
            "                ...         \n",
            "11712    2011-12-03 08:22:07\n",
            "11713    2011-12-03 08:20:28\n",
            "11714    2011-12-01 10:29:04\n",
            "11715    2011-12-01 09:55:11\n",
            "11716    2010-06-04 18:31:57\n",
            "Name: date, Length: 11717, dtype: object\n",
            "-----------------------------\n",
            "0       2021-12-31\n",
            "1       2021-12-31\n",
            "2       2021-12-31\n",
            "3       2021-12-30\n",
            "4       2021-12-30\n",
            "           ...    \n",
            "3110    2021-01-02\n",
            "3111    2021-01-02\n",
            "3112    2021-01-02\n",
            "3113    2021-01-02\n",
            "3114    2021-01-01\n",
            "Name: date, Length: 3115, dtype: object\n",
            "-----------------------------\n",
            "0       2022-03-05\n",
            "1       2022-03-05\n",
            "2       2022-03-05\n",
            "3       2022-03-05\n",
            "4       2022-03-05\n",
            "           ...    \n",
            "1023    2022-01-03\n",
            "1024    2022-01-02\n",
            "1025    2022-01-02\n",
            "1026    2022-01-01\n",
            "1027    2022-01-01\n",
            "Name: date, Length: 1028, dtype: object\n"
          ]
        }
      ]
    },
    {
      "cell_type": "markdown",
      "source": [
        "Another Interesting part before we continue, is that the timezone is harder to interpret. In 2020.csv file, the timezone column has the same value for all rows (+000), which we interpret as the timezone +0 which is Greenwich. In the other two files, when we look at timezone we see that it uses standard Arabian time"
      ],
      "metadata": {
        "id": "rrrr5J38zTL7"
      }
    },
    {
      "cell_type": "code",
      "source": [
        "print(EM20['timezone'])\n",
        "print('-----------------------------')\n",
        "print(EM21['timezone'])\n",
        "print('-----------------------------')\n",
        "print(EM22['timezone'])"
      ],
      "metadata": {
        "colab": {
          "base_uri": "https://localhost:8080/"
        },
        "id": "zdLFO4e80jJ8",
        "outputId": "5effcf26-c8c9-4ea4-d059-d5e741beaeaa"
      },
      "execution_count": null,
      "outputs": [
        {
          "output_type": "stream",
          "name": "stdout",
          "text": [
            "0        0\n",
            "1        0\n",
            "2        0\n",
            "3        0\n",
            "4        0\n",
            "        ..\n",
            "11712    0\n",
            "11713    0\n",
            "11714    0\n",
            "11715    0\n",
            "11716    0\n",
            "Name: timezone, Length: 11717, dtype: int64\n",
            "-----------------------------\n",
            "0       400\n",
            "1       400\n",
            "2       400\n",
            "3       400\n",
            "4       400\n",
            "       ... \n",
            "3110    400\n",
            "3111    400\n",
            "3112    400\n",
            "3113    400\n",
            "3114    400\n",
            "Name: timezone, Length: 3115, dtype: int64\n",
            "-----------------------------\n",
            "0       400\n",
            "1       400\n",
            "2       400\n",
            "3       400\n",
            "4       400\n",
            "       ... \n",
            "1023    400\n",
            "1024    400\n",
            "1025    400\n",
            "1026    400\n",
            "1027    400\n",
            "Name: timezone, Length: 1028, dtype: int64\n"
          ]
        }
      ]
    },
    {
      "cell_type": "code",
      "source": [
        "#Checking tweet\n",
        "print(EM21['tweet'][0])"
      ],
      "metadata": {
        "colab": {
          "base_uri": "https://localhost:8080/"
        },
        "id": "49r-p3F_1kQr",
        "outputId": "63f42cd4-3b88-4573-a43e-af8ed69b81b0"
      },
      "execution_count": null,
      "outputs": [
        {
          "output_type": "stream",
          "name": "stdout",
          "text": [
            "@roshanpateI 🤣 $7\n"
          ]
        }
      ]
    },
    {
      "cell_type": "markdown",
      "source": [
        "The standard arabian timezons is 4 hours ahead of the Greenwich mean time. To make sure that the hours are the same relative to eachother, we will need to readjust the times."
      ],
      "metadata": {
        "id": "Po5aIaVg0_r7"
      }
    },
    {
      "cell_type": "markdown",
      "source": [
        "----------------------------------------------"
      ],
      "metadata": {
        "id": "ghLrLvFpztje"
      }
    },
    {
      "cell_type": "markdown",
      "source": [
        "# Things to fix\n",
        "\n",
        "*  Make sure the files follow same timezone\n",
        "*  Drop unnecessary columns\n",
        "*  Rename the columns so that they follow the same format\n",
        "*  Remove tweets that are replies/retweets\n",
        "\n",
        "When all of these steps are done, we concatenate the dataframes and push the data to hopsworks\n"
      ],
      "metadata": {
        "id": "kMuaoBGCfvWL"
      }
    },
    {
      "cell_type": "markdown",
      "source": [
        "# This is cleaning for the 2020.csv file"
      ],
      "metadata": {
        "id": "loJQ2SwpEalW"
      }
    },
    {
      "cell_type": "markdown",
      "source": [
        "Important Features needed for this task\n",
        "\n",
        "\n",
        "\n",
        "*   Tweets\n",
        "*   Amount of likes, retweets, and number of replies\n",
        "*   Date and Time\n",
        "*   Hashtags, cashtags, etc\n",
        "*   Any media (photos, videos)\n",
        "\n",
        "\n",
        "(Punkter som jag fick svar från ChatGPT)\n",
        "\n"
      ],
      "metadata": {
        "id": "1239tJXAXMJ8"
      }
    },
    {
      "cell_type": "markdown",
      "source": [
        "Dropping unnecessary columns\n",
        "\n",
        "We will need two different functions since the dataframes have minor differences that needs to be considered"
      ],
      "metadata": {
        "id": "-garlSBD3_QZ"
      }
    },
    {
      "cell_type": "code",
      "source": [
        "print(EM20.columns)"
      ],
      "metadata": {
        "colab": {
          "base_uri": "https://localhost:8080/"
        },
        "id": "Y3iaAmxB4h-Z",
        "outputId": "8e72f820-f3ce-495c-d540-3bbc074a1d1b"
      },
      "execution_count": null,
      "outputs": [
        {
          "output_type": "stream",
          "name": "stdout",
          "text": [
            "Index(['Unnamed: 0', 'id', 'conversation_id', 'created_at', 'date', 'timezone',\n",
            "       'place', 'tweet', 'language', 'hashtags', 'cashtags', 'user_id',\n",
            "       'user_id_str', 'username', 'name', 'day', 'hour', 'link', 'urls',\n",
            "       'photos', 'video', 'thumbnail', 'retweet', 'nlikes', 'nreplies',\n",
            "       'nretweets', 'quote_url', 'search', 'near', 'geo', 'source',\n",
            "       'user_rt_id', 'user_rt', 'retweet_id', 'reply_to', 'retweet_date',\n",
            "       'translate', 'trans_src', 'trans_dest'],\n",
            "      dtype='object')\n"
          ]
        }
      ]
    },
    {
      "cell_type": "code",
      "source": [
        "#This drops and returns the dataframe column for 2020.csv file\n",
        "def drop_cols20(df):\n",
        "  #drops unnecessary columns\n",
        "  drop_cols_10_20 = ['Unnamed: 0', 'id', 'conversation_id', 'place', 'hashtags', 'cashtags', 'user_id','user_id_str', \n",
        "             'link', 'quote_url', 'search', 'geo', 'near', 'source', 'translate', 'trans_src', 'trans_dest', 'retweet_date','thumbnail', 'created_at', 'user_rt_id', 'user_rt',\n",
        "             'retweet_id', 'reply_to', 'hour', 'username', 'name', 'language', 'nretweets', 'nreplies', 'urls', 'photos', 'video']\n",
        "  new_df = df.drop(columns=drop_cols_10_20)\n",
        "  return new_df\n"
      ],
      "metadata": {
        "id": "Msclek2OsNXb"
      },
      "execution_count": null,
      "outputs": []
    },
    {
      "cell_type": "code",
      "source": [
        "newEM20 = drop_cols20(EM20)\n"
      ],
      "metadata": {
        "id": "px2ZGPFK4mWB"
      },
      "execution_count": null,
      "outputs": []
    },
    {
      "cell_type": "code",
      "source": [
        "newEM20 = newEM20.rename(columns={'date': 'datetime'})"
      ],
      "metadata": {
        "id": "KlV9ZwlFBrN5"
      },
      "execution_count": null,
      "outputs": []
    },
    {
      "cell_type": "code",
      "source": [
        "print(newEM20.columns)"
      ],
      "metadata": {
        "colab": {
          "base_uri": "https://localhost:8080/"
        },
        "id": "xkPhz5FT4uXO",
        "outputId": "cd356ca9-5ed1-4237-9c75-089594eb2917"
      },
      "execution_count": null,
      "outputs": [
        {
          "output_type": "stream",
          "name": "stdout",
          "text": [
            "Index(['datetime', 'timezone', 'tweet', 'day', 'retweet', 'nlikes'], dtype='object')\n"
          ]
        }
      ]
    },
    {
      "cell_type": "code",
      "source": [
        "print(newEM20['datetime'][0])\n",
        "print('-------------------------')\n",
        "print(newEM20['timezone'])\n",
        "print('-----------------------')\n",
        "counter = 0\n",
        "for i in newEM20['timezone']:\n",
        "  if i == 0:\n",
        "    i += 1\n",
        "if counter > 0:\n",
        "  print(\"There are multiple timezone\")\n",
        "else:\n",
        "  print(\"There are only one timezone for all the times\")\n",
        "print('-----------------------')\n",
        "\n"
      ],
      "metadata": {
        "colab": {
          "base_uri": "https://localhost:8080/"
        },
        "id": "3WpqwuIt9NAy",
        "outputId": "f614025c-9aa9-4799-aa58-7cea1ab01299"
      },
      "execution_count": null,
      "outputs": [
        {
          "output_type": "stream",
          "name": "stdout",
          "text": [
            "2020-12-28 19:46:18\n",
            "-------------------------\n",
            "0        0\n",
            "1        0\n",
            "2        0\n",
            "3        0\n",
            "4        0\n",
            "        ..\n",
            "11712    0\n",
            "11713    0\n",
            "11714    0\n",
            "11715    0\n",
            "11716    0\n",
            "Name: timezone, Length: 11717, dtype: int64\n",
            "-----------------------\n",
            "There are only one timezone for all the times\n",
            "-----------------------\n"
          ]
        }
      ]
    },
    {
      "cell_type": "code",
      "source": [
        "#Just checking if we have any retweets, if we do we remove that tweet. but this DF does not seem to contain any retweets\n",
        "\n",
        "counter = 0\n",
        "for i in newEM20['retweet']:\n",
        "  if i == True:\n",
        "    i += 1\n",
        "if counter > 0:\n",
        "  print(\"There are\",counter, \"number of retweets\")\n",
        "else:\n",
        "  print(\"There are\",counter, \"number of retweets\")\n",
        "  "
      ],
      "metadata": {
        "colab": {
          "base_uri": "https://localhost:8080/"
        },
        "id": "OIB7wXtc5zhR",
        "outputId": "e44a4a50-64e1-4751-cef1-d8ae384f6a55"
      },
      "execution_count": null,
      "outputs": [
        {
          "output_type": "stream",
          "name": "stdout",
          "text": [
            "There are 0 number of retweets\n"
          ]
        }
      ]
    },
    {
      "cell_type": "code",
      "source": [
        "#since there are no retweets, we can drop that column\n",
        "newEM20 = newEM20.drop(columns=['retweet'])\n"
      ],
      "metadata": {
        "id": "LWAFZKqPCA0S"
      },
      "execution_count": null,
      "outputs": []
    },
    {
      "cell_type": "code",
      "source": [
        "newEM20['day'].value_counts()\n",
        "#An integer representing the days 1 = Monday, 2 = Tuesday, etc"
      ],
      "metadata": {
        "colab": {
          "base_uri": "https://localhost:8080/"
        },
        "id": "z4QXlyS16wkD",
        "outputId": "78600a93-db9d-4f62-aeb3-c55f89478d6c"
      },
      "execution_count": null,
      "outputs": [
        {
          "output_type": "execute_result",
          "data": {
            "text/plain": [
              "5    1943\n",
              "6    1747\n",
              "4    1737\n",
              "7    1701\n",
              "2    1532\n",
              "3    1529\n",
              "1    1528\n",
              "Name: day, dtype: int64"
            ]
          },
          "metadata": {},
          "execution_count": 125
        }
      ]
    },
    {
      "cell_type": "markdown",
      "source": [
        "Converting Time and Date\n",
        "\n",
        "As previously mentioned, we need to adjust the times and dates to make sure the dataframes follow the same format.\n",
        "\n",
        "We will the create two new columns, one for the time and one for the date instead of having it as a single string in one column"
      ],
      "metadata": {
        "id": "rylcaD0IxL40"
      }
    },
    {
      "cell_type": "code",
      "source": [
        "#The value in this column will be in the same type as EM22\n",
        "#print(EM22[\"created_at\"][0])\n",
        "# YYYY-MM-DD HH:MM:SS Timezone\n",
        "\n",
        "#EM10 is in timezone 0 (greenwich) 1 hour after Swedish time\n",
        "print(EM21['created_at'][0])\n",
        "print('---------------------')\n",
        "print(EM20['date'][0])"
      ],
      "metadata": {
        "colab": {
          "base_uri": "https://localhost:8080/"
        },
        "id": "1rIW9D2sgW3t",
        "outputId": "7780c5bd-9896-4825-835b-8f4f2a74e25b"
      },
      "execution_count": null,
      "outputs": [
        {
          "output_type": "stream",
          "name": "stdout",
          "text": [
            "2021-12-31 01:11:23 Arabian Standard Time\n",
            "---------------------\n",
            "2020-12-28 19:46:18\n"
          ]
        }
      ]
    },
    {
      "cell_type": "code",
      "source": [
        "copy_df = newEM20.copy()"
      ],
      "metadata": {
        "id": "IAB3P67x-3Tf"
      },
      "execution_count": null,
      "outputs": []
    },
    {
      "cell_type": "code",
      "source": [
        "copy_df.head()"
      ],
      "metadata": {
        "colab": {
          "base_uri": "https://localhost:8080/",
          "height": 206
        },
        "id": "78idCUXoA3D2",
        "outputId": "42e21dc2-7d7a-4636-cf0c-7f466c311dd2"
      },
      "execution_count": null,
      "outputs": [
        {
          "output_type": "execute_result",
          "data": {
            "text/plain": [
              "              datetime  timezone  \\\n",
              "0  2020-12-28 19:46:18         0   \n",
              "1  2020-12-28 18:07:33         0   \n",
              "2  2020-12-28 17:23:51         0   \n",
              "3  2020-12-28 17:23:31         0   \n",
              "4  2020-12-28 05:39:42         0   \n",
              "\n",
              "                                               tweet  day  nlikes  \n",
              "0  Entertainment will be critical when cars drive...    1   55085  \n",
              "1  @kimpaquette Just meeting with Larry Ellison t...    1    8631  \n",
              "2                        @richierichhhhh_ Absolutely    1   72434  \n",
              "3  What should Tesla do with in-car gaming in an ...    1   33830  \n",
              "4                          @PPathole @WSJ Absolutely    1    2394  "
            ],
            "text/html": [
              "\n",
              "  <div id=\"df-8cbdc02a-785b-4ac3-bdd9-01bbcaea2e0d\">\n",
              "    <div class=\"colab-df-container\">\n",
              "      <div>\n",
              "<style scoped>\n",
              "    .dataframe tbody tr th:only-of-type {\n",
              "        vertical-align: middle;\n",
              "    }\n",
              "\n",
              "    .dataframe tbody tr th {\n",
              "        vertical-align: top;\n",
              "    }\n",
              "\n",
              "    .dataframe thead th {\n",
              "        text-align: right;\n",
              "    }\n",
              "</style>\n",
              "<table border=\"1\" class=\"dataframe\">\n",
              "  <thead>\n",
              "    <tr style=\"text-align: right;\">\n",
              "      <th></th>\n",
              "      <th>datetime</th>\n",
              "      <th>timezone</th>\n",
              "      <th>tweet</th>\n",
              "      <th>day</th>\n",
              "      <th>nlikes</th>\n",
              "    </tr>\n",
              "  </thead>\n",
              "  <tbody>\n",
              "    <tr>\n",
              "      <th>0</th>\n",
              "      <td>2020-12-28 19:46:18</td>\n",
              "      <td>0</td>\n",
              "      <td>Entertainment will be critical when cars drive...</td>\n",
              "      <td>1</td>\n",
              "      <td>55085</td>\n",
              "    </tr>\n",
              "    <tr>\n",
              "      <th>1</th>\n",
              "      <td>2020-12-28 18:07:33</td>\n",
              "      <td>0</td>\n",
              "      <td>@kimpaquette Just meeting with Larry Ellison t...</td>\n",
              "      <td>1</td>\n",
              "      <td>8631</td>\n",
              "    </tr>\n",
              "    <tr>\n",
              "      <th>2</th>\n",
              "      <td>2020-12-28 17:23:51</td>\n",
              "      <td>0</td>\n",
              "      <td>@richierichhhhh_ Absolutely</td>\n",
              "      <td>1</td>\n",
              "      <td>72434</td>\n",
              "    </tr>\n",
              "    <tr>\n",
              "      <th>3</th>\n",
              "      <td>2020-12-28 17:23:31</td>\n",
              "      <td>0</td>\n",
              "      <td>What should Tesla do with in-car gaming in an ...</td>\n",
              "      <td>1</td>\n",
              "      <td>33830</td>\n",
              "    </tr>\n",
              "    <tr>\n",
              "      <th>4</th>\n",
              "      <td>2020-12-28 05:39:42</td>\n",
              "      <td>0</td>\n",
              "      <td>@PPathole @WSJ Absolutely</td>\n",
              "      <td>1</td>\n",
              "      <td>2394</td>\n",
              "    </tr>\n",
              "  </tbody>\n",
              "</table>\n",
              "</div>\n",
              "      <button class=\"colab-df-convert\" onclick=\"convertToInteractive('df-8cbdc02a-785b-4ac3-bdd9-01bbcaea2e0d')\"\n",
              "              title=\"Convert this dataframe to an interactive table.\"\n",
              "              style=\"display:none;\">\n",
              "        \n",
              "  <svg xmlns=\"http://www.w3.org/2000/svg\" height=\"24px\"viewBox=\"0 0 24 24\"\n",
              "       width=\"24px\">\n",
              "    <path d=\"M0 0h24v24H0V0z\" fill=\"none\"/>\n",
              "    <path d=\"M18.56 5.44l.94 2.06.94-2.06 2.06-.94-2.06-.94-.94-2.06-.94 2.06-2.06.94zm-11 1L8.5 8.5l.94-2.06 2.06-.94-2.06-.94L8.5 2.5l-.94 2.06-2.06.94zm10 10l.94 2.06.94-2.06 2.06-.94-2.06-.94-.94-2.06-.94 2.06-2.06.94z\"/><path d=\"M17.41 7.96l-1.37-1.37c-.4-.4-.92-.59-1.43-.59-.52 0-1.04.2-1.43.59L10.3 9.45l-7.72 7.72c-.78.78-.78 2.05 0 2.83L4 21.41c.39.39.9.59 1.41.59.51 0 1.02-.2 1.41-.59l7.78-7.78 2.81-2.81c.8-.78.8-2.07 0-2.86zM5.41 20L4 18.59l7.72-7.72 1.47 1.35L5.41 20z\"/>\n",
              "  </svg>\n",
              "      </button>\n",
              "      \n",
              "  <style>\n",
              "    .colab-df-container {\n",
              "      display:flex;\n",
              "      flex-wrap:wrap;\n",
              "      gap: 12px;\n",
              "    }\n",
              "\n",
              "    .colab-df-convert {\n",
              "      background-color: #E8F0FE;\n",
              "      border: none;\n",
              "      border-radius: 50%;\n",
              "      cursor: pointer;\n",
              "      display: none;\n",
              "      fill: #1967D2;\n",
              "      height: 32px;\n",
              "      padding: 0 0 0 0;\n",
              "      width: 32px;\n",
              "    }\n",
              "\n",
              "    .colab-df-convert:hover {\n",
              "      background-color: #E2EBFA;\n",
              "      box-shadow: 0px 1px 2px rgba(60, 64, 67, 0.3), 0px 1px 3px 1px rgba(60, 64, 67, 0.15);\n",
              "      fill: #174EA6;\n",
              "    }\n",
              "\n",
              "    [theme=dark] .colab-df-convert {\n",
              "      background-color: #3B4455;\n",
              "      fill: #D2E3FC;\n",
              "    }\n",
              "\n",
              "    [theme=dark] .colab-df-convert:hover {\n",
              "      background-color: #434B5C;\n",
              "      box-shadow: 0px 1px 3px 1px rgba(0, 0, 0, 0.15);\n",
              "      filter: drop-shadow(0px 1px 2px rgba(0, 0, 0, 0.3));\n",
              "      fill: #FFFFFF;\n",
              "    }\n",
              "  </style>\n",
              "\n",
              "      <script>\n",
              "        const buttonEl =\n",
              "          document.querySelector('#df-8cbdc02a-785b-4ac3-bdd9-01bbcaea2e0d button.colab-df-convert');\n",
              "        buttonEl.style.display =\n",
              "          google.colab.kernel.accessAllowed ? 'block' : 'none';\n",
              "\n",
              "        async function convertToInteractive(key) {\n",
              "          const element = document.querySelector('#df-8cbdc02a-785b-4ac3-bdd9-01bbcaea2e0d');\n",
              "          const dataTable =\n",
              "            await google.colab.kernel.invokeFunction('convertToInteractive',\n",
              "                                                     [key], {});\n",
              "          if (!dataTable) return;\n",
              "\n",
              "          const docLinkHtml = 'Like what you see? Visit the ' +\n",
              "            '<a target=\"_blank\" href=https://colab.research.google.com/notebooks/data_table.ipynb>data table notebook</a>'\n",
              "            + ' to learn more about interactive tables.';\n",
              "          element.innerHTML = '';\n",
              "          dataTable['output_type'] = 'display_data';\n",
              "          await google.colab.output.renderOutput(dataTable, element);\n",
              "          const docLink = document.createElement('div');\n",
              "          docLink.innerHTML = docLinkHtml;\n",
              "          element.appendChild(docLink);\n",
              "        }\n",
              "      </script>\n",
              "    </div>\n",
              "  </div>\n",
              "  "
            ]
          },
          "metadata": {},
          "execution_count": 129
        }
      ]
    },
    {
      "cell_type": "code",
      "source": [
        "copy_df = copy_df.rename(columns={'date': 'datetime'})"
      ],
      "metadata": {
        "id": "blcv4sEIBlFw"
      },
      "execution_count": null,
      "outputs": []
    },
    {
      "cell_type": "code",
      "source": [
        "copy_df['datetime'] = pd.to_datetime(copy_df['datetime'])\n",
        "copy_df['datetime'] = copy_df['datetime'] + timedelta(hours=1)\n",
        "copy_df['date'] = copy_df['datetime'].dt.strftime(\"%Y-%m-%d\")\n",
        "copy_df['time'] = copy_df['datetime'].dt.strftime(\"%H:%M:%S\")"
      ],
      "metadata": {
        "id": "6AWAVPHeBanS"
      },
      "execution_count": null,
      "outputs": []
    },
    {
      "cell_type": "code",
      "source": [
        "copy_df.head()"
      ],
      "metadata": {
        "colab": {
          "base_uri": "https://localhost:8080/",
          "height": 206
        },
        "id": "I9KLMeoBaO22",
        "outputId": "9040c570-e4ef-44ca-bc71-df1bcc1de402"
      },
      "execution_count": null,
      "outputs": [
        {
          "output_type": "execute_result",
          "data": {
            "text/plain": [
              "             datetime  timezone  \\\n",
              "0 2020-12-28 20:46:18       0.0   \n",
              "1 2020-12-28 19:07:33       0.0   \n",
              "2 2020-12-28 18:23:51       0.0   \n",
              "3 2020-12-28 18:23:31       0.0   \n",
              "4 2020-12-28 06:39:42       0.0   \n",
              "\n",
              "                                               tweet  day   nlikes  \\\n",
              "0  Entertainment will be critical when cars drive...  1.0  55085.0   \n",
              "1  @kimpaquette Just meeting with Larry Ellison t...  1.0   8631.0   \n",
              "2                        @richierichhhhh_ Absolutely  1.0  72434.0   \n",
              "3  What should Tesla do with in-car gaming in an ...  1.0  33830.0   \n",
              "4                          @PPathole @WSJ Absolutely  1.0   2394.0   \n",
              "\n",
              "         date      time  \n",
              "0  2020-12-28  20:46:18  \n",
              "1  2020-12-28  19:07:33  \n",
              "2  2020-12-28  18:23:51  \n",
              "3  2020-12-28  18:23:31  \n",
              "4  2020-12-28  06:39:42  "
            ],
            "text/html": [
              "\n",
              "  <div id=\"df-ea644ba8-a834-44a2-b868-df1f688152f7\">\n",
              "    <div class=\"colab-df-container\">\n",
              "      <div>\n",
              "<style scoped>\n",
              "    .dataframe tbody tr th:only-of-type {\n",
              "        vertical-align: middle;\n",
              "    }\n",
              "\n",
              "    .dataframe tbody tr th {\n",
              "        vertical-align: top;\n",
              "    }\n",
              "\n",
              "    .dataframe thead th {\n",
              "        text-align: right;\n",
              "    }\n",
              "</style>\n",
              "<table border=\"1\" class=\"dataframe\">\n",
              "  <thead>\n",
              "    <tr style=\"text-align: right;\">\n",
              "      <th></th>\n",
              "      <th>datetime</th>\n",
              "      <th>timezone</th>\n",
              "      <th>tweet</th>\n",
              "      <th>day</th>\n",
              "      <th>nlikes</th>\n",
              "      <th>date</th>\n",
              "      <th>time</th>\n",
              "    </tr>\n",
              "  </thead>\n",
              "  <tbody>\n",
              "    <tr>\n",
              "      <th>0</th>\n",
              "      <td>2020-12-28 20:46:18</td>\n",
              "      <td>0.0</td>\n",
              "      <td>Entertainment will be critical when cars drive...</td>\n",
              "      <td>1.0</td>\n",
              "      <td>55085.0</td>\n",
              "      <td>2020-12-28</td>\n",
              "      <td>20:46:18</td>\n",
              "    </tr>\n",
              "    <tr>\n",
              "      <th>1</th>\n",
              "      <td>2020-12-28 19:07:33</td>\n",
              "      <td>0.0</td>\n",
              "      <td>@kimpaquette Just meeting with Larry Ellison t...</td>\n",
              "      <td>1.0</td>\n",
              "      <td>8631.0</td>\n",
              "      <td>2020-12-28</td>\n",
              "      <td>19:07:33</td>\n",
              "    </tr>\n",
              "    <tr>\n",
              "      <th>2</th>\n",
              "      <td>2020-12-28 18:23:51</td>\n",
              "      <td>0.0</td>\n",
              "      <td>@richierichhhhh_ Absolutely</td>\n",
              "      <td>1.0</td>\n",
              "      <td>72434.0</td>\n",
              "      <td>2020-12-28</td>\n",
              "      <td>18:23:51</td>\n",
              "    </tr>\n",
              "    <tr>\n",
              "      <th>3</th>\n",
              "      <td>2020-12-28 18:23:31</td>\n",
              "      <td>0.0</td>\n",
              "      <td>What should Tesla do with in-car gaming in an ...</td>\n",
              "      <td>1.0</td>\n",
              "      <td>33830.0</td>\n",
              "      <td>2020-12-28</td>\n",
              "      <td>18:23:31</td>\n",
              "    </tr>\n",
              "    <tr>\n",
              "      <th>4</th>\n",
              "      <td>2020-12-28 06:39:42</td>\n",
              "      <td>0.0</td>\n",
              "      <td>@PPathole @WSJ Absolutely</td>\n",
              "      <td>1.0</td>\n",
              "      <td>2394.0</td>\n",
              "      <td>2020-12-28</td>\n",
              "      <td>06:39:42</td>\n",
              "    </tr>\n",
              "  </tbody>\n",
              "</table>\n",
              "</div>\n",
              "      <button class=\"colab-df-convert\" onclick=\"convertToInteractive('df-ea644ba8-a834-44a2-b868-df1f688152f7')\"\n",
              "              title=\"Convert this dataframe to an interactive table.\"\n",
              "              style=\"display:none;\">\n",
              "        \n",
              "  <svg xmlns=\"http://www.w3.org/2000/svg\" height=\"24px\"viewBox=\"0 0 24 24\"\n",
              "       width=\"24px\">\n",
              "    <path d=\"M0 0h24v24H0V0z\" fill=\"none\"/>\n",
              "    <path d=\"M18.56 5.44l.94 2.06.94-2.06 2.06-.94-2.06-.94-.94-2.06-.94 2.06-2.06.94zm-11 1L8.5 8.5l.94-2.06 2.06-.94-2.06-.94L8.5 2.5l-.94 2.06-2.06.94zm10 10l.94 2.06.94-2.06 2.06-.94-2.06-.94-.94-2.06-.94 2.06-2.06.94z\"/><path d=\"M17.41 7.96l-1.37-1.37c-.4-.4-.92-.59-1.43-.59-.52 0-1.04.2-1.43.59L10.3 9.45l-7.72 7.72c-.78.78-.78 2.05 0 2.83L4 21.41c.39.39.9.59 1.41.59.51 0 1.02-.2 1.41-.59l7.78-7.78 2.81-2.81c.8-.78.8-2.07 0-2.86zM5.41 20L4 18.59l7.72-7.72 1.47 1.35L5.41 20z\"/>\n",
              "  </svg>\n",
              "      </button>\n",
              "      \n",
              "  <style>\n",
              "    .colab-df-container {\n",
              "      display:flex;\n",
              "      flex-wrap:wrap;\n",
              "      gap: 12px;\n",
              "    }\n",
              "\n",
              "    .colab-df-convert {\n",
              "      background-color: #E8F0FE;\n",
              "      border: none;\n",
              "      border-radius: 50%;\n",
              "      cursor: pointer;\n",
              "      display: none;\n",
              "      fill: #1967D2;\n",
              "      height: 32px;\n",
              "      padding: 0 0 0 0;\n",
              "      width: 32px;\n",
              "    }\n",
              "\n",
              "    .colab-df-convert:hover {\n",
              "      background-color: #E2EBFA;\n",
              "      box-shadow: 0px 1px 2px rgba(60, 64, 67, 0.3), 0px 1px 3px 1px rgba(60, 64, 67, 0.15);\n",
              "      fill: #174EA6;\n",
              "    }\n",
              "\n",
              "    [theme=dark] .colab-df-convert {\n",
              "      background-color: #3B4455;\n",
              "      fill: #D2E3FC;\n",
              "    }\n",
              "\n",
              "    [theme=dark] .colab-df-convert:hover {\n",
              "      background-color: #434B5C;\n",
              "      box-shadow: 0px 1px 3px 1px rgba(0, 0, 0, 0.15);\n",
              "      filter: drop-shadow(0px 1px 2px rgba(0, 0, 0, 0.3));\n",
              "      fill: #FFFFFF;\n",
              "    }\n",
              "  </style>\n",
              "\n",
              "      <script>\n",
              "        const buttonEl =\n",
              "          document.querySelector('#df-ea644ba8-a834-44a2-b868-df1f688152f7 button.colab-df-convert');\n",
              "        buttonEl.style.display =\n",
              "          google.colab.kernel.accessAllowed ? 'block' : 'none';\n",
              "\n",
              "        async function convertToInteractive(key) {\n",
              "          const element = document.querySelector('#df-ea644ba8-a834-44a2-b868-df1f688152f7');\n",
              "          const dataTable =\n",
              "            await google.colab.kernel.invokeFunction('convertToInteractive',\n",
              "                                                     [key], {});\n",
              "          if (!dataTable) return;\n",
              "\n",
              "          const docLinkHtml = 'Like what you see? Visit the ' +\n",
              "            '<a target=\"_blank\" href=https://colab.research.google.com/notebooks/data_table.ipynb>data table notebook</a>'\n",
              "            + ' to learn more about interactive tables.';\n",
              "          element.innerHTML = '';\n",
              "          dataTable['output_type'] = 'display_data';\n",
              "          await google.colab.output.renderOutput(dataTable, element);\n",
              "          const docLink = document.createElement('div');\n",
              "          docLink.innerHTML = docLinkHtml;\n",
              "          element.appendChild(docLink);\n",
              "        }\n",
              "      </script>\n",
              "    </div>\n",
              "  </div>\n",
              "  "
            ]
          },
          "metadata": {},
          "execution_count": 14
        }
      ]
    },
    {
      "cell_type": "code",
      "source": [
        "copy_df.head()"
      ],
      "metadata": {
        "colab": {
          "base_uri": "https://localhost:8080/",
          "height": 206
        },
        "id": "YtX8EXEUCbj9",
        "outputId": "3565fec7-80f6-4b4e-ecae-c8bb333b2e90"
      },
      "execution_count": null,
      "outputs": [
        {
          "output_type": "execute_result",
          "data": {
            "text/plain": [
              "             datetime  timezone  \\\n",
              "0 2020-12-28 19:46:18         0   \n",
              "1 2020-12-28 18:07:33         0   \n",
              "2 2020-12-28 17:23:51         0   \n",
              "3 2020-12-28 17:23:31         0   \n",
              "4 2020-12-28 05:39:42         0   \n",
              "\n",
              "                                               tweet  day  nlikes        date  \\\n",
              "0  Entertainment will be critical when cars drive...    1   55085  2020-12-28   \n",
              "1  @kimpaquette Just meeting with Larry Ellison t...    1    8631  2020-12-28   \n",
              "2                        @richierichhhhh_ Absolutely    1   72434  2020-12-28   \n",
              "3  What should Tesla do with in-car gaming in an ...    1   33830  2020-12-28   \n",
              "4                          @PPathole @WSJ Absolutely    1    2394  2020-12-28   \n",
              "\n",
              "       time  \n",
              "0  19:46:18  \n",
              "1  18:07:33  \n",
              "2  17:23:51  \n",
              "3  17:23:31  \n",
              "4  05:39:42  "
            ],
            "text/html": [
              "\n",
              "  <div id=\"df-129cc606-f3e4-4fad-aade-24fdaa786d2c\">\n",
              "    <div class=\"colab-df-container\">\n",
              "      <div>\n",
              "<style scoped>\n",
              "    .dataframe tbody tr th:only-of-type {\n",
              "        vertical-align: middle;\n",
              "    }\n",
              "\n",
              "    .dataframe tbody tr th {\n",
              "        vertical-align: top;\n",
              "    }\n",
              "\n",
              "    .dataframe thead th {\n",
              "        text-align: right;\n",
              "    }\n",
              "</style>\n",
              "<table border=\"1\" class=\"dataframe\">\n",
              "  <thead>\n",
              "    <tr style=\"text-align: right;\">\n",
              "      <th></th>\n",
              "      <th>datetime</th>\n",
              "      <th>timezone</th>\n",
              "      <th>tweet</th>\n",
              "      <th>day</th>\n",
              "      <th>nlikes</th>\n",
              "      <th>date</th>\n",
              "      <th>time</th>\n",
              "    </tr>\n",
              "  </thead>\n",
              "  <tbody>\n",
              "    <tr>\n",
              "      <th>0</th>\n",
              "      <td>2020-12-28 19:46:18</td>\n",
              "      <td>0</td>\n",
              "      <td>Entertainment will be critical when cars drive...</td>\n",
              "      <td>1</td>\n",
              "      <td>55085</td>\n",
              "      <td>2020-12-28</td>\n",
              "      <td>19:46:18</td>\n",
              "    </tr>\n",
              "    <tr>\n",
              "      <th>1</th>\n",
              "      <td>2020-12-28 18:07:33</td>\n",
              "      <td>0</td>\n",
              "      <td>@kimpaquette Just meeting with Larry Ellison t...</td>\n",
              "      <td>1</td>\n",
              "      <td>8631</td>\n",
              "      <td>2020-12-28</td>\n",
              "      <td>18:07:33</td>\n",
              "    </tr>\n",
              "    <tr>\n",
              "      <th>2</th>\n",
              "      <td>2020-12-28 17:23:51</td>\n",
              "      <td>0</td>\n",
              "      <td>@richierichhhhh_ Absolutely</td>\n",
              "      <td>1</td>\n",
              "      <td>72434</td>\n",
              "      <td>2020-12-28</td>\n",
              "      <td>17:23:51</td>\n",
              "    </tr>\n",
              "    <tr>\n",
              "      <th>3</th>\n",
              "      <td>2020-12-28 17:23:31</td>\n",
              "      <td>0</td>\n",
              "      <td>What should Tesla do with in-car gaming in an ...</td>\n",
              "      <td>1</td>\n",
              "      <td>33830</td>\n",
              "      <td>2020-12-28</td>\n",
              "      <td>17:23:31</td>\n",
              "    </tr>\n",
              "    <tr>\n",
              "      <th>4</th>\n",
              "      <td>2020-12-28 05:39:42</td>\n",
              "      <td>0</td>\n",
              "      <td>@PPathole @WSJ Absolutely</td>\n",
              "      <td>1</td>\n",
              "      <td>2394</td>\n",
              "      <td>2020-12-28</td>\n",
              "      <td>05:39:42</td>\n",
              "    </tr>\n",
              "  </tbody>\n",
              "</table>\n",
              "</div>\n",
              "      <button class=\"colab-df-convert\" onclick=\"convertToInteractive('df-129cc606-f3e4-4fad-aade-24fdaa786d2c')\"\n",
              "              title=\"Convert this dataframe to an interactive table.\"\n",
              "              style=\"display:none;\">\n",
              "        \n",
              "  <svg xmlns=\"http://www.w3.org/2000/svg\" height=\"24px\"viewBox=\"0 0 24 24\"\n",
              "       width=\"24px\">\n",
              "    <path d=\"M0 0h24v24H0V0z\" fill=\"none\"/>\n",
              "    <path d=\"M18.56 5.44l.94 2.06.94-2.06 2.06-.94-2.06-.94-.94-2.06-.94 2.06-2.06.94zm-11 1L8.5 8.5l.94-2.06 2.06-.94-2.06-.94L8.5 2.5l-.94 2.06-2.06.94zm10 10l.94 2.06.94-2.06 2.06-.94-2.06-.94-.94-2.06-.94 2.06-2.06.94z\"/><path d=\"M17.41 7.96l-1.37-1.37c-.4-.4-.92-.59-1.43-.59-.52 0-1.04.2-1.43.59L10.3 9.45l-7.72 7.72c-.78.78-.78 2.05 0 2.83L4 21.41c.39.39.9.59 1.41.59.51 0 1.02-.2 1.41-.59l7.78-7.78 2.81-2.81c.8-.78.8-2.07 0-2.86zM5.41 20L4 18.59l7.72-7.72 1.47 1.35L5.41 20z\"/>\n",
              "  </svg>\n",
              "      </button>\n",
              "      \n",
              "  <style>\n",
              "    .colab-df-container {\n",
              "      display:flex;\n",
              "      flex-wrap:wrap;\n",
              "      gap: 12px;\n",
              "    }\n",
              "\n",
              "    .colab-df-convert {\n",
              "      background-color: #E8F0FE;\n",
              "      border: none;\n",
              "      border-radius: 50%;\n",
              "      cursor: pointer;\n",
              "      display: none;\n",
              "      fill: #1967D2;\n",
              "      height: 32px;\n",
              "      padding: 0 0 0 0;\n",
              "      width: 32px;\n",
              "    }\n",
              "\n",
              "    .colab-df-convert:hover {\n",
              "      background-color: #E2EBFA;\n",
              "      box-shadow: 0px 1px 2px rgba(60, 64, 67, 0.3), 0px 1px 3px 1px rgba(60, 64, 67, 0.15);\n",
              "      fill: #174EA6;\n",
              "    }\n",
              "\n",
              "    [theme=dark] .colab-df-convert {\n",
              "      background-color: #3B4455;\n",
              "      fill: #D2E3FC;\n",
              "    }\n",
              "\n",
              "    [theme=dark] .colab-df-convert:hover {\n",
              "      background-color: #434B5C;\n",
              "      box-shadow: 0px 1px 3px 1px rgba(0, 0, 0, 0.15);\n",
              "      filter: drop-shadow(0px 1px 2px rgba(0, 0, 0, 0.3));\n",
              "      fill: #FFFFFF;\n",
              "    }\n",
              "  </style>\n",
              "\n",
              "      <script>\n",
              "        const buttonEl =\n",
              "          document.querySelector('#df-129cc606-f3e4-4fad-aade-24fdaa786d2c button.colab-df-convert');\n",
              "        buttonEl.style.display =\n",
              "          google.colab.kernel.accessAllowed ? 'block' : 'none';\n",
              "\n",
              "        async function convertToInteractive(key) {\n",
              "          const element = document.querySelector('#df-129cc606-f3e4-4fad-aade-24fdaa786d2c');\n",
              "          const dataTable =\n",
              "            await google.colab.kernel.invokeFunction('convertToInteractive',\n",
              "                                                     [key], {});\n",
              "          if (!dataTable) return;\n",
              "\n",
              "          const docLinkHtml = 'Like what you see? Visit the ' +\n",
              "            '<a target=\"_blank\" href=https://colab.research.google.com/notebooks/data_table.ipynb>data table notebook</a>'\n",
              "            + ' to learn more about interactive tables.';\n",
              "          element.innerHTML = '';\n",
              "          dataTable['output_type'] = 'display_data';\n",
              "          await google.colab.output.renderOutput(dataTable, element);\n",
              "          const docLink = document.createElement('div');\n",
              "          docLink.innerHTML = docLinkHtml;\n",
              "          element.appendChild(docLink);\n",
              "        }\n",
              "      </script>\n",
              "    </div>\n",
              "  </div>\n",
              "  "
            ]
          },
          "metadata": {},
          "execution_count": 132
        }
      ]
    },
    {
      "cell_type": "markdown",
      "source": [
        "Now we have, for each tweet, converted the time to Swedish time, aswell as created two seperate columns for time and date, we could therefore remove the datetime column"
      ],
      "metadata": {
        "id": "FacvlriECfl0"
      }
    },
    {
      "cell_type": "code",
      "source": [
        "copy_df = copy_df.drop(columns=['datetime', 'timezone'])"
      ],
      "metadata": {
        "id": "sui-ANAJCo1X"
      },
      "execution_count": null,
      "outputs": []
    },
    {
      "cell_type": "code",
      "source": [
        "copy_df.head()"
      ],
      "metadata": {
        "colab": {
          "base_uri": "https://localhost:8080/",
          "height": 206
        },
        "id": "GiWq5dR8Cvta",
        "outputId": "94dd5a7f-d1a4-4abb-adf2-54d1dc1cf3c1"
      },
      "execution_count": null,
      "outputs": [
        {
          "output_type": "execute_result",
          "data": {
            "text/plain": [
              "             datetime  timezone  \\\n",
              "0 2020-12-28 20:46:18       0.0   \n",
              "1 2020-12-28 19:07:33       0.0   \n",
              "2 2020-12-28 18:23:51       0.0   \n",
              "3 2020-12-28 18:23:31       0.0   \n",
              "4 2020-12-28 06:39:42       0.0   \n",
              "\n",
              "                                               tweet  day   nlikes  \\\n",
              "0  Entertainment will be critical when cars drive...  1.0  55085.0   \n",
              "1  @kimpaquette Just meeting with Larry Ellison t...  1.0   8631.0   \n",
              "2                        @richierichhhhh_ Absolutely  1.0  72434.0   \n",
              "3  What should Tesla do with in-car gaming in an ...  1.0  33830.0   \n",
              "4                          @PPathole @WSJ Absolutely  1.0   2394.0   \n",
              "\n",
              "         date      time  \n",
              "0  2020-12-28  20:46:18  \n",
              "1  2020-12-28  19:07:33  \n",
              "2  2020-12-28  18:23:51  \n",
              "3  2020-12-28  18:23:31  \n",
              "4  2020-12-28  06:39:42  "
            ],
            "text/html": [
              "\n",
              "  <div id=\"df-8fb8f90a-e72b-49ec-bc1b-c3fbc07bbd69\">\n",
              "    <div class=\"colab-df-container\">\n",
              "      <div>\n",
              "<style scoped>\n",
              "    .dataframe tbody tr th:only-of-type {\n",
              "        vertical-align: middle;\n",
              "    }\n",
              "\n",
              "    .dataframe tbody tr th {\n",
              "        vertical-align: top;\n",
              "    }\n",
              "\n",
              "    .dataframe thead th {\n",
              "        text-align: right;\n",
              "    }\n",
              "</style>\n",
              "<table border=\"1\" class=\"dataframe\">\n",
              "  <thead>\n",
              "    <tr style=\"text-align: right;\">\n",
              "      <th></th>\n",
              "      <th>datetime</th>\n",
              "      <th>timezone</th>\n",
              "      <th>tweet</th>\n",
              "      <th>day</th>\n",
              "      <th>nlikes</th>\n",
              "      <th>date</th>\n",
              "      <th>time</th>\n",
              "    </tr>\n",
              "  </thead>\n",
              "  <tbody>\n",
              "    <tr>\n",
              "      <th>0</th>\n",
              "      <td>2020-12-28 20:46:18</td>\n",
              "      <td>0.0</td>\n",
              "      <td>Entertainment will be critical when cars drive...</td>\n",
              "      <td>1.0</td>\n",
              "      <td>55085.0</td>\n",
              "      <td>2020-12-28</td>\n",
              "      <td>20:46:18</td>\n",
              "    </tr>\n",
              "    <tr>\n",
              "      <th>1</th>\n",
              "      <td>2020-12-28 19:07:33</td>\n",
              "      <td>0.0</td>\n",
              "      <td>@kimpaquette Just meeting with Larry Ellison t...</td>\n",
              "      <td>1.0</td>\n",
              "      <td>8631.0</td>\n",
              "      <td>2020-12-28</td>\n",
              "      <td>19:07:33</td>\n",
              "    </tr>\n",
              "    <tr>\n",
              "      <th>2</th>\n",
              "      <td>2020-12-28 18:23:51</td>\n",
              "      <td>0.0</td>\n",
              "      <td>@richierichhhhh_ Absolutely</td>\n",
              "      <td>1.0</td>\n",
              "      <td>72434.0</td>\n",
              "      <td>2020-12-28</td>\n",
              "      <td>18:23:51</td>\n",
              "    </tr>\n",
              "    <tr>\n",
              "      <th>3</th>\n",
              "      <td>2020-12-28 18:23:31</td>\n",
              "      <td>0.0</td>\n",
              "      <td>What should Tesla do with in-car gaming in an ...</td>\n",
              "      <td>1.0</td>\n",
              "      <td>33830.0</td>\n",
              "      <td>2020-12-28</td>\n",
              "      <td>18:23:31</td>\n",
              "    </tr>\n",
              "    <tr>\n",
              "      <th>4</th>\n",
              "      <td>2020-12-28 06:39:42</td>\n",
              "      <td>0.0</td>\n",
              "      <td>@PPathole @WSJ Absolutely</td>\n",
              "      <td>1.0</td>\n",
              "      <td>2394.0</td>\n",
              "      <td>2020-12-28</td>\n",
              "      <td>06:39:42</td>\n",
              "    </tr>\n",
              "  </tbody>\n",
              "</table>\n",
              "</div>\n",
              "      <button class=\"colab-df-convert\" onclick=\"convertToInteractive('df-8fb8f90a-e72b-49ec-bc1b-c3fbc07bbd69')\"\n",
              "              title=\"Convert this dataframe to an interactive table.\"\n",
              "              style=\"display:none;\">\n",
              "        \n",
              "  <svg xmlns=\"http://www.w3.org/2000/svg\" height=\"24px\"viewBox=\"0 0 24 24\"\n",
              "       width=\"24px\">\n",
              "    <path d=\"M0 0h24v24H0V0z\" fill=\"none\"/>\n",
              "    <path d=\"M18.56 5.44l.94 2.06.94-2.06 2.06-.94-2.06-.94-.94-2.06-.94 2.06-2.06.94zm-11 1L8.5 8.5l.94-2.06 2.06-.94-2.06-.94L8.5 2.5l-.94 2.06-2.06.94zm10 10l.94 2.06.94-2.06 2.06-.94-2.06-.94-.94-2.06-.94 2.06-2.06.94z\"/><path d=\"M17.41 7.96l-1.37-1.37c-.4-.4-.92-.59-1.43-.59-.52 0-1.04.2-1.43.59L10.3 9.45l-7.72 7.72c-.78.78-.78 2.05 0 2.83L4 21.41c.39.39.9.59 1.41.59.51 0 1.02-.2 1.41-.59l7.78-7.78 2.81-2.81c.8-.78.8-2.07 0-2.86zM5.41 20L4 18.59l7.72-7.72 1.47 1.35L5.41 20z\"/>\n",
              "  </svg>\n",
              "      </button>\n",
              "      \n",
              "  <style>\n",
              "    .colab-df-container {\n",
              "      display:flex;\n",
              "      flex-wrap:wrap;\n",
              "      gap: 12px;\n",
              "    }\n",
              "\n",
              "    .colab-df-convert {\n",
              "      background-color: #E8F0FE;\n",
              "      border: none;\n",
              "      border-radius: 50%;\n",
              "      cursor: pointer;\n",
              "      display: none;\n",
              "      fill: #1967D2;\n",
              "      height: 32px;\n",
              "      padding: 0 0 0 0;\n",
              "      width: 32px;\n",
              "    }\n",
              "\n",
              "    .colab-df-convert:hover {\n",
              "      background-color: #E2EBFA;\n",
              "      box-shadow: 0px 1px 2px rgba(60, 64, 67, 0.3), 0px 1px 3px 1px rgba(60, 64, 67, 0.15);\n",
              "      fill: #174EA6;\n",
              "    }\n",
              "\n",
              "    [theme=dark] .colab-df-convert {\n",
              "      background-color: #3B4455;\n",
              "      fill: #D2E3FC;\n",
              "    }\n",
              "\n",
              "    [theme=dark] .colab-df-convert:hover {\n",
              "      background-color: #434B5C;\n",
              "      box-shadow: 0px 1px 3px 1px rgba(0, 0, 0, 0.15);\n",
              "      filter: drop-shadow(0px 1px 2px rgba(0, 0, 0, 0.3));\n",
              "      fill: #FFFFFF;\n",
              "    }\n",
              "  </style>\n",
              "\n",
              "      <script>\n",
              "        const buttonEl =\n",
              "          document.querySelector('#df-8fb8f90a-e72b-49ec-bc1b-c3fbc07bbd69 button.colab-df-convert');\n",
              "        buttonEl.style.display =\n",
              "          google.colab.kernel.accessAllowed ? 'block' : 'none';\n",
              "\n",
              "        async function convertToInteractive(key) {\n",
              "          const element = document.querySelector('#df-8fb8f90a-e72b-49ec-bc1b-c3fbc07bbd69');\n",
              "          const dataTable =\n",
              "            await google.colab.kernel.invokeFunction('convertToInteractive',\n",
              "                                                     [key], {});\n",
              "          if (!dataTable) return;\n",
              "\n",
              "          const docLinkHtml = 'Like what you see? Visit the ' +\n",
              "            '<a target=\"_blank\" href=https://colab.research.google.com/notebooks/data_table.ipynb>data table notebook</a>'\n",
              "            + ' to learn more about interactive tables.';\n",
              "          element.innerHTML = '';\n",
              "          dataTable['output_type'] = 'display_data';\n",
              "          await google.colab.output.renderOutput(dataTable, element);\n",
              "          const docLink = document.createElement('div');\n",
              "          docLink.innerHTML = docLinkHtml;\n",
              "          element.appendChild(docLink);\n",
              "        }\n",
              "      </script>\n",
              "    </div>\n",
              "  </div>\n",
              "  "
            ]
          },
          "metadata": {},
          "execution_count": 15
        }
      ]
    },
    {
      "cell_type": "code",
      "source": [
        "copy_df.shape"
      ],
      "metadata": {
        "colab": {
          "base_uri": "https://localhost:8080/"
        },
        "id": "9l5p2WfmCz8Z",
        "outputId": "b62fe58f-1ccc-4ef1-f08c-cf8decda601b"
      },
      "execution_count": null,
      "outputs": [
        {
          "output_type": "execute_result",
          "data": {
            "text/plain": [
              "(11717, 5)"
            ]
          },
          "metadata": {},
          "execution_count": 135
        }
      ]
    },
    {
      "cell_type": "code",
      "source": [
        "#the 2020.csv file is now cleaned and we save it as another dataframe\n",
        "\n",
        "cleaned_2020_df = copy_df.copy()"
      ],
      "metadata": {
        "id": "TOLEe3H302iJ"
      },
      "execution_count": null,
      "outputs": []
    },
    {
      "cell_type": "markdown",
      "source": [
        "# Cleaning for datasets 2021.csv and 2022.csv\n"
      ],
      "metadata": {
        "id": "gfCqoImQiPQY"
      }
    },
    {
      "cell_type": "code",
      "source": [
        "EM21.columns"
      ],
      "metadata": {
        "colab": {
          "base_uri": "https://localhost:8080/"
        },
        "id": "pwJh05YRiTLO",
        "outputId": "0d75a706-5eb6-4642-ab06-c1acc88a7449"
      },
      "execution_count": null,
      "outputs": [
        {
          "output_type": "execute_result",
          "data": {
            "text/plain": [
              "Index(['id', 'conversation_id', 'created_at', 'date', 'time', 'timezone',\n",
              "       'user_id', 'username', 'name', 'place', 'tweet', 'language', 'mentions',\n",
              "       'urls', 'photos', 'replies_count', 'retweets_count', 'likes_count',\n",
              "       'hashtags', 'cashtags', 'link', 'retweet', 'quote_url', 'video',\n",
              "       'thumbnail', 'near', 'geo', 'source', 'user_rt_id', 'user_rt',\n",
              "       'retweet_id', 'reply_to', 'retweet_date', 'translate', 'trans_src',\n",
              "       'trans_dest'],\n",
              "      dtype='object')"
            ]
          },
          "metadata": {},
          "execution_count": 137
        }
      ]
    },
    {
      "cell_type": "code",
      "source": [
        "EM22.columns"
      ],
      "metadata": {
        "colab": {
          "base_uri": "https://localhost:8080/"
        },
        "id": "RX8mM5ATiZvE",
        "outputId": "a36e60e2-318e-4b71-d109-e6508f238bc3"
      },
      "execution_count": null,
      "outputs": [
        {
          "output_type": "execute_result",
          "data": {
            "text/plain": [
              "Index(['id', 'conversation_id', 'created_at', 'date', 'time', 'timezone',\n",
              "       'user_id', 'username', 'name', 'place', 'tweet', 'language', 'mentions',\n",
              "       'urls', 'photos', 'replies_count', 'retweets_count', 'likes_count',\n",
              "       'hashtags', 'cashtags', 'link', 'retweet', 'quote_url', 'video',\n",
              "       'thumbnail', 'near', 'geo', 'source', 'user_rt_id', 'user_rt',\n",
              "       'retweet_id', 'reply_to', 'retweet_date', 'translate', 'trans_src',\n",
              "       'trans_dest'],\n",
              "      dtype='object')"
            ]
          },
          "metadata": {},
          "execution_count": 138
        }
      ]
    },
    {
      "cell_type": "code",
      "source": [
        "counter = 0\n",
        "for i in EM22['retweet']: \n",
        "  if i == True:\n",
        "    i += 1\n",
        "if counter > 0:\n",
        "  print(\"There are\",counter, \"number of retweets\")\n",
        "else:\n",
        "  print(\"There are\",counter, \"number of retweets\")\n",
        "\n",
        "#no retweets in EM21 and EM22, meaning we can be sure that there are no retweets in this dataset"
      ],
      "metadata": {
        "colab": {
          "base_uri": "https://localhost:8080/"
        },
        "id": "DqrZgMEpjPNx",
        "outputId": "d0a67b45-fc37-4736-9f24-3af4d9836292"
      },
      "execution_count": null,
      "outputs": [
        {
          "output_type": "stream",
          "name": "stdout",
          "text": [
            "There are 0 number of retweets\n"
          ]
        }
      ]
    },
    {
      "cell_type": "code",
      "source": [
        "EM21['username']\n",
        "counter = 0\n",
        "for i in EM21['username']:\n",
        "  if i != \"elonmusk\":\n",
        "    counter += 1\n",
        "\n",
        "print(counter)\n",
        "#Username is only elonmusk\n"
      ],
      "metadata": {
        "colab": {
          "base_uri": "https://localhost:8080/"
        },
        "id": "wlHxj6smidnM",
        "outputId": "9f549cf7-27f0-4dc0-d004-363265237433"
      },
      "execution_count": null,
      "outputs": [
        {
          "output_type": "stream",
          "name": "stdout",
          "text": [
            "0\n"
          ]
        }
      ]
    },
    {
      "cell_type": "code",
      "source": [
        "EM22['username']\n",
        "counter = 0\n",
        "for i in EM22['username']:\n",
        "  if i != \"elonmusk\":\n",
        "    counter += 1\n",
        "\n",
        "print(counter)\n",
        "#Username is only elonmusk\n",
        "\n",
        "#Username for both datasets is unnecessary"
      ],
      "metadata": {
        "colab": {
          "base_uri": "https://localhost:8080/"
        },
        "id": "v1lk2mkwig0D",
        "outputId": "788c314d-7a03-4e17-d902-39a4def52b3e"
      },
      "execution_count": null,
      "outputs": [
        {
          "output_type": "stream",
          "name": "stdout",
          "text": [
            "0\n"
          ]
        }
      ]
    },
    {
      "cell_type": "code",
      "source": [
        "def drop_cols21_22(df):\n",
        "  #drops unnecessary columns\n",
        "  drop_cols_21_22 = ['id', 'conversation_id', 'place', 'hashtags', 'cashtags', 'user_id', \n",
        "             'link', 'quote_url', 'geo', 'near', 'source', 'translate', 'trans_src', 'trans_dest', 'retweet_date','thumbnail', 'created_at', 'user_rt_id', 'user_rt',\n",
        "             'retweet_id', 'reply_to', 'retweet', 'retweet_date', 'username', 'name', 'language', 'mentions', 'urls', 'photos', 'video', 'retweets_count', \"replies_count\"]\n",
        "  new_df = df.drop(columns=drop_cols_21_22)\n",
        "  return new_df"
      ],
      "metadata": {
        "id": "hy6MGouNi_64"
      },
      "execution_count": null,
      "outputs": []
    },
    {
      "cell_type": "code",
      "source": [
        "newEM21 = drop_cols21_22(EM21)"
      ],
      "metadata": {
        "id": "5t2pfIXejyro"
      },
      "execution_count": null,
      "outputs": []
    },
    {
      "cell_type": "code",
      "source": [
        "newEM21.columns"
      ],
      "metadata": {
        "colab": {
          "base_uri": "https://localhost:8080/"
        },
        "id": "eFpvhiHYkD04",
        "outputId": "1a4c6a0f-5c2f-43b8-b729-0af3d5e327e4"
      },
      "execution_count": null,
      "outputs": [
        {
          "output_type": "execute_result",
          "data": {
            "text/plain": [
              "Index(['date', 'time', 'timezone', 'tweet', 'likes_count'], dtype='object')"
            ]
          },
          "metadata": {},
          "execution_count": 144
        }
      ]
    },
    {
      "cell_type": "code",
      "source": [
        "newEM21.head()"
      ],
      "metadata": {
        "colab": {
          "base_uri": "https://localhost:8080/",
          "height": 206
        },
        "id": "7pxPyBsRnrp4",
        "outputId": "9be76645-64e7-4e61-e0e5-a3166d679649"
      },
      "execution_count": null,
      "outputs": [
        {
          "output_type": "execute_result",
          "data": {
            "text/plain": [
              "         date      time  timezone  \\\n",
              "0  2021-12-31  01:11:23       400   \n",
              "1  2021-12-31  00:47:53       400   \n",
              "2  2021-12-31  00:28:51       400   \n",
              "3  2021-12-30  22:23:14       400   \n",
              "4  2021-12-30  22:15:45       400   \n",
              "\n",
              "                                               tweet  likes_count  \n",
              "0                                  @roshanpateI 🤣 $7        13468  \n",
              "1             @tesla_raj Many UI improvements coming        12209  \n",
              "2  @CSmithson80 @heydave7 @BLKMDL3 @mims This cha...         2529  \n",
              "3  @BLKMDL3 @mims Predicting macroeconomics is ch...         5756  \n",
              "4  @mims If history is any guide, not many will m...         5247  "
            ],
            "text/html": [
              "\n",
              "  <div id=\"df-ee1d19ad-1f67-4eb4-9a41-fd5a923b29d5\">\n",
              "    <div class=\"colab-df-container\">\n",
              "      <div>\n",
              "<style scoped>\n",
              "    .dataframe tbody tr th:only-of-type {\n",
              "        vertical-align: middle;\n",
              "    }\n",
              "\n",
              "    .dataframe tbody tr th {\n",
              "        vertical-align: top;\n",
              "    }\n",
              "\n",
              "    .dataframe thead th {\n",
              "        text-align: right;\n",
              "    }\n",
              "</style>\n",
              "<table border=\"1\" class=\"dataframe\">\n",
              "  <thead>\n",
              "    <tr style=\"text-align: right;\">\n",
              "      <th></th>\n",
              "      <th>date</th>\n",
              "      <th>time</th>\n",
              "      <th>timezone</th>\n",
              "      <th>tweet</th>\n",
              "      <th>likes_count</th>\n",
              "    </tr>\n",
              "  </thead>\n",
              "  <tbody>\n",
              "    <tr>\n",
              "      <th>0</th>\n",
              "      <td>2021-12-31</td>\n",
              "      <td>01:11:23</td>\n",
              "      <td>400</td>\n",
              "      <td>@roshanpateI 🤣 $7</td>\n",
              "      <td>13468</td>\n",
              "    </tr>\n",
              "    <tr>\n",
              "      <th>1</th>\n",
              "      <td>2021-12-31</td>\n",
              "      <td>00:47:53</td>\n",
              "      <td>400</td>\n",
              "      <td>@tesla_raj Many UI improvements coming</td>\n",
              "      <td>12209</td>\n",
              "    </tr>\n",
              "    <tr>\n",
              "      <th>2</th>\n",
              "      <td>2021-12-31</td>\n",
              "      <td>00:28:51</td>\n",
              "      <td>400</td>\n",
              "      <td>@CSmithson80 @heydave7 @BLKMDL3 @mims This cha...</td>\n",
              "      <td>2529</td>\n",
              "    </tr>\n",
              "    <tr>\n",
              "      <th>3</th>\n",
              "      <td>2021-12-30</td>\n",
              "      <td>22:23:14</td>\n",
              "      <td>400</td>\n",
              "      <td>@BLKMDL3 @mims Predicting macroeconomics is ch...</td>\n",
              "      <td>5756</td>\n",
              "    </tr>\n",
              "    <tr>\n",
              "      <th>4</th>\n",
              "      <td>2021-12-30</td>\n",
              "      <td>22:15:45</td>\n",
              "      <td>400</td>\n",
              "      <td>@mims If history is any guide, not many will m...</td>\n",
              "      <td>5247</td>\n",
              "    </tr>\n",
              "  </tbody>\n",
              "</table>\n",
              "</div>\n",
              "      <button class=\"colab-df-convert\" onclick=\"convertToInteractive('df-ee1d19ad-1f67-4eb4-9a41-fd5a923b29d5')\"\n",
              "              title=\"Convert this dataframe to an interactive table.\"\n",
              "              style=\"display:none;\">\n",
              "        \n",
              "  <svg xmlns=\"http://www.w3.org/2000/svg\" height=\"24px\"viewBox=\"0 0 24 24\"\n",
              "       width=\"24px\">\n",
              "    <path d=\"M0 0h24v24H0V0z\" fill=\"none\"/>\n",
              "    <path d=\"M18.56 5.44l.94 2.06.94-2.06 2.06-.94-2.06-.94-.94-2.06-.94 2.06-2.06.94zm-11 1L8.5 8.5l.94-2.06 2.06-.94-2.06-.94L8.5 2.5l-.94 2.06-2.06.94zm10 10l.94 2.06.94-2.06 2.06-.94-2.06-.94-.94-2.06-.94 2.06-2.06.94z\"/><path d=\"M17.41 7.96l-1.37-1.37c-.4-.4-.92-.59-1.43-.59-.52 0-1.04.2-1.43.59L10.3 9.45l-7.72 7.72c-.78.78-.78 2.05 0 2.83L4 21.41c.39.39.9.59 1.41.59.51 0 1.02-.2 1.41-.59l7.78-7.78 2.81-2.81c.8-.78.8-2.07 0-2.86zM5.41 20L4 18.59l7.72-7.72 1.47 1.35L5.41 20z\"/>\n",
              "  </svg>\n",
              "      </button>\n",
              "      \n",
              "  <style>\n",
              "    .colab-df-container {\n",
              "      display:flex;\n",
              "      flex-wrap:wrap;\n",
              "      gap: 12px;\n",
              "    }\n",
              "\n",
              "    .colab-df-convert {\n",
              "      background-color: #E8F0FE;\n",
              "      border: none;\n",
              "      border-radius: 50%;\n",
              "      cursor: pointer;\n",
              "      display: none;\n",
              "      fill: #1967D2;\n",
              "      height: 32px;\n",
              "      padding: 0 0 0 0;\n",
              "      width: 32px;\n",
              "    }\n",
              "\n",
              "    .colab-df-convert:hover {\n",
              "      background-color: #E2EBFA;\n",
              "      box-shadow: 0px 1px 2px rgba(60, 64, 67, 0.3), 0px 1px 3px 1px rgba(60, 64, 67, 0.15);\n",
              "      fill: #174EA6;\n",
              "    }\n",
              "\n",
              "    [theme=dark] .colab-df-convert {\n",
              "      background-color: #3B4455;\n",
              "      fill: #D2E3FC;\n",
              "    }\n",
              "\n",
              "    [theme=dark] .colab-df-convert:hover {\n",
              "      background-color: #434B5C;\n",
              "      box-shadow: 0px 1px 3px 1px rgba(0, 0, 0, 0.15);\n",
              "      filter: drop-shadow(0px 1px 2px rgba(0, 0, 0, 0.3));\n",
              "      fill: #FFFFFF;\n",
              "    }\n",
              "  </style>\n",
              "\n",
              "      <script>\n",
              "        const buttonEl =\n",
              "          document.querySelector('#df-ee1d19ad-1f67-4eb4-9a41-fd5a923b29d5 button.colab-df-convert');\n",
              "        buttonEl.style.display =\n",
              "          google.colab.kernel.accessAllowed ? 'block' : 'none';\n",
              "\n",
              "        async function convertToInteractive(key) {\n",
              "          const element = document.querySelector('#df-ee1d19ad-1f67-4eb4-9a41-fd5a923b29d5');\n",
              "          const dataTable =\n",
              "            await google.colab.kernel.invokeFunction('convertToInteractive',\n",
              "                                                     [key], {});\n",
              "          if (!dataTable) return;\n",
              "\n",
              "          const docLinkHtml = 'Like what you see? Visit the ' +\n",
              "            '<a target=\"_blank\" href=https://colab.research.google.com/notebooks/data_table.ipynb>data table notebook</a>'\n",
              "            + ' to learn more about interactive tables.';\n",
              "          element.innerHTML = '';\n",
              "          dataTable['output_type'] = 'display_data';\n",
              "          await google.colab.output.renderOutput(dataTable, element);\n",
              "          const docLink = document.createElement('div');\n",
              "          docLink.innerHTML = docLinkHtml;\n",
              "          element.appendChild(docLink);\n",
              "        }\n",
              "      </script>\n",
              "    </div>\n",
              "  </div>\n",
              "  "
            ]
          },
          "metadata": {},
          "execution_count": 145
        }
      ]
    },
    {
      "cell_type": "markdown",
      "source": [
        "Our \"time\" column is actually a timestamp column. So we rename it accordingly before taking only the time part of the timestamp and add them to a new column called time"
      ],
      "metadata": {
        "id": "U8dm8oKkqNXt"
      }
    },
    {
      "cell_type": "code",
      "source": [
        "newEM21 = newEM21.rename(columns={'time': 'timestamp'})"
      ],
      "metadata": {
        "id": "L_0BaNjQpjYJ"
      },
      "execution_count": null,
      "outputs": []
    },
    {
      "cell_type": "code",
      "source": [
        "newEM21['timestamp'] = pd.to_datetime(newEM21['timestamp'], format='%H:%M:%S')\n",
        "# Extract the time from each timestamp\n",
        "newEM21['time'] = newEM21['timestamp'].dt.time\n",
        "newEM21['time'] = newEM21['time'].astype(str)\n",
        "newEM21 = newEM21.drop(columns=['timestamp'])"
      ],
      "metadata": {
        "id": "LkKIBqceo91h"
      },
      "execution_count": null,
      "outputs": []
    },
    {
      "cell_type": "markdown",
      "source": [
        "Then since the time is in arabian standard time (3 hours ahead of swedish time)\n",
        "we need to subtract 3 hours"
      ],
      "metadata": {
        "id": "y14DV1jjqX4V"
      }
    },
    {
      "cell_type": "code",
      "source": [
        "# Convert the 'date' and 'time' columns to datetime objects\n",
        "newEM21['datetime'] = pd.to_datetime(newEM21['date'] + ' ' + newEM21['time'], format='%Y-%m-%d %H:%M:%S')\n",
        "\n",
        "# Subtract 3 hours from each timestamp\n",
        "newEM21['datetime'] = newEM21['datetime'] - timedelta(hours=3)\n",
        "\n",
        "# Format the 'earlier_timestamp' column as a string\n",
        "newEM21['datetime'] = newEM21['datetime'].dt.strftime('%Y-%m-%d %H:%M:%S')\n"
      ],
      "metadata": {
        "id": "Rop0fHUwqhE0"
      },
      "execution_count": null,
      "outputs": []
    },
    {
      "cell_type": "code",
      "source": [
        "newEM21.head()"
      ],
      "metadata": {
        "colab": {
          "base_uri": "https://localhost:8080/",
          "height": 206
        },
        "id": "GOGJhywVnwhk",
        "outputId": "a3c31a1c-7b46-4a75-c012-72d8129d8256"
      },
      "execution_count": null,
      "outputs": [
        {
          "output_type": "execute_result",
          "data": {
            "text/plain": [
              "         date  timezone                                              tweet  \\\n",
              "0  2021-12-31       400                                  @roshanpateI 🤣 $7   \n",
              "1  2021-12-31       400             @tesla_raj Many UI improvements coming   \n",
              "2  2021-12-31       400  @CSmithson80 @heydave7 @BLKMDL3 @mims This cha...   \n",
              "3  2021-12-30       400  @BLKMDL3 @mims Predicting macroeconomics is ch...   \n",
              "4  2021-12-30       400  @mims If history is any guide, not many will m...   \n",
              "\n",
              "   likes_count      time             datetime  \n",
              "0        13468  01:11:23  2021-12-30 22:11:23  \n",
              "1        12209  00:47:53  2021-12-30 21:47:53  \n",
              "2         2529  00:28:51  2021-12-30 21:28:51  \n",
              "3         5756  22:23:14  2021-12-30 19:23:14  \n",
              "4         5247  22:15:45  2021-12-30 19:15:45  "
            ],
            "text/html": [
              "\n",
              "  <div id=\"df-81b56882-68d0-4cd6-9d2c-acffb64d58ce\">\n",
              "    <div class=\"colab-df-container\">\n",
              "      <div>\n",
              "<style scoped>\n",
              "    .dataframe tbody tr th:only-of-type {\n",
              "        vertical-align: middle;\n",
              "    }\n",
              "\n",
              "    .dataframe tbody tr th {\n",
              "        vertical-align: top;\n",
              "    }\n",
              "\n",
              "    .dataframe thead th {\n",
              "        text-align: right;\n",
              "    }\n",
              "</style>\n",
              "<table border=\"1\" class=\"dataframe\">\n",
              "  <thead>\n",
              "    <tr style=\"text-align: right;\">\n",
              "      <th></th>\n",
              "      <th>date</th>\n",
              "      <th>timezone</th>\n",
              "      <th>tweet</th>\n",
              "      <th>likes_count</th>\n",
              "      <th>time</th>\n",
              "      <th>datetime</th>\n",
              "    </tr>\n",
              "  </thead>\n",
              "  <tbody>\n",
              "    <tr>\n",
              "      <th>0</th>\n",
              "      <td>2021-12-31</td>\n",
              "      <td>400</td>\n",
              "      <td>@roshanpateI 🤣 $7</td>\n",
              "      <td>13468</td>\n",
              "      <td>01:11:23</td>\n",
              "      <td>2021-12-30 22:11:23</td>\n",
              "    </tr>\n",
              "    <tr>\n",
              "      <th>1</th>\n",
              "      <td>2021-12-31</td>\n",
              "      <td>400</td>\n",
              "      <td>@tesla_raj Many UI improvements coming</td>\n",
              "      <td>12209</td>\n",
              "      <td>00:47:53</td>\n",
              "      <td>2021-12-30 21:47:53</td>\n",
              "    </tr>\n",
              "    <tr>\n",
              "      <th>2</th>\n",
              "      <td>2021-12-31</td>\n",
              "      <td>400</td>\n",
              "      <td>@CSmithson80 @heydave7 @BLKMDL3 @mims This cha...</td>\n",
              "      <td>2529</td>\n",
              "      <td>00:28:51</td>\n",
              "      <td>2021-12-30 21:28:51</td>\n",
              "    </tr>\n",
              "    <tr>\n",
              "      <th>3</th>\n",
              "      <td>2021-12-30</td>\n",
              "      <td>400</td>\n",
              "      <td>@BLKMDL3 @mims Predicting macroeconomics is ch...</td>\n",
              "      <td>5756</td>\n",
              "      <td>22:23:14</td>\n",
              "      <td>2021-12-30 19:23:14</td>\n",
              "    </tr>\n",
              "    <tr>\n",
              "      <th>4</th>\n",
              "      <td>2021-12-30</td>\n",
              "      <td>400</td>\n",
              "      <td>@mims If history is any guide, not many will m...</td>\n",
              "      <td>5247</td>\n",
              "      <td>22:15:45</td>\n",
              "      <td>2021-12-30 19:15:45</td>\n",
              "    </tr>\n",
              "  </tbody>\n",
              "</table>\n",
              "</div>\n",
              "      <button class=\"colab-df-convert\" onclick=\"convertToInteractive('df-81b56882-68d0-4cd6-9d2c-acffb64d58ce')\"\n",
              "              title=\"Convert this dataframe to an interactive table.\"\n",
              "              style=\"display:none;\">\n",
              "        \n",
              "  <svg xmlns=\"http://www.w3.org/2000/svg\" height=\"24px\"viewBox=\"0 0 24 24\"\n",
              "       width=\"24px\">\n",
              "    <path d=\"M0 0h24v24H0V0z\" fill=\"none\"/>\n",
              "    <path d=\"M18.56 5.44l.94 2.06.94-2.06 2.06-.94-2.06-.94-.94-2.06-.94 2.06-2.06.94zm-11 1L8.5 8.5l.94-2.06 2.06-.94-2.06-.94L8.5 2.5l-.94 2.06-2.06.94zm10 10l.94 2.06.94-2.06 2.06-.94-2.06-.94-.94-2.06-.94 2.06-2.06.94z\"/><path d=\"M17.41 7.96l-1.37-1.37c-.4-.4-.92-.59-1.43-.59-.52 0-1.04.2-1.43.59L10.3 9.45l-7.72 7.72c-.78.78-.78 2.05 0 2.83L4 21.41c.39.39.9.59 1.41.59.51 0 1.02-.2 1.41-.59l7.78-7.78 2.81-2.81c.8-.78.8-2.07 0-2.86zM5.41 20L4 18.59l7.72-7.72 1.47 1.35L5.41 20z\"/>\n",
              "  </svg>\n",
              "      </button>\n",
              "      \n",
              "  <style>\n",
              "    .colab-df-container {\n",
              "      display:flex;\n",
              "      flex-wrap:wrap;\n",
              "      gap: 12px;\n",
              "    }\n",
              "\n",
              "    .colab-df-convert {\n",
              "      background-color: #E8F0FE;\n",
              "      border: none;\n",
              "      border-radius: 50%;\n",
              "      cursor: pointer;\n",
              "      display: none;\n",
              "      fill: #1967D2;\n",
              "      height: 32px;\n",
              "      padding: 0 0 0 0;\n",
              "      width: 32px;\n",
              "    }\n",
              "\n",
              "    .colab-df-convert:hover {\n",
              "      background-color: #E2EBFA;\n",
              "      box-shadow: 0px 1px 2px rgba(60, 64, 67, 0.3), 0px 1px 3px 1px rgba(60, 64, 67, 0.15);\n",
              "      fill: #174EA6;\n",
              "    }\n",
              "\n",
              "    [theme=dark] .colab-df-convert {\n",
              "      background-color: #3B4455;\n",
              "      fill: #D2E3FC;\n",
              "    }\n",
              "\n",
              "    [theme=dark] .colab-df-convert:hover {\n",
              "      background-color: #434B5C;\n",
              "      box-shadow: 0px 1px 3px 1px rgba(0, 0, 0, 0.15);\n",
              "      filter: drop-shadow(0px 1px 2px rgba(0, 0, 0, 0.3));\n",
              "      fill: #FFFFFF;\n",
              "    }\n",
              "  </style>\n",
              "\n",
              "      <script>\n",
              "        const buttonEl =\n",
              "          document.querySelector('#df-81b56882-68d0-4cd6-9d2c-acffb64d58ce button.colab-df-convert');\n",
              "        buttonEl.style.display =\n",
              "          google.colab.kernel.accessAllowed ? 'block' : 'none';\n",
              "\n",
              "        async function convertToInteractive(key) {\n",
              "          const element = document.querySelector('#df-81b56882-68d0-4cd6-9d2c-acffb64d58ce');\n",
              "          const dataTable =\n",
              "            await google.colab.kernel.invokeFunction('convertToInteractive',\n",
              "                                                     [key], {});\n",
              "          if (!dataTable) return;\n",
              "\n",
              "          const docLinkHtml = 'Like what you see? Visit the ' +\n",
              "            '<a target=\"_blank\" href=https://colab.research.google.com/notebooks/data_table.ipynb>data table notebook</a>'\n",
              "            + ' to learn more about interactive tables.';\n",
              "          element.innerHTML = '';\n",
              "          dataTable['output_type'] = 'display_data';\n",
              "          await google.colab.output.renderOutput(dataTable, element);\n",
              "          const docLink = document.createElement('div');\n",
              "          docLink.innerHTML = docLinkHtml;\n",
              "          element.appendChild(docLink);\n",
              "        }\n",
              "      </script>\n",
              "    </div>\n",
              "  </div>\n",
              "  "
            ]
          },
          "metadata": {},
          "execution_count": 149
        }
      ]
    },
    {
      "cell_type": "code",
      "source": [
        "#Drop old times \n",
        "\n",
        "newEM21 = newEM21.drop(columns=['time', 'date'])\n",
        "\n",
        "\n",
        "#Take the new datetime and create new time and date columns with updated time\n",
        "newEM21['datetime'] = pd.to_datetime(newEM21['datetime'])\n",
        "newEM21['date'] = newEM21['datetime'].dt.date\n",
        "newEM21['time'] = newEM21['datetime'].dt.time\n",
        "\n",
        "\n",
        "#Then we can finally drop the datetime column and timezone column as they are not needed anymore\n",
        "newEM21 = newEM21.drop(columns=['datetime', 'timezone'])\n"
      ],
      "metadata": {
        "id": "sHBsjsERtm9Z"
      },
      "execution_count": null,
      "outputs": []
    },
    {
      "cell_type": "markdown",
      "source": [
        "Last thing we need to add to this dataset, is which day it is\n",
        "(monday, tuesday, etc)"
      ],
      "metadata": {
        "id": "GHs--YpRvgn1"
      }
    },
    {
      "cell_type": "code",
      "source": [
        "newEM21['day']  = pd.to_datetime(newEM21['date'], format='%Y-%m-%d').dt.weekday\n"
      ],
      "metadata": {
        "id": "DacPtAE_vgGJ"
      },
      "execution_count": null,
      "outputs": []
    },
    {
      "cell_type": "code",
      "source": [
        "newEM21.head()"
      ],
      "metadata": {
        "colab": {
          "base_uri": "https://localhost:8080/",
          "height": 206
        },
        "id": "Pdfo9h53xJlY",
        "outputId": "bb1f71c3-3d56-4aa8-9e8a-e6a412a8f6f7"
      },
      "execution_count": null,
      "outputs": [
        {
          "output_type": "execute_result",
          "data": {
            "text/plain": [
              "                                               tweet  likes_count        date  \\\n",
              "0                                  @roshanpateI 🤣 $7        13468  2021-12-30   \n",
              "1             @tesla_raj Many UI improvements coming        12209  2021-12-30   \n",
              "2  @CSmithson80 @heydave7 @BLKMDL3 @mims This cha...         2529  2021-12-30   \n",
              "3  @BLKMDL3 @mims Predicting macroeconomics is ch...         5756  2021-12-30   \n",
              "4  @mims If history is any guide, not many will m...         5247  2021-12-30   \n",
              "\n",
              "       time  day  \n",
              "0  22:11:23    3  \n",
              "1  21:47:53    3  \n",
              "2  21:28:51    3  \n",
              "3  19:23:14    3  \n",
              "4  19:15:45    3  "
            ],
            "text/html": [
              "\n",
              "  <div id=\"df-982ee3f3-6aee-4200-97d7-2f388244ec3e\">\n",
              "    <div class=\"colab-df-container\">\n",
              "      <div>\n",
              "<style scoped>\n",
              "    .dataframe tbody tr th:only-of-type {\n",
              "        vertical-align: middle;\n",
              "    }\n",
              "\n",
              "    .dataframe tbody tr th {\n",
              "        vertical-align: top;\n",
              "    }\n",
              "\n",
              "    .dataframe thead th {\n",
              "        text-align: right;\n",
              "    }\n",
              "</style>\n",
              "<table border=\"1\" class=\"dataframe\">\n",
              "  <thead>\n",
              "    <tr style=\"text-align: right;\">\n",
              "      <th></th>\n",
              "      <th>tweet</th>\n",
              "      <th>likes_count</th>\n",
              "      <th>date</th>\n",
              "      <th>time</th>\n",
              "      <th>day</th>\n",
              "    </tr>\n",
              "  </thead>\n",
              "  <tbody>\n",
              "    <tr>\n",
              "      <th>0</th>\n",
              "      <td>@roshanpateI 🤣 $7</td>\n",
              "      <td>13468</td>\n",
              "      <td>2021-12-30</td>\n",
              "      <td>22:11:23</td>\n",
              "      <td>3</td>\n",
              "    </tr>\n",
              "    <tr>\n",
              "      <th>1</th>\n",
              "      <td>@tesla_raj Many UI improvements coming</td>\n",
              "      <td>12209</td>\n",
              "      <td>2021-12-30</td>\n",
              "      <td>21:47:53</td>\n",
              "      <td>3</td>\n",
              "    </tr>\n",
              "    <tr>\n",
              "      <th>2</th>\n",
              "      <td>@CSmithson80 @heydave7 @BLKMDL3 @mims This cha...</td>\n",
              "      <td>2529</td>\n",
              "      <td>2021-12-30</td>\n",
              "      <td>21:28:51</td>\n",
              "      <td>3</td>\n",
              "    </tr>\n",
              "    <tr>\n",
              "      <th>3</th>\n",
              "      <td>@BLKMDL3 @mims Predicting macroeconomics is ch...</td>\n",
              "      <td>5756</td>\n",
              "      <td>2021-12-30</td>\n",
              "      <td>19:23:14</td>\n",
              "      <td>3</td>\n",
              "    </tr>\n",
              "    <tr>\n",
              "      <th>4</th>\n",
              "      <td>@mims If history is any guide, not many will m...</td>\n",
              "      <td>5247</td>\n",
              "      <td>2021-12-30</td>\n",
              "      <td>19:15:45</td>\n",
              "      <td>3</td>\n",
              "    </tr>\n",
              "  </tbody>\n",
              "</table>\n",
              "</div>\n",
              "      <button class=\"colab-df-convert\" onclick=\"convertToInteractive('df-982ee3f3-6aee-4200-97d7-2f388244ec3e')\"\n",
              "              title=\"Convert this dataframe to an interactive table.\"\n",
              "              style=\"display:none;\">\n",
              "        \n",
              "  <svg xmlns=\"http://www.w3.org/2000/svg\" height=\"24px\"viewBox=\"0 0 24 24\"\n",
              "       width=\"24px\">\n",
              "    <path d=\"M0 0h24v24H0V0z\" fill=\"none\"/>\n",
              "    <path d=\"M18.56 5.44l.94 2.06.94-2.06 2.06-.94-2.06-.94-.94-2.06-.94 2.06-2.06.94zm-11 1L8.5 8.5l.94-2.06 2.06-.94-2.06-.94L8.5 2.5l-.94 2.06-2.06.94zm10 10l.94 2.06.94-2.06 2.06-.94-2.06-.94-.94-2.06-.94 2.06-2.06.94z\"/><path d=\"M17.41 7.96l-1.37-1.37c-.4-.4-.92-.59-1.43-.59-.52 0-1.04.2-1.43.59L10.3 9.45l-7.72 7.72c-.78.78-.78 2.05 0 2.83L4 21.41c.39.39.9.59 1.41.59.51 0 1.02-.2 1.41-.59l7.78-7.78 2.81-2.81c.8-.78.8-2.07 0-2.86zM5.41 20L4 18.59l7.72-7.72 1.47 1.35L5.41 20z\"/>\n",
              "  </svg>\n",
              "      </button>\n",
              "      \n",
              "  <style>\n",
              "    .colab-df-container {\n",
              "      display:flex;\n",
              "      flex-wrap:wrap;\n",
              "      gap: 12px;\n",
              "    }\n",
              "\n",
              "    .colab-df-convert {\n",
              "      background-color: #E8F0FE;\n",
              "      border: none;\n",
              "      border-radius: 50%;\n",
              "      cursor: pointer;\n",
              "      display: none;\n",
              "      fill: #1967D2;\n",
              "      height: 32px;\n",
              "      padding: 0 0 0 0;\n",
              "      width: 32px;\n",
              "    }\n",
              "\n",
              "    .colab-df-convert:hover {\n",
              "      background-color: #E2EBFA;\n",
              "      box-shadow: 0px 1px 2px rgba(60, 64, 67, 0.3), 0px 1px 3px 1px rgba(60, 64, 67, 0.15);\n",
              "      fill: #174EA6;\n",
              "    }\n",
              "\n",
              "    [theme=dark] .colab-df-convert {\n",
              "      background-color: #3B4455;\n",
              "      fill: #D2E3FC;\n",
              "    }\n",
              "\n",
              "    [theme=dark] .colab-df-convert:hover {\n",
              "      background-color: #434B5C;\n",
              "      box-shadow: 0px 1px 3px 1px rgba(0, 0, 0, 0.15);\n",
              "      filter: drop-shadow(0px 1px 2px rgba(0, 0, 0, 0.3));\n",
              "      fill: #FFFFFF;\n",
              "    }\n",
              "  </style>\n",
              "\n",
              "      <script>\n",
              "        const buttonEl =\n",
              "          document.querySelector('#df-982ee3f3-6aee-4200-97d7-2f388244ec3e button.colab-df-convert');\n",
              "        buttonEl.style.display =\n",
              "          google.colab.kernel.accessAllowed ? 'block' : 'none';\n",
              "\n",
              "        async function convertToInteractive(key) {\n",
              "          const element = document.querySelector('#df-982ee3f3-6aee-4200-97d7-2f388244ec3e');\n",
              "          const dataTable =\n",
              "            await google.colab.kernel.invokeFunction('convertToInteractive',\n",
              "                                                     [key], {});\n",
              "          if (!dataTable) return;\n",
              "\n",
              "          const docLinkHtml = 'Like what you see? Visit the ' +\n",
              "            '<a target=\"_blank\" href=https://colab.research.google.com/notebooks/data_table.ipynb>data table notebook</a>'\n",
              "            + ' to learn more about interactive tables.';\n",
              "          element.innerHTML = '';\n",
              "          dataTable['output_type'] = 'display_data';\n",
              "          await google.colab.output.renderOutput(dataTable, element);\n",
              "          const docLink = document.createElement('div');\n",
              "          docLink.innerHTML = docLinkHtml;\n",
              "          element.appendChild(docLink);\n",
              "        }\n",
              "      </script>\n",
              "    </div>\n",
              "  </div>\n",
              "  "
            ]
          },
          "metadata": {},
          "execution_count": 152
        }
      ]
    },
    {
      "cell_type": "code",
      "source": [
        "#Finally, we rename the retweets_count, likes_count, replies_count to the same name as the ones we had in 2020 fil\n",
        "newEM21 = newEM21.rename(columns={'likes_count':'nlikes'})\n"
      ],
      "metadata": {
        "id": "BsqgSdXjuJC9"
      },
      "execution_count": null,
      "outputs": []
    },
    {
      "cell_type": "code",
      "source": [
        "newEM21.head()"
      ],
      "metadata": {
        "colab": {
          "base_uri": "https://localhost:8080/",
          "height": 206
        },
        "id": "gPHWzvEHjbNN",
        "outputId": "9116e3ae-550f-4930-8bbf-9ea82064f188"
      },
      "execution_count": null,
      "outputs": [
        {
          "output_type": "execute_result",
          "data": {
            "text/plain": [
              "                                               tweet  nlikes        date  \\\n",
              "0                                  @roshanpateI 🤣 $7   13468  2021-12-30   \n",
              "1             @tesla_raj Many UI improvements coming   12209  2021-12-30   \n",
              "2  @CSmithson80 @heydave7 @BLKMDL3 @mims This cha...    2529  2021-12-30   \n",
              "3  @BLKMDL3 @mims Predicting macroeconomics is ch...    5756  2021-12-30   \n",
              "4  @mims If history is any guide, not many will m...    5247  2021-12-30   \n",
              "\n",
              "       time  day  \n",
              "0  22:11:23    3  \n",
              "1  21:47:53    3  \n",
              "2  21:28:51    3  \n",
              "3  19:23:14    3  \n",
              "4  19:15:45    3  "
            ],
            "text/html": [
              "\n",
              "  <div id=\"df-e5080d29-4960-47a0-bbff-e7a007f08a17\">\n",
              "    <div class=\"colab-df-container\">\n",
              "      <div>\n",
              "<style scoped>\n",
              "    .dataframe tbody tr th:only-of-type {\n",
              "        vertical-align: middle;\n",
              "    }\n",
              "\n",
              "    .dataframe tbody tr th {\n",
              "        vertical-align: top;\n",
              "    }\n",
              "\n",
              "    .dataframe thead th {\n",
              "        text-align: right;\n",
              "    }\n",
              "</style>\n",
              "<table border=\"1\" class=\"dataframe\">\n",
              "  <thead>\n",
              "    <tr style=\"text-align: right;\">\n",
              "      <th></th>\n",
              "      <th>tweet</th>\n",
              "      <th>nlikes</th>\n",
              "      <th>date</th>\n",
              "      <th>time</th>\n",
              "      <th>day</th>\n",
              "    </tr>\n",
              "  </thead>\n",
              "  <tbody>\n",
              "    <tr>\n",
              "      <th>0</th>\n",
              "      <td>@roshanpateI 🤣 $7</td>\n",
              "      <td>13468</td>\n",
              "      <td>2021-12-30</td>\n",
              "      <td>22:11:23</td>\n",
              "      <td>3</td>\n",
              "    </tr>\n",
              "    <tr>\n",
              "      <th>1</th>\n",
              "      <td>@tesla_raj Many UI improvements coming</td>\n",
              "      <td>12209</td>\n",
              "      <td>2021-12-30</td>\n",
              "      <td>21:47:53</td>\n",
              "      <td>3</td>\n",
              "    </tr>\n",
              "    <tr>\n",
              "      <th>2</th>\n",
              "      <td>@CSmithson80 @heydave7 @BLKMDL3 @mims This cha...</td>\n",
              "      <td>2529</td>\n",
              "      <td>2021-12-30</td>\n",
              "      <td>21:28:51</td>\n",
              "      <td>3</td>\n",
              "    </tr>\n",
              "    <tr>\n",
              "      <th>3</th>\n",
              "      <td>@BLKMDL3 @mims Predicting macroeconomics is ch...</td>\n",
              "      <td>5756</td>\n",
              "      <td>2021-12-30</td>\n",
              "      <td>19:23:14</td>\n",
              "      <td>3</td>\n",
              "    </tr>\n",
              "    <tr>\n",
              "      <th>4</th>\n",
              "      <td>@mims If history is any guide, not many will m...</td>\n",
              "      <td>5247</td>\n",
              "      <td>2021-12-30</td>\n",
              "      <td>19:15:45</td>\n",
              "      <td>3</td>\n",
              "    </tr>\n",
              "  </tbody>\n",
              "</table>\n",
              "</div>\n",
              "      <button class=\"colab-df-convert\" onclick=\"convertToInteractive('df-e5080d29-4960-47a0-bbff-e7a007f08a17')\"\n",
              "              title=\"Convert this dataframe to an interactive table.\"\n",
              "              style=\"display:none;\">\n",
              "        \n",
              "  <svg xmlns=\"http://www.w3.org/2000/svg\" height=\"24px\"viewBox=\"0 0 24 24\"\n",
              "       width=\"24px\">\n",
              "    <path d=\"M0 0h24v24H0V0z\" fill=\"none\"/>\n",
              "    <path d=\"M18.56 5.44l.94 2.06.94-2.06 2.06-.94-2.06-.94-.94-2.06-.94 2.06-2.06.94zm-11 1L8.5 8.5l.94-2.06 2.06-.94-2.06-.94L8.5 2.5l-.94 2.06-2.06.94zm10 10l.94 2.06.94-2.06 2.06-.94-2.06-.94-.94-2.06-.94 2.06-2.06.94z\"/><path d=\"M17.41 7.96l-1.37-1.37c-.4-.4-.92-.59-1.43-.59-.52 0-1.04.2-1.43.59L10.3 9.45l-7.72 7.72c-.78.78-.78 2.05 0 2.83L4 21.41c.39.39.9.59 1.41.59.51 0 1.02-.2 1.41-.59l7.78-7.78 2.81-2.81c.8-.78.8-2.07 0-2.86zM5.41 20L4 18.59l7.72-7.72 1.47 1.35L5.41 20z\"/>\n",
              "  </svg>\n",
              "      </button>\n",
              "      \n",
              "  <style>\n",
              "    .colab-df-container {\n",
              "      display:flex;\n",
              "      flex-wrap:wrap;\n",
              "      gap: 12px;\n",
              "    }\n",
              "\n",
              "    .colab-df-convert {\n",
              "      background-color: #E8F0FE;\n",
              "      border: none;\n",
              "      border-radius: 50%;\n",
              "      cursor: pointer;\n",
              "      display: none;\n",
              "      fill: #1967D2;\n",
              "      height: 32px;\n",
              "      padding: 0 0 0 0;\n",
              "      width: 32px;\n",
              "    }\n",
              "\n",
              "    .colab-df-convert:hover {\n",
              "      background-color: #E2EBFA;\n",
              "      box-shadow: 0px 1px 2px rgba(60, 64, 67, 0.3), 0px 1px 3px 1px rgba(60, 64, 67, 0.15);\n",
              "      fill: #174EA6;\n",
              "    }\n",
              "\n",
              "    [theme=dark] .colab-df-convert {\n",
              "      background-color: #3B4455;\n",
              "      fill: #D2E3FC;\n",
              "    }\n",
              "\n",
              "    [theme=dark] .colab-df-convert:hover {\n",
              "      background-color: #434B5C;\n",
              "      box-shadow: 0px 1px 3px 1px rgba(0, 0, 0, 0.15);\n",
              "      filter: drop-shadow(0px 1px 2px rgba(0, 0, 0, 0.3));\n",
              "      fill: #FFFFFF;\n",
              "    }\n",
              "  </style>\n",
              "\n",
              "      <script>\n",
              "        const buttonEl =\n",
              "          document.querySelector('#df-e5080d29-4960-47a0-bbff-e7a007f08a17 button.colab-df-convert');\n",
              "        buttonEl.style.display =\n",
              "          google.colab.kernel.accessAllowed ? 'block' : 'none';\n",
              "\n",
              "        async function convertToInteractive(key) {\n",
              "          const element = document.querySelector('#df-e5080d29-4960-47a0-bbff-e7a007f08a17');\n",
              "          const dataTable =\n",
              "            await google.colab.kernel.invokeFunction('convertToInteractive',\n",
              "                                                     [key], {});\n",
              "          if (!dataTable) return;\n",
              "\n",
              "          const docLinkHtml = 'Like what you see? Visit the ' +\n",
              "            '<a target=\"_blank\" href=https://colab.research.google.com/notebooks/data_table.ipynb>data table notebook</a>'\n",
              "            + ' to learn more about interactive tables.';\n",
              "          element.innerHTML = '';\n",
              "          dataTable['output_type'] = 'display_data';\n",
              "          await google.colab.output.renderOutput(dataTable, element);\n",
              "          const docLink = document.createElement('div');\n",
              "          docLink.innerHTML = docLinkHtml;\n",
              "          element.appendChild(docLink);\n",
              "        }\n",
              "      </script>\n",
              "    </div>\n",
              "  </div>\n",
              "  "
            ]
          },
          "metadata": {},
          "execution_count": 154
        }
      ]
    },
    {
      "cell_type": "code",
      "source": [
        "cleaned_21_df = newEM21.copy()"
      ],
      "metadata": {
        "id": "ym7_P5c11PB0"
      },
      "execution_count": null,
      "outputs": []
    },
    {
      "cell_type": "markdown",
      "source": [
        "We do the same thing for 2022.csv and then we can concatenate the files and save the whole dataset."
      ],
      "metadata": {
        "id": "oRWEIGTUyibv"
      }
    },
    {
      "cell_type": "code",
      "source": [
        "newEM22 = drop_cols21_22(EM22)"
      ],
      "metadata": {
        "id": "xsD1mPf1yohK"
      },
      "execution_count": null,
      "outputs": []
    },
    {
      "cell_type": "code",
      "source": [
        "newEM22.head()"
      ],
      "metadata": {
        "colab": {
          "base_uri": "https://localhost:8080/",
          "height": 206
        },
        "id": "8Ti5-6rJyz2Z",
        "outputId": "3a73caa0-3234-4381-df57-c085dc81fda5"
      },
      "execution_count": null,
      "outputs": [
        {
          "output_type": "execute_result",
          "data": {
            "text/plain": [
              "         date      time  timezone  \\\n",
              "0  2022-03-05  12:47:21       400   \n",
              "1  2022-03-05  12:40:13       400   \n",
              "2  2022-03-05  12:32:12       400   \n",
              "3  2022-03-05  11:28:25       400   \n",
              "4  2022-03-05  09:39:29       400   \n",
              "\n",
              "                                               tweet  likes_count  \n",
              "0     @SpacePadreIsle In a way, this is free QA haha         4490  \n",
              "1           @teslaownersSV A beautiful home for life        15121  \n",
              "2  @SpacePadreIsle Some Starlink terminals near c...         8774  \n",
              "3                 @RationalEtienne @RogerYar Exactly         2773  \n",
              "4  @RogerYar All news sources are partially propa...        43964  "
            ],
            "text/html": [
              "\n",
              "  <div id=\"df-e902f2bd-161f-4d98-aa14-eed95c53801b\">\n",
              "    <div class=\"colab-df-container\">\n",
              "      <div>\n",
              "<style scoped>\n",
              "    .dataframe tbody tr th:only-of-type {\n",
              "        vertical-align: middle;\n",
              "    }\n",
              "\n",
              "    .dataframe tbody tr th {\n",
              "        vertical-align: top;\n",
              "    }\n",
              "\n",
              "    .dataframe thead th {\n",
              "        text-align: right;\n",
              "    }\n",
              "</style>\n",
              "<table border=\"1\" class=\"dataframe\">\n",
              "  <thead>\n",
              "    <tr style=\"text-align: right;\">\n",
              "      <th></th>\n",
              "      <th>date</th>\n",
              "      <th>time</th>\n",
              "      <th>timezone</th>\n",
              "      <th>tweet</th>\n",
              "      <th>likes_count</th>\n",
              "    </tr>\n",
              "  </thead>\n",
              "  <tbody>\n",
              "    <tr>\n",
              "      <th>0</th>\n",
              "      <td>2022-03-05</td>\n",
              "      <td>12:47:21</td>\n",
              "      <td>400</td>\n",
              "      <td>@SpacePadreIsle In a way, this is free QA haha</td>\n",
              "      <td>4490</td>\n",
              "    </tr>\n",
              "    <tr>\n",
              "      <th>1</th>\n",
              "      <td>2022-03-05</td>\n",
              "      <td>12:40:13</td>\n",
              "      <td>400</td>\n",
              "      <td>@teslaownersSV A beautiful home for life</td>\n",
              "      <td>15121</td>\n",
              "    </tr>\n",
              "    <tr>\n",
              "      <th>2</th>\n",
              "      <td>2022-03-05</td>\n",
              "      <td>12:32:12</td>\n",
              "      <td>400</td>\n",
              "      <td>@SpacePadreIsle Some Starlink terminals near c...</td>\n",
              "      <td>8774</td>\n",
              "    </tr>\n",
              "    <tr>\n",
              "      <th>3</th>\n",
              "      <td>2022-03-05</td>\n",
              "      <td>11:28:25</td>\n",
              "      <td>400</td>\n",
              "      <td>@RationalEtienne @RogerYar Exactly</td>\n",
              "      <td>2773</td>\n",
              "    </tr>\n",
              "    <tr>\n",
              "      <th>4</th>\n",
              "      <td>2022-03-05</td>\n",
              "      <td>09:39:29</td>\n",
              "      <td>400</td>\n",
              "      <td>@RogerYar All news sources are partially propa...</td>\n",
              "      <td>43964</td>\n",
              "    </tr>\n",
              "  </tbody>\n",
              "</table>\n",
              "</div>\n",
              "      <button class=\"colab-df-convert\" onclick=\"convertToInteractive('df-e902f2bd-161f-4d98-aa14-eed95c53801b')\"\n",
              "              title=\"Convert this dataframe to an interactive table.\"\n",
              "              style=\"display:none;\">\n",
              "        \n",
              "  <svg xmlns=\"http://www.w3.org/2000/svg\" height=\"24px\"viewBox=\"0 0 24 24\"\n",
              "       width=\"24px\">\n",
              "    <path d=\"M0 0h24v24H0V0z\" fill=\"none\"/>\n",
              "    <path d=\"M18.56 5.44l.94 2.06.94-2.06 2.06-.94-2.06-.94-.94-2.06-.94 2.06-2.06.94zm-11 1L8.5 8.5l.94-2.06 2.06-.94-2.06-.94L8.5 2.5l-.94 2.06-2.06.94zm10 10l.94 2.06.94-2.06 2.06-.94-2.06-.94-.94-2.06-.94 2.06-2.06.94z\"/><path d=\"M17.41 7.96l-1.37-1.37c-.4-.4-.92-.59-1.43-.59-.52 0-1.04.2-1.43.59L10.3 9.45l-7.72 7.72c-.78.78-.78 2.05 0 2.83L4 21.41c.39.39.9.59 1.41.59.51 0 1.02-.2 1.41-.59l7.78-7.78 2.81-2.81c.8-.78.8-2.07 0-2.86zM5.41 20L4 18.59l7.72-7.72 1.47 1.35L5.41 20z\"/>\n",
              "  </svg>\n",
              "      </button>\n",
              "      \n",
              "  <style>\n",
              "    .colab-df-container {\n",
              "      display:flex;\n",
              "      flex-wrap:wrap;\n",
              "      gap: 12px;\n",
              "    }\n",
              "\n",
              "    .colab-df-convert {\n",
              "      background-color: #E8F0FE;\n",
              "      border: none;\n",
              "      border-radius: 50%;\n",
              "      cursor: pointer;\n",
              "      display: none;\n",
              "      fill: #1967D2;\n",
              "      height: 32px;\n",
              "      padding: 0 0 0 0;\n",
              "      width: 32px;\n",
              "    }\n",
              "\n",
              "    .colab-df-convert:hover {\n",
              "      background-color: #E2EBFA;\n",
              "      box-shadow: 0px 1px 2px rgba(60, 64, 67, 0.3), 0px 1px 3px 1px rgba(60, 64, 67, 0.15);\n",
              "      fill: #174EA6;\n",
              "    }\n",
              "\n",
              "    [theme=dark] .colab-df-convert {\n",
              "      background-color: #3B4455;\n",
              "      fill: #D2E3FC;\n",
              "    }\n",
              "\n",
              "    [theme=dark] .colab-df-convert:hover {\n",
              "      background-color: #434B5C;\n",
              "      box-shadow: 0px 1px 3px 1px rgba(0, 0, 0, 0.15);\n",
              "      filter: drop-shadow(0px 1px 2px rgba(0, 0, 0, 0.3));\n",
              "      fill: #FFFFFF;\n",
              "    }\n",
              "  </style>\n",
              "\n",
              "      <script>\n",
              "        const buttonEl =\n",
              "          document.querySelector('#df-e902f2bd-161f-4d98-aa14-eed95c53801b button.colab-df-convert');\n",
              "        buttonEl.style.display =\n",
              "          google.colab.kernel.accessAllowed ? 'block' : 'none';\n",
              "\n",
              "        async function convertToInteractive(key) {\n",
              "          const element = document.querySelector('#df-e902f2bd-161f-4d98-aa14-eed95c53801b');\n",
              "          const dataTable =\n",
              "            await google.colab.kernel.invokeFunction('convertToInteractive',\n",
              "                                                     [key], {});\n",
              "          if (!dataTable) return;\n",
              "\n",
              "          const docLinkHtml = 'Like what you see? Visit the ' +\n",
              "            '<a target=\"_blank\" href=https://colab.research.google.com/notebooks/data_table.ipynb>data table notebook</a>'\n",
              "            + ' to learn more about interactive tables.';\n",
              "          element.innerHTML = '';\n",
              "          dataTable['output_type'] = 'display_data';\n",
              "          await google.colab.output.renderOutput(dataTable, element);\n",
              "          const docLink = document.createElement('div');\n",
              "          docLink.innerHTML = docLinkHtml;\n",
              "          element.appendChild(docLink);\n",
              "        }\n",
              "      </script>\n",
              "    </div>\n",
              "  </div>\n",
              "  "
            ]
          },
          "metadata": {},
          "execution_count": 157
        }
      ]
    },
    {
      "cell_type": "code",
      "source": [
        "newEM22 = newEM22.rename(columns={'time': 'timestamp'})"
      ],
      "metadata": {
        "id": "FXq-8OFAzAoJ"
      },
      "execution_count": null,
      "outputs": []
    },
    {
      "cell_type": "code",
      "source": [
        "newEM22['timestamp'] = pd.to_datetime(newEM22['timestamp'], format='%H:%M:%S')\n",
        "# Extract the time from each timestamp\n",
        "newEM22['time'] = newEM22['timestamp'].dt.time\n",
        "newEM22['time'] = newEM22['time'].astype(str)\n",
        "newEM22 = newEM22.drop(columns=['timestamp'])"
      ],
      "metadata": {
        "id": "hXdhXoZQzlyH"
      },
      "execution_count": null,
      "outputs": []
    },
    {
      "cell_type": "code",
      "source": [
        "# Convert the 'date' and 'time' columns to datetime objects\n",
        "newEM22['datetime'] = pd.to_datetime(newEM22['date'] + ' ' + newEM22['time'], format='%Y-%m-%d %H:%M:%S')\n",
        "\n",
        "# Subtract 3 hours from each timestamp\n",
        "newEM22['datetime'] = newEM22['datetime'] - timedelta(hours=3)\n",
        "\n",
        "# Format the 'earlier_timestamp' column as a string\n",
        "newEM22['datetime'] = newEM22['datetime'].dt.strftime('%Y-%m-%d %H:%M:%S')"
      ],
      "metadata": {
        "id": "30Yvov3tztrt"
      },
      "execution_count": null,
      "outputs": []
    },
    {
      "cell_type": "code",
      "source": [
        "#Drop old times \n",
        "\n",
        "newEM22 = newEM22.drop(columns=['time', 'date'])\n",
        "\n",
        "\n",
        "#Take the new datetime and create new time and date columns with updated time\n",
        "newEM22['datetime'] = pd.to_datetime(newEM22['datetime'])\n",
        "newEM22['date'] = newEM22['datetime'].dt.date\n",
        "newEM22['time'] = newEM22['datetime'].dt.time\n",
        "\n",
        "\n",
        "#Then we can finally drop the datetime column and timezone column as they are not needed anymore\n",
        "newEM22 = newEM22.drop(columns=['datetime', 'timezone'])"
      ],
      "metadata": {
        "id": "nPOuDBVSz0eO"
      },
      "execution_count": null,
      "outputs": []
    },
    {
      "cell_type": "code",
      "source": [
        "newEM22['day']  = pd.to_datetime(newEM22['date'], format='%Y-%m-%d').dt.weekday"
      ],
      "metadata": {
        "id": "EPoyNBf-z9VD"
      },
      "execution_count": null,
      "outputs": []
    },
    {
      "cell_type": "code",
      "source": [
        "newEM22.head()"
      ],
      "metadata": {
        "colab": {
          "base_uri": "https://localhost:8080/",
          "height": 206
        },
        "id": "qbbql89U0CYA",
        "outputId": "f1244e50-b867-467a-ae5a-6cc5ec0719c2"
      },
      "execution_count": null,
      "outputs": [
        {
          "output_type": "execute_result",
          "data": {
            "text/plain": [
              "                                               tweet  likes_count        date  \\\n",
              "0     @SpacePadreIsle In a way, this is free QA haha         4490  2022-03-05   \n",
              "1           @teslaownersSV A beautiful home for life        15121  2022-03-05   \n",
              "2  @SpacePadreIsle Some Starlink terminals near c...         8774  2022-03-05   \n",
              "3                 @RationalEtienne @RogerYar Exactly         2773  2022-03-05   \n",
              "4  @RogerYar All news sources are partially propa...        43964  2022-03-05   \n",
              "\n",
              "       time  day  \n",
              "0  09:47:21    5  \n",
              "1  09:40:13    5  \n",
              "2  09:32:12    5  \n",
              "3  08:28:25    5  \n",
              "4  06:39:29    5  "
            ],
            "text/html": [
              "\n",
              "  <div id=\"df-4b169eab-ce57-424a-b55f-91973d75ab93\">\n",
              "    <div class=\"colab-df-container\">\n",
              "      <div>\n",
              "<style scoped>\n",
              "    .dataframe tbody tr th:only-of-type {\n",
              "        vertical-align: middle;\n",
              "    }\n",
              "\n",
              "    .dataframe tbody tr th {\n",
              "        vertical-align: top;\n",
              "    }\n",
              "\n",
              "    .dataframe thead th {\n",
              "        text-align: right;\n",
              "    }\n",
              "</style>\n",
              "<table border=\"1\" class=\"dataframe\">\n",
              "  <thead>\n",
              "    <tr style=\"text-align: right;\">\n",
              "      <th></th>\n",
              "      <th>tweet</th>\n",
              "      <th>likes_count</th>\n",
              "      <th>date</th>\n",
              "      <th>time</th>\n",
              "      <th>day</th>\n",
              "    </tr>\n",
              "  </thead>\n",
              "  <tbody>\n",
              "    <tr>\n",
              "      <th>0</th>\n",
              "      <td>@SpacePadreIsle In a way, this is free QA haha</td>\n",
              "      <td>4490</td>\n",
              "      <td>2022-03-05</td>\n",
              "      <td>09:47:21</td>\n",
              "      <td>5</td>\n",
              "    </tr>\n",
              "    <tr>\n",
              "      <th>1</th>\n",
              "      <td>@teslaownersSV A beautiful home for life</td>\n",
              "      <td>15121</td>\n",
              "      <td>2022-03-05</td>\n",
              "      <td>09:40:13</td>\n",
              "      <td>5</td>\n",
              "    </tr>\n",
              "    <tr>\n",
              "      <th>2</th>\n",
              "      <td>@SpacePadreIsle Some Starlink terminals near c...</td>\n",
              "      <td>8774</td>\n",
              "      <td>2022-03-05</td>\n",
              "      <td>09:32:12</td>\n",
              "      <td>5</td>\n",
              "    </tr>\n",
              "    <tr>\n",
              "      <th>3</th>\n",
              "      <td>@RationalEtienne @RogerYar Exactly</td>\n",
              "      <td>2773</td>\n",
              "      <td>2022-03-05</td>\n",
              "      <td>08:28:25</td>\n",
              "      <td>5</td>\n",
              "    </tr>\n",
              "    <tr>\n",
              "      <th>4</th>\n",
              "      <td>@RogerYar All news sources are partially propa...</td>\n",
              "      <td>43964</td>\n",
              "      <td>2022-03-05</td>\n",
              "      <td>06:39:29</td>\n",
              "      <td>5</td>\n",
              "    </tr>\n",
              "  </tbody>\n",
              "</table>\n",
              "</div>\n",
              "      <button class=\"colab-df-convert\" onclick=\"convertToInteractive('df-4b169eab-ce57-424a-b55f-91973d75ab93')\"\n",
              "              title=\"Convert this dataframe to an interactive table.\"\n",
              "              style=\"display:none;\">\n",
              "        \n",
              "  <svg xmlns=\"http://www.w3.org/2000/svg\" height=\"24px\"viewBox=\"0 0 24 24\"\n",
              "       width=\"24px\">\n",
              "    <path d=\"M0 0h24v24H0V0z\" fill=\"none\"/>\n",
              "    <path d=\"M18.56 5.44l.94 2.06.94-2.06 2.06-.94-2.06-.94-.94-2.06-.94 2.06-2.06.94zm-11 1L8.5 8.5l.94-2.06 2.06-.94-2.06-.94L8.5 2.5l-.94 2.06-2.06.94zm10 10l.94 2.06.94-2.06 2.06-.94-2.06-.94-.94-2.06-.94 2.06-2.06.94z\"/><path d=\"M17.41 7.96l-1.37-1.37c-.4-.4-.92-.59-1.43-.59-.52 0-1.04.2-1.43.59L10.3 9.45l-7.72 7.72c-.78.78-.78 2.05 0 2.83L4 21.41c.39.39.9.59 1.41.59.51 0 1.02-.2 1.41-.59l7.78-7.78 2.81-2.81c.8-.78.8-2.07 0-2.86zM5.41 20L4 18.59l7.72-7.72 1.47 1.35L5.41 20z\"/>\n",
              "  </svg>\n",
              "      </button>\n",
              "      \n",
              "  <style>\n",
              "    .colab-df-container {\n",
              "      display:flex;\n",
              "      flex-wrap:wrap;\n",
              "      gap: 12px;\n",
              "    }\n",
              "\n",
              "    .colab-df-convert {\n",
              "      background-color: #E8F0FE;\n",
              "      border: none;\n",
              "      border-radius: 50%;\n",
              "      cursor: pointer;\n",
              "      display: none;\n",
              "      fill: #1967D2;\n",
              "      height: 32px;\n",
              "      padding: 0 0 0 0;\n",
              "      width: 32px;\n",
              "    }\n",
              "\n",
              "    .colab-df-convert:hover {\n",
              "      background-color: #E2EBFA;\n",
              "      box-shadow: 0px 1px 2px rgba(60, 64, 67, 0.3), 0px 1px 3px 1px rgba(60, 64, 67, 0.15);\n",
              "      fill: #174EA6;\n",
              "    }\n",
              "\n",
              "    [theme=dark] .colab-df-convert {\n",
              "      background-color: #3B4455;\n",
              "      fill: #D2E3FC;\n",
              "    }\n",
              "\n",
              "    [theme=dark] .colab-df-convert:hover {\n",
              "      background-color: #434B5C;\n",
              "      box-shadow: 0px 1px 3px 1px rgba(0, 0, 0, 0.15);\n",
              "      filter: drop-shadow(0px 1px 2px rgba(0, 0, 0, 0.3));\n",
              "      fill: #FFFFFF;\n",
              "    }\n",
              "  </style>\n",
              "\n",
              "      <script>\n",
              "        const buttonEl =\n",
              "          document.querySelector('#df-4b169eab-ce57-424a-b55f-91973d75ab93 button.colab-df-convert');\n",
              "        buttonEl.style.display =\n",
              "          google.colab.kernel.accessAllowed ? 'block' : 'none';\n",
              "\n",
              "        async function convertToInteractive(key) {\n",
              "          const element = document.querySelector('#df-4b169eab-ce57-424a-b55f-91973d75ab93');\n",
              "          const dataTable =\n",
              "            await google.colab.kernel.invokeFunction('convertToInteractive',\n",
              "                                                     [key], {});\n",
              "          if (!dataTable) return;\n",
              "\n",
              "          const docLinkHtml = 'Like what you see? Visit the ' +\n",
              "            '<a target=\"_blank\" href=https://colab.research.google.com/notebooks/data_table.ipynb>data table notebook</a>'\n",
              "            + ' to learn more about interactive tables.';\n",
              "          element.innerHTML = '';\n",
              "          dataTable['output_type'] = 'display_data';\n",
              "          await google.colab.output.renderOutput(dataTable, element);\n",
              "          const docLink = document.createElement('div');\n",
              "          docLink.innerHTML = docLinkHtml;\n",
              "          element.appendChild(docLink);\n",
              "        }\n",
              "      </script>\n",
              "    </div>\n",
              "  </div>\n",
              "  "
            ]
          },
          "metadata": {},
          "execution_count": 163
        }
      ]
    },
    {
      "cell_type": "code",
      "source": [
        "#Finally, we rename the retweets_count, likes_count, replies_count to the same name as the ones we had in 2020 fil\n",
        "newEM22 = newEM22.rename(columns={'likes_count':'nlikes'})"
      ],
      "metadata": {
        "id": "369ifkMh0Lsf"
      },
      "execution_count": null,
      "outputs": []
    },
    {
      "cell_type": "code",
      "source": [
        "cleaned_22_df = newEM22.copy()"
      ],
      "metadata": {
        "id": "kGAJYa_F1fLh"
      },
      "execution_count": null,
      "outputs": []
    },
    {
      "cell_type": "code",
      "source": [
        "cleaned_22_df.head()"
      ],
      "metadata": {
        "colab": {
          "base_uri": "https://localhost:8080/",
          "height": 206
        },
        "id": "T6A_H6W-jkYb",
        "outputId": "e254eac8-960a-4bde-85b3-8ee3bd5f14bd"
      },
      "execution_count": null,
      "outputs": [
        {
          "output_type": "execute_result",
          "data": {
            "text/plain": [
              "                                               tweet  nlikes        date  \\\n",
              "0     @SpacePadreIsle In a way, this is free QA haha    4490  2022-03-05   \n",
              "1           @teslaownersSV A beautiful home for life   15121  2022-03-05   \n",
              "2  @SpacePadreIsle Some Starlink terminals near c...    8774  2022-03-05   \n",
              "3                 @RationalEtienne @RogerYar Exactly    2773  2022-03-05   \n",
              "4  @RogerYar All news sources are partially propa...   43964  2022-03-05   \n",
              "\n",
              "       time  day  \n",
              "0  09:47:21    5  \n",
              "1  09:40:13    5  \n",
              "2  09:32:12    5  \n",
              "3  08:28:25    5  \n",
              "4  06:39:29    5  "
            ],
            "text/html": [
              "\n",
              "  <div id=\"df-da47aa24-a469-46ea-9dba-a3b8b02489f7\">\n",
              "    <div class=\"colab-df-container\">\n",
              "      <div>\n",
              "<style scoped>\n",
              "    .dataframe tbody tr th:only-of-type {\n",
              "        vertical-align: middle;\n",
              "    }\n",
              "\n",
              "    .dataframe tbody tr th {\n",
              "        vertical-align: top;\n",
              "    }\n",
              "\n",
              "    .dataframe thead th {\n",
              "        text-align: right;\n",
              "    }\n",
              "</style>\n",
              "<table border=\"1\" class=\"dataframe\">\n",
              "  <thead>\n",
              "    <tr style=\"text-align: right;\">\n",
              "      <th></th>\n",
              "      <th>tweet</th>\n",
              "      <th>nlikes</th>\n",
              "      <th>date</th>\n",
              "      <th>time</th>\n",
              "      <th>day</th>\n",
              "    </tr>\n",
              "  </thead>\n",
              "  <tbody>\n",
              "    <tr>\n",
              "      <th>0</th>\n",
              "      <td>@SpacePadreIsle In a way, this is free QA haha</td>\n",
              "      <td>4490</td>\n",
              "      <td>2022-03-05</td>\n",
              "      <td>09:47:21</td>\n",
              "      <td>5</td>\n",
              "    </tr>\n",
              "    <tr>\n",
              "      <th>1</th>\n",
              "      <td>@teslaownersSV A beautiful home for life</td>\n",
              "      <td>15121</td>\n",
              "      <td>2022-03-05</td>\n",
              "      <td>09:40:13</td>\n",
              "      <td>5</td>\n",
              "    </tr>\n",
              "    <tr>\n",
              "      <th>2</th>\n",
              "      <td>@SpacePadreIsle Some Starlink terminals near c...</td>\n",
              "      <td>8774</td>\n",
              "      <td>2022-03-05</td>\n",
              "      <td>09:32:12</td>\n",
              "      <td>5</td>\n",
              "    </tr>\n",
              "    <tr>\n",
              "      <th>3</th>\n",
              "      <td>@RationalEtienne @RogerYar Exactly</td>\n",
              "      <td>2773</td>\n",
              "      <td>2022-03-05</td>\n",
              "      <td>08:28:25</td>\n",
              "      <td>5</td>\n",
              "    </tr>\n",
              "    <tr>\n",
              "      <th>4</th>\n",
              "      <td>@RogerYar All news sources are partially propa...</td>\n",
              "      <td>43964</td>\n",
              "      <td>2022-03-05</td>\n",
              "      <td>06:39:29</td>\n",
              "      <td>5</td>\n",
              "    </tr>\n",
              "  </tbody>\n",
              "</table>\n",
              "</div>\n",
              "      <button class=\"colab-df-convert\" onclick=\"convertToInteractive('df-da47aa24-a469-46ea-9dba-a3b8b02489f7')\"\n",
              "              title=\"Convert this dataframe to an interactive table.\"\n",
              "              style=\"display:none;\">\n",
              "        \n",
              "  <svg xmlns=\"http://www.w3.org/2000/svg\" height=\"24px\"viewBox=\"0 0 24 24\"\n",
              "       width=\"24px\">\n",
              "    <path d=\"M0 0h24v24H0V0z\" fill=\"none\"/>\n",
              "    <path d=\"M18.56 5.44l.94 2.06.94-2.06 2.06-.94-2.06-.94-.94-2.06-.94 2.06-2.06.94zm-11 1L8.5 8.5l.94-2.06 2.06-.94-2.06-.94L8.5 2.5l-.94 2.06-2.06.94zm10 10l.94 2.06.94-2.06 2.06-.94-2.06-.94-.94-2.06-.94 2.06-2.06.94z\"/><path d=\"M17.41 7.96l-1.37-1.37c-.4-.4-.92-.59-1.43-.59-.52 0-1.04.2-1.43.59L10.3 9.45l-7.72 7.72c-.78.78-.78 2.05 0 2.83L4 21.41c.39.39.9.59 1.41.59.51 0 1.02-.2 1.41-.59l7.78-7.78 2.81-2.81c.8-.78.8-2.07 0-2.86zM5.41 20L4 18.59l7.72-7.72 1.47 1.35L5.41 20z\"/>\n",
              "  </svg>\n",
              "      </button>\n",
              "      \n",
              "  <style>\n",
              "    .colab-df-container {\n",
              "      display:flex;\n",
              "      flex-wrap:wrap;\n",
              "      gap: 12px;\n",
              "    }\n",
              "\n",
              "    .colab-df-convert {\n",
              "      background-color: #E8F0FE;\n",
              "      border: none;\n",
              "      border-radius: 50%;\n",
              "      cursor: pointer;\n",
              "      display: none;\n",
              "      fill: #1967D2;\n",
              "      height: 32px;\n",
              "      padding: 0 0 0 0;\n",
              "      width: 32px;\n",
              "    }\n",
              "\n",
              "    .colab-df-convert:hover {\n",
              "      background-color: #E2EBFA;\n",
              "      box-shadow: 0px 1px 2px rgba(60, 64, 67, 0.3), 0px 1px 3px 1px rgba(60, 64, 67, 0.15);\n",
              "      fill: #174EA6;\n",
              "    }\n",
              "\n",
              "    [theme=dark] .colab-df-convert {\n",
              "      background-color: #3B4455;\n",
              "      fill: #D2E3FC;\n",
              "    }\n",
              "\n",
              "    [theme=dark] .colab-df-convert:hover {\n",
              "      background-color: #434B5C;\n",
              "      box-shadow: 0px 1px 3px 1px rgba(0, 0, 0, 0.15);\n",
              "      filter: drop-shadow(0px 1px 2px rgba(0, 0, 0, 0.3));\n",
              "      fill: #FFFFFF;\n",
              "    }\n",
              "  </style>\n",
              "\n",
              "      <script>\n",
              "        const buttonEl =\n",
              "          document.querySelector('#df-da47aa24-a469-46ea-9dba-a3b8b02489f7 button.colab-df-convert');\n",
              "        buttonEl.style.display =\n",
              "          google.colab.kernel.accessAllowed ? 'block' : 'none';\n",
              "\n",
              "        async function convertToInteractive(key) {\n",
              "          const element = document.querySelector('#df-da47aa24-a469-46ea-9dba-a3b8b02489f7');\n",
              "          const dataTable =\n",
              "            await google.colab.kernel.invokeFunction('convertToInteractive',\n",
              "                                                     [key], {});\n",
              "          if (!dataTable) return;\n",
              "\n",
              "          const docLinkHtml = 'Like what you see? Visit the ' +\n",
              "            '<a target=\"_blank\" href=https://colab.research.google.com/notebooks/data_table.ipynb>data table notebook</a>'\n",
              "            + ' to learn more about interactive tables.';\n",
              "          element.innerHTML = '';\n",
              "          dataTable['output_type'] = 'display_data';\n",
              "          await google.colab.output.renderOutput(dataTable, element);\n",
              "          const docLink = document.createElement('div');\n",
              "          docLink.innerHTML = docLinkHtml;\n",
              "          element.appendChild(docLink);\n",
              "        }\n",
              "      </script>\n",
              "    </div>\n",
              "  </div>\n",
              "  "
            ]
          },
          "metadata": {},
          "execution_count": 166
        }
      ]
    },
    {
      "cell_type": "markdown",
      "source": [
        "# Final step\n",
        "\n",
        "Now that we have processed the csv files, we can concatenate them and get the cleaned and combined dataset which we can use for later purposes"
      ],
      "metadata": {
        "id": "XZKRYgzgeTF2"
      }
    },
    {
      "cell_type": "code",
      "source": [
        "frames = [cleaned_2020_df, cleaned_21_df, cleaned_22_df]\n",
        "concat_df = pd.concat(frames)"
      ],
      "metadata": {
        "id": "KHaeD3QXx1Py"
      },
      "execution_count": null,
      "outputs": []
    },
    {
      "cell_type": "code",
      "source": [
        "concat_df.head()\n"
      ],
      "metadata": {
        "colab": {
          "base_uri": "https://localhost:8080/",
          "height": 206
        },
        "id": "vVHVTmt-1ouy",
        "outputId": "6b694f96-3441-4b1a-f8c8-55e01b5f38d2"
      },
      "execution_count": null,
      "outputs": [
        {
          "output_type": "execute_result",
          "data": {
            "text/plain": [
              "                                               tweet  day  nlikes        date  \\\n",
              "0  Entertainment will be critical when cars drive...    1   55085  2020-12-28   \n",
              "1  @kimpaquette Just meeting with Larry Ellison t...    1    8631  2020-12-28   \n",
              "2                        @richierichhhhh_ Absolutely    1   72434  2020-12-28   \n",
              "3  What should Tesla do with in-car gaming in an ...    1   33830  2020-12-28   \n",
              "4                          @PPathole @WSJ Absolutely    1    2394  2020-12-28   \n",
              "\n",
              "       time  \n",
              "0  19:46:18  \n",
              "1  18:07:33  \n",
              "2  17:23:51  \n",
              "3  17:23:31  \n",
              "4  05:39:42  "
            ],
            "text/html": [
              "\n",
              "  <div id=\"df-84e214aa-d854-4799-b0d6-12d9b20850fe\">\n",
              "    <div class=\"colab-df-container\">\n",
              "      <div>\n",
              "<style scoped>\n",
              "    .dataframe tbody tr th:only-of-type {\n",
              "        vertical-align: middle;\n",
              "    }\n",
              "\n",
              "    .dataframe tbody tr th {\n",
              "        vertical-align: top;\n",
              "    }\n",
              "\n",
              "    .dataframe thead th {\n",
              "        text-align: right;\n",
              "    }\n",
              "</style>\n",
              "<table border=\"1\" class=\"dataframe\">\n",
              "  <thead>\n",
              "    <tr style=\"text-align: right;\">\n",
              "      <th></th>\n",
              "      <th>tweet</th>\n",
              "      <th>day</th>\n",
              "      <th>nlikes</th>\n",
              "      <th>date</th>\n",
              "      <th>time</th>\n",
              "    </tr>\n",
              "  </thead>\n",
              "  <tbody>\n",
              "    <tr>\n",
              "      <th>0</th>\n",
              "      <td>Entertainment will be critical when cars drive...</td>\n",
              "      <td>1</td>\n",
              "      <td>55085</td>\n",
              "      <td>2020-12-28</td>\n",
              "      <td>19:46:18</td>\n",
              "    </tr>\n",
              "    <tr>\n",
              "      <th>1</th>\n",
              "      <td>@kimpaquette Just meeting with Larry Ellison t...</td>\n",
              "      <td>1</td>\n",
              "      <td>8631</td>\n",
              "      <td>2020-12-28</td>\n",
              "      <td>18:07:33</td>\n",
              "    </tr>\n",
              "    <tr>\n",
              "      <th>2</th>\n",
              "      <td>@richierichhhhh_ Absolutely</td>\n",
              "      <td>1</td>\n",
              "      <td>72434</td>\n",
              "      <td>2020-12-28</td>\n",
              "      <td>17:23:51</td>\n",
              "    </tr>\n",
              "    <tr>\n",
              "      <th>3</th>\n",
              "      <td>What should Tesla do with in-car gaming in an ...</td>\n",
              "      <td>1</td>\n",
              "      <td>33830</td>\n",
              "      <td>2020-12-28</td>\n",
              "      <td>17:23:31</td>\n",
              "    </tr>\n",
              "    <tr>\n",
              "      <th>4</th>\n",
              "      <td>@PPathole @WSJ Absolutely</td>\n",
              "      <td>1</td>\n",
              "      <td>2394</td>\n",
              "      <td>2020-12-28</td>\n",
              "      <td>05:39:42</td>\n",
              "    </tr>\n",
              "  </tbody>\n",
              "</table>\n",
              "</div>\n",
              "      <button class=\"colab-df-convert\" onclick=\"convertToInteractive('df-84e214aa-d854-4799-b0d6-12d9b20850fe')\"\n",
              "              title=\"Convert this dataframe to an interactive table.\"\n",
              "              style=\"display:none;\">\n",
              "        \n",
              "  <svg xmlns=\"http://www.w3.org/2000/svg\" height=\"24px\"viewBox=\"0 0 24 24\"\n",
              "       width=\"24px\">\n",
              "    <path d=\"M0 0h24v24H0V0z\" fill=\"none\"/>\n",
              "    <path d=\"M18.56 5.44l.94 2.06.94-2.06 2.06-.94-2.06-.94-.94-2.06-.94 2.06-2.06.94zm-11 1L8.5 8.5l.94-2.06 2.06-.94-2.06-.94L8.5 2.5l-.94 2.06-2.06.94zm10 10l.94 2.06.94-2.06 2.06-.94-2.06-.94-.94-2.06-.94 2.06-2.06.94z\"/><path d=\"M17.41 7.96l-1.37-1.37c-.4-.4-.92-.59-1.43-.59-.52 0-1.04.2-1.43.59L10.3 9.45l-7.72 7.72c-.78.78-.78 2.05 0 2.83L4 21.41c.39.39.9.59 1.41.59.51 0 1.02-.2 1.41-.59l7.78-7.78 2.81-2.81c.8-.78.8-2.07 0-2.86zM5.41 20L4 18.59l7.72-7.72 1.47 1.35L5.41 20z\"/>\n",
              "  </svg>\n",
              "      </button>\n",
              "      \n",
              "  <style>\n",
              "    .colab-df-container {\n",
              "      display:flex;\n",
              "      flex-wrap:wrap;\n",
              "      gap: 12px;\n",
              "    }\n",
              "\n",
              "    .colab-df-convert {\n",
              "      background-color: #E8F0FE;\n",
              "      border: none;\n",
              "      border-radius: 50%;\n",
              "      cursor: pointer;\n",
              "      display: none;\n",
              "      fill: #1967D2;\n",
              "      height: 32px;\n",
              "      padding: 0 0 0 0;\n",
              "      width: 32px;\n",
              "    }\n",
              "\n",
              "    .colab-df-convert:hover {\n",
              "      background-color: #E2EBFA;\n",
              "      box-shadow: 0px 1px 2px rgba(60, 64, 67, 0.3), 0px 1px 3px 1px rgba(60, 64, 67, 0.15);\n",
              "      fill: #174EA6;\n",
              "    }\n",
              "\n",
              "    [theme=dark] .colab-df-convert {\n",
              "      background-color: #3B4455;\n",
              "      fill: #D2E3FC;\n",
              "    }\n",
              "\n",
              "    [theme=dark] .colab-df-convert:hover {\n",
              "      background-color: #434B5C;\n",
              "      box-shadow: 0px 1px 3px 1px rgba(0, 0, 0, 0.15);\n",
              "      filter: drop-shadow(0px 1px 2px rgba(0, 0, 0, 0.3));\n",
              "      fill: #FFFFFF;\n",
              "    }\n",
              "  </style>\n",
              "\n",
              "      <script>\n",
              "        const buttonEl =\n",
              "          document.querySelector('#df-84e214aa-d854-4799-b0d6-12d9b20850fe button.colab-df-convert');\n",
              "        buttonEl.style.display =\n",
              "          google.colab.kernel.accessAllowed ? 'block' : 'none';\n",
              "\n",
              "        async function convertToInteractive(key) {\n",
              "          const element = document.querySelector('#df-84e214aa-d854-4799-b0d6-12d9b20850fe');\n",
              "          const dataTable =\n",
              "            await google.colab.kernel.invokeFunction('convertToInteractive',\n",
              "                                                     [key], {});\n",
              "          if (!dataTable) return;\n",
              "\n",
              "          const docLinkHtml = 'Like what you see? Visit the ' +\n",
              "            '<a target=\"_blank\" href=https://colab.research.google.com/notebooks/data_table.ipynb>data table notebook</a>'\n",
              "            + ' to learn more about interactive tables.';\n",
              "          element.innerHTML = '';\n",
              "          dataTable['output_type'] = 'display_data';\n",
              "          await google.colab.output.renderOutput(dataTable, element);\n",
              "          const docLink = document.createElement('div');\n",
              "          docLink.innerHTML = docLinkHtml;\n",
              "          element.appendChild(docLink);\n",
              "        }\n",
              "      </script>\n",
              "    </div>\n",
              "  </div>\n",
              "  "
            ]
          },
          "metadata": {},
          "execution_count": 168
        }
      ]
    },
    {
      "cell_type": "code",
      "source": [
        "print(concat_df.shape)"
      ],
      "metadata": {
        "colab": {
          "base_uri": "https://localhost:8080/"
        },
        "id": "EB_s3N021w4y",
        "outputId": "73757a76-c944-4f7d-e927-575428b67957"
      },
      "execution_count": null,
      "outputs": [
        {
          "output_type": "stream",
          "name": "stdout",
          "text": [
            "(15860, 5)\n"
          ]
        }
      ]
    },
    {
      "cell_type": "markdown",
      "source": [
        "We can see that our total amount of rows is the same number as mentioned at the start of this notebook."
      ],
      "metadata": {
        "id": "0fzmmDkw1y-t"
      }
    },
    {
      "cell_type": "code",
      "source": [
        "from google.colab import files\n",
        "\n",
        "concat_df.to_csv('cleanedTweetData.csv')\n",
        "files.download('cleanedTweetData.csv')"
      ],
      "metadata": {
        "colab": {
          "base_uri": "https://localhost:8080/",
          "height": 17
        },
        "id": "5fMNu-ys0ZZ8",
        "outputId": "c9370695-1057-4f0b-9a0f-e528e562484e"
      },
      "execution_count": null,
      "outputs": [
        {
          "output_type": "display_data",
          "data": {
            "text/plain": [
              "<IPython.core.display.Javascript object>"
            ],
            "application/javascript": [
              "\n",
              "    async function download(id, filename, size) {\n",
              "      if (!google.colab.kernel.accessAllowed) {\n",
              "        return;\n",
              "      }\n",
              "      const div = document.createElement('div');\n",
              "      const label = document.createElement('label');\n",
              "      label.textContent = `Downloading \"${filename}\": `;\n",
              "      div.appendChild(label);\n",
              "      const progress = document.createElement('progress');\n",
              "      progress.max = size;\n",
              "      div.appendChild(progress);\n",
              "      document.body.appendChild(div);\n",
              "\n",
              "      const buffers = [];\n",
              "      let downloaded = 0;\n",
              "\n",
              "      const channel = await google.colab.kernel.comms.open(id);\n",
              "      // Send a message to notify the kernel that we're ready.\n",
              "      channel.send({})\n",
              "\n",
              "      for await (const message of channel.messages) {\n",
              "        // Send a message to notify the kernel that we're ready.\n",
              "        channel.send({})\n",
              "        if (message.buffers) {\n",
              "          for (const buffer of message.buffers) {\n",
              "            buffers.push(buffer);\n",
              "            downloaded += buffer.byteLength;\n",
              "            progress.value = downloaded;\n",
              "          }\n",
              "        }\n",
              "      }\n",
              "      const blob = new Blob(buffers, {type: 'application/binary'});\n",
              "      const a = document.createElement('a');\n",
              "      a.href = window.URL.createObjectURL(blob);\n",
              "      a.download = filename;\n",
              "      div.appendChild(a);\n",
              "      a.click();\n",
              "      div.remove();\n",
              "    }\n",
              "  "
            ]
          },
          "metadata": {}
        },
        {
          "output_type": "display_data",
          "data": {
            "text/plain": [
              "<IPython.core.display.Javascript object>"
            ],
            "application/javascript": [
              "download(\"download_15246c3a-43c0-424a-832c-18540cd0a0ca\", \"cleanedTweetData.csv\", 1937137)"
            ]
          },
          "metadata": {}
        }
      ]
    },
    {
      "cell_type": "markdown",
      "source": [],
      "metadata": {
        "id": "SeoPjUMPynTs"
      }
    }
  ]
}